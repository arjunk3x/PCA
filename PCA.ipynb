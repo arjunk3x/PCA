





<!DOCTYPE html>
<html
  lang="en"
  
  data-color-mode="auto" data-light-theme="light" data-dark-theme="dark"
  data-a11y-animated-images="system" data-a11y-link-underlines="true"
  >




  <head>
    <meta charset="utf-8">
  <link rel="dns-prefetch" href="https://github.githubassets.com">
  <link rel="dns-prefetch" href="https://avatars.githubusercontent.com">
  <link rel="dns-prefetch" href="https://github-cloud.s3.amazonaws.com">
  <link rel="dns-prefetch" href="https://user-images.githubusercontent.com/">
  <link rel="preconnect" href="https://github.githubassets.com" crossorigin>
  <link rel="preconnect" href="https://avatars.githubusercontent.com">

  


  <link crossorigin="anonymous" media="all" rel="stylesheet" href="https://github.githubassets.com/assets/light-38f1bf52eeeb.css" /><link crossorigin="anonymous" media="all" rel="stylesheet" href="https://github.githubassets.com/assets/dark-56010aa53a8f.css" /><link data-color-theme="dark_dimmed" crossorigin="anonymous" media="all" rel="stylesheet" data-href="https://github.githubassets.com/assets/dark_dimmed-b2e1b478d5b4.css" /><link data-color-theme="dark_high_contrast" crossorigin="anonymous" media="all" rel="stylesheet" data-href="https://github.githubassets.com/assets/dark_high_contrast-e7f12ffa82f3.css" /><link data-color-theme="dark_colorblind" crossorigin="anonymous" media="all" rel="stylesheet" data-href="https://github.githubassets.com/assets/dark_colorblind-ddca79c20026.css" /><link data-color-theme="light_colorblind" crossorigin="anonymous" media="all" rel="stylesheet" data-href="https://github.githubassets.com/assets/light_colorblind-8017b9c4037b.css" /><link data-color-theme="light_high_contrast" crossorigin="anonymous" media="all" rel="stylesheet" data-href="https://github.githubassets.com/assets/light_high_contrast-3ce2d3d8a4d3.css" /><link data-color-theme="light_tritanopia" crossorigin="anonymous" media="all" rel="stylesheet" data-href="https://github.githubassets.com/assets/light_tritanopia-02059c141ad5.css" /><link data-color-theme="dark_tritanopia" crossorigin="anonymous" media="all" rel="stylesheet" data-href="https://github.githubassets.com/assets/dark_tritanopia-870ee47909bf.css" />
    <link crossorigin="anonymous" media="all" rel="stylesheet" href="https://github.githubassets.com/assets/primer-primitives-971c6be3ec9f.css" />
    <link crossorigin="anonymous" media="all" rel="stylesheet" href="https://github.githubassets.com/assets/primer-6b3d1b701ef1.css" />
    <link crossorigin="anonymous" media="all" rel="stylesheet" href="https://github.githubassets.com/assets/global-802ea8e97740.css" />
    <link crossorigin="anonymous" media="all" rel="stylesheet" href="https://github.githubassets.com/assets/github-3c453fd2e244.css" />
  <link crossorigin="anonymous" media="all" rel="stylesheet" href="https://github.githubassets.com/assets/repository-2e5f0ce2e282.css" />
<link crossorigin="anonymous" media="all" rel="stylesheet" href="https://github.githubassets.com/assets/code-e1d76210b382.css" />

  

  <script type="application/json" id="client-env">{"locale":"en","featureFlags":["copilot_conversational_ux_streaming","copilot_cosmos_docsets","docset_management_ui","failbot_handle_non_errors","geojson_azure_maps","image_metric_tracking","repository_suggester_elastic_search","turbo_experiment_risky","sample_network_conn_type","no_character_key_shortcuts_in_inputs"]}</script>
<script crossorigin="anonymous" defer="defer" type="application/javascript" src="https://github.githubassets.com/assets/wp-runtime-41bfe71909c1.js"></script>
<script crossorigin="anonymous" defer="defer" type="application/javascript" src="https://github.githubassets.com/assets/vendors-node_modules_dompurify_dist_purify_js-6890e890956f.js"></script>
<script crossorigin="anonymous" defer="defer" type="application/javascript" src="https://github.githubassets.com/assets/vendors-node_modules_stacktrace-parser_dist_stack-trace-parser_esm_js-node_modules_github_bro-a4c183-79f9611c275b.js"></script>
<script crossorigin="anonymous" defer="defer" type="application/javascript" src="https://github.githubassets.com/assets/vendors-node_modules_github_hydro-analytics-client_dist_analytics-client_js-node_modules_gith-6a10dd-8837a7c17569.js"></script>
<script crossorigin="anonymous" defer="defer" type="application/javascript" src="https://github.githubassets.com/assets/ui_packages_soft-nav_soft-nav_ts-95f0f8f99a8f.js"></script>
<script crossorigin="anonymous" defer="defer" type="application/javascript" src="https://github.githubassets.com/assets/environment-30e216bc209e.js"></script>
<script crossorigin="anonymous" defer="defer" type="application/javascript" src="https://github.githubassets.com/assets/vendors-node_modules_github_selector-observer_dist_index_esm_js-9f960d9b217c.js"></script>
<script crossorigin="anonymous" defer="defer" type="application/javascript" src="https://github.githubassets.com/assets/vendors-node_modules_primer_behaviors_dist_esm_focus-zone_js-086f7a27bac0.js"></script>
<script crossorigin="anonymous" defer="defer" type="application/javascript" src="https://github.githubassets.com/assets/vendors-node_modules_github_relative-time-element_dist_index_js-c6fd49e3fd28.js"></script>
<script crossorigin="anonymous" defer="defer" type="application/javascript" src="https://github.githubassets.com/assets/vendors-node_modules_fzy_js_index_js-node_modules_github_combobox-nav_dist_index_js-node_modu-344bff-421f7a8c1008.js"></script>
<script crossorigin="anonymous" defer="defer" type="application/javascript" src="https://github.githubassets.com/assets/vendors-node_modules_delegated-events_dist_index_js-node_modules_github_details-dialog-elemen-29dc30-a2a71f11a507.js"></script>
<script crossorigin="anonymous" defer="defer" type="application/javascript" src="https://github.githubassets.com/assets/vendors-node_modules_github_filter-input-element_dist_index_js-node_modules_github_remote-inp-59c459-d0c49521eb35.js"></script>
<script crossorigin="anonymous" defer="defer" type="application/javascript" src="https://github.githubassets.com/assets/vendors-node_modules_github_file-attachment-element_dist_index_js-node_modules_primer_view-co-eb424d-1f1d46301f70.js"></script>
<script crossorigin="anonymous" defer="defer" type="application/javascript" src="https://github.githubassets.com/assets/github-elements-106be3435f7f.js"></script>
<script crossorigin="anonymous" defer="defer" type="application/javascript" src="https://github.githubassets.com/assets/element-registry-f82c491d5d2a.js"></script>
<script crossorigin="anonymous" defer="defer" type="application/javascript" src="https://github.githubassets.com/assets/vendors-node_modules_github_catalyst_lib_index_js-node_modules_github_hydro-analytics-client_-978abc0-15861e0630b6.js"></script>
<script crossorigin="anonymous" defer="defer" type="application/javascript" src="https://github.githubassets.com/assets/vendors-node_modules_lit-html_lit-html_js-5b376145beff.js"></script>
<script crossorigin="anonymous" defer="defer" type="application/javascript" src="https://github.githubassets.com/assets/vendors-node_modules_github_mini-throttle_dist_index_js-node_modules_github_alive-client_dist-bf5aa2-1b562c29ab8e.js"></script>
<script crossorigin="anonymous" defer="defer" type="application/javascript" src="https://github.githubassets.com/assets/vendors-node_modules_morphdom_dist_morphdom-esm_js-5bff297a06de.js"></script>
<script crossorigin="anonymous" defer="defer" type="application/javascript" src="https://github.githubassets.com/assets/vendors-node_modules_github_turbo_dist_turbo_es2017-esm_js-c91f4ad18b62.js"></script>
<script crossorigin="anonymous" defer="defer" type="application/javascript" src="https://github.githubassets.com/assets/vendors-node_modules_color-convert_index_js-72c9fbde5ad4.js"></script>
<script crossorigin="anonymous" defer="defer" type="application/javascript" src="https://github.githubassets.com/assets/vendors-node_modules_github_remote-form_dist_index_js-node_modules_scroll-anchoring_dist_scro-231ccf-aa129238d13b.js"></script>
<script crossorigin="anonymous" defer="defer" type="application/javascript" src="https://github.githubassets.com/assets/vendors-node_modules_github_session-resume_dist_index_js-node_modules_primer_behaviors_dist_e-ac74c6-c3eb71941f78.js"></script>
<script crossorigin="anonymous" defer="defer" type="application/javascript" src="https://github.githubassets.com/assets/vendors-node_modules_primer_behaviors_dist_esm_dimensions_js-node_modules_github_jtml_lib_index_js-95b84ee6bc34.js"></script>
<script crossorigin="anonymous" defer="defer" type="application/javascript" src="https://github.githubassets.com/assets/vendors-node_modules_github_paste-markdown_dist_index_esm_js-node_modules_github_quote-select-618d6c-59676cf880fb.js"></script>
<script crossorigin="anonymous" defer="defer" type="application/javascript" src="https://github.githubassets.com/assets/app_assets_modules_github_updatable-content_ts-793542f6e0fb.js"></script>
<script crossorigin="anonymous" defer="defer" type="application/javascript" src="https://github.githubassets.com/assets/app_assets_modules_github_behaviors_task-list_ts-app_assets_modules_github_onfocus_ts-app_ass-079b43-06bdd3d1733f.js"></script>
<script crossorigin="anonymous" defer="defer" type="application/javascript" src="https://github.githubassets.com/assets/app_assets_modules_github_sticky-scroll-into-view_ts-3aa02466adc1.js"></script>
<script crossorigin="anonymous" defer="defer" type="application/javascript" src="https://github.githubassets.com/assets/app_assets_modules_github_behaviors_ajax-error_ts-app_assets_modules_github_behaviors_include-2e2258-70fc444f4dc3.js"></script>
<script crossorigin="anonymous" defer="defer" type="application/javascript" src="https://github.githubassets.com/assets/app_assets_modules_github_behaviors_commenting_edit_ts-app_assets_modules_github_behaviors_ht-83c235-b85e9f4f1304.js"></script>
<script crossorigin="anonymous" defer="defer" type="application/javascript" src="https://github.githubassets.com/assets/behaviors-b162f8ca2f90.js"></script>
<script crossorigin="anonymous" defer="defer" type="application/javascript" src="https://github.githubassets.com/assets/vendors-node_modules_delegated-events_dist_index_js-node_modules_github_catalyst_lib_index_js-d0256ebff5cd.js"></script>
<script crossorigin="anonymous" defer="defer" type="application/javascript" src="https://github.githubassets.com/assets/notifications-global-99d196517b1b.js"></script>
<script crossorigin="anonymous" defer="defer" type="application/javascript" src="https://github.githubassets.com/assets/code-menu-2658b004279a.js"></script>
  
  <script crossorigin="anonymous" defer="defer" type="application/javascript" src="https://github.githubassets.com/assets/react-lib-1fbfc5be2c18.js"></script>
<script crossorigin="anonymous" defer="defer" type="application/javascript" src="https://github.githubassets.com/assets/vendors-node_modules_primer_octicons-react_dist_index_esm_js-node_modules_primer_react_lib-es-2e8e7c-8c382c96424c.js"></script>
<script crossorigin="anonymous" defer="defer" type="application/javascript" src="https://github.githubassets.com/assets/vendors-node_modules_primer_react_lib-esm_Box_Box_js-ebfceb11fb57.js"></script>
<script crossorigin="anonymous" defer="defer" type="application/javascript" src="https://github.githubassets.com/assets/vendors-node_modules_primer_react_lib-esm_Button_Button_js-8dba6638f78f.js"></script>
<script crossorigin="anonymous" defer="defer" type="application/javascript" src="https://github.githubassets.com/assets/vendors-node_modules_primer_react_lib-esm_ActionList_index_js-64637eb4b092.js"></script>
<script crossorigin="anonymous" defer="defer" type="application/javascript" src="https://github.githubassets.com/assets/vendors-node_modules_primer_react_lib-esm_Overlay_Overlay_js-node_modules_primer_react_lib-es-fa1130-68d43d9edda0.js"></script>
<script crossorigin="anonymous" defer="defer" type="application/javascript" src="https://github.githubassets.com/assets/vendors-node_modules_primer_react_lib-esm_Text_Text_js-node_modules_primer_react_lib-esm_Text-85a14b-1f9979205253.js"></script>
<script crossorigin="anonymous" defer="defer" type="application/javascript" src="https://github.githubassets.com/assets/vendors-node_modules_primer_react_lib-esm_AnchoredOverlay_AnchoredOverlay_js-node_modules_pri-b1f750-6fe378190175.js"></script>
<script crossorigin="anonymous" defer="defer" type="application/javascript" src="https://github.githubassets.com/assets/vendors-node_modules_primer_react_lib-esm_FormControl_FormControl_js-c755973d1d95.js"></script>
<script crossorigin="anonymous" defer="defer" type="application/javascript" src="https://github.githubassets.com/assets/vendors-node_modules_react-router-dom_dist_index_js-cc35d258380c.js"></script>
<script crossorigin="anonymous" defer="defer" type="application/javascript" src="https://github.githubassets.com/assets/vendors-node_modules_primer_react_lib-esm_PageLayout_PageLayout_js-ba78d3966b63.js"></script>
<script crossorigin="anonymous" defer="defer" type="application/javascript" src="https://github.githubassets.com/assets/vendors-node_modules_primer_react_lib-esm_ConfirmationDialog_ConfirmationDialog_js-a4005c918a5e.js"></script>
<script crossorigin="anonymous" defer="defer" type="application/javascript" src="https://github.githubassets.com/assets/vendors-node_modules_primer_react_lib-esm_Label_Label_js-node_modules_primer_react_lib-esm_Se-7a5fb9-bc014456cbfa.js"></script>
<script crossorigin="anonymous" defer="defer" type="application/javascript" src="https://github.githubassets.com/assets/vendors-node_modules_primer_react_lib-esm_UnderlineNav_index_js-31fc785d7be7.js"></script>
<script crossorigin="anonymous" defer="defer" type="application/javascript" src="https://github.githubassets.com/assets/vendors-node_modules_primer_react_lib-esm_AvatarStack_AvatarStack_js-node_modules_primer_reac-40f070-f8d674375999.js"></script>
<script crossorigin="anonymous" defer="defer" type="application/javascript" src="https://github.githubassets.com/assets/vendors-node_modules_primer_react_lib-esm_Avatar_Avatar_js-node_modules_primer_react_lib-esm_-5d5372-988d6d9fd06c.js"></script>
<script crossorigin="anonymous" defer="defer" type="application/javascript" src="https://github.githubassets.com/assets/ui_packages_react-core_create-browser-history_ts-ui_packages_react-core_deferred-registry_ts--ebbb92-f862877dad23.js"></script>
<script crossorigin="anonymous" defer="defer" type="application/javascript" src="https://github.githubassets.com/assets/ui_packages_react-core_register-app_ts-9f191f2c684e.js"></script>
<script crossorigin="anonymous" defer="defer" type="application/javascript" src="https://github.githubassets.com/assets/ui_packages_paths_index_ts-ddcba26493fd.js"></script>
<script crossorigin="anonymous" defer="defer" type="application/javascript" src="https://github.githubassets.com/assets/ui_packages_ref-selector_RefSelector_tsx-858bb94813b1.js"></script>
<script crossorigin="anonymous" defer="defer" type="application/javascript" src="https://github.githubassets.com/assets/app_assets_modules_github_blob-anchor_ts-app_assets_modules_github_filter-sort_ts-app_assets_-681869-277ebf7a9489.js"></script>
<script crossorigin="anonymous" defer="defer" type="application/javascript" src="https://github.githubassets.com/assets/ui_packages_commit-attribution_index_ts-ui_packages_commit-checks-status_index_ts-ui_packages-5acf59-b1ba821344de.js"></script>
<script crossorigin="anonymous" defer="defer" type="application/javascript" src="https://github.githubassets.com/assets/app_assets_modules_react-code-view_pages_CodeView_tsx-28af03842713.js"></script>
<script crossorigin="anonymous" defer="defer" type="application/javascript" src="https://github.githubassets.com/assets/react-code-view-1926d1a3e7a1.js"></script>


  <title>Principle-Component-Analysis/PCA.ipynb at master · krishnaik06/Principle-Component-Analysis</title>



  <meta name="route-pattern" content="/:user_id/:repository/blob/*name(/*path)">

    
  <meta name="current-catalog-service-hash" content="82c569b93da5c18ed649ebd4c2c79437db4611a6a1373e805a3cb001c64130b7">


  <meta name="request-id" content="CB14:2CFC88:11C904:12122E:6599232E" data-turbo-transient="true" /><meta name="html-safe-nonce" content="fc32abd25fa16dac2d5ea166dffb7a6af3fadefc890af6e661789dc854414fd8" data-turbo-transient="true" /><meta name="visitor-payload" content="eyJyZWZlcnJlciI6Imh0dHBzOi8vZ2l0aHViLmNvbS9rcmlzaG5haWswNi9QcmluY2lwbGUtQ29tcG9uZW50LUFuYWx5c2lzIiwicmVxdWVzdF9pZCI6IkNCMTQ6MkNGQzg4OjExQzkwNDoxMjEyMkU6NjU5OTIzMkUiLCJ2aXNpdG9yX2lkIjoiMjc4NDY5NzU0NzYyNTYyNjQxMyIsInJlZ2lvbl9lZGdlIjoiZnJhIiwicmVnaW9uX3JlbmRlciI6ImlhZCJ9" data-turbo-transient="true" /><meta name="visitor-hmac" content="c39a1bc9d854a58d1c45edf899b7fa7165df21ea505dcfa58691b8f8a39d8b14" data-turbo-transient="true" />


    <meta name="hovercard-subject-tag" content="repository:139457613" data-turbo-transient>


  <meta name="github-keyboard-shortcuts" content="repository,source-code,file-tree" data-turbo-transient="true" />
  

  <meta name="selected-link" value="repo_source" data-turbo-transient>
  <link rel="assets" href="https://github.githubassets.com/">

    <meta name="google-site-verification" content="c1kuD-K2HIVF635lypcsWPoD4kilo5-jA_wBFyT4uMY">
  <meta name="google-site-verification" content="KT5gs8h0wvaagLKAVWq8bbeNwnZZK1r1XQysX3xurLU">
  <meta name="google-site-verification" content="ZzhVyEFwb7w3e0-uOTltm8Jsck2F5StVihD0exw2fsA">
  <meta name="google-site-verification" content="GXs5KoUUkNCoaAZn7wPN-t01Pywp9M3sEjnt_3_ZWPc">
  <meta name="google-site-verification" content="Apib7-x98H0j5cPqHWwSMm6dNU4GmODRoqxLiDzdx9I">

<meta name="octolytics-url" content="https://collector.github.com/github/collect" /><meta name="octolytics-actor-id" content="147756161" /><meta name="octolytics-actor-login" content="arjunk3x" /><meta name="octolytics-actor-hash" content="f343cdfcffe4ec477b083112acc5a9cbff4ba728b3d28af2a0d3b5c0223d4e9b" />

  <meta name="analytics-location" content="/&lt;user-name&gt;/&lt;repo-name&gt;/blob/show" data-turbo-transient="true" />

  




  

    <meta name="user-login" content="arjunk3x">

  <link rel="sudo-modal" href="/sessions/sudo_modal">

    <meta name="viewport" content="width=device-width">
    
      <meta name="description" content="Contribute to krishnaik06/Principle-Component-Analysis development by creating an account on GitHub.">
      <link rel="search" type="application/opensearchdescription+xml" href="/opensearch.xml" title="GitHub">
    <link rel="fluid-icon" href="https://github.com/fluidicon.png" title="GitHub">
    <meta property="fb:app_id" content="1401488693436528">
    <meta name="apple-itunes-app" content="app-id=1477376905, app-argument=https://github.com/krishnaik06/Principle-Component-Analysis/blob/master/PCA.ipynb" />
      <meta name="twitter:image:src" content="https://opengraph.githubassets.com/c497c52b173fdcd0caabfaad9b9069b246b2d943f08034eb2a43897ff736e4b2/krishnaik06/Principle-Component-Analysis" /><meta name="twitter:site" content="@github" /><meta name="twitter:card" content="summary_large_image" /><meta name="twitter:title" content="Principle-Component-Analysis/PCA.ipynb at master · krishnaik06/Principle-Component-Analysis" /><meta name="twitter:description" content="Contribute to krishnaik06/Principle-Component-Analysis development by creating an account on GitHub." />
      <meta property="og:image" content="https://opengraph.githubassets.com/c497c52b173fdcd0caabfaad9b9069b246b2d943f08034eb2a43897ff736e4b2/krishnaik06/Principle-Component-Analysis" /><meta property="og:image:alt" content="Contribute to krishnaik06/Principle-Component-Analysis development by creating an account on GitHub." /><meta property="og:image:width" content="1200" /><meta property="og:image:height" content="600" /><meta property="og:site_name" content="GitHub" /><meta property="og:type" content="object" /><meta property="og:title" content="Principle-Component-Analysis/PCA.ipynb at master · krishnaik06/Principle-Component-Analysis" /><meta property="og:url" content="https://github.com/krishnaik06/Principle-Component-Analysis/blob/master/PCA.ipynb" /><meta property="og:description" content="Contribute to krishnaik06/Principle-Component-Analysis development by creating an account on GitHub." />
      

      <link rel="shared-web-socket" href="wss://alive.github.com/_sockets/u/147756161/ws?session=eyJ2IjoiVjMiLCJ1IjoxNDc3NTYxNjEsInMiOjEyNzc3NDM5OTIsImMiOjE4Mzc4NDE2NjcsInQiOjE3MDQ1MzQ4NDF9--6cfc5b319ce454a62448761cedf0d5a126eb88bf2e43f0dee9e4383ec334f2b6" data-refresh-url="/_alive" data-session-id="f1ddfda6144b3712adf4147670ff4e175e106fdaa832dd7e22752cd8a72b4cde">
      <link rel="shared-web-socket-src" href="/assets-cdn/worker/socket-worker-9cc1149b224c.js">


        <meta name="hostname" content="github.com">


      <meta name="keyboard-shortcuts-preference" content="all">

        <meta name="expected-hostname" content="github.com">


  <meta http-equiv="x-pjax-version" content="3c6ccae777ff7d02b412c97dd920c29fb518a3f664eadbd55010377969f468fa" data-turbo-track="reload">
  <meta http-equiv="x-pjax-csp-version" content="611e3beaf6df2ba8f98070845c8e5ef70f0ffc535519af6685e8341fcd41c235" data-turbo-track="reload">
  <meta http-equiv="x-pjax-css-version" content="541b5426c930bb531ec020113ca4a3446c423bffda1e28f67f152353878d64ba" data-turbo-track="reload">
  <meta http-equiv="x-pjax-js-version" content="7ad26b0333294f7c03c60f0724e1a9d6771d01b94f6e59cd1c992c71ffd7d1b7" data-turbo-track="reload">

  <meta name="turbo-cache-control" content="no-preview" data-turbo-transient="">

      <meta name="turbo-cache-control" content="no-cache" data-turbo-transient>
    <meta data-hydrostats="publish">

  <meta name="go-import" content="github.com/krishnaik06/Principle-Component-Analysis git https://github.com/krishnaik06/Principle-Component-Analysis.git">

  <meta name="octolytics-dimension-user_id" content="20041231" /><meta name="octolytics-dimension-user_login" content="krishnaik06" /><meta name="octolytics-dimension-repository_id" content="139457613" /><meta name="octolytics-dimension-repository_nwo" content="krishnaik06/Principle-Component-Analysis" /><meta name="octolytics-dimension-repository_public" content="true" /><meta name="octolytics-dimension-repository_is_fork" content="false" /><meta name="octolytics-dimension-repository_network_root_id" content="139457613" /><meta name="octolytics-dimension-repository_network_root_nwo" content="krishnaik06/Principle-Component-Analysis" />



  <meta name="turbo-body-classes" content="logged-in env-production page-responsive">


  <meta name="browser-stats-url" content="https://api.github.com/_private/browser/stats">

  <meta name="browser-errors-url" content="https://api.github.com/_private/browser/errors">

  <meta name="browser-optimizely-client-errors-url" content="https://api.github.com/_private/browser/optimizely_client/errors">

  <link rel="mask-icon" href="https://github.githubassets.com/assets/pinned-octocat-093da3e6fa40.svg" color="#000000">
  <link rel="alternate icon" class="js-site-favicon" type="image/png" href="https://github.githubassets.com/favicons/favicon.png">
  <link rel="icon" class="js-site-favicon" type="image/svg+xml" href="https://github.githubassets.com/favicons/favicon.svg">

<meta name="theme-color" content="#1e2327">
<meta name="color-scheme" content="light dark" />


  <link rel="manifest" href="/manifest.json" crossOrigin="use-credentials">

  </head>

  <body class="logged-in env-production page-responsive" style="word-wrap: break-word;">
    <div data-turbo-body class="logged-in env-production page-responsive" style="word-wrap: break-word;">
      


    <div class="position-relative js-header-wrapper ">
      <a href="#start-of-content" class="p-3 color-bg-accent-emphasis color-fg-on-emphasis show-on-focus js-skip-to-content">Skip to content</a>
      <span data-view-component="true" class="progress-pjax-loader Progress position-fixed width-full">
    <span style="width: 0%;" data-view-component="true" class="Progress-item progress-pjax-loader-bar left-0 top-0 color-bg-accent-emphasis"></span>
</span>      
      
  




<script crossorigin="anonymous" defer="defer" type="application/javascript" src="https://github.githubassets.com/assets/vendors-node_modules_primer_react_lib-esm_Button_IconButton_js-node_modules_primer_react_lib--23bcad-1c568d4e3b06.js"></script>

<script crossorigin="anonymous" defer="defer" type="application/javascript" src="https://github.githubassets.com/assets/keyboard-shortcuts-dialog-7bd03c20c417.js"></script>

<react-partial
  partial-name="keyboard-shortcuts-dialog"
  data-ssr="false"
>
  
  <script type="application/json" data-target="react-partial.embeddedData">{"props":{}}</script>
  <div data-target="react-partial.reactRoot"></div>
</react-partial>



      

        <script crossorigin="anonymous" defer="defer" type="application/javascript" src="https://github.githubassets.com/assets/vendors-node_modules_allex_crc32_lib_crc32_esm_js-node_modules_github_mini-throttle_dist_deco-b38cad-748e74df23ce.js"></script>
<script crossorigin="anonymous" defer="defer" type="application/javascript" src="https://github.githubassets.com/assets/vendors-node_modules_github_clipboard-copy-element_dist_index_esm_js-node_modules_delegated-e-b37f7d-2f24d321a3fb.js"></script>
<script crossorigin="anonymous" defer="defer" type="application/javascript" src="https://github.githubassets.com/assets/app_assets_modules_github_command-palette_items_help-item_ts-app_assets_modules_github_comman-48ad9d-889dbde40361.js"></script>
<script crossorigin="anonymous" defer="defer" type="application/javascript" src="https://github.githubassets.com/assets/command-palette-65284915bb40.js"></script>

            <header class="AppHeader">
    

    <div class="AppHeader-globalBar pb-2 js-global-bar">
      <div class="AppHeader-globalBar-start">
          <deferred-side-panel data-url="/_side-panels/global">
  <include-fragment data-target="deferred-side-panel.fragment">
      <button aria-label="Open global navigation menu" data-action="click:deferred-side-panel#loadPanel click:deferred-side-panel#panelOpened" data-show-dialog-id="dialog-7ca5910b-9979-4f20-b6b4-7bba72a97c32" id="dialog-show-dialog-7ca5910b-9979-4f20-b6b4-7bba72a97c32" type="button" data-view-component="true" class="Button Button--iconOnly Button--secondary Button--medium AppHeader-button color-bg-transparent p-0 color-fg-muted">  <svg aria-hidden="true" height="16" viewBox="0 0 16 16" version="1.1" width="16" data-view-component="true" class="octicon octicon-three-bars Button-visual">
    <path d="M1 2.75A.75.75 0 0 1 1.75 2h12.5a.75.75 0 0 1 0 1.5H1.75A.75.75 0 0 1 1 2.75Zm0 5A.75.75 0 0 1 1.75 7h12.5a.75.75 0 0 1 0 1.5H1.75A.75.75 0 0 1 1 7.75ZM1.75 12h12.5a.75.75 0 0 1 0 1.5H1.75a.75.75 0 0 1 0-1.5Z"></path>
</svg>
</button>

<div class="Overlay--hidden Overlay-backdrop--side Overlay-backdrop--placement-left" data-modal-dialog-overlay>
  <modal-dialog data-target="deferred-side-panel.panel" role="dialog" id="dialog-7ca5910b-9979-4f20-b6b4-7bba72a97c32" aria-modal="true" aria-disabled="true" aria-labelledby="dialog-7ca5910b-9979-4f20-b6b4-7bba72a97c32-title" aria-describedby="dialog-7ca5910b-9979-4f20-b6b4-7bba72a97c32-description" data-view-component="true" class="Overlay Overlay-whenNarrow Overlay--size-small-portrait Overlay--motion-scaleFade SidePanel">
    <div styles="flex-direction: row;" data-view-component="true" class="Overlay-header">
  <div class="Overlay-headerContentWrap">
    <div class="Overlay-titleWrap">
      <h1 class="Overlay-title sr-only" id="dialog-7ca5910b-9979-4f20-b6b4-7bba72a97c32-title">
        Global navigation
      </h1>
            <div data-view-component="true" class="d-flex">
      <div data-view-component="true" class="AppHeader-logo position-relative">
        <svg aria-hidden="true" height="24" viewBox="0 0 16 16" version="1.1" width="24" data-view-component="true" class="octicon octicon-mark-github">
    <path d="M8 0c4.42 0 8 3.58 8 8a8.013 8.013 0 0 1-5.45 7.59c-.4.08-.55-.17-.55-.38 0-.27.01-1.13.01-2.2 0-.75-.25-1.23-.54-1.48 1.78-.2 3.65-.88 3.65-3.95 0-.88-.31-1.59-.82-2.15.08-.2.36-1.02-.08-2.12 0 0-.67-.22-2.2.82-.64-.18-1.32-.27-2-.27-.68 0-1.36.09-2 .27-1.53-1.03-2.2-.82-2.2-.82-.44 1.1-.16 1.92-.08 2.12-.51.56-.82 1.28-.82 2.15 0 3.06 1.86 3.75 3.64 3.95-.23.2-.44.55-.51 1.07-.46.21-1.61.55-2.33-.66-.15-.24-.6-.83-1.23-.82-.67.01-.27.38.01.53.34.19.73.9.82 1.13.16.45.68 1.31 2.69.94 0 .67.01 1.3.01 1.49 0 .21-.15.45-.55.38A7.995 7.995 0 0 1 0 8c0-4.42 3.58-8 8-8Z"></path>
</svg>
</div></div>
    </div>
    <div class="Overlay-actionWrap">
      <button data-close-dialog-id="dialog-7ca5910b-9979-4f20-b6b4-7bba72a97c32" aria-label="Close" type="button" data-view-component="true" class="close-button Overlay-closeButton"><svg aria-hidden="true" height="16" viewBox="0 0 16 16" version="1.1" width="16" data-view-component="true" class="octicon octicon-x">
    <path d="M3.72 3.72a.75.75 0 0 1 1.06 0L8 6.94l3.22-3.22a.749.749 0 0 1 1.275.326.749.749 0 0 1-.215.734L9.06 8l3.22 3.22a.749.749 0 0 1-.326 1.275.749.749 0 0 1-.734-.215L8 9.06l-3.22 3.22a.751.751 0 0 1-1.042-.018.751.751 0 0 1-.018-1.042L6.94 8 3.72 4.78a.75.75 0 0 1 0-1.06Z"></path>
</svg></button>
    </div>
  </div>
</div>
      <scrollable-region data-labelled-by="dialog-7ca5910b-9979-4f20-b6b4-7bba72a97c32-title">
        <div data-view-component="true" class="Overlay-body d-flex flex-column px-2">    <div data-view-component="true" class="d-flex flex-column mb-3">
        <nav aria-label="Site navigation" data-view-component="true" class="ActionList">
  
  <nav-list>
    <ul data-view-component="true" class="ActionListWrap">
        
          
<li data-targets="nav-list.items nav-list.items" data-item-id="" data-view-component="true" class="ActionListItem">
    
    <a data-hotkey="g d" data-analytics-event="{&quot;category&quot;:&quot;Global navigation&quot;,&quot;action&quot;:&quot;HOME&quot;,&quot;label&quot;:null}" id="item-d7aa72f1-2c59-467b-a4f8-8b3fecf07fd4" href="/dashboard" data-view-component="true" class="ActionListContent ActionListContent--visual16">
        <span class="ActionListItem-visual ActionListItem-visual--leading">
          <svg aria-hidden="true" height="16" viewBox="0 0 16 16" version="1.1" width="16" data-view-component="true" class="octicon octicon-home">
    <path d="M6.906.664a1.749 1.749 0 0 1 2.187 0l5.25 4.2c.415.332.657.835.657 1.367v7.019A1.75 1.75 0 0 1 13.25 15h-3.5a.75.75 0 0 1-.75-.75V9H7v5.25a.75.75 0 0 1-.75.75h-3.5A1.75 1.75 0 0 1 1 13.25V6.23c0-.531.242-1.034.657-1.366l5.25-4.2Zm1.25 1.171a.25.25 0 0 0-.312 0l-5.25 4.2a.25.25 0 0 0-.094.196v7.019c0 .138.112.25.25.25H5.5V8.25a.75.75 0 0 1 .75-.75h3.5a.75.75 0 0 1 .75.75v5.25h2.75a.25.25 0 0 0 .25-.25V6.23a.25.25 0 0 0-.094-.195Z"></path>
</svg>
        </span>
      
        <span data-view-component="true" class="ActionListItem-label">
          Home
</span></a>
  
  
</li>

        
          
<li data-targets="nav-list.items nav-list.items" data-item-id="" data-view-component="true" class="ActionListItem">
    
    <a data-hotkey="g i" data-analytics-event="{&quot;category&quot;:&quot;Global navigation&quot;,&quot;action&quot;:&quot;ISSUES&quot;,&quot;label&quot;:null}" id="item-a933d91b-812d-4f95-a2f3-2b0fbf1c8ec0" href="/issues" data-view-component="true" class="ActionListContent ActionListContent--visual16">
        <span class="ActionListItem-visual ActionListItem-visual--leading">
          <svg aria-hidden="true" height="16" viewBox="0 0 16 16" version="1.1" width="16" data-view-component="true" class="octicon octicon-issue-opened">
    <path d="M8 9.5a1.5 1.5 0 1 0 0-3 1.5 1.5 0 0 0 0 3Z"></path><path d="M8 0a8 8 0 1 1 0 16A8 8 0 0 1 8 0ZM1.5 8a6.5 6.5 0 1 0 13 0 6.5 6.5 0 0 0-13 0Z"></path>
</svg>
        </span>
      
        <span data-view-component="true" class="ActionListItem-label">
          Issues
</span></a>
  
  
</li>

        
          
<li data-targets="nav-list.items nav-list.items" data-item-id="" data-view-component="true" class="ActionListItem">
    
    <a data-hotkey="g p" data-analytics-event="{&quot;category&quot;:&quot;Global navigation&quot;,&quot;action&quot;:&quot;PULL_REQUESTS&quot;,&quot;label&quot;:null}" id="item-ab680530-ff1d-469e-8b05-46f674867b61" href="/pulls" data-view-component="true" class="ActionListContent ActionListContent--visual16">
        <span class="ActionListItem-visual ActionListItem-visual--leading">
          <svg aria-hidden="true" height="16" viewBox="0 0 16 16" version="1.1" width="16" data-view-component="true" class="octicon octicon-git-pull-request">
    <path d="M1.5 3.25a2.25 2.25 0 1 1 3 2.122v5.256a2.251 2.251 0 1 1-1.5 0V5.372A2.25 2.25 0 0 1 1.5 3.25Zm5.677-.177L9.573.677A.25.25 0 0 1 10 .854V2.5h1A2.5 2.5 0 0 1 13.5 5v5.628a2.251 2.251 0 1 1-1.5 0V5a1 1 0 0 0-1-1h-1v1.646a.25.25 0 0 1-.427.177L7.177 3.427a.25.25 0 0 1 0-.354ZM3.75 2.5a.75.75 0 1 0 0 1.5.75.75 0 0 0 0-1.5Zm0 9.5a.75.75 0 1 0 0 1.5.75.75 0 0 0 0-1.5Zm8.25.75a.75.75 0 1 0 1.5 0 .75.75 0 0 0-1.5 0Z"></path>
</svg>
        </span>
      
        <span data-view-component="true" class="ActionListItem-label">
          Pull requests
</span></a>
  
  
</li>

        
          
<li data-targets="nav-list.items nav-list.items" data-item-id="" data-item-id="projects" data-view-component="true" class="ActionListItem">
    
    <a data-analytics-event="{&quot;category&quot;:&quot;Global navigation&quot;,&quot;action&quot;:&quot;PROJECTS&quot;,&quot;label&quot;:null}" id="item-868f5aa3-0bf3-4680-8840-c68264e3e363" href="/projects" data-view-component="true" class="ActionListContent ActionListContent--visual16">
        <span class="ActionListItem-visual ActionListItem-visual--leading">
          <svg aria-hidden="true" height="16" viewBox="0 0 16 16" version="1.1" width="16" data-view-component="true" class="octicon octicon-table">
    <path d="M0 1.75C0 .784.784 0 1.75 0h12.5C15.216 0 16 .784 16 1.75v12.5A1.75 1.75 0 0 1 14.25 16H1.75A1.75 1.75 0 0 1 0 14.25ZM6.5 6.5v8h7.75a.25.25 0 0 0 .25-.25V6.5Zm8-1.5V1.75a.25.25 0 0 0-.25-.25H6.5V5Zm-13 1.5v7.75c0 .138.112.25.25.25H5v-8ZM5 5V1.5H1.75a.25.25 0 0 0-.25.25V5Z"></path>
</svg>
        </span>
      
        <span data-view-component="true" class="ActionListItem-label">
          Projects
</span></a>
  
  
</li>

        
          
<li data-targets="nav-list.items nav-list.items" data-item-id="" data-view-component="true" class="ActionListItem">
    
    <a data-analytics-event="{&quot;category&quot;:&quot;Global navigation&quot;,&quot;action&quot;:&quot;DISCUSSIONS&quot;,&quot;label&quot;:null}" id="item-fc21ed6d-10b1-465c-9e5c-d630649e40b9" href="/discussions" data-view-component="true" class="ActionListContent ActionListContent--visual16">
        <span class="ActionListItem-visual ActionListItem-visual--leading">
          <svg aria-hidden="true" height="16" viewBox="0 0 16 16" version="1.1" width="16" data-view-component="true" class="octicon octicon-comment-discussion">
    <path d="M1.75 1h8.5c.966 0 1.75.784 1.75 1.75v5.5A1.75 1.75 0 0 1 10.25 10H7.061l-2.574 2.573A1.458 1.458 0 0 1 2 11.543V10h-.25A1.75 1.75 0 0 1 0 8.25v-5.5C0 1.784.784 1 1.75 1ZM1.5 2.75v5.5c0 .138.112.25.25.25h1a.75.75 0 0 1 .75.75v2.19l2.72-2.72a.749.749 0 0 1 .53-.22h3.5a.25.25 0 0 0 .25-.25v-5.5a.25.25 0 0 0-.25-.25h-8.5a.25.25 0 0 0-.25.25Zm13 2a.25.25 0 0 0-.25-.25h-.5a.75.75 0 0 1 0-1.5h.5c.966 0 1.75.784 1.75 1.75v5.5A1.75 1.75 0 0 1 14.25 12H14v1.543a1.458 1.458 0 0 1-2.487 1.03L9.22 12.28a.749.749 0 0 1 .326-1.275.749.749 0 0 1 .734.215l2.22 2.22v-2.19a.75.75 0 0 1 .75-.75h1a.25.25 0 0 0 .25-.25Z"></path>
</svg>
        </span>
      
        <span data-view-component="true" class="ActionListItem-label">
          Discussions
</span></a>
  
  
</li>

        
          
<li data-targets="nav-list.items nav-list.items" data-item-id="" data-view-component="true" class="ActionListItem">
    
    <a data-analytics-event="{&quot;category&quot;:&quot;Global navigation&quot;,&quot;action&quot;:&quot;CODESPACES&quot;,&quot;label&quot;:null}" id="item-2f92cdd9-1343-4103-b645-d4f89ac703d0" href="https://github.com/codespaces" data-view-component="true" class="ActionListContent ActionListContent--visual16">
        <span class="ActionListItem-visual ActionListItem-visual--leading">
          <svg aria-hidden="true" height="16" viewBox="0 0 16 16" version="1.1" width="16" data-view-component="true" class="octicon octicon-codespaces">
    <path d="M0 11.25c0-.966.784-1.75 1.75-1.75h12.5c.966 0 1.75.784 1.75 1.75v3A1.75 1.75 0 0 1 14.25 16H1.75A1.75 1.75 0 0 1 0 14.25Zm2-9.5C2 .784 2.784 0 3.75 0h8.5C13.216 0 14 .784 14 1.75v5a1.75 1.75 0 0 1-1.75 1.75h-8.5A1.75 1.75 0 0 1 2 6.75Zm1.75-.25a.25.25 0 0 0-.25.25v5c0 .138.112.25.25.25h8.5a.25.25 0 0 0 .25-.25v-5a.25.25 0 0 0-.25-.25Zm-2 9.5a.25.25 0 0 0-.25.25v3c0 .138.112.25.25.25h12.5a.25.25 0 0 0 .25-.25v-3a.25.25 0 0 0-.25-.25Z"></path><path d="M7 12.75a.75.75 0 0 1 .75-.75h4.5a.75.75 0 0 1 0 1.5h-4.5a.75.75 0 0 1-.75-.75Zm-4 0a.75.75 0 0 1 .75-.75h.5a.75.75 0 0 1 0 1.5h-.5a.75.75 0 0 1-.75-.75Z"></path>
</svg>
        </span>
      
        <span data-view-component="true" class="ActionListItem-label">
          Codespaces
</span></a>
  
  
</li>

        
          <li role="presentation" aria-hidden="true" data-view-component="true" class="ActionList-sectionDivider"></li>
        
          
<li data-targets="nav-list.items nav-list.items" data-item-id="" data-view-component="true" class="ActionListItem">
    
    <a data-analytics-event="{&quot;category&quot;:&quot;Global navigation&quot;,&quot;action&quot;:&quot;EXPLORE&quot;,&quot;label&quot;:null}" id="item-fb540cde-1cec-4de6-8575-d379bbe55bec" href="/explore" data-view-component="true" class="ActionListContent ActionListContent--visual16">
        <span class="ActionListItem-visual ActionListItem-visual--leading">
          <svg aria-hidden="true" height="16" viewBox="0 0 16 16" version="1.1" width="16" data-view-component="true" class="octicon octicon-telescope">
    <path d="M14.184 1.143v-.001l1.422 2.464a1.75 1.75 0 0 1-.757 2.451L3.104 11.713a1.75 1.75 0 0 1-2.275-.702l-.447-.775a1.75 1.75 0 0 1 .53-2.32L11.682.573a1.748 1.748 0 0 1 2.502.57Zm-4.709 9.32h-.001l2.644 3.863a.75.75 0 1 1-1.238.848l-1.881-2.75v2.826a.75.75 0 0 1-1.5 0v-2.826l-1.881 2.75a.75.75 0 1 1-1.238-.848l2.049-2.992a.746.746 0 0 1 .293-.253l1.809-.87a.749.749 0 0 1 .944.252ZM9.436 3.92h-.001l-4.97 3.39.942 1.63 5.42-2.61Zm3.091-2.108h.001l-1.85 1.26 1.505 2.605 2.016-.97a.247.247 0 0 0 .13-.151.247.247 0 0 0-.022-.199l-1.422-2.464a.253.253 0 0 0-.161-.119.254.254 0 0 0-.197.038ZM1.756 9.157a.25.25 0 0 0-.075.33l.447.775a.25.25 0 0 0 .325.1l1.598-.769-.83-1.436-1.465 1Z"></path>
</svg>
        </span>
      
        <span data-view-component="true" class="ActionListItem-label">
          Explore
</span></a>
  
  
</li>

        
          
<li data-targets="nav-list.items nav-list.items" data-item-id="" data-view-component="true" class="ActionListItem">
    
    <a data-analytics-event="{&quot;category&quot;:&quot;Global navigation&quot;,&quot;action&quot;:&quot;MARKETPLACE&quot;,&quot;label&quot;:null}" id="item-7e98fdbd-e5bb-4964-80ba-1992b2ea3e5a" href="/marketplace" data-view-component="true" class="ActionListContent ActionListContent--visual16">
        <span class="ActionListItem-visual ActionListItem-visual--leading">
          <svg aria-hidden="true" height="16" viewBox="0 0 16 16" version="1.1" width="16" data-view-component="true" class="octicon octicon-gift">
    <path d="M2 2.75A2.75 2.75 0 0 1 4.75 0c.983 0 1.873.42 2.57 1.232.268.318.497.668.68 1.042.183-.375.411-.725.68-1.044C9.376.42 10.266 0 11.25 0a2.75 2.75 0 0 1 2.45 4h.55c.966 0 1.75.784 1.75 1.75v2c0 .698-.409 1.301-1 1.582v4.918A1.75 1.75 0 0 1 13.25 16H2.75A1.75 1.75 0 0 1 1 14.25V9.332C.409 9.05 0 8.448 0 7.75v-2C0 4.784.784 4 1.75 4h.55c-.192-.375-.3-.8-.3-1.25ZM7.25 9.5H2.5v4.75c0 .138.112.25.25.25h4.5Zm1.5 0v5h4.5a.25.25 0 0 0 .25-.25V9.5Zm0-4V8h5.5a.25.25 0 0 0 .25-.25v-2a.25.25 0 0 0-.25-.25Zm-7 0a.25.25 0 0 0-.25.25v2c0 .138.112.25.25.25h5.5V5.5h-5.5Zm3-4a1.25 1.25 0 0 0 0 2.5h2.309c-.233-.818-.542-1.401-.878-1.793-.43-.502-.915-.707-1.431-.707ZM8.941 4h2.309a1.25 1.25 0 0 0 0-2.5c-.516 0-1 .205-1.43.707-.337.392-.646.975-.879 1.793Z"></path>
</svg>
        </span>
      
        <span data-view-component="true" class="ActionListItem-label">
          Marketplace
</span></a>
  
  
</li>

</ul>  </nav-list>
</nav>

        <div data-view-component="true" class="my-3 d-flex flex-justify-center height-full">
          <svg style="box-sizing: content-box; color: var(--color-icon-primary);" width="16" height="16" viewBox="0 0 16 16" fill="none" data-view-component="true" class="anim-rotate">
  <circle cx="8" cy="8" r="7" stroke="currentColor" stroke-opacity="0.25" stroke-width="2" vector-effect="non-scaling-stroke" fill="none" />
  <path d="M15 8a7.002 7.002 0 00-7-7" stroke="currentColor" stroke-width="2" stroke-linecap="round" vector-effect="non-scaling-stroke" />
</svg>
</div>
</div>
      <div data-view-component="true" class="flex-1"></div>


      <div data-view-component="true" class="px-2">      <p class="color-fg-subtle text-small text-light">&copy; 2024 GitHub, Inc.</p>

      <div data-view-component="true" class="d-flex flex-wrap text-small text-light">
          <a target="_blank" href="https://github.com/about" data-view-component="true" class="Link mr-2">About</a>
          <a target="_blank" href="https://github.blog" data-view-component="true" class="Link mr-2">Blog</a>
          <a target="_blank" href="https://docs.github.com/site-policy/github-terms/github-terms-of-service" data-view-component="true" class="Link mr-2">Terms</a>
          <a target="_blank" href="https://docs.github.com/site-policy/privacy-policies/github-privacy-statement" data-view-component="true" class="Link mr-2">Privacy</a>
          <a target="_blank" href="https://github.com/security" data-view-component="true" class="Link mr-2">Security</a>

        <a target="_blank" href="https://www.githubstatus.com/" data-view-component="true" class="Link mr-3">Status</a>

</div></div>
</div>
      </scrollable-region>
      
</modal-dialog></div>

  </include-fragment>
</deferred-side-panel>

        <a
          class="AppHeader-logo ml-2"
          href="https://github.com/"
          data-hotkey="g d"
          aria-label="Homepage "
          data-turbo="false"
          data-analytics-event="{&quot;category&quot;:&quot;Header&quot;,&quot;action&quot;:&quot;go to dashboard&quot;,&quot;label&quot;:&quot;icon:logo&quot;}"
        >
          <svg height="32" aria-hidden="true" viewBox="0 0 16 16" version="1.1" width="32" data-view-component="true" class="octicon octicon-mark-github v-align-middle color-fg-default">
    <path d="M8 0c4.42 0 8 3.58 8 8a8.013 8.013 0 0 1-5.45 7.59c-.4.08-.55-.17-.55-.38 0-.27.01-1.13.01-2.2 0-.75-.25-1.23-.54-1.48 1.78-.2 3.65-.88 3.65-3.95 0-.88-.31-1.59-.82-2.15.08-.2.36-1.02-.08-2.12 0 0-.67-.22-2.2.82-.64-.18-1.32-.27-2-.27-.68 0-1.36.09-2 .27-1.53-1.03-2.2-.82-2.2-.82-.44 1.1-.16 1.92-.08 2.12-.51.56-.82 1.28-.82 2.15 0 3.06 1.86 3.75 3.64 3.95-.23.2-.44.55-.51 1.07-.46.21-1.61.55-2.33-.66-.15-.24-.6-.83-1.23-.82-.67.01-.27.38.01.53.34.19.73.9.82 1.13.16.45.68 1.31 2.69.94 0 .67.01 1.3.01 1.49 0 .21-.15.45-.55.38A7.995 7.995 0 0 1 0 8c0-4.42 3.58-8 8-8Z"></path>
</svg>
        </a>

          <div class="AppHeader-context" >
  <div class="AppHeader-context-compact">
      <button aria-expanded="false" aria-haspopup="dialog" aria-label="Page context: krishnaik06 / Principle-Component-Analysis" id="dialog-show-context-region-dialog" data-show-dialog-id="context-region-dialog" type="button" data-view-component="true" class="AppHeader-context-compact-trigger Truncate Button--secondary Button--medium Button box-shadow-none">  <span class="Button-content">
    <span class="Button-label"><span class="AppHeader-context-compact-lead">
                <span class="AppHeader-context-compact-parentItem">krishnaik06</span>
                <span class="no-wrap">&nbsp;/</span>

            </span>

            <strong class="AppHeader-context-compact-mainItem d-flex flex-items-center Truncate" >
  <span class="Truncate-text ">Principle-Component-Analysis</span>

</strong></span>
  </span>
</button>

<div class="Overlay--hidden Overlay-backdrop--center" data-modal-dialog-overlay>
  <modal-dialog role="dialog" id="context-region-dialog" aria-modal="true" aria-disabled="true" aria-labelledby="context-region-dialog-title" aria-describedby="context-region-dialog-description" data-view-component="true" class="Overlay Overlay-whenNarrow Overlay--size-medium Overlay--motion-scaleFade">
    <div data-view-component="true" class="Overlay-header">
  <div class="Overlay-headerContentWrap">
    <div class="Overlay-titleWrap">
      <h1 class="Overlay-title " id="context-region-dialog-title">
        Navigate back to
      </h1>
    </div>
    <div class="Overlay-actionWrap">
      <button data-close-dialog-id="context-region-dialog" aria-label="Close" type="button" data-view-component="true" class="close-button Overlay-closeButton"><svg aria-hidden="true" height="16" viewBox="0 0 16 16" version="1.1" width="16" data-view-component="true" class="octicon octicon-x">
    <path d="M3.72 3.72a.75.75 0 0 1 1.06 0L8 6.94l3.22-3.22a.749.749 0 0 1 1.275.326.749.749 0 0 1-.215.734L9.06 8l3.22 3.22a.749.749 0 0 1-.326 1.275.749.749 0 0 1-.734-.215L8 9.06l-3.22 3.22a.751.751 0 0 1-1.042-.018.751.751 0 0 1-.018-1.042L6.94 8 3.72 4.78a.75.75 0 0 1 0-1.06Z"></path>
</svg></button>
    </div>
  </div>
</div>
      <scrollable-region data-labelled-by="context-region-dialog-title">
        <div data-view-component="true" class="Overlay-body">          <ul role="list" class="list-style-none" >
    <li>
      <a data-analytics-event="{&quot;category&quot;:&quot;SiteHeaderComponent&quot;,&quot;action&quot;:&quot;context_region_crumb&quot;,&quot;label&quot;:&quot;krishnaik06&quot;,&quot;screen_size&quot;:&quot;compact&quot;}" href="/krishnaik06" data-view-component="true" class="Link--primary Truncate d-flex flex-items-center py-1">
        <span class="AppHeader-context-item-label Truncate-text ">
            <svg aria-hidden="true" height="12" viewBox="0 0 16 16" version="1.1" width="12" data-view-component="true" class="octicon octicon-person mr-1">
    <path d="M10.561 8.073a6.005 6.005 0 0 1 3.432 5.142.75.75 0 1 1-1.498.07 4.5 4.5 0 0 0-8.99 0 .75.75 0 0 1-1.498-.07 6.004 6.004 0 0 1 3.431-5.142 3.999 3.999 0 1 1 5.123 0ZM10.5 5a2.5 2.5 0 1 0-5 0 2.5 2.5 0 0 0 5 0Z"></path>
</svg>

          krishnaik06
        </span>

</a>
    </li>
    <li>
      <a data-analytics-event="{&quot;category&quot;:&quot;SiteHeaderComponent&quot;,&quot;action&quot;:&quot;context_region_crumb&quot;,&quot;label&quot;:&quot;Principle-Component-Analysis&quot;,&quot;screen_size&quot;:&quot;compact&quot;}" href="/krishnaik06/Principle-Component-Analysis" data-view-component="true" class="Link--primary Truncate d-flex flex-items-center py-1">
        <span class="AppHeader-context-item-label Truncate-text ">
            <svg aria-hidden="true" height="12" viewBox="0 0 16 16" version="1.1" width="12" data-view-component="true" class="octicon octicon-repo mr-1">
    <path d="M2 2.5A2.5 2.5 0 0 1 4.5 0h8.75a.75.75 0 0 1 .75.75v12.5a.75.75 0 0 1-.75.75h-2.5a.75.75 0 0 1 0-1.5h1.75v-2h-8a1 1 0 0 0-.714 1.7.75.75 0 1 1-1.072 1.05A2.495 2.495 0 0 1 2 11.5Zm10.5-1h-8a1 1 0 0 0-1 1v6.708A2.486 2.486 0 0 1 4.5 9h8ZM5 12.25a.25.25 0 0 1 .25-.25h3.5a.25.25 0 0 1 .25.25v3.25a.25.25 0 0 1-.4.2l-1.45-1.087a.249.249 0 0 0-.3 0L5.4 15.7a.25.25 0 0 1-.4-.2Z"></path>
</svg>

          Principle-Component-Analysis
        </span>

</a>
    </li>
</ul>

</div>
      </scrollable-region>
      
</modal-dialog></div>
  </div>

  <div class="AppHeader-context-full">
    <nav role="navigation" aria-label="Page context">
      <ul role="list" class="list-style-none" >
    <li>
      <a data-analytics-event="{&quot;category&quot;:&quot;SiteHeaderComponent&quot;,&quot;action&quot;:&quot;context_region_crumb&quot;,&quot;label&quot;:&quot;krishnaik06&quot;,&quot;screen_size&quot;:&quot;full&quot;}" data-hovercard-type="user" data-hovercard-url="/users/krishnaik06/hovercard" data-octo-click="hovercard-link-click" data-octo-dimensions="link_type:self" href="/krishnaik06" data-view-component="true" class="AppHeader-context-item">
        <span class="AppHeader-context-item-label  ">

          krishnaik06
        </span>

</a>
        <span class="AppHeader-context-item-separator">/</span>
    </li>
    <li>
      <a data-analytics-event="{&quot;category&quot;:&quot;SiteHeaderComponent&quot;,&quot;action&quot;:&quot;context_region_crumb&quot;,&quot;label&quot;:&quot;Principle-Component-Analysis&quot;,&quot;screen_size&quot;:&quot;full&quot;}" href="/krishnaik06/Principle-Component-Analysis" data-view-component="true" class="AppHeader-context-item">
        <span class="AppHeader-context-item-label  ">

          Principle-Component-Analysis
        </span>

</a>
    </li>
</ul>

    </nav>
  </div>
</div>

      </div>
      <div class="AppHeader-globalBar-end">
          <div class="AppHeader-search" >
              


<qbsearch-input class="search-input" data-scope="repo:krishnaik06/Principle-Component-Analysis" data-custom-scopes-path="/search/custom_scopes" data-delete-custom-scopes-csrf="6AoxBSFHvSdUivdKGHwL7j_mFD6X8CUcYLjJ8kc0dxoGyWGttejo3EOq49Jk6xJV7ud1AeH6d9hYOqdQN7yKxg" data-max-custom-scopes="10" data-header-redesign-enabled="true" data-initial-value="" data-blackbird-suggestions-path="/search/suggestions" data-jump-to-suggestions-path="/_graphql/GetSuggestedNavigationDestinations" data-current-repository="krishnaik06/Principle-Component-Analysis" data-current-org="" data-current-owner="krishnaik06" data-logged-in="true" data-copilot-chat-enabled="false" data-blackbird-indexed-repo-csrf="<input type=&quot;hidden&quot; value=&quot;9WO4EkLJFoIKPgDRNJVO12g5GD8nFKKpxUMd2U6kMijtnhi-DNHRhooFwv4c7QUVeTs6qXLCEpUXvMy2gRxEDw&quot; data-csrf=&quot;true&quot; />">
  <div
    class="search-input-container search-with-dialog position-relative d-flex flex-row flex-items-center height-auto color-bg-transparent border-0 color-fg-subtle mx-0"
    data-action="click:qbsearch-input#searchInputContainerClicked"
  >
      
            <button type="button" data-action="click:qbsearch-input#handleExpand" class="AppHeader-button AppHeader-search-whenNarrow" aria-label="Search or jump to…" aria-expanded="false" aria-haspopup="dialog">
            <svg aria-hidden="true" height="16" viewBox="0 0 16 16" version="1.1" width="16" data-view-component="true" class="octicon octicon-search">
    <path d="M10.68 11.74a6 6 0 0 1-7.922-8.982 6 6 0 0 1 8.982 7.922l3.04 3.04a.749.749 0 0 1-.326 1.275.749.749 0 0 1-.734-.215ZM11.5 7a4.499 4.499 0 1 0-8.997 0A4.499 4.499 0 0 0 11.5 7Z"></path>
</svg>
          </button>


<div class="AppHeader-search-whenRegular">
  <div class="AppHeader-search-wrap AppHeader-search-wrap--hasTrailing">
    <div class="AppHeader-search-control">
      <label
        for="AppHeader-searchInput"
        aria-label="Search or jump to…"
        class="AppHeader-search-visual--leading"
      >
        <svg aria-hidden="true" height="16" viewBox="0 0 16 16" version="1.1" width="16" data-view-component="true" class="octicon octicon-search">
    <path d="M10.68 11.74a6 6 0 0 1-7.922-8.982 6 6 0 0 1 8.982 7.922l3.04 3.04a.749.749 0 0 1-.326 1.275.749.749 0 0 1-.734-.215ZM11.5 7a4.499 4.499 0 1 0-8.997 0A4.499 4.499 0 0 0 11.5 7Z"></path>
</svg>
      </label>

                <button
            type="button"
            data-target="qbsearch-input.inputButton"
            data-action="click:qbsearch-input#handleExpand"
            class="AppHeader-searchButton form-control input-contrast text-left color-fg-subtle no-wrap"
            data-hotkey="s,/"
            data-analytics-event="{&quot;category&quot;:&quot;Global navigation&quot;,&quot;action&quot;:&quot;SEARCH&quot;,&quot;label&quot;:null}"
          >
            <div class="overflow-hidden">
              <span id="qb-input-query" data-target="qbsearch-input.inputButtonText">
                  Type <kbd class="AppHeader-search-kbd">/</kbd> to search
              </span>
            </div>
          </button>

    </div>


      <button type="button" id="AppHeader-commandPalette-button" class="AppHeader-search-action--trailing js-activate-command-palette" data-analytics-event="{&quot;category&quot;:&quot;SiteHeaderComponent&quot;,&quot;action&quot;:&quot;command_palette&quot;,&quot;label&quot;:&quot;open command palette&quot;}">
        <svg aria-hidden="true" height="16" viewBox="0 0 16 16" version="1.1" width="16" data-view-component="true" class="octicon octicon-command-palette">
    <path d="m6.354 8.04-4.773 4.773a.75.75 0 1 0 1.061 1.06L7.945 8.57a.75.75 0 0 0 0-1.06L2.642 2.206a.75.75 0 0 0-1.06 1.061L6.353 8.04ZM8.75 11.5a.75.75 0 0 0 0 1.5h5.5a.75.75 0 0 0 0-1.5h-5.5Z"></path>
</svg>
      </button>

      <tool-tip id="tooltip-f112b523-7d0d-4d9c-be24-9c90333da509" for="AppHeader-commandPalette-button" popover="manual" data-direction="s" data-type="label" data-view-component="true" class="sr-only position-absolute">Command palette</tool-tip>
  </div>
</div>

    <input type="hidden" name="type" class="js-site-search-type-field">

    
<div class="Overlay--hidden " data-modal-dialog-overlay>
  <modal-dialog data-action="close:qbsearch-input#handleClose cancel:qbsearch-input#handleClose" data-target="qbsearch-input.searchSuggestionsDialog" role="dialog" id="search-suggestions-dialog" aria-modal="true" aria-labelledby="search-suggestions-dialog-header" data-view-component="true" class="Overlay Overlay--width-medium Overlay--height-auto">
      <h1 id="search-suggestions-dialog-header" class="sr-only">Search code, repositories, users, issues, pull requests...</h1>
    <div class="Overlay-body Overlay-body--paddingNone">
      
          <div data-view-component="true">        <div class="search-suggestions position-absolute width-full color-shadow-large border color-fg-default color-bg-default overflow-hidden d-flex flex-column query-builder-container"
          style="border-radius: 12px;"
          data-target="qbsearch-input.queryBuilderContainer"
          hidden
        >
          <!-- '"` --><!-- </textarea></xmp> --></option></form><form id="query-builder-test-form" action="" accept-charset="UTF-8" method="get">
  <query-builder data-target="qbsearch-input.queryBuilder" id="query-builder-query-builder-test" data-filter-key=":" data-view-component="true" class="QueryBuilder search-query-builder">
    <div class="FormControl FormControl--fullWidth">
      <label id="query-builder-test-label" for="query-builder-test" class="FormControl-label sr-only">
        Search
      </label>
      <div
        class="QueryBuilder-StyledInput width-fit "
        data-target="query-builder.styledInput"
      >
          <span id="query-builder-test-leadingvisual-wrap" class="FormControl-input-leadingVisualWrap QueryBuilder-leadingVisualWrap">
            <svg aria-hidden="true" height="16" viewBox="0 0 16 16" version="1.1" width="16" data-view-component="true" class="octicon octicon-search FormControl-input-leadingVisual">
    <path d="M10.68 11.74a6 6 0 0 1-7.922-8.982 6 6 0 0 1 8.982 7.922l3.04 3.04a.749.749 0 0 1-.326 1.275.749.749 0 0 1-.734-.215ZM11.5 7a4.499 4.499 0 1 0-8.997 0A4.499 4.499 0 0 0 11.5 7Z"></path>
</svg>
          </span>
        <div data-target="query-builder.styledInputContainer" class="QueryBuilder-StyledInputContainer">
          <div
            aria-hidden="true"
            class="QueryBuilder-StyledInputContent"
            data-target="query-builder.styledInputContent"
          ></div>
          <div class="QueryBuilder-InputWrapper">
            <div aria-hidden="true" class="QueryBuilder-Sizer" data-target="query-builder.sizer"></div>
            <input id="query-builder-test" name="query-builder-test" value="" autocomplete="off" type="text" role="combobox" spellcheck="false" aria-expanded="false" aria-describedby="validation-f8fdac68-59a1-4c64-96f6-9064b69f7dea" data-target="query-builder.input" data-action="
          input:query-builder#inputChange
          blur:query-builder#inputBlur
          keydown:query-builder#inputKeydown
          focus:query-builder#inputFocus
        " data-view-component="true" class="FormControl-input QueryBuilder-Input FormControl-medium" />
          </div>
        </div>
          <span class="sr-only" id="query-builder-test-clear">Clear</span>
          <button role="button" id="query-builder-test-clear-button" aria-labelledby="query-builder-test-clear query-builder-test-label" data-target="query-builder.clearButton" data-action="
                click:query-builder#clear
                focus:query-builder#clearButtonFocus
                blur:query-builder#clearButtonBlur
              " variant="small" hidden="hidden" type="button" data-view-component="true" class="Button Button--iconOnly Button--invisible Button--medium mr-1 px-2 py-0 d-flex flex-items-center rounded-1 color-fg-muted">  <svg aria-hidden="true" height="16" viewBox="0 0 16 16" version="1.1" width="16" data-view-component="true" class="octicon octicon-x-circle-fill Button-visual">
    <path d="M2.343 13.657A8 8 0 1 1 13.658 2.343 8 8 0 0 1 2.343 13.657ZM6.03 4.97a.751.751 0 0 0-1.042.018.751.751 0 0 0-.018 1.042L6.94 8 4.97 9.97a.749.749 0 0 0 .326 1.275.749.749 0 0 0 .734-.215L8 9.06l1.97 1.97a.749.749 0 0 0 1.275-.326.749.749 0 0 0-.215-.734L9.06 8l1.97-1.97a.749.749 0 0 0-.326-1.275.749.749 0 0 0-.734.215L8 6.94Z"></path>
</svg>
</button>

      </div>
      <template id="search-icon">
  <svg aria-hidden="true" height="16" viewBox="0 0 16 16" version="1.1" width="16" data-view-component="true" class="octicon octicon-search">
    <path d="M10.68 11.74a6 6 0 0 1-7.922-8.982 6 6 0 0 1 8.982 7.922l3.04 3.04a.749.749 0 0 1-.326 1.275.749.749 0 0 1-.734-.215ZM11.5 7a4.499 4.499 0 1 0-8.997 0A4.499 4.499 0 0 0 11.5 7Z"></path>
</svg>
</template>

<template id="code-icon">
  <svg aria-hidden="true" height="16" viewBox="0 0 16 16" version="1.1" width="16" data-view-component="true" class="octicon octicon-code">
    <path d="m11.28 3.22 4.25 4.25a.75.75 0 0 1 0 1.06l-4.25 4.25a.749.749 0 0 1-1.275-.326.749.749 0 0 1 .215-.734L13.94 8l-3.72-3.72a.749.749 0 0 1 .326-1.275.749.749 0 0 1 .734.215Zm-6.56 0a.751.751 0 0 1 1.042.018.751.751 0 0 1 .018 1.042L2.06 8l3.72 3.72a.749.749 0 0 1-.326 1.275.749.749 0 0 1-.734-.215L.47 8.53a.75.75 0 0 1 0-1.06Z"></path>
</svg>
</template>

<template id="file-code-icon">
  <svg aria-hidden="true" height="16" viewBox="0 0 16 16" version="1.1" width="16" data-view-component="true" class="octicon octicon-file-code">
    <path d="M4 1.75C4 .784 4.784 0 5.75 0h5.586c.464 0 .909.184 1.237.513l2.914 2.914c.329.328.513.773.513 1.237v8.586A1.75 1.75 0 0 1 14.25 15h-9a.75.75 0 0 1 0-1.5h9a.25.25 0 0 0 .25-.25V6h-2.75A1.75 1.75 0 0 1 10 4.25V1.5H5.75a.25.25 0 0 0-.25.25v2.5a.75.75 0 0 1-1.5 0Zm1.72 4.97a.75.75 0 0 1 1.06 0l2 2a.75.75 0 0 1 0 1.06l-2 2a.749.749 0 0 1-1.275-.326.749.749 0 0 1 .215-.734l1.47-1.47-1.47-1.47a.75.75 0 0 1 0-1.06ZM3.28 7.78 1.81 9.25l1.47 1.47a.751.751 0 0 1-.018 1.042.751.751 0 0 1-1.042.018l-2-2a.75.75 0 0 1 0-1.06l2-2a.751.751 0 0 1 1.042.018.751.751 0 0 1 .018 1.042Zm8.22-6.218V4.25c0 .138.112.25.25.25h2.688l-.011-.013-2.914-2.914-.013-.011Z"></path>
</svg>
</template>

<template id="history-icon">
  <svg aria-hidden="true" height="16" viewBox="0 0 16 16" version="1.1" width="16" data-view-component="true" class="octicon octicon-history">
    <path d="m.427 1.927 1.215 1.215a8.002 8.002 0 1 1-1.6 5.685.75.75 0 1 1 1.493-.154 6.5 6.5 0 1 0 1.18-4.458l1.358 1.358A.25.25 0 0 1 3.896 6H.25A.25.25 0 0 1 0 5.75V2.104a.25.25 0 0 1 .427-.177ZM7.75 4a.75.75 0 0 1 .75.75v2.992l2.028.812a.75.75 0 0 1-.557 1.392l-2.5-1A.751.751 0 0 1 7 8.25v-3.5A.75.75 0 0 1 7.75 4Z"></path>
</svg>
</template>

<template id="repo-icon">
  <svg aria-hidden="true" height="16" viewBox="0 0 16 16" version="1.1" width="16" data-view-component="true" class="octicon octicon-repo">
    <path d="M2 2.5A2.5 2.5 0 0 1 4.5 0h8.75a.75.75 0 0 1 .75.75v12.5a.75.75 0 0 1-.75.75h-2.5a.75.75 0 0 1 0-1.5h1.75v-2h-8a1 1 0 0 0-.714 1.7.75.75 0 1 1-1.072 1.05A2.495 2.495 0 0 1 2 11.5Zm10.5-1h-8a1 1 0 0 0-1 1v6.708A2.486 2.486 0 0 1 4.5 9h8ZM5 12.25a.25.25 0 0 1 .25-.25h3.5a.25.25 0 0 1 .25.25v3.25a.25.25 0 0 1-.4.2l-1.45-1.087a.249.249 0 0 0-.3 0L5.4 15.7a.25.25 0 0 1-.4-.2Z"></path>
</svg>
</template>

<template id="bookmark-icon">
  <svg aria-hidden="true" height="16" viewBox="0 0 16 16" version="1.1" width="16" data-view-component="true" class="octicon octicon-bookmark">
    <path d="M3 2.75C3 1.784 3.784 1 4.75 1h6.5c.966 0 1.75.784 1.75 1.75v11.5a.75.75 0 0 1-1.227.579L8 11.722l-3.773 3.107A.751.751 0 0 1 3 14.25Zm1.75-.25a.25.25 0 0 0-.25.25v9.91l3.023-2.489a.75.75 0 0 1 .954 0l3.023 2.49V2.75a.25.25 0 0 0-.25-.25Z"></path>
</svg>
</template>

<template id="plus-circle-icon">
  <svg aria-hidden="true" height="16" viewBox="0 0 16 16" version="1.1" width="16" data-view-component="true" class="octicon octicon-plus-circle">
    <path d="M8 0a8 8 0 1 1 0 16A8 8 0 0 1 8 0ZM1.5 8a6.5 6.5 0 1 0 13 0 6.5 6.5 0 0 0-13 0Zm7.25-3.25v2.5h2.5a.75.75 0 0 1 0 1.5h-2.5v2.5a.75.75 0 0 1-1.5 0v-2.5h-2.5a.75.75 0 0 1 0-1.5h2.5v-2.5a.75.75 0 0 1 1.5 0Z"></path>
</svg>
</template>

<template id="circle-icon">
  <svg aria-hidden="true" height="16" viewBox="0 0 16 16" version="1.1" width="16" data-view-component="true" class="octicon octicon-dot-fill">
    <path d="M8 4a4 4 0 1 1 0 8 4 4 0 0 1 0-8Z"></path>
</svg>
</template>

<template id="trash-icon">
  <svg aria-hidden="true" height="16" viewBox="0 0 16 16" version="1.1" width="16" data-view-component="true" class="octicon octicon-trash">
    <path d="M11 1.75V3h2.25a.75.75 0 0 1 0 1.5H2.75a.75.75 0 0 1 0-1.5H5V1.75C5 .784 5.784 0 6.75 0h2.5C10.216 0 11 .784 11 1.75ZM4.496 6.675l.66 6.6a.25.25 0 0 0 .249.225h5.19a.25.25 0 0 0 .249-.225l.66-6.6a.75.75 0 0 1 1.492.149l-.66 6.6A1.748 1.748 0 0 1 10.595 15h-5.19a1.75 1.75 0 0 1-1.741-1.575l-.66-6.6a.75.75 0 1 1 1.492-.15ZM6.5 1.75V3h3V1.75a.25.25 0 0 0-.25-.25h-2.5a.25.25 0 0 0-.25.25Z"></path>
</svg>
</template>

<template id="team-icon">
  <svg aria-hidden="true" height="16" viewBox="0 0 16 16" version="1.1" width="16" data-view-component="true" class="octicon octicon-people">
    <path d="M2 5.5a3.5 3.5 0 1 1 5.898 2.549 5.508 5.508 0 0 1 3.034 4.084.75.75 0 1 1-1.482.235 4 4 0 0 0-7.9 0 .75.75 0 0 1-1.482-.236A5.507 5.507 0 0 1 3.102 8.05 3.493 3.493 0 0 1 2 5.5ZM11 4a3.001 3.001 0 0 1 2.22 5.018 5.01 5.01 0 0 1 2.56 3.012.749.749 0 0 1-.885.954.752.752 0 0 1-.549-.514 3.507 3.507 0 0 0-2.522-2.372.75.75 0 0 1-.574-.73v-.352a.75.75 0 0 1 .416-.672A1.5 1.5 0 0 0 11 5.5.75.75 0 0 1 11 4Zm-5.5-.5a2 2 0 1 0-.001 3.999A2 2 0 0 0 5.5 3.5Z"></path>
</svg>
</template>

<template id="project-icon">
  <svg aria-hidden="true" height="16" viewBox="0 0 16 16" version="1.1" width="16" data-view-component="true" class="octicon octicon-project">
    <path d="M1.75 0h12.5C15.216 0 16 .784 16 1.75v12.5A1.75 1.75 0 0 1 14.25 16H1.75A1.75 1.75 0 0 1 0 14.25V1.75C0 .784.784 0 1.75 0ZM1.5 1.75v12.5c0 .138.112.25.25.25h12.5a.25.25 0 0 0 .25-.25V1.75a.25.25 0 0 0-.25-.25H1.75a.25.25 0 0 0-.25.25ZM11.75 3a.75.75 0 0 1 .75.75v7.5a.75.75 0 0 1-1.5 0v-7.5a.75.75 0 0 1 .75-.75Zm-8.25.75a.75.75 0 0 1 1.5 0v5.5a.75.75 0 0 1-1.5 0ZM8 3a.75.75 0 0 1 .75.75v3.5a.75.75 0 0 1-1.5 0v-3.5A.75.75 0 0 1 8 3Z"></path>
</svg>
</template>

<template id="pencil-icon">
  <svg aria-hidden="true" height="16" viewBox="0 0 16 16" version="1.1" width="16" data-view-component="true" class="octicon octicon-pencil">
    <path d="M11.013 1.427a1.75 1.75 0 0 1 2.474 0l1.086 1.086a1.75 1.75 0 0 1 0 2.474l-8.61 8.61c-.21.21-.47.364-.756.445l-3.251.93a.75.75 0 0 1-.927-.928l.929-3.25c.081-.286.235-.547.445-.758l8.61-8.61Zm.176 4.823L9.75 4.81l-6.286 6.287a.253.253 0 0 0-.064.108l-.558 1.953 1.953-.558a.253.253 0 0 0 .108-.064Zm1.238-3.763a.25.25 0 0 0-.354 0L10.811 3.75l1.439 1.44 1.263-1.263a.25.25 0 0 0 0-.354Z"></path>
</svg>
</template>

<template id="copilot-icon">
  <svg aria-hidden="true" height="16" viewBox="0 0 16 16" version="1.1" width="16" data-view-component="true" class="octicon octicon-copilot">
    <path d="M7.998 15.035c-4.562 0-7.873-2.914-7.998-3.749V9.338c.085-.628.677-1.686 1.588-2.065.013-.07.024-.143.036-.218.029-.183.06-.384.126-.612-.201-.508-.254-1.084-.254-1.656 0-.87.128-1.769.693-2.484.579-.733 1.494-1.124 2.724-1.261 1.206-.134 2.262.034 2.944.765.05.053.096.108.139.165.044-.057.094-.112.143-.165.682-.731 1.738-.899 2.944-.765 1.23.137 2.145.528 2.724 1.261.566.715.693 1.614.693 2.484 0 .572-.053 1.148-.254 1.656.066.228.098.429.126.612.012.076.024.148.037.218.924.385 1.522 1.471 1.591 2.095v1.872c0 .766-3.351 3.795-8.002 3.795Zm0-1.485c2.28 0 4.584-1.11 5.002-1.433V7.862l-.023-.116c-.49.21-1.075.291-1.727.291-1.146 0-2.059-.327-2.71-.991A3.222 3.222 0 0 1 8 6.303a3.24 3.24 0 0 1-.544.743c-.65.664-1.563.991-2.71.991-.652 0-1.236-.081-1.727-.291l-.023.116v4.255c.419.323 2.722 1.433 5.002 1.433ZM6.762 2.83c-.193-.206-.637-.413-1.682-.297-1.019.113-1.479.404-1.713.7-.247.312-.369.789-.369 1.554 0 .793.129 1.171.308 1.371.162.181.519.379 1.442.379.853 0 1.339-.235 1.638-.54.315-.322.527-.827.617-1.553.117-.935-.037-1.395-.241-1.614Zm4.155-.297c-1.044-.116-1.488.091-1.681.297-.204.219-.359.679-.242 1.614.091.726.303 1.231.618 1.553.299.305.784.54 1.638.54.922 0 1.28-.198 1.442-.379.179-.2.308-.578.308-1.371 0-.765-.123-1.242-.37-1.554-.233-.296-.693-.587-1.713-.7Z"></path><path d="M6.25 9.037a.75.75 0 0 1 .75.75v1.501a.75.75 0 0 1-1.5 0V9.787a.75.75 0 0 1 .75-.75Zm4.25.75v1.501a.75.75 0 0 1-1.5 0V9.787a.75.75 0 0 1 1.5 0Z"></path>
</svg>
</template>

        <div class="position-relative">
                <ul
                  role="listbox"
                  class="ActionListWrap QueryBuilder-ListWrap"
                  aria-label="Suggestions"
                  data-action="
                    combobox-commit:query-builder#comboboxCommit
                    mousedown:query-builder#resultsMousedown
                  "
                  data-target="query-builder.resultsList"
                  data-persist-list=false
                  id="query-builder-test-results"
                ></ul>
        </div>
      <div class="FormControl-inlineValidation" id="validation-f8fdac68-59a1-4c64-96f6-9064b69f7dea" hidden="hidden">
        <span class="FormControl-inlineValidation--visual">
          <svg aria-hidden="true" height="12" viewBox="0 0 12 12" version="1.1" width="12" data-view-component="true" class="octicon octicon-alert-fill">
    <path d="M4.855.708c.5-.896 1.79-.896 2.29 0l4.675 8.351a1.312 1.312 0 0 1-1.146 1.954H1.33A1.313 1.313 0 0 1 .183 9.058ZM7 7V3H5v4Zm-1 3a1 1 0 1 0 0-2 1 1 0 0 0 0 2Z"></path>
</svg>
        </span>
        <span></span>
</div>    </div>
    <div data-target="query-builder.screenReaderFeedback" aria-live="polite" aria-atomic="true" class="sr-only"></div>
</query-builder></form>
          <div class="d-flex flex-row color-fg-muted px-3 text-small color-bg-default search-feedback-prompt">
            <a target="_blank" href="https://docs.github.com/en/search-github/github-code-search/understanding-github-code-search-syntax" data-view-component="true" class="Link color-fg-accent text-normal ml-2">
              Search syntax tips
</a>            <div class="d-flex flex-1"></div>
              <button data-action="click:qbsearch-input#showFeedbackDialog" type="button" data-view-component="true" class="Button--link Button--medium Button color-fg-accent text-normal ml-2">  <span class="Button-content">
    <span class="Button-label">Give feedback</span>
  </span>
</button>
          </div>
        </div>
</div>

    </div>
</modal-dialog></div>
  </div>
  <div data-action="click:qbsearch-input#retract" class="dark-backdrop position-fixed" hidden data-target="qbsearch-input.darkBackdrop"></div>
  <div class="color-fg-default">
    
<div class="Overlay--hidden Overlay-backdrop--center" data-modal-dialog-overlay>
  <modal-dialog data-target="qbsearch-input.feedbackDialog" data-action="close:qbsearch-input#handleDialogClose cancel:qbsearch-input#handleDialogClose" role="dialog" id="feedback-dialog" aria-modal="true" aria-disabled="true" aria-labelledby="feedback-dialog-title" aria-describedby="feedback-dialog-description" data-view-component="true" class="Overlay Overlay-whenNarrow Overlay--size-medium Overlay--motion-scaleFade">
    <div data-view-component="true" class="Overlay-header">
  <div class="Overlay-headerContentWrap">
    <div class="Overlay-titleWrap">
      <h1 class="Overlay-title " id="feedback-dialog-title">
        Provide feedback
      </h1>
    </div>
    <div class="Overlay-actionWrap">
      <button data-close-dialog-id="feedback-dialog" aria-label="Close" type="button" data-view-component="true" class="close-button Overlay-closeButton"><svg aria-hidden="true" height="16" viewBox="0 0 16 16" version="1.1" width="16" data-view-component="true" class="octicon octicon-x">
    <path d="M3.72 3.72a.75.75 0 0 1 1.06 0L8 6.94l3.22-3.22a.749.749 0 0 1 1.275.326.749.749 0 0 1-.215.734L9.06 8l3.22 3.22a.749.749 0 0 1-.326 1.275.749.749 0 0 1-.734-.215L8 9.06l-3.22 3.22a.751.751 0 0 1-1.042-.018.751.751 0 0 1-.018-1.042L6.94 8 3.72 4.78a.75.75 0 0 1 0-1.06Z"></path>
</svg></button>
    </div>
  </div>
</div>
      <scrollable-region data-labelled-by="feedback-dialog-title">
        <div data-view-component="true" class="Overlay-body">        <!-- '"` --><!-- </textarea></xmp> --></option></form><form id="code-search-feedback-form" data-turbo="false" action="/search/feedback" accept-charset="UTF-8" method="post"><input type="hidden" name="authenticity_token" value="3L5qmwWHw02zH6PuAs-x-KC-w9lN-HMs_qxH7Xfbdo2y77ilE9PHc4mKOlryUZhMjtjdDJMBgiU-MUMzgoJJ5A" />
          <p>We read every piece of feedback, and take your input very seriously.</p>
          <textarea name="feedback" class="form-control width-full mb-2" style="height: 120px" id="feedback"></textarea>
          <input name="include_email" id="include_email" aria-label="Include my email address so I can be contacted" class="form-control mr-2" type="checkbox">
          <label for="include_email" style="font-weight: normal">Include my email address so I can be contacted</label>
</form></div>
      </scrollable-region>
      <div data-view-component="true" class="Overlay-footer Overlay-footer--alignEnd">          <button data-close-dialog-id="feedback-dialog" type="button" data-view-component="true" class="btn">    Cancel
</button>
          <button form="code-search-feedback-form" data-action="click:qbsearch-input#submitFeedback" type="submit" data-view-component="true" class="btn-primary btn">    Submit feedback
</button>
</div>
</modal-dialog></div>

    <custom-scopes data-target="qbsearch-input.customScopesManager">
    
<div class="Overlay--hidden Overlay-backdrop--center" data-modal-dialog-overlay>
  <modal-dialog data-target="custom-scopes.customScopesModalDialog" data-action="close:qbsearch-input#handleDialogClose cancel:qbsearch-input#handleDialogClose" role="dialog" id="custom-scopes-dialog" aria-modal="true" aria-disabled="true" aria-labelledby="custom-scopes-dialog-title" aria-describedby="custom-scopes-dialog-description" data-view-component="true" class="Overlay Overlay-whenNarrow Overlay--size-medium Overlay--motion-scaleFade">
    <div data-view-component="true" class="Overlay-header Overlay-header--divided">
  <div class="Overlay-headerContentWrap">
    <div class="Overlay-titleWrap">
      <h1 class="Overlay-title " id="custom-scopes-dialog-title">
        Saved searches
      </h1>
        <h2 id="custom-scopes-dialog-description" class="Overlay-description">Use saved searches to filter your results more quickly</h2>
    </div>
    <div class="Overlay-actionWrap">
      <button data-close-dialog-id="custom-scopes-dialog" aria-label="Close" type="button" data-view-component="true" class="close-button Overlay-closeButton"><svg aria-hidden="true" height="16" viewBox="0 0 16 16" version="1.1" width="16" data-view-component="true" class="octicon octicon-x">
    <path d="M3.72 3.72a.75.75 0 0 1 1.06 0L8 6.94l3.22-3.22a.749.749 0 0 1 1.275.326.749.749 0 0 1-.215.734L9.06 8l3.22 3.22a.749.749 0 0 1-.326 1.275.749.749 0 0 1-.734-.215L8 9.06l-3.22 3.22a.751.751 0 0 1-1.042-.018.751.751 0 0 1-.018-1.042L6.94 8 3.72 4.78a.75.75 0 0 1 0-1.06Z"></path>
</svg></button>
    </div>
  </div>
</div>
      <scrollable-region data-labelled-by="custom-scopes-dialog-title">
        <div data-view-component="true" class="Overlay-body">        <div data-target="custom-scopes.customScopesModalDialogFlash"></div>

        <div hidden class="create-custom-scope-form" data-target="custom-scopes.createCustomScopeForm">
        <!-- '"` --><!-- </textarea></xmp> --></option></form><form id="custom-scopes-dialog-form" data-turbo="false" action="/search/custom_scopes" accept-charset="UTF-8" method="post"><input type="hidden" name="authenticity_token" value="ECXDPkckMFOQ-ZqqlFvZ9IHTwolnrv8H94ctTr3iK4aLsYpazThwX4x8o_CAw90P5piVZjcYtvblQ6IxDBEs1Q" />
          <div data-target="custom-scopes.customScopesModalDialogFlash"></div>

          <input type="hidden" id="custom_scope_id" name="custom_scope_id" data-target="custom-scopes.customScopesIdField">

          <div class="form-group">
            <label for="custom_scope_name">Name</label>
            <auto-check src="/search/custom_scopes/check_name" required>
              <input
                type="text"
                name="custom_scope_name"
                id="custom_scope_name"
                data-target="custom-scopes.customScopesNameField"
                class="form-control"
                autocomplete="off"
                placeholder="github-ruby"
                required
                maxlength="50">
              <input type="hidden" value="ekZiBa34EUw-bictUY3Rj31hZt0W5BXFNSfYxvfliNzgDqpLDmSNPX05xZHvE8wMYy5umU94cylVfDRfQlPCOQ" data-csrf="true" />
            </auto-check>
          </div>

          <div class="form-group">
            <label for="custom_scope_query">Query</label>
            <input
              type="text"
              name="custom_scope_query"
              id="custom_scope_query"
              data-target="custom-scopes.customScopesQueryField"
              class="form-control"
              autocomplete="off"
              placeholder="(repo:mona/a OR repo:mona/b) AND lang:python"
              required
              maxlength="500">
          </div>

          <p class="text-small color-fg-muted">
            To see all available qualifiers, see our <a class="Link--inTextBlock" href="https://docs.github.com/en/search-github/github-code-search/understanding-github-code-search-syntax">documentation</a>.
          </p>
</form>        </div>

        <div data-target="custom-scopes.manageCustomScopesForm">
          <div data-target="custom-scopes.list"></div>
        </div>

</div>
      </scrollable-region>
      <div data-view-component="true" class="Overlay-footer Overlay-footer--alignEnd Overlay-footer--divided">          <button data-action="click:custom-scopes#customScopesCancel" type="button" data-view-component="true" class="btn">    Cancel
</button>
          <button form="custom-scopes-dialog-form" data-action="click:custom-scopes#customScopesSubmit" data-target="custom-scopes.customScopesSubmitButton" type="submit" data-view-component="true" class="btn-primary btn">    Create saved search
</button>
</div>
</modal-dialog></div>
    </custom-scopes>
  </div>
</qbsearch-input><input type="hidden" value="GQuemXM8N9iZVAH1ERz82bYde1g4ZZeMp5FfHhx3Rum641f33ml-g3ql6HE94_oz6Ed4kLMNejjpfaHaaLffZQ" data-csrf="true" class="js-data-jump-to-suggestions-path-csrf" />

          </div>

        <div class="AppHeader-actions position-relative">
          <action-menu data-select-variant="none" data-view-component="true">
  <focus-group direction="vertical" mnemonics retain>
    <button id="global-create-menu-button" popovertarget="global-create-menu-overlay" aria-label="Create something new" aria-controls="global-create-menu-list" aria-haspopup="true" type="button" data-view-component="true" class="AppHeader-button Button--secondary Button--small Button width-auto color-fg-muted">  <span class="Button-content">
      <span class="Button-visual Button-leadingVisual">
        <svg aria-hidden="true" height="16" viewBox="0 0 16 16" version="1.1" width="16" data-view-component="true" class="octicon octicon-plus">
    <path d="M7.75 2a.75.75 0 0 1 .75.75V7h4.25a.75.75 0 0 1 0 1.5H8.5v4.25a.75.75 0 0 1-1.5 0V8.5H2.75a.75.75 0 0 1 0-1.5H7V2.75A.75.75 0 0 1 7.75 2Z"></path>
</svg>
      </span>
    <span class="Button-label"><svg aria-hidden="true" height="16" viewBox="0 0 16 16" version="1.1" width="16" data-view-component="true" class="octicon octicon-triangle-down">
    <path d="m4.427 7.427 3.396 3.396a.25.25 0 0 0 .354 0l3.396-3.396A.25.25 0 0 0 11.396 7H4.604a.25.25 0 0 0-.177.427Z"></path>
</svg></span>
  </span>
</button><tool-tip id="tooltip-20ccfa27-8871-430d-8545-fb7d53b6e89d" for="global-create-menu-button" popover="manual" data-direction="s" data-type="description" data-view-component="true" class="sr-only position-absolute">Create new...</tool-tip>


<anchored-position id="global-create-menu-overlay" anchor="global-create-menu-button" align="end" side="outside-bottom" anchor-offset="normal" popover="auto" data-view-component="true">
  <div data-view-component="true" class="Overlay Overlay--size-auto">
    
      <div data-view-component="true" class="Overlay-body Overlay-body--paddingNone">          <div data-view-component="true">
  <ul aria-labelledby="global-create-menu-button" id="global-create-menu-list" role="menu" data-view-component="true" class="ActionListWrap--inset ActionListWrap">
      <li data-analytics-event="{&quot;category&quot;:&quot;SiteHeaderComponent&quot;,&quot;action&quot;:&quot;add_dropdown&quot;,&quot;label&quot;:&quot;new repository&quot;}" data-targets="action-list.items action-list.items" role="none" data-view-component="true" class="ActionListItem">
    
    <a href="/new" tabindex="-1" id="item-9c94c6b1-667d-44d9-9fb5-dac8f0f5470b" role="menuitem" data-view-component="true" class="ActionListContent ActionListContent--visual16">
        <span class="ActionListItem-visual ActionListItem-visual--leading">
          <svg aria-hidden="true" height="16" viewBox="0 0 16 16" version="1.1" width="16" data-view-component="true" class="octicon octicon-repo">
    <path d="M2 2.5A2.5 2.5 0 0 1 4.5 0h8.75a.75.75 0 0 1 .75.75v12.5a.75.75 0 0 1-.75.75h-2.5a.75.75 0 0 1 0-1.5h1.75v-2h-8a1 1 0 0 0-.714 1.7.75.75 0 1 1-1.072 1.05A2.495 2.495 0 0 1 2 11.5Zm10.5-1h-8a1 1 0 0 0-1 1v6.708A2.486 2.486 0 0 1 4.5 9h8ZM5 12.25a.25.25 0 0 1 .25-.25h3.5a.25.25 0 0 1 .25.25v3.25a.25.25 0 0 1-.4.2l-1.45-1.087a.249.249 0 0 0-.3 0L5.4 15.7a.25.25 0 0 1-.4-.2Z"></path>
</svg>
        </span>
      
        <span data-view-component="true" class="ActionListItem-label">
              New repository

</span></a>
  
  
</li>
      <li data-analytics-event="{&quot;category&quot;:&quot;SiteHeaderComponent&quot;,&quot;action&quot;:&quot;add_dropdown&quot;,&quot;label&quot;:&quot;import repository&quot;}" data-targets="action-list.items action-list.items" role="none" data-view-component="true" class="ActionListItem">
    
    <a href="/new/import" tabindex="-1" id="item-52f6efc8-d1fa-4d8b-8528-bd03fb94d50c" role="menuitem" data-view-component="true" class="ActionListContent ActionListContent--visual16">
        <span class="ActionListItem-visual ActionListItem-visual--leading">
          <svg aria-hidden="true" height="16" viewBox="0 0 16 16" version="1.1" width="16" data-view-component="true" class="octicon octicon-repo-push">
    <path d="M1 2.5A2.5 2.5 0 0 1 3.5 0h8.75a.75.75 0 0 1 .75.75v3.5a.75.75 0 0 1-1.5 0V1.5h-8a1 1 0 0 0-1 1v6.708A2.493 2.493 0 0 1 3.5 9h3.25a.75.75 0 0 1 0 1.5H3.5a1 1 0 0 0 0 2h5.75a.75.75 0 0 1 0 1.5H3.5A2.5 2.5 0 0 1 1 11.5Zm13.23 7.79h-.001l-1.224-1.224v6.184a.75.75 0 0 1-1.5 0V9.066L10.28 10.29a.75.75 0 0 1-1.06-1.061l2.505-2.504a.75.75 0 0 1 1.06 0L15.29 9.23a.751.751 0 0 1-.018 1.042.751.751 0 0 1-1.042.018Z"></path>
</svg>
        </span>
      
        <span data-view-component="true" class="ActionListItem-label">
                Import repository

</span></a>
  
  
</li>
      <li role="presentation" aria-hidden="true" data-view-component="true" class="ActionList-sectionDivider"></li>
      <li data-analytics-event="{&quot;category&quot;:&quot;SiteHeaderComponent&quot;,&quot;action&quot;:&quot;add_dropdown&quot;,&quot;label&quot;:&quot;new codespace&quot;}" data-targets="action-list.items action-list.items" role="none" data-view-component="true" class="ActionListItem">
    
    <a href="/codespaces/new" tabindex="-1" id="item-d705ed1b-a076-4bdc-a973-d9e436c194d0" role="menuitem" data-view-component="true" class="ActionListContent ActionListContent--visual16">
        <span class="ActionListItem-visual ActionListItem-visual--leading">
          <svg aria-hidden="true" height="16" viewBox="0 0 16 16" version="1.1" width="16" data-view-component="true" class="octicon octicon-codespaces">
    <path d="M0 11.25c0-.966.784-1.75 1.75-1.75h12.5c.966 0 1.75.784 1.75 1.75v3A1.75 1.75 0 0 1 14.25 16H1.75A1.75 1.75 0 0 1 0 14.25Zm2-9.5C2 .784 2.784 0 3.75 0h8.5C13.216 0 14 .784 14 1.75v5a1.75 1.75 0 0 1-1.75 1.75h-8.5A1.75 1.75 0 0 1 2 6.75Zm1.75-.25a.25.25 0 0 0-.25.25v5c0 .138.112.25.25.25h8.5a.25.25 0 0 0 .25-.25v-5a.25.25 0 0 0-.25-.25Zm-2 9.5a.25.25 0 0 0-.25.25v3c0 .138.112.25.25.25h12.5a.25.25 0 0 0 .25-.25v-3a.25.25 0 0 0-.25-.25Z"></path><path d="M7 12.75a.75.75 0 0 1 .75-.75h4.5a.75.75 0 0 1 0 1.5h-4.5a.75.75 0 0 1-.75-.75Zm-4 0a.75.75 0 0 1 .75-.75h.5a.75.75 0 0 1 0 1.5h-.5a.75.75 0 0 1-.75-.75Z"></path>
</svg>
        </span>
      
        <span data-view-component="true" class="ActionListItem-label">
                New codespace

</span></a>
  
  
</li>
      <li data-analytics-event="{&quot;category&quot;:&quot;SiteHeaderComponent&quot;,&quot;action&quot;:&quot;add_dropdown&quot;,&quot;label&quot;:&quot;new gist&quot;}" data-targets="action-list.items action-list.items" role="none" data-view-component="true" class="ActionListItem">
    
    <a href="https://gist.github.com/" tabindex="-1" id="item-4d69a351-2bde-4f95-a8e6-3869eacdb1f0" role="menuitem" data-view-component="true" class="ActionListContent ActionListContent--visual16">
        <span class="ActionListItem-visual ActionListItem-visual--leading">
          <svg aria-hidden="true" height="16" viewBox="0 0 16 16" version="1.1" width="16" data-view-component="true" class="octicon octicon-code">
    <path d="m11.28 3.22 4.25 4.25a.75.75 0 0 1 0 1.06l-4.25 4.25a.749.749 0 0 1-1.275-.326.749.749 0 0 1 .215-.734L13.94 8l-3.72-3.72a.749.749 0 0 1 .326-1.275.749.749 0 0 1 .734.215Zm-6.56 0a.751.751 0 0 1 1.042.018.751.751 0 0 1 .018 1.042L2.06 8l3.72 3.72a.749.749 0 0 1-.326 1.275.749.749 0 0 1-.734-.215L.47 8.53a.75.75 0 0 1 0-1.06Z"></path>
</svg>
        </span>
      
        <span data-view-component="true" class="ActionListItem-label">
                New gist

</span></a>
  
  
</li>
      <li role="presentation" aria-hidden="true" data-view-component="true" class="ActionList-sectionDivider"></li>
      <li data-targets="action-list.items action-list.items" role="none" data-view-component="true" class="ActionListItem">
    
    <a href="/account/organizations/new" tabindex="-1" data-dont-follow-via-test="true" data-analytics-event="{&quot;category&quot;:&quot;SiteHeaderComponent&quot;,&quot;action&quot;:&quot;add_dropdown&quot;,&quot;label&quot;:&quot;new organization&quot;}" id="item-cc7d44f6-7e06-4029-b402-751d9a27a1ff" role="menuitem" data-view-component="true" class="ActionListContent ActionListContent--visual16">
        <span class="ActionListItem-visual ActionListItem-visual--leading">
          <svg aria-hidden="true" height="16" viewBox="0 0 16 16" version="1.1" width="16" data-view-component="true" class="octicon octicon-organization">
    <path d="M1.75 16A1.75 1.75 0 0 1 0 14.25V1.75C0 .784.784 0 1.75 0h8.5C11.216 0 12 .784 12 1.75v12.5c0 .085-.006.168-.018.25h2.268a.25.25 0 0 0 .25-.25V8.285a.25.25 0 0 0-.111-.208l-1.055-.703a.749.749 0 1 1 .832-1.248l1.055.703c.487.325.779.871.779 1.456v5.965A1.75 1.75 0 0 1 14.25 16h-3.5a.766.766 0 0 1-.197-.026c-.099.017-.2.026-.303.026h-3a.75.75 0 0 1-.75-.75V14h-1v1.25a.75.75 0 0 1-.75.75Zm-.25-1.75c0 .138.112.25.25.25H4v-1.25a.75.75 0 0 1 .75-.75h2.5a.75.75 0 0 1 .75.75v1.25h2.25a.25.25 0 0 0 .25-.25V1.75a.25.25 0 0 0-.25-.25h-8.5a.25.25 0 0 0-.25.25ZM3.75 6h.5a.75.75 0 0 1 0 1.5h-.5a.75.75 0 0 1 0-1.5ZM3 3.75A.75.75 0 0 1 3.75 3h.5a.75.75 0 0 1 0 1.5h-.5A.75.75 0 0 1 3 3.75Zm4 3A.75.75 0 0 1 7.75 6h.5a.75.75 0 0 1 0 1.5h-.5A.75.75 0 0 1 7 6.75ZM7.75 3h.5a.75.75 0 0 1 0 1.5h-.5a.75.75 0 0 1 0-1.5ZM3 9.75A.75.75 0 0 1 3.75 9h.5a.75.75 0 0 1 0 1.5h-.5A.75.75 0 0 1 3 9.75ZM7.75 9h.5a.75.75 0 0 1 0 1.5h-.5a.75.75 0 0 1 0-1.5Z"></path>
</svg>
        </span>
      
        <span data-view-component="true" class="ActionListItem-label">
                New organization

</span></a>
  
  
</li>
</ul>  
</div>

</div>
      
</div></anchored-position>  </focus-group>
</action-menu>


          <a href="/issues" data-analytics-event="{&quot;category&quot;:&quot;Global navigation&quot;,&quot;action&quot;:&quot;ISSUES_HEADER&quot;,&quot;label&quot;:null}" id="icon-button-6380462a-d3ee-4d89-a6e8-b8cc6d64ddde" aria-labelledby="tooltip-97e9a317-166e-4aa6-b2b2-6225e979c1f5" data-view-component="true" class="Button Button--iconOnly Button--secondary Button--medium AppHeader-button color-fg-muted">  <svg aria-hidden="true" height="16" viewBox="0 0 16 16" version="1.1" width="16" data-view-component="true" class="octicon octicon-issue-opened Button-visual">
    <path d="M8 9.5a1.5 1.5 0 1 0 0-3 1.5 1.5 0 0 0 0 3Z"></path><path d="M8 0a8 8 0 1 1 0 16A8 8 0 0 1 8 0ZM1.5 8a6.5 6.5 0 1 0 13 0 6.5 6.5 0 0 0-13 0Z"></path>
</svg>
</a><tool-tip id="tooltip-97e9a317-166e-4aa6-b2b2-6225e979c1f5" for="icon-button-6380462a-d3ee-4d89-a6e8-b8cc6d64ddde" popover="manual" data-direction="s" data-type="label" data-view-component="true" class="sr-only position-absolute">Issues</tool-tip>

          <a href="/pulls" data-analytics-event="{&quot;category&quot;:&quot;Global navigation&quot;,&quot;action&quot;:&quot;PULL_REQUESTS_HEADER&quot;,&quot;label&quot;:null}" id="icon-button-7557d3c6-7fa4-4e72-b4a4-a433e01256e7" aria-labelledby="tooltip-cacf9c89-af79-429b-8d12-950ddc740da0" data-view-component="true" class="Button Button--iconOnly Button--secondary Button--medium AppHeader-button color-fg-muted">  <svg aria-hidden="true" height="16" viewBox="0 0 16 16" version="1.1" width="16" data-view-component="true" class="octicon octicon-git-pull-request Button-visual">
    <path d="M1.5 3.25a2.25 2.25 0 1 1 3 2.122v5.256a2.251 2.251 0 1 1-1.5 0V5.372A2.25 2.25 0 0 1 1.5 3.25Zm5.677-.177L9.573.677A.25.25 0 0 1 10 .854V2.5h1A2.5 2.5 0 0 1 13.5 5v5.628a2.251 2.251 0 1 1-1.5 0V5a1 1 0 0 0-1-1h-1v1.646a.25.25 0 0 1-.427.177L7.177 3.427a.25.25 0 0 1 0-.354ZM3.75 2.5a.75.75 0 1 0 0 1.5.75.75 0 0 0 0-1.5Zm0 9.5a.75.75 0 1 0 0 1.5.75.75 0 0 0 0-1.5Zm8.25.75a.75.75 0 1 0 1.5 0 .75.75 0 0 0-1.5 0Z"></path>
</svg>
</a><tool-tip id="tooltip-cacf9c89-af79-429b-8d12-950ddc740da0" for="icon-button-7557d3c6-7fa4-4e72-b4a4-a433e01256e7" popover="manual" data-direction="s" data-type="label" data-view-component="true" class="sr-only position-absolute">Pull requests</tool-tip>

        </div>

        
<notification-indicator data-channel="eyJjIjoibm90aWZpY2F0aW9uLWNoYW5nZWQ6MTQ3NzU2MTYxIiwidCI6MTcwNDUzNDg0MX0=--0c8bf3f4a094bfb8c65a92da730ec3dafacce28bcc430ae2ef562f76f4a7a7a6" data-indicator-mode="none" data-tooltip-global="You have unread notifications" data-tooltip-unavailable="Notifications are unavailable at the moment." data-tooltip-none="You have no unread notifications" data-header-redesign-enabled="true" data-fetch-indicator-src="/notifications/indicator" data-fetch-indicator-enabled="true" data-view-component="true" class="js-socket-channel">
    <a id="AppHeader-notifications-button" href="/notifications" aria-label="Notifications" data-hotkey="g n" data-target="notification-indicator.link" data-analytics-event="{&quot;category&quot;:&quot;Global navigation&quot;,&quot;action&quot;:&quot;NOTIFICATIONS_HEADER&quot;,&quot;label&quot;:null}" data-view-component="true" class="Button Button--iconOnly Button--secondary Button--medium AppHeader-button  color-fg-muted">  <svg aria-hidden="true" height="16" viewBox="0 0 16 16" version="1.1" width="16" data-view-component="true" class="octicon octicon-inbox Button-visual">
    <path d="M2.8 2.06A1.75 1.75 0 0 1 4.41 1h7.18c.7 0 1.333.417 1.61 1.06l2.74 6.395c.04.093.06.194.06.295v4.5A1.75 1.75 0 0 1 14.25 15H1.75A1.75 1.75 0 0 1 0 13.25v-4.5c0-.101.02-.202.06-.295Zm1.61.44a.25.25 0 0 0-.23.152L1.887 8H4.75a.75.75 0 0 1 .6.3L6.625 10h2.75l1.275-1.7a.75.75 0 0 1 .6-.3h2.863L11.82 2.652a.25.25 0 0 0-.23-.152Zm10.09 7h-2.875l-1.275 1.7a.75.75 0 0 1-.6.3h-3.5a.75.75 0 0 1-.6-.3L4.375 9.5H1.5v3.75c0 .138.112.25.25.25h12.5a.25.25 0 0 0 .25-.25Z"></path>
</svg>
</a>

    <tool-tip data-target="notification-indicator.tooltip" id="tooltip-630e697f-340d-49b0-8e12-26c9fcaea64f" for="AppHeader-notifications-button" popover="manual" data-direction="s" data-type="description" data-view-component="true" class="sr-only position-absolute">Notifications</tool-tip>
</notification-indicator>

        

        <div class="AppHeader-user">
          <deferred-side-panel data-url="/_side-panels/user?repository_id=139457613">
  <include-fragment data-target="deferred-side-panel.fragment">
      <user-drawer-side-panel>
    <button aria-label="Open user account menu" data-action="click:deferred-side-panel#loadPanel click:deferred-side-panel#panelOpened" data-show-dialog-id="dialog-bd79f892-fd06-4a20-9019-c8a921ed0ffd" id="dialog-show-dialog-bd79f892-fd06-4a20-9019-c8a921ed0ffd" type="button" data-view-component="true" class="AppHeader-logo Button--invisible Button--medium Button Button--invisible-noVisuals color-bg-transparent p-0">  <span class="Button-content">
    <span class="Button-label"><img src="https://avatars.githubusercontent.com/u/147756161?v=4" alt="" size="32" height="32" width="32" data-view-component="true" class="avatar circle" /></span>
  </span>
</button>

<div class="Overlay--hidden Overlay-backdrop--side Overlay-backdrop--placement-right" data-modal-dialog-overlay>
  <modal-dialog data-target="deferred-side-panel.panel" role="dialog" id="dialog-bd79f892-fd06-4a20-9019-c8a921ed0ffd" aria-modal="true" aria-disabled="true" aria-labelledby="dialog-bd79f892-fd06-4a20-9019-c8a921ed0ffd-title" aria-describedby="dialog-bd79f892-fd06-4a20-9019-c8a921ed0ffd-description" data-view-component="true" class="Overlay Overlay-whenNarrow Overlay--size-small-portrait Overlay--motion-scaleFade SidePanel">
    <div styles="flex-direction: row;" data-view-component="true" class="Overlay-header">
  <div class="Overlay-headerContentWrap">
    <div class="Overlay-titleWrap">
      <h1 class="Overlay-title sr-only" id="dialog-bd79f892-fd06-4a20-9019-c8a921ed0ffd-title">
        Account menu
      </h1>
            <div data-view-component="true" class="d-flex">
      <div data-view-component="true" class="AppHeader-logo position-relative">
        <img src="https://avatars.githubusercontent.com/u/147756161?v=4" alt="" size="32" height="32" width="32" data-view-component="true" class="avatar circle" />
</div>        <div data-view-component="true" class="overflow-hidden d-flex width-full">        <div data-view-component="true" class="lh-condensed overflow-hidden d-flex flex-column flex-justify-center ml-2 f5 mr-auto width-full">
          <span data-view-component="true" class="Truncate text-bold">
    <span data-view-component="true" class="Truncate-text">
            arjunk3x
</span>
</span>          </div>
        <action-menu data-select-variant="none" data-view-component="true" class="d-sm-none d-md-none d-lg-none">
  <focus-group direction="vertical" mnemonics retain>
    <button id="user-create-menu-button" popovertarget="user-create-menu-overlay" aria-label="Create something new" aria-controls="user-create-menu-list" aria-haspopup="true" type="button" data-view-component="true" class="AppHeader-button Button--secondary Button--small Button width-auto color-fg-muted">  <span class="Button-content">
      <span class="Button-visual Button-leadingVisual">
        <svg aria-hidden="true" height="16" viewBox="0 0 16 16" version="1.1" width="16" data-view-component="true" class="octicon octicon-plus">
    <path d="M7.75 2a.75.75 0 0 1 .75.75V7h4.25a.75.75 0 0 1 0 1.5H8.5v4.25a.75.75 0 0 1-1.5 0V8.5H2.75a.75.75 0 0 1 0-1.5H7V2.75A.75.75 0 0 1 7.75 2Z"></path>
</svg>
      </span>
    <span class="Button-label"><svg aria-hidden="true" height="16" viewBox="0 0 16 16" version="1.1" width="16" data-view-component="true" class="octicon octicon-triangle-down">
    <path d="m4.427 7.427 3.396 3.396a.25.25 0 0 0 .354 0l3.396-3.396A.25.25 0 0 0 11.396 7H4.604a.25.25 0 0 0-.177.427Z"></path>
</svg></span>
  </span>
</button><tool-tip id="tooltip-66f938d2-1ae2-464d-9add-306d70b4740a" for="user-create-menu-button" popover="manual" data-direction="s" data-type="description" data-view-component="true" class="sr-only position-absolute">Create new...</tool-tip>


<anchored-position id="user-create-menu-overlay" anchor="user-create-menu-button" align="end" side="outside-bottom" anchor-offset="normal" popover="auto" data-view-component="true">
  <div data-view-component="true" class="Overlay Overlay--size-auto">
    
      <div data-view-component="true" class="Overlay-body Overlay-body--paddingNone">          <div data-view-component="true">
  <ul aria-labelledby="user-create-menu-button" id="user-create-menu-list" role="menu" data-view-component="true" class="ActionListWrap--inset ActionListWrap">
      <li data-analytics-event="{&quot;category&quot;:&quot;SiteHeaderComponent&quot;,&quot;action&quot;:&quot;add_dropdown&quot;,&quot;label&quot;:&quot;new repository&quot;}" data-targets="action-list.items action-list.items" role="none" data-view-component="true" class="ActionListItem">
    
    <a href="/new" tabindex="-1" id="item-9754c91a-d1f4-495e-ab8a-4487032686ef" role="menuitem" data-view-component="true" class="ActionListContent ActionListContent--visual16">
        <span class="ActionListItem-visual ActionListItem-visual--leading">
          <svg aria-hidden="true" height="16" viewBox="0 0 16 16" version="1.1" width="16" data-view-component="true" class="octicon octicon-repo">
    <path d="M2 2.5A2.5 2.5 0 0 1 4.5 0h8.75a.75.75 0 0 1 .75.75v12.5a.75.75 0 0 1-.75.75h-2.5a.75.75 0 0 1 0-1.5h1.75v-2h-8a1 1 0 0 0-.714 1.7.75.75 0 1 1-1.072 1.05A2.495 2.495 0 0 1 2 11.5Zm10.5-1h-8a1 1 0 0 0-1 1v6.708A2.486 2.486 0 0 1 4.5 9h8ZM5 12.25a.25.25 0 0 1 .25-.25h3.5a.25.25 0 0 1 .25.25v3.25a.25.25 0 0 1-.4.2l-1.45-1.087a.249.249 0 0 0-.3 0L5.4 15.7a.25.25 0 0 1-.4-.2Z"></path>
</svg>
        </span>
      
        <span data-view-component="true" class="ActionListItem-label">
              New repository

</span></a>
  
  
</li>
      <li data-analytics-event="{&quot;category&quot;:&quot;SiteHeaderComponent&quot;,&quot;action&quot;:&quot;add_dropdown&quot;,&quot;label&quot;:&quot;import repository&quot;}" data-targets="action-list.items action-list.items" role="none" data-view-component="true" class="ActionListItem">
    
    <a href="/new/import" tabindex="-1" id="item-98d99c54-4d1e-43d6-bc88-f935407b8170" role="menuitem" data-view-component="true" class="ActionListContent ActionListContent--visual16">
        <span class="ActionListItem-visual ActionListItem-visual--leading">
          <svg aria-hidden="true" height="16" viewBox="0 0 16 16" version="1.1" width="16" data-view-component="true" class="octicon octicon-repo-push">
    <path d="M1 2.5A2.5 2.5 0 0 1 3.5 0h8.75a.75.75 0 0 1 .75.75v3.5a.75.75 0 0 1-1.5 0V1.5h-8a1 1 0 0 0-1 1v6.708A2.493 2.493 0 0 1 3.5 9h3.25a.75.75 0 0 1 0 1.5H3.5a1 1 0 0 0 0 2h5.75a.75.75 0 0 1 0 1.5H3.5A2.5 2.5 0 0 1 1 11.5Zm13.23 7.79h-.001l-1.224-1.224v6.184a.75.75 0 0 1-1.5 0V9.066L10.28 10.29a.75.75 0 0 1-1.06-1.061l2.505-2.504a.75.75 0 0 1 1.06 0L15.29 9.23a.751.751 0 0 1-.018 1.042.751.751 0 0 1-1.042.018Z"></path>
</svg>
        </span>
      
        <span data-view-component="true" class="ActionListItem-label">
                Import repository

</span></a>
  
  
</li>
      <li role="presentation" aria-hidden="true" data-view-component="true" class="ActionList-sectionDivider"></li>
      <li data-analytics-event="{&quot;category&quot;:&quot;SiteHeaderComponent&quot;,&quot;action&quot;:&quot;add_dropdown&quot;,&quot;label&quot;:&quot;new codespace&quot;}" data-targets="action-list.items action-list.items" role="none" data-view-component="true" class="ActionListItem">
    
    <a href="/codespaces/new" tabindex="-1" id="item-f593d854-e7f4-44ea-a062-a6dd2a1434b7" role="menuitem" data-view-component="true" class="ActionListContent ActionListContent--visual16">
        <span class="ActionListItem-visual ActionListItem-visual--leading">
          <svg aria-hidden="true" height="16" viewBox="0 0 16 16" version="1.1" width="16" data-view-component="true" class="octicon octicon-codespaces">
    <path d="M0 11.25c0-.966.784-1.75 1.75-1.75h12.5c.966 0 1.75.784 1.75 1.75v3A1.75 1.75 0 0 1 14.25 16H1.75A1.75 1.75 0 0 1 0 14.25Zm2-9.5C2 .784 2.784 0 3.75 0h8.5C13.216 0 14 .784 14 1.75v5a1.75 1.75 0 0 1-1.75 1.75h-8.5A1.75 1.75 0 0 1 2 6.75Zm1.75-.25a.25.25 0 0 0-.25.25v5c0 .138.112.25.25.25h8.5a.25.25 0 0 0 .25-.25v-5a.25.25 0 0 0-.25-.25Zm-2 9.5a.25.25 0 0 0-.25.25v3c0 .138.112.25.25.25h12.5a.25.25 0 0 0 .25-.25v-3a.25.25 0 0 0-.25-.25Z"></path><path d="M7 12.75a.75.75 0 0 1 .75-.75h4.5a.75.75 0 0 1 0 1.5h-4.5a.75.75 0 0 1-.75-.75Zm-4 0a.75.75 0 0 1 .75-.75h.5a.75.75 0 0 1 0 1.5h-.5a.75.75 0 0 1-.75-.75Z"></path>
</svg>
        </span>
      
        <span data-view-component="true" class="ActionListItem-label">
                New codespace

</span></a>
  
  
</li>
      <li data-analytics-event="{&quot;category&quot;:&quot;SiteHeaderComponent&quot;,&quot;action&quot;:&quot;add_dropdown&quot;,&quot;label&quot;:&quot;new gist&quot;}" data-targets="action-list.items action-list.items" role="none" data-view-component="true" class="ActionListItem">
    
    <a href="https://gist.github.com/" tabindex="-1" id="item-f60b9fbf-5197-44bf-89c2-9b8adce0e812" role="menuitem" data-view-component="true" class="ActionListContent ActionListContent--visual16">
        <span class="ActionListItem-visual ActionListItem-visual--leading">
          <svg aria-hidden="true" height="16" viewBox="0 0 16 16" version="1.1" width="16" data-view-component="true" class="octicon octicon-code">
    <path d="m11.28 3.22 4.25 4.25a.75.75 0 0 1 0 1.06l-4.25 4.25a.749.749 0 0 1-1.275-.326.749.749 0 0 1 .215-.734L13.94 8l-3.72-3.72a.749.749 0 0 1 .326-1.275.749.749 0 0 1 .734.215Zm-6.56 0a.751.751 0 0 1 1.042.018.751.751 0 0 1 .018 1.042L2.06 8l3.72 3.72a.749.749 0 0 1-.326 1.275.749.749 0 0 1-.734-.215L.47 8.53a.75.75 0 0 1 0-1.06Z"></path>
</svg>
        </span>
      
        <span data-view-component="true" class="ActionListItem-label">
                New gist

</span></a>
  
  
</li>
      <li role="presentation" aria-hidden="true" data-view-component="true" class="ActionList-sectionDivider"></li>
      <li data-targets="action-list.items action-list.items" role="none" data-view-component="true" class="ActionListItem">
    
    <a href="/account/organizations/new" tabindex="-1" data-dont-follow-via-test="true" data-analytics-event="{&quot;category&quot;:&quot;SiteHeaderComponent&quot;,&quot;action&quot;:&quot;add_dropdown&quot;,&quot;label&quot;:&quot;new organization&quot;}" id="item-c660e929-0feb-46e3-bbd6-06fe30cfaf39" role="menuitem" data-view-component="true" class="ActionListContent ActionListContent--visual16">
        <span class="ActionListItem-visual ActionListItem-visual--leading">
          <svg aria-hidden="true" height="16" viewBox="0 0 16 16" version="1.1" width="16" data-view-component="true" class="octicon octicon-organization">
    <path d="M1.75 16A1.75 1.75 0 0 1 0 14.25V1.75C0 .784.784 0 1.75 0h8.5C11.216 0 12 .784 12 1.75v12.5c0 .085-.006.168-.018.25h2.268a.25.25 0 0 0 .25-.25V8.285a.25.25 0 0 0-.111-.208l-1.055-.703a.749.749 0 1 1 .832-1.248l1.055.703c.487.325.779.871.779 1.456v5.965A1.75 1.75 0 0 1 14.25 16h-3.5a.766.766 0 0 1-.197-.026c-.099.017-.2.026-.303.026h-3a.75.75 0 0 1-.75-.75V14h-1v1.25a.75.75 0 0 1-.75.75Zm-.25-1.75c0 .138.112.25.25.25H4v-1.25a.75.75 0 0 1 .75-.75h2.5a.75.75 0 0 1 .75.75v1.25h2.25a.25.25 0 0 0 .25-.25V1.75a.25.25 0 0 0-.25-.25h-8.5a.25.25 0 0 0-.25.25ZM3.75 6h.5a.75.75 0 0 1 0 1.5h-.5a.75.75 0 0 1 0-1.5ZM3 3.75A.75.75 0 0 1 3.75 3h.5a.75.75 0 0 1 0 1.5h-.5A.75.75 0 0 1 3 3.75Zm4 3A.75.75 0 0 1 7.75 6h.5a.75.75 0 0 1 0 1.5h-.5A.75.75 0 0 1 7 6.75ZM7.75 3h.5a.75.75 0 0 1 0 1.5h-.5a.75.75 0 0 1 0-1.5ZM3 9.75A.75.75 0 0 1 3.75 9h.5a.75.75 0 0 1 0 1.5h-.5A.75.75 0 0 1 3 9.75ZM7.75 9h.5a.75.75 0 0 1 0 1.5h-.5a.75.75 0 0 1 0-1.5Z"></path>
</svg>
        </span>
      
        <span data-view-component="true" class="ActionListItem-label">
                New organization

</span></a>
  
  
</li>
</ul>  
</div>

</div>
      
</div></anchored-position>  </focus-group>
</action-menu>

</div>
</div>
    </div>
    <div class="Overlay-actionWrap">
      <button data-close-dialog-id="dialog-bd79f892-fd06-4a20-9019-c8a921ed0ffd" aria-label="Close" type="button" data-view-component="true" class="close-button Overlay-closeButton"><svg aria-hidden="true" height="16" viewBox="0 0 16 16" version="1.1" width="16" data-view-component="true" class="octicon octicon-x">
    <path d="M3.72 3.72a.75.75 0 0 1 1.06 0L8 6.94l3.22-3.22a.749.749 0 0 1 1.275.326.749.749 0 0 1-.215.734L9.06 8l3.22 3.22a.749.749 0 0 1-.326 1.275.749.749 0 0 1-.734-.215L8 9.06l-3.22 3.22a.751.751 0 0 1-1.042-.018.751.751 0 0 1-.018-1.042L6.94 8 3.72 4.78a.75.75 0 0 1 0-1.06Z"></path>
</svg></button>
    </div>
  </div>
</div>
      <scrollable-region data-labelled-by="dialog-bd79f892-fd06-4a20-9019-c8a921ed0ffd-title">
        <div data-view-component="true" class="Overlay-body d-flex flex-column px-2">    <div data-view-component="true" class="d-flex flex-column mb-3">
        <nav aria-label="User navigation" data-view-component="true" class="ActionList">
  
  <nav-list>
    <ul data-view-component="true" class="ActionListWrap">
        
          
<li data-targets="nav-list.items nav-list.items" data-item-id="" data-view-component="true" class="ActionListItem">
    
    <button id="item-909bd94d-2a5d-49fa-8e09-6463205bdd4b" type="button" data-view-component="true" class="ActionListContent ActionListContent--visual16">
        <span class="ActionListItem-visual ActionListItem-visual--leading">
          <span data-view-component="true" class="d-flex flex-items-center">    <svg style="box-sizing: content-box; color: var(--color-icon-primary);" width="16" height="16" viewBox="0 0 16 16" fill="none" data-view-component="true" class="anim-rotate">
  <circle cx="8" cy="8" r="7" stroke="currentColor" stroke-opacity="0.25" stroke-width="2" vector-effect="non-scaling-stroke" fill="none" />
  <path d="M15 8a7.002 7.002 0 00-7-7" stroke="currentColor" stroke-width="2" stroke-linecap="round" vector-effect="non-scaling-stroke" />
</svg>
</span>
        </span>
      
        <span data-view-component="true" class="ActionListItem-label">
          

  <span class="color-fg-muted">
    Loading...
  </span>

</span></button>
  
  
</li>

        
          <li role="presentation" aria-hidden="true" data-view-component="true" class="ActionList-sectionDivider"></li>
        
          
<li data-targets="nav-list.items nav-list.items" data-item-id="" data-view-component="true" class="ActionListItem">
    
    <a data-analytics-event="{&quot;category&quot;:&quot;Global navigation&quot;,&quot;action&quot;:&quot;PROFILE&quot;,&quot;label&quot;:null}" id="item-5052c608-1405-4189-8ca0-83b0a87b3674" href="https://github.com/arjunk3x" data-view-component="true" class="ActionListContent ActionListContent--visual16">
        <span class="ActionListItem-visual ActionListItem-visual--leading">
          <svg aria-hidden="true" height="16" viewBox="0 0 16 16" version="1.1" width="16" data-view-component="true" class="octicon octicon-person">
    <path d="M10.561 8.073a6.005 6.005 0 0 1 3.432 5.142.75.75 0 1 1-1.498.07 4.5 4.5 0 0 0-8.99 0 .75.75 0 0 1-1.498-.07 6.004 6.004 0 0 1 3.431-5.142 3.999 3.999 0 1 1 5.123 0ZM10.5 5a2.5 2.5 0 1 0-5 0 2.5 2.5 0 0 0 5 0Z"></path>
</svg>
        </span>
      
        <span data-view-component="true" class="ActionListItem-label">
          Your profile
</span></a>
  
  
</li>

        
          
<li data-targets="nav-list.items nav-list.items" data-item-id="" data-view-component="true" class="ActionListItem">
    
    <button id="item-894e9b88-b88d-4adb-845f-668067415328" type="button" data-view-component="true" class="ActionListContent ActionListContent--visual16">
        <span class="ActionListItem-visual ActionListItem-visual--leading">
          <span data-view-component="true" class="d-flex flex-items-center">    <svg style="box-sizing: content-box; color: var(--color-icon-primary);" width="16" height="16" viewBox="0 0 16 16" fill="none" data-view-component="true" class="anim-rotate">
  <circle cx="8" cy="8" r="7" stroke="currentColor" stroke-opacity="0.25" stroke-width="2" vector-effect="non-scaling-stroke" fill="none" />
  <path d="M15 8a7.002 7.002 0 00-7-7" stroke="currentColor" stroke-width="2" stroke-linecap="round" vector-effect="non-scaling-stroke" />
</svg>
</span>
        </span>
      
        <span data-view-component="true" class="ActionListItem-label">
          

  <span class="color-fg-muted">
    Loading...
  </span>

</span></button>
  
  
</li>

        
          <li role="presentation" aria-hidden="true" data-view-component="true" class="ActionList-sectionDivider"></li>
        
          
<li data-targets="nav-list.items nav-list.items" data-item-id="" data-view-component="true" class="ActionListItem">
    
    <a data-analytics-event="{&quot;category&quot;:&quot;Global navigation&quot;,&quot;action&quot;:&quot;YOUR_REPOSITORIES&quot;,&quot;label&quot;:null}" id="item-96f0e0de-b4d0-437b-9bf7-c56e79563099" href="/arjunk3x?tab=repositories" data-view-component="true" class="ActionListContent ActionListContent--visual16">
        <span class="ActionListItem-visual ActionListItem-visual--leading">
          <svg aria-hidden="true" height="16" viewBox="0 0 16 16" version="1.1" width="16" data-view-component="true" class="octicon octicon-repo">
    <path d="M2 2.5A2.5 2.5 0 0 1 4.5 0h8.75a.75.75 0 0 1 .75.75v12.5a.75.75 0 0 1-.75.75h-2.5a.75.75 0 0 1 0-1.5h1.75v-2h-8a1 1 0 0 0-.714 1.7.75.75 0 1 1-1.072 1.05A2.495 2.495 0 0 1 2 11.5Zm10.5-1h-8a1 1 0 0 0-1 1v6.708A2.486 2.486 0 0 1 4.5 9h8ZM5 12.25a.25.25 0 0 1 .25-.25h3.5a.25.25 0 0 1 .25.25v3.25a.25.25 0 0 1-.4.2l-1.45-1.087a.249.249 0 0 0-.3 0L5.4 15.7a.25.25 0 0 1-.4-.2Z"></path>
</svg>
        </span>
      
        <span data-view-component="true" class="ActionListItem-label">
          Your repositories
</span></a>
  
  
</li>

        
          
<li data-targets="nav-list.items nav-list.items" data-item-id="" data-view-component="true" class="ActionListItem">
    
    <a data-analytics-event="{&quot;category&quot;:&quot;Global navigation&quot;,&quot;action&quot;:&quot;YOUR_PROJECTS&quot;,&quot;label&quot;:null}" id="item-81a3beee-1091-432e-ace0-05accae1a128" href="/arjunk3x?tab=projects" data-view-component="true" class="ActionListContent ActionListContent--visual16">
        <span class="ActionListItem-visual ActionListItem-visual--leading">
          <svg aria-hidden="true" height="16" viewBox="0 0 16 16" version="1.1" width="16" data-view-component="true" class="octicon octicon-project">
    <path d="M1.75 0h12.5C15.216 0 16 .784 16 1.75v12.5A1.75 1.75 0 0 1 14.25 16H1.75A1.75 1.75 0 0 1 0 14.25V1.75C0 .784.784 0 1.75 0ZM1.5 1.75v12.5c0 .138.112.25.25.25h12.5a.25.25 0 0 0 .25-.25V1.75a.25.25 0 0 0-.25-.25H1.75a.25.25 0 0 0-.25.25ZM11.75 3a.75.75 0 0 1 .75.75v7.5a.75.75 0 0 1-1.5 0v-7.5a.75.75 0 0 1 .75-.75Zm-8.25.75a.75.75 0 0 1 1.5 0v5.5a.75.75 0 0 1-1.5 0ZM8 3a.75.75 0 0 1 .75.75v3.5a.75.75 0 0 1-1.5 0v-3.5A.75.75 0 0 1 8 3Z"></path>
</svg>
        </span>
      
        <span data-view-component="true" class="ActionListItem-label">
          Your projects
</span></a>
  
  
</li>

        
          
<li data-targets="nav-list.items nav-list.items" data-item-id="" data-view-component="true" class="ActionListItem">
    
    <button id="item-7f2da5f5-96ce-42e4-a59c-53784b0e6aef" type="button" data-view-component="true" class="ActionListContent ActionListContent--visual16">
        <span class="ActionListItem-visual ActionListItem-visual--leading">
          <span data-view-component="true" class="d-flex flex-items-center">    <svg style="box-sizing: content-box; color: var(--color-icon-primary);" width="16" height="16" viewBox="0 0 16 16" fill="none" data-view-component="true" class="anim-rotate">
  <circle cx="8" cy="8" r="7" stroke="currentColor" stroke-opacity="0.25" stroke-width="2" vector-effect="non-scaling-stroke" fill="none" />
  <path d="M15 8a7.002 7.002 0 00-7-7" stroke="currentColor" stroke-width="2" stroke-linecap="round" vector-effect="non-scaling-stroke" />
</svg>
</span>
        </span>
      
        <span data-view-component="true" class="ActionListItem-label">
          

  <span class="color-fg-muted">
    Loading...
  </span>

</span></button>
  
  
</li>

        
          
<li data-targets="nav-list.items nav-list.items" data-item-id="" data-view-component="true" class="ActionListItem">
    
    <a data-analytics-event="{&quot;category&quot;:&quot;Global navigation&quot;,&quot;action&quot;:&quot;YOUR_STARS&quot;,&quot;label&quot;:null}" id="item-803b881c-af96-44ee-9bb5-63ca08db1e4a" href="/arjunk3x?tab=stars" data-view-component="true" class="ActionListContent ActionListContent--visual16">
        <span class="ActionListItem-visual ActionListItem-visual--leading">
          <svg aria-hidden="true" height="16" viewBox="0 0 16 16" version="1.1" width="16" data-view-component="true" class="octicon octicon-star">
    <path d="M8 .25a.75.75 0 0 1 .673.418l1.882 3.815 4.21.612a.75.75 0 0 1 .416 1.279l-3.046 2.97.719 4.192a.751.751 0 0 1-1.088.791L8 12.347l-3.766 1.98a.75.75 0 0 1-1.088-.79l.72-4.194L.818 6.374a.75.75 0 0 1 .416-1.28l4.21-.611L7.327.668A.75.75 0 0 1 8 .25Zm0 2.445L6.615 5.5a.75.75 0 0 1-.564.41l-3.097.45 2.24 2.184a.75.75 0 0 1 .216.664l-.528 3.084 2.769-1.456a.75.75 0 0 1 .698 0l2.77 1.456-.53-3.084a.75.75 0 0 1 .216-.664l2.24-2.183-3.096-.45a.75.75 0 0 1-.564-.41L8 2.694Z"></path>
</svg>
        </span>
      
        <span data-view-component="true" class="ActionListItem-label">
          Your stars
</span></a>
  
  
</li>

        
          
<li data-targets="nav-list.items nav-list.items" data-item-id="" data-view-component="true" class="ActionListItem">
    
    <a data-analytics-event="{&quot;category&quot;:&quot;Global navigation&quot;,&quot;action&quot;:&quot;SPONSORS&quot;,&quot;label&quot;:null}" id="item-61fb222f-e4d0-483f-903d-171030ac95e6" href="/sponsors/accounts" data-view-component="true" class="ActionListContent ActionListContent--visual16">
        <span class="ActionListItem-visual ActionListItem-visual--leading">
          <svg aria-hidden="true" height="16" viewBox="0 0 16 16" version="1.1" width="16" data-view-component="true" class="octicon octicon-heart">
    <path d="m8 14.25.345.666a.75.75 0 0 1-.69 0l-.008-.004-.018-.01a7.152 7.152 0 0 1-.31-.17 22.055 22.055 0 0 1-3.434-2.414C2.045 10.731 0 8.35 0 5.5 0 2.836 2.086 1 4.25 1 5.797 1 7.153 1.802 8 3.02 8.847 1.802 10.203 1 11.75 1 13.914 1 16 2.836 16 5.5c0 2.85-2.045 5.231-3.885 6.818a22.066 22.066 0 0 1-3.744 2.584l-.018.01-.006.003h-.002ZM4.25 2.5c-1.336 0-2.75 1.164-2.75 3 0 2.15 1.58 4.144 3.365 5.682A20.58 20.58 0 0 0 8 13.393a20.58 20.58 0 0 0 3.135-2.211C12.92 9.644 14.5 7.65 14.5 5.5c0-1.836-1.414-3-2.75-3-1.373 0-2.609.986-3.029 2.456a.749.749 0 0 1-1.442 0C6.859 3.486 5.623 2.5 4.25 2.5Z"></path>
</svg>
        </span>
      
        <span data-view-component="true" class="ActionListItem-label">
          Your sponsors
</span></a>
  
  
</li>

        
          
<li data-targets="nav-list.items nav-list.items" data-item-id="" data-view-component="true" class="ActionListItem">
    
    <a data-analytics-event="{&quot;category&quot;:&quot;Global navigation&quot;,&quot;action&quot;:&quot;YOUR_GISTS&quot;,&quot;label&quot;:null}" id="item-971d4818-68af-4d71-b351-bf688bd3936a" href="https://gist.github.com/mine" data-view-component="true" class="ActionListContent ActionListContent--visual16">
        <span class="ActionListItem-visual ActionListItem-visual--leading">
          <svg aria-hidden="true" height="16" viewBox="0 0 16 16" version="1.1" width="16" data-view-component="true" class="octicon octicon-code-square">
    <path d="M0 1.75C0 .784.784 0 1.75 0h12.5C15.216 0 16 .784 16 1.75v12.5A1.75 1.75 0 0 1 14.25 16H1.75A1.75 1.75 0 0 1 0 14.25Zm1.75-.25a.25.25 0 0 0-.25.25v12.5c0 .138.112.25.25.25h12.5a.25.25 0 0 0 .25-.25V1.75a.25.25 0 0 0-.25-.25Zm7.47 3.97a.75.75 0 0 1 1.06 0l2 2a.75.75 0 0 1 0 1.06l-2 2a.749.749 0 0 1-1.275-.326.749.749 0 0 1 .215-.734L10.69 8 9.22 6.53a.75.75 0 0 1 0-1.06ZM6.78 6.53 5.31 8l1.47 1.47a.749.749 0 0 1-.326 1.275.749.749 0 0 1-.734-.215l-2-2a.75.75 0 0 1 0-1.06l2-2a.751.751 0 0 1 1.042.018.751.751 0 0 1 .018 1.042Z"></path>
</svg>
        </span>
      
        <span data-view-component="true" class="ActionListItem-label">
          Your gists
</span></a>
  
  
</li>

        
          <li role="presentation" aria-hidden="true" data-view-component="true" class="ActionList-sectionDivider"></li>
        
          
<li data-targets="nav-list.items nav-list.items" data-item-id="" data-view-component="true" class="ActionListItem">
    
    <button id="item-14d24f1b-1f13-4522-93a0-e2ef0e9534e5" type="button" data-view-component="true" class="ActionListContent ActionListContent--visual16">
        <span class="ActionListItem-visual ActionListItem-visual--leading">
          <span data-view-component="true" class="d-flex flex-items-center">    <svg style="box-sizing: content-box; color: var(--color-icon-primary);" width="16" height="16" viewBox="0 0 16 16" fill="none" data-view-component="true" class="anim-rotate">
  <circle cx="8" cy="8" r="7" stroke="currentColor" stroke-opacity="0.25" stroke-width="2" vector-effect="non-scaling-stroke" fill="none" />
  <path d="M15 8a7.002 7.002 0 00-7-7" stroke="currentColor" stroke-width="2" stroke-linecap="round" vector-effect="non-scaling-stroke" />
</svg>
</span>
        </span>
      
        <span data-view-component="true" class="ActionListItem-label">
          

  <span class="color-fg-muted">
    Loading...
  </span>

</span></button>
  
  
</li>

        
          
<li data-targets="nav-list.items nav-list.items" data-item-id="" data-view-component="true" class="ActionListItem">
    
    <button id="item-cdc8512f-590e-4c6d-af53-d2ade5d43ef4" type="button" data-view-component="true" class="ActionListContent ActionListContent--visual16">
        <span class="ActionListItem-visual ActionListItem-visual--leading">
          <span data-view-component="true" class="d-flex flex-items-center">    <svg style="box-sizing: content-box; color: var(--color-icon-primary);" width="16" height="16" viewBox="0 0 16 16" fill="none" data-view-component="true" class="anim-rotate">
  <circle cx="8" cy="8" r="7" stroke="currentColor" stroke-opacity="0.25" stroke-width="2" vector-effect="non-scaling-stroke" fill="none" />
  <path d="M15 8a7.002 7.002 0 00-7-7" stroke="currentColor" stroke-width="2" stroke-linecap="round" vector-effect="non-scaling-stroke" />
</svg>
</span>
        </span>
      
        <span data-view-component="true" class="ActionListItem-label">
          

  <span class="color-fg-muted">
    Loading...
  </span>

</span></button>
  
  
</li>

        
          
<li data-targets="nav-list.items nav-list.items" data-item-id="" data-view-component="true" class="ActionListItem">
    
    <button id="item-eb3089c7-84b3-46ac-a509-c0db4f0e5c6e" type="button" data-view-component="true" class="ActionListContent ActionListContent--visual16">
        <span class="ActionListItem-visual ActionListItem-visual--leading">
          <span data-view-component="true" class="d-flex flex-items-center">    <svg style="box-sizing: content-box; color: var(--color-icon-primary);" width="16" height="16" viewBox="0 0 16 16" fill="none" data-view-component="true" class="anim-rotate">
  <circle cx="8" cy="8" r="7" stroke="currentColor" stroke-opacity="0.25" stroke-width="2" vector-effect="non-scaling-stroke" fill="none" />
  <path d="M15 8a7.002 7.002 0 00-7-7" stroke="currentColor" stroke-width="2" stroke-linecap="round" vector-effect="non-scaling-stroke" />
</svg>
</span>
        </span>
      
        <span data-view-component="true" class="ActionListItem-label">
          

  <span class="color-fg-muted">
    Loading...
  </span>

</span></button>
  
  
</li>

        
          
<li data-targets="nav-list.items nav-list.items" data-item-id="" data-view-component="true" class="ActionListItem">
    
    <a data-analytics-event="{&quot;category&quot;:&quot;Global navigation&quot;,&quot;action&quot;:&quot;SETTINGS&quot;,&quot;label&quot;:null}" id="item-6c744928-cab4-49dc-9b4c-899629fa20ab" href="/settings/profile" data-view-component="true" class="ActionListContent ActionListContent--visual16">
        <span class="ActionListItem-visual ActionListItem-visual--leading">
          <svg aria-hidden="true" height="16" viewBox="0 0 16 16" version="1.1" width="16" data-view-component="true" class="octicon octicon-gear">
    <path d="M8 0a8.2 8.2 0 0 1 .701.031C9.444.095 9.99.645 10.16 1.29l.288 1.107c.018.066.079.158.212.224.231.114.454.243.668.386.123.082.233.09.299.071l1.103-.303c.644-.176 1.392.021 1.82.63.27.385.506.792.704 1.218.315.675.111 1.422-.364 1.891l-.814.806c-.049.048-.098.147-.088.294.016.257.016.515 0 .772-.01.147.038.246.088.294l.814.806c.475.469.679 1.216.364 1.891a7.977 7.977 0 0 1-.704 1.217c-.428.61-1.176.807-1.82.63l-1.102-.302c-.067-.019-.177-.011-.3.071a5.909 5.909 0 0 1-.668.386c-.133.066-.194.158-.211.224l-.29 1.106c-.168.646-.715 1.196-1.458 1.26a8.006 8.006 0 0 1-1.402 0c-.743-.064-1.289-.614-1.458-1.26l-.289-1.106c-.018-.066-.079-.158-.212-.224a5.738 5.738 0 0 1-.668-.386c-.123-.082-.233-.09-.299-.071l-1.103.303c-.644.176-1.392-.021-1.82-.63a8.12 8.12 0 0 1-.704-1.218c-.315-.675-.111-1.422.363-1.891l.815-.806c.05-.048.098-.147.088-.294a6.214 6.214 0 0 1 0-.772c.01-.147-.038-.246-.088-.294l-.815-.806C.635 6.045.431 5.298.746 4.623a7.92 7.92 0 0 1 .704-1.217c.428-.61 1.176-.807 1.82-.63l1.102.302c.067.019.177.011.3-.071.214-.143.437-.272.668-.386.133-.066.194-.158.211-.224l.29-1.106C6.009.645 6.556.095 7.299.03 7.53.01 7.764 0 8 0Zm-.571 1.525c-.036.003-.108.036-.137.146l-.289 1.105c-.147.561-.549.967-.998 1.189-.173.086-.34.183-.5.29-.417.278-.97.423-1.529.27l-1.103-.303c-.109-.03-.175.016-.195.045-.22.312-.412.644-.573.99-.014.031-.021.11.059.19l.815.806c.411.406.562.957.53 1.456a4.709 4.709 0 0 0 0 .582c.032.499-.119 1.05-.53 1.456l-.815.806c-.081.08-.073.159-.059.19.162.346.353.677.573.989.02.03.085.076.195.046l1.102-.303c.56-.153 1.113-.008 1.53.27.161.107.328.204.501.29.447.222.85.629.997 1.189l.289 1.105c.029.109.101.143.137.146a6.6 6.6 0 0 0 1.142 0c.036-.003.108-.036.137-.146l.289-1.105c.147-.561.549-.967.998-1.189.173-.086.34-.183.5-.29.417-.278.97-.423 1.529-.27l1.103.303c.109.029.175-.016.195-.045.22-.313.411-.644.573-.99.014-.031.021-.11-.059-.19l-.815-.806c-.411-.406-.562-.957-.53-1.456a4.709 4.709 0 0 0 0-.582c-.032-.499.119-1.05.53-1.456l.815-.806c.081-.08.073-.159.059-.19a6.464 6.464 0 0 0-.573-.989c-.02-.03-.085-.076-.195-.046l-1.102.303c-.56.153-1.113.008-1.53-.27a4.44 4.44 0 0 0-.501-.29c-.447-.222-.85-.629-.997-1.189l-.289-1.105c-.029-.11-.101-.143-.137-.146a6.6 6.6 0 0 0-1.142 0ZM11 8a3 3 0 1 1-6 0 3 3 0 0 1 6 0ZM9.5 8a1.5 1.5 0 1 0-3.001.001A1.5 1.5 0 0 0 9.5 8Z"></path>
</svg>
        </span>
      
        <span data-view-component="true" class="ActionListItem-label">
          Settings
</span></a>
  
  
</li>

        
          <li role="presentation" aria-hidden="true" data-view-component="true" class="ActionList-sectionDivider"></li>
        
          
<li data-targets="nav-list.items nav-list.items" data-item-id="" data-view-component="true" class="ActionListItem">
    
    <a data-analytics-event="{&quot;category&quot;:&quot;Global navigation&quot;,&quot;action&quot;:&quot;DOCS&quot;,&quot;label&quot;:null}" id="item-34b19114-6744-4109-8098-94911690a18f" href="https://docs.github.com" data-view-component="true" class="ActionListContent ActionListContent--visual16">
        <span class="ActionListItem-visual ActionListItem-visual--leading">
          <svg aria-hidden="true" height="16" viewBox="0 0 16 16" version="1.1" width="16" data-view-component="true" class="octicon octicon-book">
    <path d="M0 1.75A.75.75 0 0 1 .75 1h4.253c1.227 0 2.317.59 3 1.501A3.743 3.743 0 0 1 11.006 1h4.245a.75.75 0 0 1 .75.75v10.5a.75.75 0 0 1-.75.75h-4.507a2.25 2.25 0 0 0-1.591.659l-.622.621a.75.75 0 0 1-1.06 0l-.622-.621A2.25 2.25 0 0 0 5.258 13H.75a.75.75 0 0 1-.75-.75Zm7.251 10.324.004-5.073-.002-2.253A2.25 2.25 0 0 0 5.003 2.5H1.5v9h3.757a3.75 3.75 0 0 1 1.994.574ZM8.755 4.75l-.004 7.322a3.752 3.752 0 0 1 1.992-.572H14.5v-9h-3.495a2.25 2.25 0 0 0-2.25 2.25Z"></path>
</svg>
        </span>
      
        <span data-view-component="true" class="ActionListItem-label">
          GitHub Docs
</span></a>
  
  
</li>

        
          
<li data-targets="nav-list.items nav-list.items" data-item-id="" data-view-component="true" class="ActionListItem">
    
    <a data-analytics-event="{&quot;category&quot;:&quot;Global navigation&quot;,&quot;action&quot;:&quot;SUPPORT&quot;,&quot;label&quot;:null}" id="item-e948a305-7b0b-4070-b284-64abe540156c" href="https://support.github.com" data-view-component="true" class="ActionListContent ActionListContent--visual16">
        <span class="ActionListItem-visual ActionListItem-visual--leading">
          <svg aria-hidden="true" height="16" viewBox="0 0 16 16" version="1.1" width="16" data-view-component="true" class="octicon octicon-people">
    <path d="M2 5.5a3.5 3.5 0 1 1 5.898 2.549 5.508 5.508 0 0 1 3.034 4.084.75.75 0 1 1-1.482.235 4 4 0 0 0-7.9 0 .75.75 0 0 1-1.482-.236A5.507 5.507 0 0 1 3.102 8.05 3.493 3.493 0 0 1 2 5.5ZM11 4a3.001 3.001 0 0 1 2.22 5.018 5.01 5.01 0 0 1 2.56 3.012.749.749 0 0 1-.885.954.752.752 0 0 1-.549-.514 3.507 3.507 0 0 0-2.522-2.372.75.75 0 0 1-.574-.73v-.352a.75.75 0 0 1 .416-.672A1.5 1.5 0 0 0 11 5.5.75.75 0 0 1 11 4Zm-5.5-.5a2 2 0 1 0-.001 3.999A2 2 0 0 0 5.5 3.5Z"></path>
</svg>
        </span>
      
        <span data-view-component="true" class="ActionListItem-label">
          GitHub Support
</span></a>
  
  
</li>

        
          <li role="presentation" aria-hidden="true" data-view-component="true" class="ActionList-sectionDivider"></li>
        
          
<li data-targets="nav-list.items nav-list.items" data-item-id="" data-view-component="true" class="ActionListItem">
    
    <a data-analytics-event="{&quot;category&quot;:&quot;Global navigation&quot;,&quot;action&quot;:&quot;LOGOUT&quot;,&quot;label&quot;:null}" id="item-046adcaa-19c8-43d9-af7c-ac846480b4c6" href="/logout" data-view-component="true" class="ActionListContent">
      
        <span data-view-component="true" class="ActionListItem-label">
          Sign out
</span></a>
  
  
</li>

</ul>  </nav-list>
</nav>


</div>
</div>
      </scrollable-region>
      
</modal-dialog></div>
  </user-drawer-side-panel>

  </include-fragment>
</deferred-side-panel>
          
        </div>

        <div class="position-absolute mt-2">
            
<site-header-logged-in-user-menu>

</site-header-logged-in-user-menu>

        </div>
      </div>
    </div>


      <div class="AppHeader-localBar" >
        <nav data-pjax="#js-repo-pjax-container" aria-label="Repository" data-view-component="true" class="js-repo-nav js-sidenav-container-pjax js-responsive-underlinenav overflow-hidden UnderlineNav">

  <ul data-view-component="true" class="UnderlineNav-body list-style-none">
      <li data-view-component="true" class="d-inline-flex">
  <a id="code-tab" href="/krishnaik06/Principle-Component-Analysis" data-tab-item="i0code-tab" data-selected-links="repo_source repo_downloads repo_commits repo_releases repo_tags repo_branches repo_packages repo_deployments repo_attestations /krishnaik06/Principle-Component-Analysis" data-pjax="#repo-content-pjax-container" data-turbo-frame="repo-content-turbo-frame" data-hotkey="g c" data-analytics-event="{&quot;category&quot;:&quot;Underline navbar&quot;,&quot;action&quot;:&quot;Click tab&quot;,&quot;label&quot;:&quot;Code&quot;,&quot;target&quot;:&quot;UNDERLINE_NAV.TAB&quot;}" data-view-component="true" class="UnderlineNav-item no-wrap js-responsive-underlinenav-item js-selected-navigation-item">
    
              <svg aria-hidden="true" height="16" viewBox="0 0 16 16" version="1.1" width="16" data-view-component="true" class="octicon octicon-code UnderlineNav-octicon d-none d-sm-inline">
    <path d="m11.28 3.22 4.25 4.25a.75.75 0 0 1 0 1.06l-4.25 4.25a.749.749 0 0 1-1.275-.326.749.749 0 0 1 .215-.734L13.94 8l-3.72-3.72a.749.749 0 0 1 .326-1.275.749.749 0 0 1 .734.215Zm-6.56 0a.751.751 0 0 1 1.042.018.751.751 0 0 1 .018 1.042L2.06 8l3.72 3.72a.749.749 0 0 1-.326 1.275.749.749 0 0 1-.734-.215L.47 8.53a.75.75 0 0 1 0-1.06Z"></path>
</svg>
        <span data-content="Code">Code</span>
          <span id="code-repo-tab-count" data-pjax-replace="" data-turbo-replace="" title="Not available" data-view-component="true" class="Counter"></span>


    
</a></li>
      <li data-view-component="true" class="d-inline-flex">
  <a id="issues-tab" href="/krishnaik06/Principle-Component-Analysis/issues" data-tab-item="i1issues-tab" data-selected-links="repo_issues repo_labels repo_milestones /krishnaik06/Principle-Component-Analysis/issues" data-pjax="#repo-content-pjax-container" data-turbo-frame="repo-content-turbo-frame" data-hotkey="g i" data-analytics-event="{&quot;category&quot;:&quot;Underline navbar&quot;,&quot;action&quot;:&quot;Click tab&quot;,&quot;label&quot;:&quot;Issues&quot;,&quot;target&quot;:&quot;UNDERLINE_NAV.TAB&quot;}" data-view-component="true" class="UnderlineNav-item no-wrap js-responsive-underlinenav-item js-selected-navigation-item">
    
              <svg aria-hidden="true" height="16" viewBox="0 0 16 16" version="1.1" width="16" data-view-component="true" class="octicon octicon-issue-opened UnderlineNav-octicon d-none d-sm-inline">
    <path d="M8 9.5a1.5 1.5 0 1 0 0-3 1.5 1.5 0 0 0 0 3Z"></path><path d="M8 0a8 8 0 1 1 0 16A8 8 0 0 1 8 0ZM1.5 8a6.5 6.5 0 1 0 13 0 6.5 6.5 0 0 0-13 0Z"></path>
</svg>
        <span data-content="Issues">Issues</span>
          <span id="issues-repo-tab-count" data-pjax-replace="" data-turbo-replace="" title="0" hidden="hidden" data-view-component="true" class="Counter">0</span>


    
</a></li>
      <li data-view-component="true" class="d-inline-flex">
  <a id="pull-requests-tab" href="/krishnaik06/Principle-Component-Analysis/pulls" data-tab-item="i2pull-requests-tab" data-selected-links="repo_pulls checks /krishnaik06/Principle-Component-Analysis/pulls" data-pjax="#repo-content-pjax-container" data-turbo-frame="repo-content-turbo-frame" data-hotkey="g p" data-analytics-event="{&quot;category&quot;:&quot;Underline navbar&quot;,&quot;action&quot;:&quot;Click tab&quot;,&quot;label&quot;:&quot;Pull requests&quot;,&quot;target&quot;:&quot;UNDERLINE_NAV.TAB&quot;}" data-view-component="true" class="UnderlineNav-item no-wrap js-responsive-underlinenav-item js-selected-navigation-item">
    
              <svg aria-hidden="true" height="16" viewBox="0 0 16 16" version="1.1" width="16" data-view-component="true" class="octicon octicon-git-pull-request UnderlineNav-octicon d-none d-sm-inline">
    <path d="M1.5 3.25a2.25 2.25 0 1 1 3 2.122v5.256a2.251 2.251 0 1 1-1.5 0V5.372A2.25 2.25 0 0 1 1.5 3.25Zm5.677-.177L9.573.677A.25.25 0 0 1 10 .854V2.5h1A2.5 2.5 0 0 1 13.5 5v5.628a2.251 2.251 0 1 1-1.5 0V5a1 1 0 0 0-1-1h-1v1.646a.25.25 0 0 1-.427.177L7.177 3.427a.25.25 0 0 1 0-.354ZM3.75 2.5a.75.75 0 1 0 0 1.5.75.75 0 0 0 0-1.5Zm0 9.5a.75.75 0 1 0 0 1.5.75.75 0 0 0 0-1.5Zm8.25.75a.75.75 0 1 0 1.5 0 .75.75 0 0 0-1.5 0Z"></path>
</svg>
        <span data-content="Pull requests">Pull requests</span>
          <span id="pull-requests-repo-tab-count" data-pjax-replace="" data-turbo-replace="" title="0" hidden="hidden" data-view-component="true" class="Counter">0</span>


    
</a></li>
      <li data-view-component="true" class="d-inline-flex">
  <a id="actions-tab" href="/krishnaik06/Principle-Component-Analysis/actions" data-tab-item="i3actions-tab" data-selected-links="repo_actions /krishnaik06/Principle-Component-Analysis/actions" data-pjax="#repo-content-pjax-container" data-turbo-frame="repo-content-turbo-frame" data-hotkey="g a" data-analytics-event="{&quot;category&quot;:&quot;Underline navbar&quot;,&quot;action&quot;:&quot;Click tab&quot;,&quot;label&quot;:&quot;Actions&quot;,&quot;target&quot;:&quot;UNDERLINE_NAV.TAB&quot;}" data-view-component="true" class="UnderlineNav-item no-wrap js-responsive-underlinenav-item js-selected-navigation-item">
    
              <svg aria-hidden="true" height="16" viewBox="0 0 16 16" version="1.1" width="16" data-view-component="true" class="octicon octicon-play UnderlineNav-octicon d-none d-sm-inline">
    <path d="M8 0a8 8 0 1 1 0 16A8 8 0 0 1 8 0ZM1.5 8a6.5 6.5 0 1 0 13 0 6.5 6.5 0 0 0-13 0Zm4.879-2.773 4.264 2.559a.25.25 0 0 1 0 .428l-4.264 2.559A.25.25 0 0 1 6 10.559V5.442a.25.25 0 0 1 .379-.215Z"></path>
</svg>
        <span data-content="Actions">Actions</span>
          <span id="actions-repo-tab-count" data-pjax-replace="" data-turbo-replace="" title="Not available" data-view-component="true" class="Counter"></span>


    
</a></li>
      <li data-view-component="true" class="d-inline-flex">
  <a id="projects-tab" href="/krishnaik06/Principle-Component-Analysis/projects" data-tab-item="i4projects-tab" data-selected-links="repo_projects new_repo_project repo_project /krishnaik06/Principle-Component-Analysis/projects" data-pjax="#repo-content-pjax-container" data-turbo-frame="repo-content-turbo-frame" data-hotkey="g b" data-analytics-event="{&quot;category&quot;:&quot;Underline navbar&quot;,&quot;action&quot;:&quot;Click tab&quot;,&quot;label&quot;:&quot;Projects&quot;,&quot;target&quot;:&quot;UNDERLINE_NAV.TAB&quot;}" data-view-component="true" class="UnderlineNav-item no-wrap js-responsive-underlinenav-item js-selected-navigation-item">
    
              <svg aria-hidden="true" height="16" viewBox="0 0 16 16" version="1.1" width="16" data-view-component="true" class="octicon octicon-table UnderlineNav-octicon d-none d-sm-inline">
    <path d="M0 1.75C0 .784.784 0 1.75 0h12.5C15.216 0 16 .784 16 1.75v12.5A1.75 1.75 0 0 1 14.25 16H1.75A1.75 1.75 0 0 1 0 14.25ZM6.5 6.5v8h7.75a.25.25 0 0 0 .25-.25V6.5Zm8-1.5V1.75a.25.25 0 0 0-.25-.25H6.5V5Zm-13 1.5v7.75c0 .138.112.25.25.25H5v-8ZM5 5V1.5H1.75a.25.25 0 0 0-.25.25V5Z"></path>
</svg>
        <span data-content="Projects">Projects</span>
          <span id="projects-repo-tab-count" data-pjax-replace="" data-turbo-replace="" title="0" hidden="hidden" data-view-component="true" class="Counter">0</span>


    
</a></li>
      <li data-view-component="true" class="d-inline-flex">
  <a id="security-tab" href="/krishnaik06/Principle-Component-Analysis/security" data-tab-item="i5security-tab" data-selected-links="security overview alerts policy token_scanning code_scanning /krishnaik06/Principle-Component-Analysis/security" data-pjax="#repo-content-pjax-container" data-turbo-frame="repo-content-turbo-frame" data-hotkey="g s" data-analytics-event="{&quot;category&quot;:&quot;Underline navbar&quot;,&quot;action&quot;:&quot;Click tab&quot;,&quot;label&quot;:&quot;Security&quot;,&quot;target&quot;:&quot;UNDERLINE_NAV.TAB&quot;}" data-view-component="true" class="UnderlineNav-item no-wrap js-responsive-underlinenav-item js-selected-navigation-item">
    
              <svg aria-hidden="true" height="16" viewBox="0 0 16 16" version="1.1" width="16" data-view-component="true" class="octicon octicon-shield UnderlineNav-octicon d-none d-sm-inline">
    <path d="M7.467.133a1.748 1.748 0 0 1 1.066 0l5.25 1.68A1.75 1.75 0 0 1 15 3.48V7c0 1.566-.32 3.182-1.303 4.682-.983 1.498-2.585 2.813-5.032 3.855a1.697 1.697 0 0 1-1.33 0c-2.447-1.042-4.049-2.357-5.032-3.855C1.32 10.182 1 8.566 1 7V3.48a1.75 1.75 0 0 1 1.217-1.667Zm.61 1.429a.25.25 0 0 0-.153 0l-5.25 1.68a.25.25 0 0 0-.174.238V7c0 1.358.275 2.666 1.057 3.86.784 1.194 2.121 2.34 4.366 3.297a.196.196 0 0 0 .154 0c2.245-.956 3.582-2.104 4.366-3.298C13.225 9.666 13.5 8.36 13.5 7V3.48a.251.251 0 0 0-.174-.237l-5.25-1.68ZM8.75 4.75v3a.75.75 0 0 1-1.5 0v-3a.75.75 0 0 1 1.5 0ZM9 10.5a1 1 0 1 1-2 0 1 1 0 0 1 2 0Z"></path>
</svg>
        <span data-content="Security">Security</span>
          <include-fragment src="/krishnaik06/Principle-Component-Analysis/security/overall-count" accept="text/fragment+html"></include-fragment>

    
</a></li>
      <li data-view-component="true" class="d-inline-flex">
  <a id="insights-tab" href="/krishnaik06/Principle-Component-Analysis/pulse" data-tab-item="i6insights-tab" data-selected-links="repo_graphs repo_contributors dependency_graph dependabot_updates pulse people community /krishnaik06/Principle-Component-Analysis/pulse" data-pjax="#repo-content-pjax-container" data-turbo-frame="repo-content-turbo-frame" data-analytics-event="{&quot;category&quot;:&quot;Underline navbar&quot;,&quot;action&quot;:&quot;Click tab&quot;,&quot;label&quot;:&quot;Insights&quot;,&quot;target&quot;:&quot;UNDERLINE_NAV.TAB&quot;}" data-view-component="true" class="UnderlineNav-item no-wrap js-responsive-underlinenav-item js-selected-navigation-item">
    
              <svg aria-hidden="true" height="16" viewBox="0 0 16 16" version="1.1" width="16" data-view-component="true" class="octicon octicon-graph UnderlineNav-octicon d-none d-sm-inline">
    <path d="M1.5 1.75V13.5h13.75a.75.75 0 0 1 0 1.5H.75a.75.75 0 0 1-.75-.75V1.75a.75.75 0 0 1 1.5 0Zm14.28 2.53-5.25 5.25a.75.75 0 0 1-1.06 0L7 7.06 4.28 9.78a.751.751 0 0 1-1.042-.018.751.751 0 0 1-.018-1.042l3.25-3.25a.75.75 0 0 1 1.06 0L10 7.94l4.72-4.72a.751.751 0 0 1 1.042.018.751.751 0 0 1 .018 1.042Z"></path>
</svg>
        <span data-content="Insights">Insights</span>
          <span id="insights-repo-tab-count" data-pjax-replace="" data-turbo-replace="" title="Not available" data-view-component="true" class="Counter"></span>


    
</a></li>
</ul>
    <div style="visibility:hidden;" data-view-component="true" class="UnderlineNav-actions js-responsive-underlinenav-overflow position-absolute pr-3 pr-md-4 pr-lg-5 right-0">      <action-menu data-select-variant="none" data-view-component="true">
  <focus-group direction="vertical" mnemonics retain>
    <button id="action-menu-85a02272-0e57-42d1-a3de-c39111f8fda7-button" popovertarget="action-menu-85a02272-0e57-42d1-a3de-c39111f8fda7-overlay" aria-controls="action-menu-85a02272-0e57-42d1-a3de-c39111f8fda7-list" aria-haspopup="true" aria-labelledby="tooltip-fb459b17-6587-48bf-9efd-0a2d45d76dcd" type="button" data-view-component="true" class="Button Button--iconOnly Button--secondary Button--medium UnderlineNav-item">  <svg aria-hidden="true" height="16" viewBox="0 0 16 16" version="1.1" width="16" data-view-component="true" class="octicon octicon-kebab-horizontal Button-visual">
    <path d="M8 9a1.5 1.5 0 1 0 0-3 1.5 1.5 0 0 0 0 3ZM1.5 9a1.5 1.5 0 1 0 0-3 1.5 1.5 0 0 0 0 3Zm13 0a1.5 1.5 0 1 0 0-3 1.5 1.5 0 0 0 0 3Z"></path>
</svg>
</button><tool-tip id="tooltip-fb459b17-6587-48bf-9efd-0a2d45d76dcd" for="action-menu-85a02272-0e57-42d1-a3de-c39111f8fda7-button" popover="manual" data-direction="s" data-type="label" data-view-component="true" class="sr-only position-absolute">Additional navigation options</tool-tip>


<anchored-position id="action-menu-85a02272-0e57-42d1-a3de-c39111f8fda7-overlay" anchor="action-menu-85a02272-0e57-42d1-a3de-c39111f8fda7-button" align="start" side="outside-bottom" anchor-offset="normal" popover="auto" data-view-component="true">
  <div data-view-component="true" class="Overlay Overlay--size-auto">
    
      <div data-view-component="true" class="Overlay-body Overlay-body--paddingNone">          <div data-view-component="true">
  <ul aria-labelledby="action-menu-85a02272-0e57-42d1-a3de-c39111f8fda7-button" id="action-menu-85a02272-0e57-42d1-a3de-c39111f8fda7-list" role="menu" data-view-component="true" class="ActionListWrap--inset ActionListWrap">
      <li hidden="hidden" data-menu-item="i0code-tab" data-targets="action-list.items action-list.items" role="none" data-view-component="true" class="ActionListItem">
    
    <a tabindex="-1" id="item-60c5eac4-f656-4117-837d-1a7846000a0e" href="/krishnaik06/Principle-Component-Analysis" role="menuitem" data-view-component="true" class="ActionListContent ActionListContent--visual16">
        <span class="ActionListItem-visual ActionListItem-visual--leading">
          <svg aria-hidden="true" height="16" viewBox="0 0 16 16" version="1.1" width="16" data-view-component="true" class="octicon octicon-code">
    <path d="m11.28 3.22 4.25 4.25a.75.75 0 0 1 0 1.06l-4.25 4.25a.749.749 0 0 1-1.275-.326.749.749 0 0 1 .215-.734L13.94 8l-3.72-3.72a.749.749 0 0 1 .326-1.275.749.749 0 0 1 .734.215Zm-6.56 0a.751.751 0 0 1 1.042.018.751.751 0 0 1 .018 1.042L2.06 8l3.72 3.72a.749.749 0 0 1-.326 1.275.749.749 0 0 1-.734-.215L.47 8.53a.75.75 0 0 1 0-1.06Z"></path>
</svg>
        </span>
      
        <span data-view-component="true" class="ActionListItem-label">
          Code
</span></a>
  
  
</li>
      <li hidden="hidden" data-menu-item="i1issues-tab" data-targets="action-list.items action-list.items" role="none" data-view-component="true" class="ActionListItem">
    
    <a tabindex="-1" id="item-12fbfd70-2b56-41ef-9bf6-444ae92e7a9a" href="/krishnaik06/Principle-Component-Analysis/issues" role="menuitem" data-view-component="true" class="ActionListContent ActionListContent--visual16">
        <span class="ActionListItem-visual ActionListItem-visual--leading">
          <svg aria-hidden="true" height="16" viewBox="0 0 16 16" version="1.1" width="16" data-view-component="true" class="octicon octicon-issue-opened">
    <path d="M8 9.5a1.5 1.5 0 1 0 0-3 1.5 1.5 0 0 0 0 3Z"></path><path d="M8 0a8 8 0 1 1 0 16A8 8 0 0 1 8 0ZM1.5 8a6.5 6.5 0 1 0 13 0 6.5 6.5 0 0 0-13 0Z"></path>
</svg>
        </span>
      
        <span data-view-component="true" class="ActionListItem-label">
          Issues
</span></a>
  
  
</li>
      <li hidden="hidden" data-menu-item="i2pull-requests-tab" data-targets="action-list.items action-list.items" role="none" data-view-component="true" class="ActionListItem">
    
    <a tabindex="-1" id="item-4f9b2bdf-5ee2-475a-8d4a-2f1cff385afa" href="/krishnaik06/Principle-Component-Analysis/pulls" role="menuitem" data-view-component="true" class="ActionListContent ActionListContent--visual16">
        <span class="ActionListItem-visual ActionListItem-visual--leading">
          <svg aria-hidden="true" height="16" viewBox="0 0 16 16" version="1.1" width="16" data-view-component="true" class="octicon octicon-git-pull-request">
    <path d="M1.5 3.25a2.25 2.25 0 1 1 3 2.122v5.256a2.251 2.251 0 1 1-1.5 0V5.372A2.25 2.25 0 0 1 1.5 3.25Zm5.677-.177L9.573.677A.25.25 0 0 1 10 .854V2.5h1A2.5 2.5 0 0 1 13.5 5v5.628a2.251 2.251 0 1 1-1.5 0V5a1 1 0 0 0-1-1h-1v1.646a.25.25 0 0 1-.427.177L7.177 3.427a.25.25 0 0 1 0-.354ZM3.75 2.5a.75.75 0 1 0 0 1.5.75.75 0 0 0 0-1.5Zm0 9.5a.75.75 0 1 0 0 1.5.75.75 0 0 0 0-1.5Zm8.25.75a.75.75 0 1 0 1.5 0 .75.75 0 0 0-1.5 0Z"></path>
</svg>
        </span>
      
        <span data-view-component="true" class="ActionListItem-label">
          Pull requests
</span></a>
  
  
</li>
      <li hidden="hidden" data-menu-item="i3actions-tab" data-targets="action-list.items action-list.items" role="none" data-view-component="true" class="ActionListItem">
    
    <a tabindex="-1" id="item-cb18fdb0-2725-4e49-80a6-8ef6f93d3a04" href="/krishnaik06/Principle-Component-Analysis/actions" role="menuitem" data-view-component="true" class="ActionListContent ActionListContent--visual16">
        <span class="ActionListItem-visual ActionListItem-visual--leading">
          <svg aria-hidden="true" height="16" viewBox="0 0 16 16" version="1.1" width="16" data-view-component="true" class="octicon octicon-play">
    <path d="M8 0a8 8 0 1 1 0 16A8 8 0 0 1 8 0ZM1.5 8a6.5 6.5 0 1 0 13 0 6.5 6.5 0 0 0-13 0Zm4.879-2.773 4.264 2.559a.25.25 0 0 1 0 .428l-4.264 2.559A.25.25 0 0 1 6 10.559V5.442a.25.25 0 0 1 .379-.215Z"></path>
</svg>
        </span>
      
        <span data-view-component="true" class="ActionListItem-label">
          Actions
</span></a>
  
  
</li>
      <li hidden="hidden" data-menu-item="i4projects-tab" data-targets="action-list.items action-list.items" role="none" data-view-component="true" class="ActionListItem">
    
    <a tabindex="-1" id="item-c806b1b3-4678-4e6d-884b-2af10cc0d025" href="/krishnaik06/Principle-Component-Analysis/projects" role="menuitem" data-view-component="true" class="ActionListContent ActionListContent--visual16">
        <span class="ActionListItem-visual ActionListItem-visual--leading">
          <svg aria-hidden="true" height="16" viewBox="0 0 16 16" version="1.1" width="16" data-view-component="true" class="octicon octicon-table">
    <path d="M0 1.75C0 .784.784 0 1.75 0h12.5C15.216 0 16 .784 16 1.75v12.5A1.75 1.75 0 0 1 14.25 16H1.75A1.75 1.75 0 0 1 0 14.25ZM6.5 6.5v8h7.75a.25.25 0 0 0 .25-.25V6.5Zm8-1.5V1.75a.25.25 0 0 0-.25-.25H6.5V5Zm-13 1.5v7.75c0 .138.112.25.25.25H5v-8ZM5 5V1.5H1.75a.25.25 0 0 0-.25.25V5Z"></path>
</svg>
        </span>
      
        <span data-view-component="true" class="ActionListItem-label">
          Projects
</span></a>
  
  
</li>
      <li hidden="hidden" data-menu-item="i5security-tab" data-targets="action-list.items action-list.items" role="none" data-view-component="true" class="ActionListItem">
    
    <a tabindex="-1" id="item-b13c557c-0707-4685-9dbc-5815ac63b0be" href="/krishnaik06/Principle-Component-Analysis/security" role="menuitem" data-view-component="true" class="ActionListContent ActionListContent--visual16">
        <span class="ActionListItem-visual ActionListItem-visual--leading">
          <svg aria-hidden="true" height="16" viewBox="0 0 16 16" version="1.1" width="16" data-view-component="true" class="octicon octicon-shield">
    <path d="M7.467.133a1.748 1.748 0 0 1 1.066 0l5.25 1.68A1.75 1.75 0 0 1 15 3.48V7c0 1.566-.32 3.182-1.303 4.682-.983 1.498-2.585 2.813-5.032 3.855a1.697 1.697 0 0 1-1.33 0c-2.447-1.042-4.049-2.357-5.032-3.855C1.32 10.182 1 8.566 1 7V3.48a1.75 1.75 0 0 1 1.217-1.667Zm.61 1.429a.25.25 0 0 0-.153 0l-5.25 1.68a.25.25 0 0 0-.174.238V7c0 1.358.275 2.666 1.057 3.86.784 1.194 2.121 2.34 4.366 3.297a.196.196 0 0 0 .154 0c2.245-.956 3.582-2.104 4.366-3.298C13.225 9.666 13.5 8.36 13.5 7V3.48a.251.251 0 0 0-.174-.237l-5.25-1.68ZM8.75 4.75v3a.75.75 0 0 1-1.5 0v-3a.75.75 0 0 1 1.5 0ZM9 10.5a1 1 0 1 1-2 0 1 1 0 0 1 2 0Z"></path>
</svg>
        </span>
      
        <span data-view-component="true" class="ActionListItem-label">
          Security
</span></a>
  
  
</li>
      <li hidden="hidden" data-menu-item="i6insights-tab" data-targets="action-list.items action-list.items" role="none" data-view-component="true" class="ActionListItem">
    
    <a tabindex="-1" id="item-222e4f78-4254-4dbe-940a-148946f9db21" href="/krishnaik06/Principle-Component-Analysis/pulse" role="menuitem" data-view-component="true" class="ActionListContent ActionListContent--visual16">
        <span class="ActionListItem-visual ActionListItem-visual--leading">
          <svg aria-hidden="true" height="16" viewBox="0 0 16 16" version="1.1" width="16" data-view-component="true" class="octicon octicon-graph">
    <path d="M1.5 1.75V13.5h13.75a.75.75 0 0 1 0 1.5H.75a.75.75 0 0 1-.75-.75V1.75a.75.75 0 0 1 1.5 0Zm14.28 2.53-5.25 5.25a.75.75 0 0 1-1.06 0L7 7.06 4.28 9.78a.751.751 0 0 1-1.042-.018.751.751 0 0 1-.018-1.042l3.25-3.25a.75.75 0 0 1 1.06 0L10 7.94l4.72-4.72a.751.751 0 0 1 1.042.018.751.751 0 0 1 .018 1.042Z"></path>
</svg>
        </span>
      
        <span data-view-component="true" class="ActionListItem-label">
          Insights
</span></a>
  
  
</li>
</ul>  
</div>

</div>
      
</div></anchored-position>  </focus-group>
</action-menu></div>
</nav>
      </div>
</header>


      <div hidden="hidden" data-view-component="true" class="js-stale-session-flash stale-session-flash flash flash-warn flash-full mb-3">
  
        <svg aria-hidden="true" height="16" viewBox="0 0 16 16" version="1.1" width="16" data-view-component="true" class="octicon octicon-alert">
    <path d="M6.457 1.047c.659-1.234 2.427-1.234 3.086 0l6.082 11.378A1.75 1.75 0 0 1 14.082 15H1.918a1.75 1.75 0 0 1-1.543-2.575Zm1.763.707a.25.25 0 0 0-.44 0L1.698 13.132a.25.25 0 0 0 .22.368h12.164a.25.25 0 0 0 .22-.368Zm.53 3.996v2.5a.75.75 0 0 1-1.5 0v-2.5a.75.75 0 0 1 1.5 0ZM9 11a1 1 0 1 1-2 0 1 1 0 0 1 2 0Z"></path>
</svg>
        <span class="js-stale-session-flash-signed-in" hidden>You signed in with another tab or window. <a class="Link--inTextBlock" href="">Reload</a> to refresh your session.</span>
        <span class="js-stale-session-flash-signed-out" hidden>You signed out in another tab or window. <a class="Link--inTextBlock" href="">Reload</a> to refresh your session.</span>
        <span class="js-stale-session-flash-switched" hidden>You switched accounts on another tab or window. <a class="Link--inTextBlock" href="">Reload</a> to refresh your session.</span>

    <button id="icon-button-92da4adf-208d-4179-9920-f9b49011ff93" aria-labelledby="tooltip-a7325178-23cc-4919-baf1-963680593f8e" type="button" data-view-component="true" class="Button Button--iconOnly Button--invisible Button--medium flash-close js-flash-close">  <svg aria-hidden="true" height="16" viewBox="0 0 16 16" version="1.1" width="16" data-view-component="true" class="octicon octicon-x Button-visual">
    <path d="M3.72 3.72a.75.75 0 0 1 1.06 0L8 6.94l3.22-3.22a.749.749 0 0 1 1.275.326.749.749 0 0 1-.215.734L9.06 8l3.22 3.22a.749.749 0 0 1-.326 1.275.749.749 0 0 1-.734-.215L8 9.06l-3.22 3.22a.751.751 0 0 1-1.042-.018.751.751 0 0 1-.018-1.042L6.94 8 3.72 4.78a.75.75 0 0 1 0-1.06Z"></path>
</svg>
</button><tool-tip id="tooltip-a7325178-23cc-4919-baf1-963680593f8e" for="icon-button-92da4adf-208d-4179-9920-f9b49011ff93" popover="manual" data-direction="s" data-type="label" data-view-component="true" class="sr-only position-absolute">Dismiss alert</tool-tip>


  
</div>
          
    </div>

  <div id="start-of-content" class="show-on-focus"></div>








    <div id="js-flash-container" data-turbo-replace>


      <include-fragment src="/settings/two_factor_authentication/holiday_warning_banner"></include-fragment>



  <template class="js-flash-template">
    
<div class="flash flash-full   {{ className }}">
  <div class="px-2" >
    <button autofocus class="flash-close js-flash-close" type="button" aria-label="Dismiss this message">
      <svg aria-hidden="true" height="16" viewBox="0 0 16 16" version="1.1" width="16" data-view-component="true" class="octicon octicon-x">
    <path d="M3.72 3.72a.75.75 0 0 1 1.06 0L8 6.94l3.22-3.22a.749.749 0 0 1 1.275.326.749.749 0 0 1-.215.734L9.06 8l3.22 3.22a.749.749 0 0 1-.326 1.275.749.749 0 0 1-.734-.215L8 9.06l-3.22 3.22a.751.751 0 0 1-1.042-.018.751.751 0 0 1-.018-1.042L6.94 8 3.72 4.78a.75.75 0 0 1 0-1.06Z"></path>
</svg>
    </button>
    <div aria-atomic="true" role="alert" class="js-flash-alert">
      
      <div>{{ message }}</div>

    </div>
  </div>
</div>
  </template>
</div>


    
    <notification-shelf-watcher data-base-url="https://github.com/notifications/beta/shelf" data-channel="eyJjIjoibm90aWZpY2F0aW9uLWNoYW5nZWQ6MTQ3NzU2MTYxIiwidCI6MTcwNDUzNDg0Mn0=--668140fe9dad16c8971dc0a2456c2a941cde3b1812eac71e7f069f971d5fe696" data-view-component="true" class="js-socket-channel"></notification-shelf-watcher>
  <div hidden data-initial data-target="notification-shelf-watcher.placeholder"></div>






      <details
  class="details-reset details-overlay details-overlay-dark js-command-palette-dialog"
  id="command-palette-pjax-container"
  data-turbo-replace
>
  <summary aria-label="Command palette trigger" tabindex="-1"></summary>
  <details-dialog class="command-palette-details-dialog d-flex flex-column flex-justify-center height-fit" aria-label="Command palette">
    <command-palette
      class="command-palette color-bg-default rounded-3 border color-shadow-small"
      return-to=/krishnaik06/Principle-Component-Analysis/blob/master/PCA.ipynb
      user-id="147756161"
      activation-hotkey="Mod+k,Mod+Alt+k"
      command-mode-hotkey="Mod+Shift+K"
      data-action="
        command-palette-input-ready:command-palette#inputReady
        command-palette-page-stack-updated:command-palette#updateInputScope
        itemsUpdated:command-palette#itemsUpdated
        keydown:command-palette#onKeydown
        loadingStateChanged:command-palette#loadingStateChanged
        selectedItemChanged:command-palette#selectedItemChanged
        pageFetchError:command-palette#pageFetchError
      ">

        <command-palette-mode
          data-char="#"
            data-scope-types="[&quot;&quot;]"
            data-placeholder="Search issues and pull requests"
        ></command-palette-mode>
        <command-palette-mode
          data-char="#"
            data-scope-types="[&quot;owner&quot;,&quot;repository&quot;]"
            data-placeholder="Search issues, pull requests, discussions, and projects"
        ></command-palette-mode>
        <command-palette-mode
          data-char="!"
            data-scope-types="[&quot;owner&quot;,&quot;repository&quot;]"
            data-placeholder="Search projects"
        ></command-palette-mode>
        <command-palette-mode
          data-char="@"
            data-scope-types="[&quot;&quot;]"
            data-placeholder="Search or jump to a user, organization, or repository"
        ></command-palette-mode>
        <command-palette-mode
          data-char="@"
            data-scope-types="[&quot;owner&quot;]"
            data-placeholder="Search or jump to a repository"
        ></command-palette-mode>
        <command-palette-mode
          data-char="/"
            data-scope-types="[&quot;repository&quot;]"
            data-placeholder="Search files"
        ></command-palette-mode>
        <command-palette-mode
          data-char="?"
        ></command-palette-mode>
        <command-palette-mode
          data-char="&gt;"
            data-placeholder="Run a command"
        ></command-palette-mode>
        <command-palette-mode
          data-char=""
            data-scope-types="[&quot;&quot;]"
            data-placeholder="Search or jump to..."
        ></command-palette-mode>
        <command-palette-mode
          data-char=""
            data-scope-types="[&quot;owner&quot;]"
            data-placeholder="Search or jump to..."
        ></command-palette-mode>
      <command-palette-mode
        class="js-command-palette-default-mode"
        data-char=""
        data-placeholder="Search or jump to..."
      ></command-palette-mode>

      <command-palette-input placeholder="Search or jump to..."

        data-action="
          command-palette-input:command-palette#onInput
          command-palette-select:command-palette#onSelect
          command-palette-descope:command-palette#onDescope
          command-palette-cleared:command-palette#onInputClear
        "
      >
        <div class="js-search-icon d-flex flex-items-center mr-2" style="height: 26px">
          <svg aria-hidden="true" height="16" viewBox="0 0 16 16" version="1.1" width="16" data-view-component="true" class="octicon octicon-search color-fg-muted">
    <path d="M10.68 11.74a6 6 0 0 1-7.922-8.982 6 6 0 0 1 8.982 7.922l3.04 3.04a.749.749 0 0 1-.326 1.275.749.749 0 0 1-.734-.215ZM11.5 7a4.499 4.499 0 1 0-8.997 0A4.499 4.499 0 0 0 11.5 7Z"></path>
</svg>
        </div>
        <div class="js-spinner d-flex flex-items-center mr-2 color-fg-muted" hidden>
          <svg aria-label="Loading" class="anim-rotate" viewBox="0 0 16 16" fill="none" width="16" height="16">
            <circle
              cx="8"
              cy="8"
              r="7"
              stroke="currentColor"
              stroke-opacity="0.25"
              stroke-width="2"
              vector-effect="non-scaling-stroke"
            ></circle>
            <path
              d="M15 8a7.002 7.002 0 00-7-7"
              stroke="currentColor"
              stroke-width="2"
              stroke-linecap="round"
              vector-effect="non-scaling-stroke"
            ></path>
          </svg>
        </div>
        <command-palette-scope >
          <div data-target="command-palette-scope.placeholder" hidden class="color-fg-subtle">/&nbsp;&nbsp;<span class="text-semibold color-fg-default">...</span>&nbsp;&nbsp;/&nbsp;&nbsp;</div>
              <command-palette-token
                data-text="krishnaik06"
                data-id="MDQ6VXNlcjIwMDQxMjMx"
                data-type="owner"
                data-value="krishnaik06"
                data-targets="command-palette-scope.tokens"
                class="color-fg-default text-semibold"
                style="white-space:nowrap;line-height:20px;"
                >krishnaik06<span class="color-fg-subtle text-normal">&nbsp;&nbsp;/&nbsp;&nbsp;</span></command-palette-token>
              <command-palette-token
                data-text="Principle-Component-Analysis"
                data-id="MDEwOlJlcG9zaXRvcnkxMzk0NTc2MTM="
                data-type="repository"
                data-value="Principle-Component-Analysis"
                data-targets="command-palette-scope.tokens"
                class="color-fg-default text-semibold"
                style="white-space:nowrap;line-height:20px;"
                >Principle-Compone...<span class="color-fg-subtle text-normal">&nbsp;&nbsp;/&nbsp;&nbsp;</span></command-palette-token>
        </command-palette-scope>
        <div class="command-palette-input-group flex-1 form-control border-0 box-shadow-none" style="z-index: 0">
          <div class="command-palette-typeahead position-absolute d-flex flex-items-center Truncate">
            <span class="typeahead-segment input-mirror" data-target="command-palette-input.mirror"></span>
            <span class="Truncate-text" data-target="command-palette-input.typeaheadText"></span>
            <span class="typeahead-segment" data-target="command-palette-input.typeaheadPlaceholder"></span>
          </div>
          <input
            class="js-overlay-input typeahead-input d-none"
            disabled
            tabindex="-1"
            aria-label="Hidden input for typeahead"
          >
          <input
            type="text"
            autocomplete="off"
            autocorrect="off"
            autocapitalize="off"
            spellcheck="false"
            class="js-input typeahead-input form-control border-0 box-shadow-none input-block width-full no-focus-indicator"
            aria-label="Command palette input"
            aria-haspopup="listbox"
            aria-expanded="false"
            aria-autocomplete="list"
            aria-controls="command-palette-page-stack"
            role="combobox"
            data-action="
              input:command-palette-input#onInput
              keydown:command-palette-input#onKeydown
            "
          >
        </div>
          <div data-view-component="true" class="position-relative d-inline-block">
    <button aria-keyshortcuts="Control+Backspace" data-action="click:command-palette-input#onClear keypress:command-palette-input#onClear" data-target="command-palette-input.clearButton" id="command-palette-clear-button" hidden="hidden" type="button" data-view-component="true" class="btn-octicon command-palette-input-clear-button">      <svg aria-hidden="true" height="16" viewBox="0 0 16 16" version="1.1" width="16" data-view-component="true" class="octicon octicon-x-circle-fill">
    <path d="M2.343 13.657A8 8 0 1 1 13.658 2.343 8 8 0 0 1 2.343 13.657ZM6.03 4.97a.751.751 0 0 0-1.042.018.751.751 0 0 0-.018 1.042L6.94 8 4.97 9.97a.749.749 0 0 0 .326 1.275.749.749 0 0 0 .734-.215L8 9.06l1.97 1.97a.749.749 0 0 0 1.275-.326.749.749 0 0 0-.215-.734L9.06 8l1.97-1.97a.749.749 0 0 0-.326-1.275.749.749 0 0 0-.734.215L8 6.94Z"></path>
</svg>
</button>    <tool-tip id="tooltip-89f40bb0-0f64-4c3e-88bc-f8d1fcf1e0eb" for="command-palette-clear-button" popover="manual" data-direction="w" data-type="label" data-view-component="true" class="sr-only position-absolute">Clear Command Palette</tool-tip>
</div>
      </command-palette-input>

      <command-palette-page-stack
        data-default-scope-id="MDEwOlJlcG9zaXRvcnkxMzk0NTc2MTM="
        data-default-scope-type="Repository"
        data-action="command-palette-page-octicons-cached:command-palette-page-stack#cacheOcticons"
      >
          <command-palette-tip
            class="color-fg-muted f6 px-3 py-1 my-2"
              data-scope-types="[&quot;&quot;,&quot;owner&quot;,&quot;repository&quot;]"
            data-mode=""
            data-value="">
            <div class="d-flex flex-items-start flex-justify-between">
              <div>
                <span class="text-bold">Tip:</span>
                  Type <kbd class="hx_kbd">#</kbd> to search pull requests
              </div>
              <div class="ml-2 flex-shrink-0">
                Type <kbd class="hx_kbd">?</kbd> for help and tips
              </div>
            </div>
          </command-palette-tip>
          <command-palette-tip
            class="color-fg-muted f6 px-3 py-1 my-2"
              data-scope-types="[&quot;&quot;,&quot;owner&quot;,&quot;repository&quot;]"
            data-mode=""
            data-value="">
            <div class="d-flex flex-items-start flex-justify-between">
              <div>
                <span class="text-bold">Tip:</span>
                  Type <kbd class="hx_kbd">#</kbd> to search issues
              </div>
              <div class="ml-2 flex-shrink-0">
                Type <kbd class="hx_kbd">?</kbd> for help and tips
              </div>
            </div>
          </command-palette-tip>
          <command-palette-tip
            class="color-fg-muted f6 px-3 py-1 my-2"
              data-scope-types="[&quot;owner&quot;,&quot;repository&quot;]"
            data-mode=""
            data-value="">
            <div class="d-flex flex-items-start flex-justify-between">
              <div>
                <span class="text-bold">Tip:</span>
                  Type <kbd class="hx_kbd">#</kbd> to search discussions
              </div>
              <div class="ml-2 flex-shrink-0">
                Type <kbd class="hx_kbd">?</kbd> for help and tips
              </div>
            </div>
          </command-palette-tip>
          <command-palette-tip
            class="color-fg-muted f6 px-3 py-1 my-2"
              data-scope-types="[&quot;owner&quot;,&quot;repository&quot;]"
            data-mode=""
            data-value="">
            <div class="d-flex flex-items-start flex-justify-between">
              <div>
                <span class="text-bold">Tip:</span>
                  Type <kbd class="hx_kbd">!</kbd> to search projects
              </div>
              <div class="ml-2 flex-shrink-0">
                Type <kbd class="hx_kbd">?</kbd> for help and tips
              </div>
            </div>
          </command-palette-tip>
          <command-palette-tip
            class="color-fg-muted f6 px-3 py-1 my-2"
              data-scope-types="[&quot;owner&quot;]"
            data-mode=""
            data-value="">
            <div class="d-flex flex-items-start flex-justify-between">
              <div>
                <span class="text-bold">Tip:</span>
                  Type <kbd class="hx_kbd">@</kbd> to search teams
              </div>
              <div class="ml-2 flex-shrink-0">
                Type <kbd class="hx_kbd">?</kbd> for help and tips
              </div>
            </div>
          </command-palette-tip>
          <command-palette-tip
            class="color-fg-muted f6 px-3 py-1 my-2"
              data-scope-types="[&quot;&quot;]"
            data-mode=""
            data-value="">
            <div class="d-flex flex-items-start flex-justify-between">
              <div>
                <span class="text-bold">Tip:</span>
                  Type <kbd class="hx_kbd">@</kbd> to search people and organizations
              </div>
              <div class="ml-2 flex-shrink-0">
                Type <kbd class="hx_kbd">?</kbd> for help and tips
              </div>
            </div>
          </command-palette-tip>
          <command-palette-tip
            class="color-fg-muted f6 px-3 py-1 my-2"
              data-scope-types="[&quot;&quot;,&quot;owner&quot;,&quot;repository&quot;]"
            data-mode=""
            data-value="">
            <div class="d-flex flex-items-start flex-justify-between">
              <div>
                <span class="text-bold">Tip:</span>
                  Type <kbd class="hx_kbd">&gt;</kbd> to activate command mode
              </div>
              <div class="ml-2 flex-shrink-0">
                Type <kbd class="hx_kbd">?</kbd> for help and tips
              </div>
            </div>
          </command-palette-tip>
          <command-palette-tip
            class="color-fg-muted f6 px-3 py-1 my-2"
              data-scope-types="[&quot;&quot;,&quot;owner&quot;,&quot;repository&quot;]"
            data-mode=""
            data-value="">
            <div class="d-flex flex-items-start flex-justify-between">
              <div>
                <span class="text-bold">Tip:</span>
                  Go to your accessibility settings to change your keyboard shortcuts
              </div>
              <div class="ml-2 flex-shrink-0">
                Type <kbd class="hx_kbd">?</kbd> for help and tips
              </div>
            </div>
          </command-palette-tip>
          <command-palette-tip
            class="color-fg-muted f6 px-3 py-1 my-2"
              data-scope-types="[&quot;&quot;,&quot;owner&quot;,&quot;repository&quot;]"
            data-mode="#"
            data-value="">
            <div class="d-flex flex-items-start flex-justify-between">
              <div>
                <span class="text-bold">Tip:</span>
                  Type author:@me to search your content
              </div>
              <div class="ml-2 flex-shrink-0">
                Type <kbd class="hx_kbd">?</kbd> for help and tips
              </div>
            </div>
          </command-palette-tip>
          <command-palette-tip
            class="color-fg-muted f6 px-3 py-1 my-2"
              data-scope-types="[&quot;&quot;,&quot;owner&quot;,&quot;repository&quot;]"
            data-mode="#"
            data-value="">
            <div class="d-flex flex-items-start flex-justify-between">
              <div>
                <span class="text-bold">Tip:</span>
                  Type is:pr to filter to pull requests
              </div>
              <div class="ml-2 flex-shrink-0">
                Type <kbd class="hx_kbd">?</kbd> for help and tips
              </div>
            </div>
          </command-palette-tip>
          <command-palette-tip
            class="color-fg-muted f6 px-3 py-1 my-2"
              data-scope-types="[&quot;&quot;,&quot;owner&quot;,&quot;repository&quot;]"
            data-mode="#"
            data-value="">
            <div class="d-flex flex-items-start flex-justify-between">
              <div>
                <span class="text-bold">Tip:</span>
                  Type is:issue to filter to issues
              </div>
              <div class="ml-2 flex-shrink-0">
                Type <kbd class="hx_kbd">?</kbd> for help and tips
              </div>
            </div>
          </command-palette-tip>
          <command-palette-tip
            class="color-fg-muted f6 px-3 py-1 my-2"
              data-scope-types="[&quot;owner&quot;,&quot;repository&quot;]"
            data-mode="#"
            data-value="">
            <div class="d-flex flex-items-start flex-justify-between">
              <div>
                <span class="text-bold">Tip:</span>
                  Type is:project to filter to projects
              </div>
              <div class="ml-2 flex-shrink-0">
                Type <kbd class="hx_kbd">?</kbd> for help and tips
              </div>
            </div>
          </command-palette-tip>
          <command-palette-tip
            class="color-fg-muted f6 px-3 py-1 my-2"
              data-scope-types="[&quot;&quot;,&quot;owner&quot;,&quot;repository&quot;]"
            data-mode="#"
            data-value="">
            <div class="d-flex flex-items-start flex-justify-between">
              <div>
                <span class="text-bold">Tip:</span>
                  Type is:open to filter to open content
              </div>
              <div class="ml-2 flex-shrink-0">
                Type <kbd class="hx_kbd">?</kbd> for help and tips
              </div>
            </div>
          </command-palette-tip>
        <command-palette-tip class="mx-3 my-2 flash flash-error d-flex flex-items-center" data-scope-types="*" data-on-error>
          <div>
            <svg aria-hidden="true" height="16" viewBox="0 0 16 16" version="1.1" width="16" data-view-component="true" class="octicon octicon-alert">
    <path d="M6.457 1.047c.659-1.234 2.427-1.234 3.086 0l6.082 11.378A1.75 1.75 0 0 1 14.082 15H1.918a1.75 1.75 0 0 1-1.543-2.575Zm1.763.707a.25.25 0 0 0-.44 0L1.698 13.132a.25.25 0 0 0 .22.368h12.164a.25.25 0 0 0 .22-.368Zm.53 3.996v2.5a.75.75 0 0 1-1.5 0v-2.5a.75.75 0 0 1 1.5 0ZM9 11a1 1 0 1 1-2 0 1 1 0 0 1 2 0Z"></path>
</svg>
          </div>
          <div class="px-2">
            We’ve encountered an error and some results aren't available at this time. Type a new search or try again later.
          </div>
        </command-palette-tip>
        <command-palette-tip class="h4 color-fg-default pl-3 pb-2 pt-3" data-on-empty data-scope-types="*" data-match-mode="[^?]|^$">
          No results matched your search
        </command-palette-tip>

        <div hidden>

            <div data-targets="command-palette-page-stack.localOcticons" data-octicon-id="arrow-right-color-fg-muted">
              <svg height="16" class="octicon octicon-arrow-right color-fg-muted" viewBox="0 0 16 16" version="1.1" width="16" aria-hidden="true"><path d="M8.22 2.97a.75.75 0 0 1 1.06 0l4.25 4.25a.75.75 0 0 1 0 1.06l-4.25 4.25a.751.751 0 0 1-1.042-.018.751.751 0 0 1-.018-1.042l2.97-2.97H3.75a.75.75 0 0 1 0-1.5h7.44L8.22 4.03a.75.75 0 0 1 0-1.06Z"></path></svg>
            </div>
            <div data-targets="command-palette-page-stack.localOcticons" data-octicon-id="arrow-right-color-fg-default">
              <svg height="16" class="octicon octicon-arrow-right color-fg-default" viewBox="0 0 16 16" version="1.1" width="16" aria-hidden="true"><path d="M8.22 2.97a.75.75 0 0 1 1.06 0l4.25 4.25a.75.75 0 0 1 0 1.06l-4.25 4.25a.751.751 0 0 1-1.042-.018.751.751 0 0 1-.018-1.042l2.97-2.97H3.75a.75.75 0 0 1 0-1.5h7.44L8.22 4.03a.75.75 0 0 1 0-1.06Z"></path></svg>
            </div>
            <div data-targets="command-palette-page-stack.localOcticons" data-octicon-id="codespaces-color-fg-muted">
              <svg height="16" class="octicon octicon-codespaces color-fg-muted" viewBox="0 0 16 16" version="1.1" width="16" aria-hidden="true"><path d="M0 11.25c0-.966.784-1.75 1.75-1.75h12.5c.966 0 1.75.784 1.75 1.75v3A1.75 1.75 0 0 1 14.25 16H1.75A1.75 1.75 0 0 1 0 14.25Zm2-9.5C2 .784 2.784 0 3.75 0h8.5C13.216 0 14 .784 14 1.75v5a1.75 1.75 0 0 1-1.75 1.75h-8.5A1.75 1.75 0 0 1 2 6.75Zm1.75-.25a.25.25 0 0 0-.25.25v5c0 .138.112.25.25.25h8.5a.25.25 0 0 0 .25-.25v-5a.25.25 0 0 0-.25-.25Zm-2 9.5a.25.25 0 0 0-.25.25v3c0 .138.112.25.25.25h12.5a.25.25 0 0 0 .25-.25v-3a.25.25 0 0 0-.25-.25Z"></path><path d="M7 12.75a.75.75 0 0 1 .75-.75h4.5a.75.75 0 0 1 0 1.5h-4.5a.75.75 0 0 1-.75-.75Zm-4 0a.75.75 0 0 1 .75-.75h.5a.75.75 0 0 1 0 1.5h-.5a.75.75 0 0 1-.75-.75Z"></path></svg>
            </div>
            <div data-targets="command-palette-page-stack.localOcticons" data-octicon-id="copy-color-fg-muted">
              <svg height="16" class="octicon octicon-copy color-fg-muted" viewBox="0 0 16 16" version="1.1" width="16" aria-hidden="true"><path d="M0 6.75C0 5.784.784 5 1.75 5h1.5a.75.75 0 0 1 0 1.5h-1.5a.25.25 0 0 0-.25.25v7.5c0 .138.112.25.25.25h7.5a.25.25 0 0 0 .25-.25v-1.5a.75.75 0 0 1 1.5 0v1.5A1.75 1.75 0 0 1 9.25 16h-7.5A1.75 1.75 0 0 1 0 14.25Z"></path><path d="M5 1.75C5 .784 5.784 0 6.75 0h7.5C15.216 0 16 .784 16 1.75v7.5A1.75 1.75 0 0 1 14.25 11h-7.5A1.75 1.75 0 0 1 5 9.25Zm1.75-.25a.25.25 0 0 0-.25.25v7.5c0 .138.112.25.25.25h7.5a.25.25 0 0 0 .25-.25v-7.5a.25.25 0 0 0-.25-.25Z"></path></svg>
            </div>
            <div data-targets="command-palette-page-stack.localOcticons" data-octicon-id="dash-color-fg-muted">
              <svg height="16" class="octicon octicon-dash color-fg-muted" viewBox="0 0 16 16" version="1.1" width="16" aria-hidden="true"><path d="M2 7.75A.75.75 0 0 1 2.75 7h10a.75.75 0 0 1 0 1.5h-10A.75.75 0 0 1 2 7.75Z"></path></svg>
            </div>
            <div data-targets="command-palette-page-stack.localOcticons" data-octicon-id="file-color-fg-muted">
              <svg height="16" class="octicon octicon-file color-fg-muted" viewBox="0 0 16 16" version="1.1" width="16" aria-hidden="true"><path d="M2 1.75C2 .784 2.784 0 3.75 0h6.586c.464 0 .909.184 1.237.513l2.914 2.914c.329.328.513.773.513 1.237v9.586A1.75 1.75 0 0 1 13.25 16h-9.5A1.75 1.75 0 0 1 2 14.25Zm1.75-.25a.25.25 0 0 0-.25.25v12.5c0 .138.112.25.25.25h9.5a.25.25 0 0 0 .25-.25V6h-2.75A1.75 1.75 0 0 1 9 4.25V1.5Zm6.75.062V4.25c0 .138.112.25.25.25h2.688l-.011-.013-2.914-2.914-.013-.011Z"></path></svg>
            </div>
            <div data-targets="command-palette-page-stack.localOcticons" data-octicon-id="gear-color-fg-muted">
              <svg height="16" class="octicon octicon-gear color-fg-muted" viewBox="0 0 16 16" version="1.1" width="16" aria-hidden="true"><path d="M8 0a8.2 8.2 0 0 1 .701.031C9.444.095 9.99.645 10.16 1.29l.288 1.107c.018.066.079.158.212.224.231.114.454.243.668.386.123.082.233.09.299.071l1.103-.303c.644-.176 1.392.021 1.82.63.27.385.506.792.704 1.218.315.675.111 1.422-.364 1.891l-.814.806c-.049.048-.098.147-.088.294.016.257.016.515 0 .772-.01.147.038.246.088.294l.814.806c.475.469.679 1.216.364 1.891a7.977 7.977 0 0 1-.704 1.217c-.428.61-1.176.807-1.82.63l-1.102-.302c-.067-.019-.177-.011-.3.071a5.909 5.909 0 0 1-.668.386c-.133.066-.194.158-.211.224l-.29 1.106c-.168.646-.715 1.196-1.458 1.26a8.006 8.006 0 0 1-1.402 0c-.743-.064-1.289-.614-1.458-1.26l-.289-1.106c-.018-.066-.079-.158-.212-.224a5.738 5.738 0 0 1-.668-.386c-.123-.082-.233-.09-.299-.071l-1.103.303c-.644.176-1.392-.021-1.82-.63a8.12 8.12 0 0 1-.704-1.218c-.315-.675-.111-1.422.363-1.891l.815-.806c.05-.048.098-.147.088-.294a6.214 6.214 0 0 1 0-.772c.01-.147-.038-.246-.088-.294l-.815-.806C.635 6.045.431 5.298.746 4.623a7.92 7.92 0 0 1 .704-1.217c.428-.61 1.176-.807 1.82-.63l1.102.302c.067.019.177.011.3-.071.214-.143.437-.272.668-.386.133-.066.194-.158.211-.224l.29-1.106C6.009.645 6.556.095 7.299.03 7.53.01 7.764 0 8 0Zm-.571 1.525c-.036.003-.108.036-.137.146l-.289 1.105c-.147.561-.549.967-.998 1.189-.173.086-.34.183-.5.29-.417.278-.97.423-1.529.27l-1.103-.303c-.109-.03-.175.016-.195.045-.22.312-.412.644-.573.99-.014.031-.021.11.059.19l.815.806c.411.406.562.957.53 1.456a4.709 4.709 0 0 0 0 .582c.032.499-.119 1.05-.53 1.456l-.815.806c-.081.08-.073.159-.059.19.162.346.353.677.573.989.02.03.085.076.195.046l1.102-.303c.56-.153 1.113-.008 1.53.27.161.107.328.204.501.29.447.222.85.629.997 1.189l.289 1.105c.029.109.101.143.137.146a6.6 6.6 0 0 0 1.142 0c.036-.003.108-.036.137-.146l.289-1.105c.147-.561.549-.967.998-1.189.173-.086.34-.183.5-.29.417-.278.97-.423 1.529-.27l1.103.303c.109.029.175-.016.195-.045.22-.313.411-.644.573-.99.014-.031.021-.11-.059-.19l-.815-.806c-.411-.406-.562-.957-.53-1.456a4.709 4.709 0 0 0 0-.582c-.032-.499.119-1.05.53-1.456l.815-.806c.081-.08.073-.159.059-.19a6.464 6.464 0 0 0-.573-.989c-.02-.03-.085-.076-.195-.046l-1.102.303c-.56.153-1.113.008-1.53-.27a4.44 4.44 0 0 0-.501-.29c-.447-.222-.85-.629-.997-1.189l-.289-1.105c-.029-.11-.101-.143-.137-.146a6.6 6.6 0 0 0-1.142 0ZM11 8a3 3 0 1 1-6 0 3 3 0 0 1 6 0ZM9.5 8a1.5 1.5 0 1 0-3.001.001A1.5 1.5 0 0 0 9.5 8Z"></path></svg>
            </div>
            <div data-targets="command-palette-page-stack.localOcticons" data-octicon-id="lock-color-fg-muted">
              <svg height="16" class="octicon octicon-lock color-fg-muted" viewBox="0 0 16 16" version="1.1" width="16" aria-hidden="true"><path d="M4 4a4 4 0 0 1 8 0v2h.25c.966 0 1.75.784 1.75 1.75v5.5A1.75 1.75 0 0 1 12.25 15h-8.5A1.75 1.75 0 0 1 2 13.25v-5.5C2 6.784 2.784 6 3.75 6H4Zm8.25 3.5h-8.5a.25.25 0 0 0-.25.25v5.5c0 .138.112.25.25.25h8.5a.25.25 0 0 0 .25-.25v-5.5a.25.25 0 0 0-.25-.25ZM10.5 6V4a2.5 2.5 0 1 0-5 0v2Z"></path></svg>
            </div>
            <div data-targets="command-palette-page-stack.localOcticons" data-octicon-id="moon-color-fg-muted">
              <svg height="16" class="octicon octicon-moon color-fg-muted" viewBox="0 0 16 16" version="1.1" width="16" aria-hidden="true"><path d="M9.598 1.591a.749.749 0 0 1 .785-.175 7.001 7.001 0 1 1-8.967 8.967.75.75 0 0 1 .961-.96 5.5 5.5 0 0 0 7.046-7.046.75.75 0 0 1 .175-.786Zm1.616 1.945a7 7 0 0 1-7.678 7.678 5.499 5.499 0 1 0 7.678-7.678Z"></path></svg>
            </div>
            <div data-targets="command-palette-page-stack.localOcticons" data-octicon-id="person-color-fg-muted">
              <svg height="16" class="octicon octicon-person color-fg-muted" viewBox="0 0 16 16" version="1.1" width="16" aria-hidden="true"><path d="M10.561 8.073a6.005 6.005 0 0 1 3.432 5.142.75.75 0 1 1-1.498.07 4.5 4.5 0 0 0-8.99 0 .75.75 0 0 1-1.498-.07 6.004 6.004 0 0 1 3.431-5.142 3.999 3.999 0 1 1 5.123 0ZM10.5 5a2.5 2.5 0 1 0-5 0 2.5 2.5 0 0 0 5 0Z"></path></svg>
            </div>
            <div data-targets="command-palette-page-stack.localOcticons" data-octicon-id="pencil-color-fg-muted">
              <svg height="16" class="octicon octicon-pencil color-fg-muted" viewBox="0 0 16 16" version="1.1" width="16" aria-hidden="true"><path d="M11.013 1.427a1.75 1.75 0 0 1 2.474 0l1.086 1.086a1.75 1.75 0 0 1 0 2.474l-8.61 8.61c-.21.21-.47.364-.756.445l-3.251.93a.75.75 0 0 1-.927-.928l.929-3.25c.081-.286.235-.547.445-.758l8.61-8.61Zm.176 4.823L9.75 4.81l-6.286 6.287a.253.253 0 0 0-.064.108l-.558 1.953 1.953-.558a.253.253 0 0 0 .108-.064Zm1.238-3.763a.25.25 0 0 0-.354 0L10.811 3.75l1.439 1.44 1.263-1.263a.25.25 0 0 0 0-.354Z"></path></svg>
            </div>
            <div data-targets="command-palette-page-stack.localOcticons" data-octicon-id="issue-opened-open">
              <svg height="16" class="octicon octicon-issue-opened open" viewBox="0 0 16 16" version="1.1" width="16" aria-hidden="true"><path d="M8 9.5a1.5 1.5 0 1 0 0-3 1.5 1.5 0 0 0 0 3Z"></path><path d="M8 0a8 8 0 1 1 0 16A8 8 0 0 1 8 0ZM1.5 8a6.5 6.5 0 1 0 13 0 6.5 6.5 0 0 0-13 0Z"></path></svg>
            </div>
            <div data-targets="command-palette-page-stack.localOcticons" data-octicon-id="git-pull-request-draft-color-fg-muted">
              <svg height="16" class="octicon octicon-git-pull-request-draft color-fg-muted" viewBox="0 0 16 16" version="1.1" width="16" aria-hidden="true"><path d="M3.25 1A2.25 2.25 0 0 1 4 5.372v5.256a2.251 2.251 0 1 1-1.5 0V5.372A2.251 2.251 0 0 1 3.25 1Zm9.5 14a2.25 2.25 0 1 1 0-4.5 2.25 2.25 0 0 1 0 4.5ZM2.5 3.25a.75.75 0 1 0 1.5 0 .75.75 0 0 0-1.5 0ZM3.25 12a.75.75 0 1 0 0 1.5.75.75 0 0 0 0-1.5Zm9.5 0a.75.75 0 1 0 0 1.5.75.75 0 0 0 0-1.5ZM14 7.5a1.25 1.25 0 1 1-2.5 0 1.25 1.25 0 0 1 2.5 0Zm0-4.25a1.25 1.25 0 1 1-2.5 0 1.25 1.25 0 0 1 2.5 0Z"></path></svg>
            </div>
            <div data-targets="command-palette-page-stack.localOcticons" data-octicon-id="search-color-fg-muted">
              <svg height="16" class="octicon octicon-search color-fg-muted" viewBox="0 0 16 16" version="1.1" width="16" aria-hidden="true"><path d="M10.68 11.74a6 6 0 0 1-7.922-8.982 6 6 0 0 1 8.982 7.922l3.04 3.04a.749.749 0 0 1-.326 1.275.749.749 0 0 1-.734-.215ZM11.5 7a4.499 4.499 0 1 0-8.997 0A4.499 4.499 0 0 0 11.5 7Z"></path></svg>
            </div>
            <div data-targets="command-palette-page-stack.localOcticons" data-octicon-id="sun-color-fg-muted">
              <svg height="16" class="octicon octicon-sun color-fg-muted" viewBox="0 0 16 16" version="1.1" width="16" aria-hidden="true"><path d="M8 12a4 4 0 1 1 0-8 4 4 0 0 1 0 8Zm0-1.5a2.5 2.5 0 1 0 0-5 2.5 2.5 0 0 0 0 5Zm5.657-8.157a.75.75 0 0 1 0 1.061l-1.061 1.06a.749.749 0 0 1-1.275-.326.749.749 0 0 1 .215-.734l1.06-1.06a.75.75 0 0 1 1.06 0Zm-9.193 9.193a.75.75 0 0 1 0 1.06l-1.06 1.061a.75.75 0 1 1-1.061-1.06l1.06-1.061a.75.75 0 0 1 1.061 0ZM8 0a.75.75 0 0 1 .75.75v1.5a.75.75 0 0 1-1.5 0V.75A.75.75 0 0 1 8 0ZM3 8a.75.75 0 0 1-.75.75H.75a.75.75 0 0 1 0-1.5h1.5A.75.75 0 0 1 3 8Zm13 0a.75.75 0 0 1-.75.75h-1.5a.75.75 0 0 1 0-1.5h1.5A.75.75 0 0 1 16 8Zm-8 5a.75.75 0 0 1 .75.75v1.5a.75.75 0 0 1-1.5 0v-1.5A.75.75 0 0 1 8 13Zm3.536-1.464a.75.75 0 0 1 1.06 0l1.061 1.06a.75.75 0 0 1-1.06 1.061l-1.061-1.06a.75.75 0 0 1 0-1.061ZM2.343 2.343a.75.75 0 0 1 1.061 0l1.06 1.061a.751.751 0 0 1-.018 1.042.751.751 0 0 1-1.042.018l-1.06-1.06a.75.75 0 0 1 0-1.06Z"></path></svg>
            </div>
            <div data-targets="command-palette-page-stack.localOcticons" data-octicon-id="sync-color-fg-muted">
              <svg height="16" class="octicon octicon-sync color-fg-muted" viewBox="0 0 16 16" version="1.1" width="16" aria-hidden="true"><path d="M1.705 8.005a.75.75 0 0 1 .834.656 5.5 5.5 0 0 0 9.592 2.97l-1.204-1.204a.25.25 0 0 1 .177-.427h3.646a.25.25 0 0 1 .25.25v3.646a.25.25 0 0 1-.427.177l-1.38-1.38A7.002 7.002 0 0 1 1.05 8.84a.75.75 0 0 1 .656-.834ZM8 2.5a5.487 5.487 0 0 0-4.131 1.869l1.204 1.204A.25.25 0 0 1 4.896 6H1.25A.25.25 0 0 1 1 5.75V2.104a.25.25 0 0 1 .427-.177l1.38 1.38A7.002 7.002 0 0 1 14.95 7.16a.75.75 0 0 1-1.49.178A5.5 5.5 0 0 0 8 2.5Z"></path></svg>
            </div>
            <div data-targets="command-palette-page-stack.localOcticons" data-octicon-id="trash-color-fg-muted">
              <svg height="16" class="octicon octicon-trash color-fg-muted" viewBox="0 0 16 16" version="1.1" width="16" aria-hidden="true"><path d="M11 1.75V3h2.25a.75.75 0 0 1 0 1.5H2.75a.75.75 0 0 1 0-1.5H5V1.75C5 .784 5.784 0 6.75 0h2.5C10.216 0 11 .784 11 1.75ZM4.496 6.675l.66 6.6a.25.25 0 0 0 .249.225h5.19a.25.25 0 0 0 .249-.225l.66-6.6a.75.75 0 0 1 1.492.149l-.66 6.6A1.748 1.748 0 0 1 10.595 15h-5.19a1.75 1.75 0 0 1-1.741-1.575l-.66-6.6a.75.75 0 1 1 1.492-.15ZM6.5 1.75V3h3V1.75a.25.25 0 0 0-.25-.25h-2.5a.25.25 0 0 0-.25.25Z"></path></svg>
            </div>
            <div data-targets="command-palette-page-stack.localOcticons" data-octicon-id="key-color-fg-muted">
              <svg height="16" class="octicon octicon-key color-fg-muted" viewBox="0 0 16 16" version="1.1" width="16" aria-hidden="true"><path d="M10.5 0a5.499 5.499 0 1 1-1.288 10.848l-.932.932a.749.749 0 0 1-.53.22H7v.75a.749.749 0 0 1-.22.53l-.5.5a.749.749 0 0 1-.53.22H5v.75a.749.749 0 0 1-.22.53l-.5.5a.749.749 0 0 1-.53.22h-2A1.75 1.75 0 0 1 0 14.25v-2c0-.199.079-.389.22-.53l4.932-4.932A5.5 5.5 0 0 1 10.5 0Zm-4 5.5c-.001.431.069.86.205 1.269a.75.75 0 0 1-.181.768L1.5 12.56v1.69c0 .138.112.25.25.25h1.69l.06-.06v-1.19a.75.75 0 0 1 .75-.75h1.19l.06-.06v-1.19a.75.75 0 0 1 .75-.75h1.19l1.023-1.025a.75.75 0 0 1 .768-.18A4 4 0 1 0 6.5 5.5ZM11 6a1 1 0 1 1 0-2 1 1 0 0 1 0 2Z"></path></svg>
            </div>
            <div data-targets="command-palette-page-stack.localOcticons" data-octicon-id="comment-discussion-color-fg-muted">
              <svg height="16" class="octicon octicon-comment-discussion color-fg-muted" viewBox="0 0 16 16" version="1.1" width="16" aria-hidden="true"><path d="M1.75 1h8.5c.966 0 1.75.784 1.75 1.75v5.5A1.75 1.75 0 0 1 10.25 10H7.061l-2.574 2.573A1.458 1.458 0 0 1 2 11.543V10h-.25A1.75 1.75 0 0 1 0 8.25v-5.5C0 1.784.784 1 1.75 1ZM1.5 2.75v5.5c0 .138.112.25.25.25h1a.75.75 0 0 1 .75.75v2.19l2.72-2.72a.749.749 0 0 1 .53-.22h3.5a.25.25 0 0 0 .25-.25v-5.5a.25.25 0 0 0-.25-.25h-8.5a.25.25 0 0 0-.25.25Zm13 2a.25.25 0 0 0-.25-.25h-.5a.75.75 0 0 1 0-1.5h.5c.966 0 1.75.784 1.75 1.75v5.5A1.75 1.75 0 0 1 14.25 12H14v1.543a1.458 1.458 0 0 1-2.487 1.03L9.22 12.28a.749.749 0 0 1 .326-1.275.749.749 0 0 1 .734.215l2.22 2.22v-2.19a.75.75 0 0 1 .75-.75h1a.25.25 0 0 0 .25-.25Z"></path></svg>
            </div>
            <div data-targets="command-palette-page-stack.localOcticons" data-octicon-id="bell-color-fg-muted">
              <svg height="16" class="octicon octicon-bell color-fg-muted" viewBox="0 0 16 16" version="1.1" width="16" aria-hidden="true"><path d="M8 16a2 2 0 0 0 1.985-1.75c.017-.137-.097-.25-.235-.25h-3.5c-.138 0-.252.113-.235.25A2 2 0 0 0 8 16ZM3 5a5 5 0 0 1 10 0v2.947c0 .05.015.098.042.139l1.703 2.555A1.519 1.519 0 0 1 13.482 13H2.518a1.516 1.516 0 0 1-1.263-2.36l1.703-2.554A.255.255 0 0 0 3 7.947Zm5-3.5A3.5 3.5 0 0 0 4.5 5v2.947c0 .346-.102.683-.294.97l-1.703 2.556a.017.017 0 0 0-.003.01l.001.006c0 .002.002.004.004.006l.006.004.007.001h10.964l.007-.001.006-.004.004-.006.001-.007a.017.017 0 0 0-.003-.01l-1.703-2.554a1.745 1.745 0 0 1-.294-.97V5A3.5 3.5 0 0 0 8 1.5Z"></path></svg>
            </div>
            <div data-targets="command-palette-page-stack.localOcticons" data-octicon-id="bell-slash-color-fg-muted">
              <svg height="16" class="octicon octicon-bell-slash color-fg-muted" viewBox="0 0 16 16" version="1.1" width="16" aria-hidden="true"><path d="m4.182 4.31.016.011 10.104 7.316.013.01 1.375.996a.75.75 0 1 1-.88 1.214L13.626 13H2.518a1.516 1.516 0 0 1-1.263-2.36l1.703-2.554A.255.255 0 0 0 3 7.947V5.305L.31 3.357a.75.75 0 1 1 .88-1.214Zm7.373 7.19L4.5 6.391v1.556c0 .346-.102.683-.294.97l-1.703 2.556a.017.017 0 0 0-.003.01c0 .005.002.009.005.012l.006.004.007.001ZM8 1.5c-.997 0-1.895.416-2.534 1.086A.75.75 0 1 1 4.38 1.55 5 5 0 0 1 13 5v2.373a.75.75 0 0 1-1.5 0V5A3.5 3.5 0 0 0 8 1.5ZM8 16a2 2 0 0 1-1.985-1.75c-.017-.137.097-.25.235-.25h3.5c.138 0 .252.113.235.25A2 2 0 0 1 8 16Z"></path></svg>
            </div>
            <div data-targets="command-palette-page-stack.localOcticons" data-octicon-id="paintbrush-color-fg-muted">
              <svg height="16" class="octicon octicon-paintbrush color-fg-muted" viewBox="0 0 16 16" version="1.1" width="16" aria-hidden="true"><path d="M11.134 1.535c.7-.509 1.416-.942 2.076-1.155.649-.21 1.463-.267 2.069.34.603.601.568 1.411.368 2.07-.202.668-.624 1.39-1.125 2.096-1.011 1.424-2.496 2.987-3.775 4.249-1.098 1.084-2.132 1.839-3.04 2.3a3.744 3.744 0 0 1-1.055 3.217c-.431.431-1.065.691-1.657.861-.614.177-1.294.287-1.914.357A21.151 21.151 0 0 1 .797 16H.743l.007-.75H.749L.742 16a.75.75 0 0 1-.743-.742l.743-.008-.742.007v-.054a21.25 21.25 0 0 1 .13-2.284c.067-.647.187-1.287.358-1.914.17-.591.43-1.226.86-1.657a3.746 3.746 0 0 1 3.227-1.054c.466-.893 1.225-1.907 2.314-2.982 1.271-1.255 2.833-2.75 4.245-3.777ZM1.62 13.089c-.051.464-.086.929-.104 1.395.466-.018.932-.053 1.396-.104a10.511 10.511 0 0 0 1.668-.309c.526-.151.856-.325 1.011-.48a2.25 2.25 0 1 0-3.182-3.182c-.155.155-.329.485-.48 1.01a10.515 10.515 0 0 0-.309 1.67Zm10.396-10.34c-1.224.89-2.605 2.189-3.822 3.384l1.718 1.718c1.21-1.205 2.51-2.597 3.387-3.833.47-.662.78-1.227.912-1.662.134-.444.032-.551.009-.575h-.001V1.78c-.014-.014-.113-.113-.548.027-.432.14-.995.462-1.655.942Zm-4.832 7.266-.001.001a9.859 9.859 0 0 0 1.63-1.142L7.155 7.216a9.7 9.7 0 0 0-1.161 1.607c.482.302.889.71 1.19 1.192Z"></path></svg>
            </div>

            <command-palette-item-group
              data-group-id="top"
              data-group-title="Top result"
              data-group-hint=""
              data-group-limits="{}"
              data-default-priority="0"
            >
            </command-palette-item-group>
            <command-palette-item-group
              data-group-id="commands"
              data-group-title="Commands"
              data-group-hint="Type &gt; to filter"
              data-group-limits="{&quot;static_items_page&quot;:50,&quot;issue&quot;:50,&quot;pull_request&quot;:50,&quot;discussion&quot;:50}"
              data-default-priority="1"
            >
            </command-palette-item-group>
            <command-palette-item-group
              data-group-id="global_commands"
              data-group-title="Global Commands"
              data-group-hint="Type &gt; to filter"
              data-group-limits="{&quot;issue&quot;:0,&quot;pull_request&quot;:0,&quot;discussion&quot;:0}"
              data-default-priority="2"
            >
            </command-palette-item-group>
            <command-palette-item-group
              data-group-id="this_page"
              data-group-title="This Page"
              data-group-hint=""
              data-group-limits="{}"
              data-default-priority="3"
            >
            </command-palette-item-group>
            <command-palette-item-group
              data-group-id="files"
              data-group-title="Files"
              data-group-hint=""
              data-group-limits="{}"
              data-default-priority="4"
            >
            </command-palette-item-group>
            <command-palette-item-group
              data-group-id="default"
              data-group-title="Default"
              data-group-hint=""
              data-group-limits="{&quot;static_items_page&quot;:50}"
              data-default-priority="5"
            >
            </command-palette-item-group>
            <command-palette-item-group
              data-group-id="pages"
              data-group-title="Pages"
              data-group-hint=""
              data-group-limits="{&quot;repository&quot;:10}"
              data-default-priority="6"
            >
            </command-palette-item-group>
            <command-palette-item-group
              data-group-id="access_policies"
              data-group-title="Access Policies"
              data-group-hint=""
              data-group-limits="{}"
              data-default-priority="7"
            >
            </command-palette-item-group>
            <command-palette-item-group
              data-group-id="organizations"
              data-group-title="Organizations"
              data-group-hint=""
              data-group-limits="{}"
              data-default-priority="8"
            >
            </command-palette-item-group>
            <command-palette-item-group
              data-group-id="repositories"
              data-group-title="Repositories"
              data-group-hint=""
              data-group-limits="{}"
              data-default-priority="9"
            >
            </command-palette-item-group>
            <command-palette-item-group
              data-group-id="references"
              data-group-title="Issues, pull requests, and discussions"
              data-group-hint="Type # to filter"
              data-group-limits="{}"
              data-default-priority="10"
            >
            </command-palette-item-group>
            <command-palette-item-group
              data-group-id="teams"
              data-group-title="Teams"
              data-group-hint=""
              data-group-limits="{}"
              data-default-priority="11"
            >
            </command-palette-item-group>
            <command-palette-item-group
              data-group-id="users"
              data-group-title="Users"
              data-group-hint=""
              data-group-limits="{}"
              data-default-priority="12"
            >
            </command-palette-item-group>
            <command-palette-item-group
              data-group-id="memex_projects"
              data-group-title="Projects"
              data-group-hint=""
              data-group-limits="{}"
              data-default-priority="13"
            >
            </command-palette-item-group>
            <command-palette-item-group
              data-group-id="projects"
              data-group-title="Projects (classic)"
              data-group-hint=""
              data-group-limits="{}"
              data-default-priority="14"
            >
            </command-palette-item-group>
            <command-palette-item-group
              data-group-id="footer"
              data-group-title="Footer"
              data-group-hint=""
              data-group-limits="{}"
              data-default-priority="15"
            >
            </command-palette-item-group>
            <command-palette-item-group
              data-group-id="modes_help"
              data-group-title="Modes"
              data-group-hint=""
              data-group-limits="{}"
              data-default-priority="16"
            >
            </command-palette-item-group>
            <command-palette-item-group
              data-group-id="filters_help"
              data-group-title="Use filters in issues, pull requests, discussions, and projects"
              data-group-hint=""
              data-group-limits="{}"
              data-default-priority="17"
            >
            </command-palette-item-group>

            <command-palette-page
              data-page-title="krishnaik06"
              data-scope-id="MDQ6VXNlcjIwMDQxMjMx"
              data-scope-type="owner"
              data-targets="command-palette-page-stack.defaultPages"
              hidden
            >
            </command-palette-page>
            <command-palette-page
              data-page-title="Principle-Component-Analysis"
              data-scope-id="MDEwOlJlcG9zaXRvcnkxMzk0NTc2MTM="
              data-scope-type="repository"
              data-targets="command-palette-page-stack.defaultPages"
              hidden
            >
            </command-palette-page>
        </div>

        <command-palette-page data-is-root>
        </command-palette-page>
          <command-palette-page
            data-page-title="krishnaik06"
            data-scope-id="MDQ6VXNlcjIwMDQxMjMx"
            data-scope-type="owner"
          >
          </command-palette-page>
          <command-palette-page
            data-page-title="Principle-Component-Analysis"
            data-scope-id="MDEwOlJlcG9zaXRvcnkxMzk0NTc2MTM="
            data-scope-type="repository"
          >
          </command-palette-page>
      </command-palette-page-stack>

      <server-defined-provider data-type="search-links" data-targets="command-palette.serverDefinedProviderElements"></server-defined-provider>
      <server-defined-provider data-type="help" data-targets="command-palette.serverDefinedProviderElements">
          <command-palette-help
            data-group="modes_help"
              data-prefix="#"
              data-scope-types="[&quot;&quot;]"
          >
            <span data-target="command-palette-help.titleElement">Search for <strong>issues</strong> and <strong>pull requests</strong></span>
              <span data-target="command-palette-help.hintElement">
                <kbd class="hx_kbd">#</kbd>
              </span>
          </command-palette-help>
          <command-palette-help
            data-group="modes_help"
              data-prefix="#"
              data-scope-types="[&quot;owner&quot;,&quot;repository&quot;]"
          >
            <span data-target="command-palette-help.titleElement">Search for <strong>issues, pull requests, discussions,</strong> and <strong>projects</strong></span>
              <span data-target="command-palette-help.hintElement">
                <kbd class="hx_kbd">#</kbd>
              </span>
          </command-palette-help>
          <command-palette-help
            data-group="modes_help"
              data-prefix="@"
              data-scope-types="[&quot;&quot;]"
          >
            <span data-target="command-palette-help.titleElement">Search for <strong>organizations, repositories,</strong> and <strong>users</strong></span>
              <span data-target="command-palette-help.hintElement">
                <kbd class="hx_kbd">@</kbd>
              </span>
          </command-palette-help>
          <command-palette-help
            data-group="modes_help"
              data-prefix="!"
              data-scope-types="[&quot;owner&quot;,&quot;repository&quot;]"
          >
            <span data-target="command-palette-help.titleElement">Search for <strong>projects</strong></span>
              <span data-target="command-palette-help.hintElement">
                <kbd class="hx_kbd">!</kbd>
              </span>
          </command-palette-help>
          <command-palette-help
            data-group="modes_help"
              data-prefix="/"
              data-scope-types="[&quot;repository&quot;]"
          >
            <span data-target="command-palette-help.titleElement">Search for <strong>files</strong></span>
              <span data-target="command-palette-help.hintElement">
                <kbd class="hx_kbd">/</kbd>
              </span>
          </command-palette-help>
          <command-palette-help
            data-group="modes_help"
              data-prefix="&gt;"
          >
            <span data-target="command-palette-help.titleElement">Activate <strong>command mode</strong></span>
              <span data-target="command-palette-help.hintElement">
                <kbd class="hx_kbd">&gt;</kbd>
              </span>
          </command-palette-help>
          <command-palette-help
            data-group="filters_help"
              data-prefix="# author:@me"
          >
            <span data-target="command-palette-help.titleElement">Search your issues, pull requests, and discussions</span>
              <span data-target="command-palette-help.hintElement">
                <kbd class="hx_kbd"># author:@me</kbd>
              </span>
          </command-palette-help>
          <command-palette-help
            data-group="filters_help"
              data-prefix="# author:@me"
          >
            <span data-target="command-palette-help.titleElement">Search your issues, pull requests, and discussions</span>
              <span data-target="command-palette-help.hintElement">
                <kbd class="hx_kbd"># author:@me</kbd>
              </span>
          </command-palette-help>
          <command-palette-help
            data-group="filters_help"
              data-prefix="# is:pr"
          >
            <span data-target="command-palette-help.titleElement">Filter to pull requests</span>
              <span data-target="command-palette-help.hintElement">
                <kbd class="hx_kbd"># is:pr</kbd>
              </span>
          </command-palette-help>
          <command-palette-help
            data-group="filters_help"
              data-prefix="# is:issue"
          >
            <span data-target="command-palette-help.titleElement">Filter to issues</span>
              <span data-target="command-palette-help.hintElement">
                <kbd class="hx_kbd"># is:issue</kbd>
              </span>
          </command-palette-help>
          <command-palette-help
            data-group="filters_help"
              data-prefix="# is:discussion"
              data-scope-types="[&quot;owner&quot;,&quot;repository&quot;]"
          >
            <span data-target="command-palette-help.titleElement">Filter to discussions</span>
              <span data-target="command-palette-help.hintElement">
                <kbd class="hx_kbd"># is:discussion</kbd>
              </span>
          </command-palette-help>
          <command-palette-help
            data-group="filters_help"
              data-prefix="# is:project"
              data-scope-types="[&quot;owner&quot;,&quot;repository&quot;]"
          >
            <span data-target="command-palette-help.titleElement">Filter to projects</span>
              <span data-target="command-palette-help.hintElement">
                <kbd class="hx_kbd"># is:project</kbd>
              </span>
          </command-palette-help>
          <command-palette-help
            data-group="filters_help"
              data-prefix="# is:open"
          >
            <span data-target="command-palette-help.titleElement">Filter to open issues, pull requests, and discussions</span>
              <span data-target="command-palette-help.hintElement">
                <kbd class="hx_kbd"># is:open</kbd>
              </span>
          </command-palette-help>
      </server-defined-provider>

        <server-defined-provider
          data-type="commands"
          data-fetch-debounce="0"
            data-src="/command_palette/commands"
          data-supported-modes="[]"
            data-supports-commands
          
          data-targets="command-palette.serverDefinedProviderElements"
          ></server-defined-provider>
        <server-defined-provider
          data-type="prefetched"
          data-fetch-debounce="0"
            data-src="/command_palette/jump_to_page_navigation"
          data-supported-modes="[&quot;&quot;]"
            data-supported-scope-types="[&quot;&quot;,&quot;owner&quot;,&quot;repository&quot;]"
          
          data-targets="command-palette.serverDefinedProviderElements"
          ></server-defined-provider>
        <server-defined-provider
          data-type="remote"
          data-fetch-debounce="200"
            data-src="/command_palette/issues"
          data-supported-modes="[&quot;#&quot;,&quot;#&quot;]"
            data-supported-scope-types="[&quot;owner&quot;,&quot;repository&quot;,&quot;&quot;]"
          
          data-targets="command-palette.serverDefinedProviderElements"
          ></server-defined-provider>
        <server-defined-provider
          data-type="remote"
          data-fetch-debounce="200"
            data-src="/command_palette/jump_to"
          data-supported-modes="[&quot;@&quot;,&quot;@&quot;]"
            data-supported-scope-types="[&quot;&quot;,&quot;owner&quot;]"
          
          data-targets="command-palette.serverDefinedProviderElements"
          ></server-defined-provider>
        <server-defined-provider
          data-type="remote"
          data-fetch-debounce="200"
            data-src="/command_palette/jump_to_members_only"
          data-supported-modes="[&quot;@&quot;,&quot;@&quot;,&quot;&quot;,&quot;&quot;]"
            data-supported-scope-types="[&quot;&quot;,&quot;owner&quot;]"
          
          data-targets="command-palette.serverDefinedProviderElements"
          ></server-defined-provider>
        <server-defined-provider
          data-type="prefetched"
          data-fetch-debounce="0"
            data-src="/command_palette/jump_to_members_only_prefetched"
          data-supported-modes="[&quot;@&quot;,&quot;@&quot;,&quot;&quot;,&quot;&quot;]"
            data-supported-scope-types="[&quot;&quot;,&quot;owner&quot;]"
          
          data-targets="command-palette.serverDefinedProviderElements"
          ></server-defined-provider>
        <server-defined-provider
          data-type="files"
          data-fetch-debounce="0"
            data-src="/command_palette/files"
          data-supported-modes="[&quot;/&quot;]"
            data-supported-scope-types="[&quot;repository&quot;]"
          
          data-targets="command-palette.serverDefinedProviderElements"
          ></server-defined-provider>
        <server-defined-provider
          data-type="remote"
          data-fetch-debounce="200"
            data-src="/command_palette/discussions"
          data-supported-modes="[&quot;#&quot;]"
            data-supported-scope-types="[&quot;owner&quot;,&quot;repository&quot;]"
          
          data-targets="command-palette.serverDefinedProviderElements"
          ></server-defined-provider>
        <server-defined-provider
          data-type="remote"
          data-fetch-debounce="200"
            data-src="/command_palette/projects"
          data-supported-modes="[&quot;#&quot;,&quot;!&quot;]"
            data-supported-scope-types="[&quot;owner&quot;,&quot;repository&quot;]"
          
          data-targets="command-palette.serverDefinedProviderElements"
          ></server-defined-provider>
        <server-defined-provider
          data-type="prefetched"
          data-fetch-debounce="0"
            data-src="/command_palette/recent_issues"
          data-supported-modes="[&quot;#&quot;,&quot;#&quot;]"
            data-supported-scope-types="[&quot;owner&quot;,&quot;repository&quot;,&quot;&quot;]"
          
          data-targets="command-palette.serverDefinedProviderElements"
          ></server-defined-provider>
        <server-defined-provider
          data-type="remote"
          data-fetch-debounce="200"
            data-src="/command_palette/teams"
          data-supported-modes="[&quot;@&quot;,&quot;&quot;]"
            data-supported-scope-types="[&quot;owner&quot;]"
          
          data-targets="command-palette.serverDefinedProviderElements"
          ></server-defined-provider>
        <server-defined-provider
          data-type="remote"
          data-fetch-debounce="200"
            data-src="/command_palette/name_with_owner_repository"
          data-supported-modes="[&quot;@&quot;,&quot;@&quot;,&quot;&quot;,&quot;&quot;]"
            data-supported-scope-types="[&quot;&quot;,&quot;owner&quot;]"
          
          data-targets="command-palette.serverDefinedProviderElements"
          ></server-defined-provider>
    </command-palette>
  </details-dialog>
</details>

<div class="position-fixed bottom-0 left-0 ml-5 mb-5 js-command-palette-toasts" style="z-index: 1000">
  <div hidden class="Toast Toast--loading">
    <span class="Toast-icon">
      <svg class="Toast--spinner" viewBox="0 0 32 32" width="18" height="18" aria-hidden="true">
        <path
          fill="#959da5"
          d="M16 0 A16 16 0 0 0 16 32 A16 16 0 0 0 16 0 M16 4 A12 12 0 0 1 16 28 A12 12 0 0 1 16 4"
        />
        <path fill="#ffffff" d="M16 0 A16 16 0 0 1 32 16 L28 16 A12 12 0 0 0 16 4z"></path>
      </svg>
    </span>
    <span class="Toast-content"></span>
  </div>

  <div hidden class="anim-fade-in fast Toast Toast--error">
    <span class="Toast-icon">
      <svg aria-hidden="true" height="16" viewBox="0 0 16 16" version="1.1" width="16" data-view-component="true" class="octicon octicon-stop">
    <path d="M4.47.22A.749.749 0 0 1 5 0h6c.199 0 .389.079.53.22l4.25 4.25c.141.14.22.331.22.53v6a.749.749 0 0 1-.22.53l-4.25 4.25A.749.749 0 0 1 11 16H5a.749.749 0 0 1-.53-.22L.22 11.53A.749.749 0 0 1 0 11V5c0-.199.079-.389.22-.53Zm.84 1.28L1.5 5.31v5.38l3.81 3.81h5.38l3.81-3.81V5.31L10.69 1.5ZM8 4a.75.75 0 0 1 .75.75v3.5a.75.75 0 0 1-1.5 0v-3.5A.75.75 0 0 1 8 4Zm0 8a1 1 0 1 1 0-2 1 1 0 0 1 0 2Z"></path>
</svg>
    </span>
    <span class="Toast-content"></span>
  </div>

  <div hidden class="anim-fade-in fast Toast Toast--warning">
    <span class="Toast-icon">
      <svg aria-hidden="true" height="16" viewBox="0 0 16 16" version="1.1" width="16" data-view-component="true" class="octicon octicon-alert">
    <path d="M6.457 1.047c.659-1.234 2.427-1.234 3.086 0l6.082 11.378A1.75 1.75 0 0 1 14.082 15H1.918a1.75 1.75 0 0 1-1.543-2.575Zm1.763.707a.25.25 0 0 0-.44 0L1.698 13.132a.25.25 0 0 0 .22.368h12.164a.25.25 0 0 0 .22-.368Zm.53 3.996v2.5a.75.75 0 0 1-1.5 0v-2.5a.75.75 0 0 1 1.5 0ZM9 11a1 1 0 1 1-2 0 1 1 0 0 1 2 0Z"></path>
</svg>
    </span>
    <span class="Toast-content"></span>
  </div>


  <div hidden class="anim-fade-in fast Toast Toast--success">
    <span class="Toast-icon">
      <svg aria-hidden="true" height="16" viewBox="0 0 16 16" version="1.1" width="16" data-view-component="true" class="octicon octicon-check">
    <path d="M13.78 4.22a.75.75 0 0 1 0 1.06l-7.25 7.25a.75.75 0 0 1-1.06 0L2.22 9.28a.751.751 0 0 1 .018-1.042.751.751 0 0 1 1.042-.018L6 10.94l6.72-6.72a.75.75 0 0 1 1.06 0Z"></path>
</svg>
    </span>
    <span class="Toast-content"></span>
  </div>

  <div hidden class="anim-fade-in fast Toast">
    <span class="Toast-icon">
      <svg aria-hidden="true" height="16" viewBox="0 0 16 16" version="1.1" width="16" data-view-component="true" class="octicon octicon-info">
    <path d="M0 8a8 8 0 1 1 16 0A8 8 0 0 1 0 8Zm8-6.5a6.5 6.5 0 1 0 0 13 6.5 6.5 0 0 0 0-13ZM6.5 7.75A.75.75 0 0 1 7.25 7h1a.75.75 0 0 1 .75.75v2.75h.25a.75.75 0 0 1 0 1.5h-2a.75.75 0 0 1 0-1.5h.25v-2h-.25a.75.75 0 0 1-.75-.75ZM8 6a1 1 0 1 1 0-2 1 1 0 0 1 0 2Z"></path>
</svg>
    </span>
    <span class="Toast-content"></span>
  </div>
</div>


  <div
    class="application-main "
    data-commit-hovercards-enabled
    data-discussion-hovercards-enabled
    data-issue-and-pr-hovercards-enabled
  >
        <div itemscope itemtype="http://schema.org/SoftwareSourceCode" class="">
    <main id="js-repo-pjax-container" >
      
      
      






    
  <div id="repository-container-header" data-turbo-replace hidden></div>




<turbo-frame id="repo-content-turbo-frame" target="_top" data-turbo-action="advance" class="">
    <div id="repo-content-pjax-container" class="repository-content " >
      <a href="https://github.dev/" class="d-none js-github-dev-shortcut" data-hotkey=".,Mod+Alt+.">Open in github.dev</a>
  <a href="https://github.dev/" class="d-none js-github-dev-new-tab-shortcut" data-hotkey="Shift+.,Shift+&gt;,&gt;" target="_blank" rel="noopener noreferrer">Open in a new github.dev tab</a>
    <a class="d-none" data-hotkey=",,Mod+Alt+," target="_blank" href="/codespaces/new/krishnaik06/Principle-Component-Analysis/tree/master?resume=1">Open in codespace</a>



    
      
    





<react-app
  app-name="react-code-view"
  initial-path="/krishnaik06/Principle-Component-Analysis/blob/master/PCA.ipynb"
  style="min-height: calc(100vh - 64px)" 
  data-ssr="true"
  data-lazy="false"
  data-alternate="false"
>
  
  <script type="application/json" data-target="react-app.embeddedData">{"payload":{"allShortcutsEnabled":true,"fileTree":{"":{"items":[{"name":"PCA.ipynb","path":"PCA.ipynb","contentType":"file"},{"name":"README.md","path":"README.md","contentType":"file"}],"totalCount":2}},"fileTreeProcessingTime":1.287847,"foldersToFetch":[],"reducedMotionEnabled":"system","repo":{"id":139457613,"defaultBranch":"master","name":"Principle-Component-Analysis","ownerLogin":"krishnaik06","currentUserCanPush":false,"isFork":false,"isEmpty":false,"createdAt":"2018-07-02T20:25:26.000+05:30","ownerAvatar":"https://avatars.githubusercontent.com/u/20041231?v=4","public":true,"private":false,"isOrgOwned":false},"symbolsExpanded":true,"treeExpanded":true,"refInfo":{"name":"master","listCacheKey":"v0:1530543328.0","canEdit":true,"refType":"branch","currentOid":"741a10ff7474254cdcfa30a62d02cb2da98e34d1"},"path":"PCA.ipynb","currentUser":{"id":147756161,"login":"arjunk3x","userEmail":"arjun790713@gmail.com"},"blob":{"rawLines":["{"," \"cells\": [","  {","   \"cell_type\": \"markdown\",","   \"metadata\": {},","   \"source\": [","    \"# Principal Component Analysis(PCA)\"","   ]","  },","  {","   \"cell_type\": \"code\",","   \"execution_count\": 1,","   \"metadata\": {},","   \"outputs\": [],","   \"source\": [","    \"import matplotlib.pyplot as plt\\n\",","    \"import numpy as np\\n\",","    \"import pandas as pd\\n\",","    \"%matplotlib inline\"","   ]","  },","  {","   \"cell_type\": \"code\",","   \"execution_count\": 2,","   \"metadata\": {},","   \"outputs\": [],","   \"source\": [","    \"from sklearn.datasets import load_breast_cancer\"","   ]","  },","  {","   \"cell_type\": \"code\",","   \"execution_count\": 3,","   \"metadata\": {},","   \"outputs\": [],","   \"source\": [","    \"cancer=load_breast_cancer()\"","   ]","  },","  {","   \"cell_type\": \"code\",","   \"execution_count\": 4,","   \"metadata\": {},","   \"outputs\": [","    {","     \"data\": {","      \"text/plain\": [","       \"dict_keys(['data', 'target', 'target_names', 'DESCR', 'feature_names'])\"","      ]","     },","     \"execution_count\": 4,","     \"metadata\": {},","     \"output_type\": \"execute_result\"","    }","   ],","   \"source\": [","    \"cancer.keys()\"","   ]","  },","  {","   \"cell_type\": \"code\",","   \"execution_count\": 5,","   \"metadata\": {},","   \"outputs\": [","    {","     \"name\": \"stdout\",","     \"output_type\": \"stream\",","     \"text\": [","      \"Breast Cancer Wisconsin (Diagnostic) Database\\n\",","      \"=============================================\\n\",","      \"\\n\",","      \"Notes\\n\",","      \"-----\\n\",","      \"Data Set Characteristics:\\n\",","      \"    :Number of Instances: 569\\n\",","      \"\\n\",","      \"    :Number of Attributes: 30 numeric, predictive attributes and the class\\n\",","      \"\\n\",","      \"    :Attribute Information:\\n\",","      \"        - radius (mean of distances from center to points on the perimeter)\\n\",","      \"        - texture (standard deviation of gray-scale values)\\n\",","      \"        - perimeter\\n\",","      \"        - area\\n\",","      \"        - smoothness (local variation in radius lengths)\\n\",","      \"        - compactness (perimeter^2 / area - 1.0)\\n\",","      \"        - concavity (severity of concave portions of the contour)\\n\",","      \"        - concave points (number of concave portions of the contour)\\n\",","      \"        - symmetry \\n\",","      \"        - fractal dimension (\\\"coastline approximation\\\" - 1)\\n\",","      \"\\n\",","      \"        The mean, standard error, and \\\"worst\\\" or largest (mean of the three\\n\",","      \"        largest values) of these features were computed for each image,\\n\",","      \"        resulting in 30 features.  For instance, field 3 is Mean Radius, field\\n\",","      \"        13 is Radius SE, field 23 is Worst Radius.\\n\",","      \"\\n\",","      \"        - class:\\n\",","      \"                - WDBC-Malignant\\n\",","      \"                - WDBC-Benign\\n\",","      \"\\n\",","      \"    :Summary Statistics:\\n\",","      \"\\n\",","      \"    ===================================== ====== ======\\n\",","      \"                                           Min    Max\\n\",","      \"    ===================================== ====== ======\\n\",","      \"    radius (mean):                        6.981  28.11\\n\",","      \"    texture (mean):                       9.71   39.28\\n\",","      \"    perimeter (mean):                     43.79  188.5\\n\",","      \"    area (mean):                          143.5  2501.0\\n\",","      \"    smoothness (mean):                    0.053  0.163\\n\",","      \"    compactness (mean):                   0.019  0.345\\n\",","      \"    concavity (mean):                     0.0    0.427\\n\",","      \"    concave points (mean):                0.0    0.201\\n\",","      \"    symmetry (mean):                      0.106  0.304\\n\",","      \"    fractal dimension (mean):             0.05   0.097\\n\",","      \"    radius (standard error):              0.112  2.873\\n\",","      \"    texture (standard error):             0.36   4.885\\n\",","      \"    perimeter (standard error):           0.757  21.98\\n\",","      \"    area (standard error):                6.802  542.2\\n\",","      \"    smoothness (standard error):          0.002  0.031\\n\",","      \"    compactness (standard error):         0.002  0.135\\n\",","      \"    concavity (standard error):           0.0    0.396\\n\",","      \"    concave points (standard error):      0.0    0.053\\n\",","      \"    symmetry (standard error):            0.008  0.079\\n\",","      \"    fractal dimension (standard error):   0.001  0.03\\n\",","      \"    radius (worst):                       7.93   36.04\\n\",","      \"    texture (worst):                      12.02  49.54\\n\",","      \"    perimeter (worst):                    50.41  251.2\\n\",","      \"    area (worst):                         185.2  4254.0\\n\",","      \"    smoothness (worst):                   0.071  0.223\\n\",","      \"    compactness (worst):                  0.027  1.058\\n\",","      \"    concavity (worst):                    0.0    1.252\\n\",","      \"    concave points (worst):               0.0    0.291\\n\",","      \"    symmetry (worst):                     0.156  0.664\\n\",","      \"    fractal dimension (worst):            0.055  0.208\\n\",","      \"    ===================================== ====== ======\\n\",","      \"\\n\",","      \"    :Missing Attribute Values: None\\n\",","      \"\\n\",","      \"    :Class Distribution: 212 - Malignant, 357 - Benign\\n\",","      \"\\n\",","      \"    :Creator:  Dr. William H. Wolberg, W. Nick Street, Olvi L. Mangasarian\\n\",","      \"\\n\",","      \"    :Donor: Nick Street\\n\",","      \"\\n\",","      \"    :Date: November, 1995\\n\",","      \"\\n\",","      \"This is a copy of UCI ML Breast Cancer Wisconsin (Diagnostic) datasets.\\n\",","      \"https://goo.gl/U2Uwz2\\n\",","      \"\\n\",","      \"Features are computed from a digitized image of a fine needle\\n\",","      \"aspirate (FNA) of a breast mass.  They describe\\n\",","      \"characteristics of the cell nuclei present in the image.\\n\",","      \"\\n\",","      \"Separating plane described above was obtained using\\n\",","      \"Multisurface Method-Tree (MSM-T) [K. P. Bennett, \\\"Decision Tree\\n\",","      \"Construction Via Linear Programming.\\\" Proceedings of the 4th\\n\",","      \"Midwest Artificial Intelligence and Cognitive Science Society,\\n\",","      \"pp. 97-101, 1992], a classification method which uses linear\\n\",","      \"programming to construct a decision tree.  Relevant features\\n\",","      \"were selected using an exhaustive search in the space of 1-4\\n\",","      \"features and 1-3 separating planes.\\n\",","      \"\\n\",","      \"The actual linear program used to obtain the separating plane\\n\",","      \"in the 3-dimensional space is that described in:\\n\",","      \"[K. P. Bennett and O. L. Mangasarian: \\\"Robust Linear\\n\",","      \"Programming Discrimination of Two Linearly Inseparable Sets\\\",\\n\",","      \"Optimization Methods and Software 1, 1992, 23-34].\\n\",","      \"\\n\",","      \"This database is also available through the UW CS ftp server:\\n\",","      \"\\n\",","      \"ftp ftp.cs.wisc.edu\\n\",","      \"cd math-prog/cpo-dataset/machine-learn/WDBC/\\n\",","      \"\\n\",","      \"References\\n\",","      \"----------\\n\",","      \"   - W.N. Street, W.H. Wolberg and O.L. Mangasarian. Nuclear feature extraction \\n\",","      \"     for breast tumor diagnosis. IS\u0026T/SPIE 1993 International Symposium on \\n\",","      \"     Electronic Imaging: Science and Technology, volume 1905, pages 861-870,\\n\",","      \"     San Jose, CA, 1993.\\n\",","      \"   - O.L. Mangasarian, W.N. Street and W.H. Wolberg. Breast cancer diagnosis and \\n\",","      \"     prognosis via linear programming. Operations Research, 43(4), pages 570-577, \\n\",","      \"     July-August 1995.\\n\",","      \"   - W.H. Wolberg, W.N. Street, and O.L. Mangasarian. Machine learning techniques\\n\",","      \"     to diagnose breast cancer from fine-needle aspirates. Cancer Letters 77 (1994) \\n\",","      \"     163-171.\\n\",","      \"\\n\"","     ]","    }","   ],","   \"source\": [","    \"print(cancer['DESCR'])\"","   ]","  },","  {","   \"cell_type\": \"code\",","   \"execution_count\": 6,","   \"metadata\": {},","   \"outputs\": [],","   \"source\": [","    \"df=pd.DataFrame(cancer['data'],columns=cancer['feature_names'])\"","   ]","  },","  {","   \"cell_type\": \"code\",","   \"execution_count\": 7,","   \"metadata\": {},","   \"outputs\": [","    {","     \"data\": {","      \"text/html\": [","       \"\u003cdiv\u003e\\n\",","       \"\u003cstyle scoped\u003e\\n\",","       \"    .dataframe tbody tr th:only-of-type {\\n\",","       \"        vertical-align: middle;\\n\",","       \"    }\\n\",","       \"\\n\",","       \"    .dataframe tbody tr th {\\n\",","       \"        vertical-align: top;\\n\",","       \"    }\\n\",","       \"\\n\",","       \"    .dataframe thead th {\\n\",","       \"        text-align: right;\\n\",","       \"    }\\n\",","       \"\u003c/style\u003e\\n\",","       \"\u003ctable border=\\\"1\\\" class=\\\"dataframe\\\"\u003e\\n\",","       \"  \u003cthead\u003e\\n\",","       \"    \u003ctr style=\\\"text-align: right;\\\"\u003e\\n\",","       \"      \u003cth\u003e\u003c/th\u003e\\n\",","       \"      \u003cth\u003emean radius\u003c/th\u003e\\n\",","       \"      \u003cth\u003emean texture\u003c/th\u003e\\n\",","       \"      \u003cth\u003emean perimeter\u003c/th\u003e\\n\",","       \"      \u003cth\u003emean area\u003c/th\u003e\\n\",","       \"      \u003cth\u003emean smoothness\u003c/th\u003e\\n\",","       \"      \u003cth\u003emean compactness\u003c/th\u003e\\n\",","       \"      \u003cth\u003emean concavity\u003c/th\u003e\\n\",","       \"      \u003cth\u003emean concave points\u003c/th\u003e\\n\",","       \"      \u003cth\u003emean symmetry\u003c/th\u003e\\n\",","       \"      \u003cth\u003emean fractal dimension\u003c/th\u003e\\n\",","       \"      \u003cth\u003e...\u003c/th\u003e\\n\",","       \"      \u003cth\u003eworst radius\u003c/th\u003e\\n\",","       \"      \u003cth\u003eworst texture\u003c/th\u003e\\n\",","       \"      \u003cth\u003eworst perimeter\u003c/th\u003e\\n\",","       \"      \u003cth\u003eworst area\u003c/th\u003e\\n\",","       \"      \u003cth\u003eworst smoothness\u003c/th\u003e\\n\",","       \"      \u003cth\u003eworst compactness\u003c/th\u003e\\n\",","       \"      \u003cth\u003eworst concavity\u003c/th\u003e\\n\",","       \"      \u003cth\u003eworst concave points\u003c/th\u003e\\n\",","       \"      \u003cth\u003eworst symmetry\u003c/th\u003e\\n\",","       \"      \u003cth\u003eworst fractal dimension\u003c/th\u003e\\n\",","       \"    \u003c/tr\u003e\\n\",","       \"  \u003c/thead\u003e\\n\",","       \"  \u003ctbody\u003e\\n\",","       \"    \u003ctr\u003e\\n\",","       \"      \u003cth\u003e0\u003c/th\u003e\\n\",","       \"      \u003ctd\u003e17.99\u003c/td\u003e\\n\",","       \"      \u003ctd\u003e10.38\u003c/td\u003e\\n\",","       \"      \u003ctd\u003e122.80\u003c/td\u003e\\n\",","       \"      \u003ctd\u003e1001.0\u003c/td\u003e\\n\",","       \"      \u003ctd\u003e0.11840\u003c/td\u003e\\n\",","       \"      \u003ctd\u003e0.27760\u003c/td\u003e\\n\",","       \"      \u003ctd\u003e0.3001\u003c/td\u003e\\n\",","       \"      \u003ctd\u003e0.14710\u003c/td\u003e\\n\",","       \"      \u003ctd\u003e0.2419\u003c/td\u003e\\n\",","       \"      \u003ctd\u003e0.07871\u003c/td\u003e\\n\",","       \"      \u003ctd\u003e...\u003c/td\u003e\\n\",","       \"      \u003ctd\u003e25.38\u003c/td\u003e\\n\",","       \"      \u003ctd\u003e17.33\u003c/td\u003e\\n\",","       \"      \u003ctd\u003e184.60\u003c/td\u003e\\n\",","       \"      \u003ctd\u003e2019.0\u003c/td\u003e\\n\",","       \"      \u003ctd\u003e0.1622\u003c/td\u003e\\n\",","       \"      \u003ctd\u003e0.6656\u003c/td\u003e\\n\",","       \"      \u003ctd\u003e0.7119\u003c/td\u003e\\n\",","       \"      \u003ctd\u003e0.2654\u003c/td\u003e\\n\",","       \"      \u003ctd\u003e0.4601\u003c/td\u003e\\n\",","       \"      \u003ctd\u003e0.11890\u003c/td\u003e\\n\",","       \"    \u003c/tr\u003e\\n\",","       \"    \u003ctr\u003e\\n\",","       \"      \u003cth\u003e1\u003c/th\u003e\\n\",","       \"      \u003ctd\u003e20.57\u003c/td\u003e\\n\",","       \"      \u003ctd\u003e17.77\u003c/td\u003e\\n\",","       \"      \u003ctd\u003e132.90\u003c/td\u003e\\n\",","       \"      \u003ctd\u003e1326.0\u003c/td\u003e\\n\",","       \"      \u003ctd\u003e0.08474\u003c/td\u003e\\n\",","       \"      \u003ctd\u003e0.07864\u003c/td\u003e\\n\",","       \"      \u003ctd\u003e0.0869\u003c/td\u003e\\n\",","       \"      \u003ctd\u003e0.07017\u003c/td\u003e\\n\",","       \"      \u003ctd\u003e0.1812\u003c/td\u003e\\n\",","       \"      \u003ctd\u003e0.05667\u003c/td\u003e\\n\",","       \"      \u003ctd\u003e...\u003c/td\u003e\\n\",","       \"      \u003ctd\u003e24.99\u003c/td\u003e\\n\",","       \"      \u003ctd\u003e23.41\u003c/td\u003e\\n\",","       \"      \u003ctd\u003e158.80\u003c/td\u003e\\n\",","       \"      \u003ctd\u003e1956.0\u003c/td\u003e\\n\",","       \"      \u003ctd\u003e0.1238\u003c/td\u003e\\n\",","       \"      \u003ctd\u003e0.1866\u003c/td\u003e\\n\",","       \"      \u003ctd\u003e0.2416\u003c/td\u003e\\n\",","       \"      \u003ctd\u003e0.1860\u003c/td\u003e\\n\",","       \"      \u003ctd\u003e0.2750\u003c/td\u003e\\n\",","       \"      \u003ctd\u003e0.08902\u003c/td\u003e\\n\",","       \"    \u003c/tr\u003e\\n\",","       \"    \u003ctr\u003e\\n\",","       \"      \u003cth\u003e2\u003c/th\u003e\\n\",","       \"      \u003ctd\u003e19.69\u003c/td\u003e\\n\",","       \"      \u003ctd\u003e21.25\u003c/td\u003e\\n\",","       \"      \u003ctd\u003e130.00\u003c/td\u003e\\n\",","       \"      \u003ctd\u003e1203.0\u003c/td\u003e\\n\",","       \"      \u003ctd\u003e0.10960\u003c/td\u003e\\n\",","       \"      \u003ctd\u003e0.15990\u003c/td\u003e\\n\",","       \"      \u003ctd\u003e0.1974\u003c/td\u003e\\n\",","       \"      \u003ctd\u003e0.12790\u003c/td\u003e\\n\",","       \"      \u003ctd\u003e0.2069\u003c/td\u003e\\n\",","       \"      \u003ctd\u003e0.05999\u003c/td\u003e\\n\",","       \"      \u003ctd\u003e...\u003c/td\u003e\\n\",","       \"      \u003ctd\u003e23.57\u003c/td\u003e\\n\",","       \"      \u003ctd\u003e25.53\u003c/td\u003e\\n\",","       \"      \u003ctd\u003e152.50\u003c/td\u003e\\n\",","       \"      \u003ctd\u003e1709.0\u003c/td\u003e\\n\",","       \"      \u003ctd\u003e0.1444\u003c/td\u003e\\n\",","       \"      \u003ctd\u003e0.4245\u003c/td\u003e\\n\",","       \"      \u003ctd\u003e0.4504\u003c/td\u003e\\n\",","       \"      \u003ctd\u003e0.2430\u003c/td\u003e\\n\",","       \"      \u003ctd\u003e0.3613\u003c/td\u003e\\n\",","       \"      \u003ctd\u003e0.08758\u003c/td\u003e\\n\",","       \"    \u003c/tr\u003e\\n\",","       \"    \u003ctr\u003e\\n\",","       \"      \u003cth\u003e3\u003c/th\u003e\\n\",","       \"      \u003ctd\u003e11.42\u003c/td\u003e\\n\",","       \"      \u003ctd\u003e20.38\u003c/td\u003e\\n\",","       \"      \u003ctd\u003e77.58\u003c/td\u003e\\n\",","       \"      \u003ctd\u003e386.1\u003c/td\u003e\\n\",","       \"      \u003ctd\u003e0.14250\u003c/td\u003e\\n\",","       \"      \u003ctd\u003e0.28390\u003c/td\u003e\\n\",","       \"      \u003ctd\u003e0.2414\u003c/td\u003e\\n\",","       \"      \u003ctd\u003e0.10520\u003c/td\u003e\\n\",","       \"      \u003ctd\u003e0.2597\u003c/td\u003e\\n\",","       \"      \u003ctd\u003e0.09744\u003c/td\u003e\\n\",","       \"      \u003ctd\u003e...\u003c/td\u003e\\n\",","       \"      \u003ctd\u003e14.91\u003c/td\u003e\\n\",","       \"      \u003ctd\u003e26.50\u003c/td\u003e\\n\",","       \"      \u003ctd\u003e98.87\u003c/td\u003e\\n\",","       \"      \u003ctd\u003e567.7\u003c/td\u003e\\n\",","       \"      \u003ctd\u003e0.2098\u003c/td\u003e\\n\",","       \"      \u003ctd\u003e0.8663\u003c/td\u003e\\n\",","       \"      \u003ctd\u003e0.6869\u003c/td\u003e\\n\",","       \"      \u003ctd\u003e0.2575\u003c/td\u003e\\n\",","       \"      \u003ctd\u003e0.6638\u003c/td\u003e\\n\",","       \"      \u003ctd\u003e0.17300\u003c/td\u003e\\n\",","       \"    \u003c/tr\u003e\\n\",","       \"    \u003ctr\u003e\\n\",","       \"      \u003cth\u003e4\u003c/th\u003e\\n\",","       \"      \u003ctd\u003e20.29\u003c/td\u003e\\n\",","       \"      \u003ctd\u003e14.34\u003c/td\u003e\\n\",","       \"      \u003ctd\u003e135.10\u003c/td\u003e\\n\",","       \"      \u003ctd\u003e1297.0\u003c/td\u003e\\n\",","       \"      \u003ctd\u003e0.10030\u003c/td\u003e\\n\",","       \"      \u003ctd\u003e0.13280\u003c/td\u003e\\n\",","       \"      \u003ctd\u003e0.1980\u003c/td\u003e\\n\",","       \"      \u003ctd\u003e0.10430\u003c/td\u003e\\n\",","       \"      \u003ctd\u003e0.1809\u003c/td\u003e\\n\",","       \"      \u003ctd\u003e0.05883\u003c/td\u003e\\n\",","       \"      \u003ctd\u003e...\u003c/td\u003e\\n\",","       \"      \u003ctd\u003e22.54\u003c/td\u003e\\n\",","       \"      \u003ctd\u003e16.67\u003c/td\u003e\\n\",","       \"      \u003ctd\u003e152.20\u003c/td\u003e\\n\",","       \"      \u003ctd\u003e1575.0\u003c/td\u003e\\n\",","       \"      \u003ctd\u003e0.1374\u003c/td\u003e\\n\",","       \"      \u003ctd\u003e0.2050\u003c/td\u003e\\n\",","       \"      \u003ctd\u003e0.4000\u003c/td\u003e\\n\",","       \"      \u003ctd\u003e0.1625\u003c/td\u003e\\n\",","       \"      \u003ctd\u003e0.2364\u003c/td\u003e\\n\",","       \"      \u003ctd\u003e0.07678\u003c/td\u003e\\n\",","       \"    \u003c/tr\u003e\\n\",","       \"  \u003c/tbody\u003e\\n\",","       \"\u003c/table\u003e\\n\",","       \"\u003cp\u003e5 rows × 30 columns\u003c/p\u003e\\n\",","       \"\u003c/div\u003e\"","      ],","      \"text/plain\": [","       \"   mean radius  mean texture  mean perimeter  mean area  mean smoothness  \\\\\\n\",","       \"0        17.99         10.38          122.80     1001.0          0.11840   \\n\",","       \"1        20.57         17.77          132.90     1326.0          0.08474   \\n\",","       \"2        19.69         21.25          130.00     1203.0          0.10960   \\n\",","       \"3        11.42         20.38           77.58      386.1          0.14250   \\n\",","       \"4        20.29         14.34          135.10     1297.0          0.10030   \\n\",","       \"\\n\",","       \"   mean compactness  mean concavity  mean concave points  mean symmetry  \\\\\\n\",","       \"0           0.27760          0.3001              0.14710         0.2419   \\n\",","       \"1           0.07864          0.0869              0.07017         0.1812   \\n\",","       \"2           0.15990          0.1974              0.12790         0.2069   \\n\",","       \"3           0.28390          0.2414              0.10520         0.2597   \\n\",","       \"4           0.13280          0.1980              0.10430         0.1809   \\n\",","       \"\\n\",","       \"   mean fractal dimension           ...             worst radius  \\\\\\n\",","       \"0                 0.07871           ...                    25.38   \\n\",","       \"1                 0.05667           ...                    24.99   \\n\",","       \"2                 0.05999           ...                    23.57   \\n\",","       \"3                 0.09744           ...                    14.91   \\n\",","       \"4                 0.05883           ...                    22.54   \\n\",","       \"\\n\",","       \"   worst texture  worst perimeter  worst area  worst smoothness  \\\\\\n\",","       \"0          17.33           184.60      2019.0            0.1622   \\n\",","       \"1          23.41           158.80      1956.0            0.1238   \\n\",","       \"2          25.53           152.50      1709.0            0.1444   \\n\",","       \"3          26.50            98.87       567.7            0.2098   \\n\",","       \"4          16.67           152.20      1575.0            0.1374   \\n\",","       \"\\n\",","       \"   worst compactness  worst concavity  worst concave points  worst symmetry  \\\\\\n\",","       \"0             0.6656           0.7119                0.2654          0.4601   \\n\",","       \"1             0.1866           0.2416                0.1860          0.2750   \\n\",","       \"2             0.4245           0.4504                0.2430          0.3613   \\n\",","       \"3             0.8663           0.6869                0.2575          0.6638   \\n\",","       \"4             0.2050           0.4000                0.1625          0.2364   \\n\",","       \"\\n\",","       \"   worst fractal dimension  \\n\",","       \"0                  0.11890  \\n\",","       \"1                  0.08902  \\n\",","       \"2                  0.08758  \\n\",","       \"3                  0.17300  \\n\",","       \"4                  0.07678  \\n\",","       \"\\n\",","       \"[5 rows x 30 columns]\"","      ]","     },","     \"execution_count\": 7,","     \"metadata\": {},","     \"output_type\": \"execute_result\"","    }","   ],","   \"source\": [","    \"df.head(5)\"","   ]","  },","  {","   \"cell_type\": \"code\",","   \"execution_count\": 8,","   \"metadata\": {},","   \"outputs\": [],","   \"source\": [","    \"from sklearn.preprocessing import MinMaxScaler\"","   ]","  },","  {","   \"cell_type\": \"code\",","   \"execution_count\": 9,","   \"metadata\": {},","   \"outputs\": [],","   \"source\": [","    \"from sklearn.preprocessing import StandardScaler\"","   ]","  },","  {","   \"cell_type\": \"code\",","   \"execution_count\": 10,","   \"metadata\": {},","   \"outputs\": [","    {","     \"data\": {","      \"text/plain\": [","       \"StandardScaler(copy=True, with_mean=True, with_std=True)\"","      ]","     },","     \"execution_count\": 10,","     \"metadata\": {},","     \"output_type\": \"execute_result\"","    }","   ],","   \"source\": [","    \"scaler=StandardScaler()\\n\",","    \"scaler.fit(df)\"","   ]","  },","  {","   \"cell_type\": \"code\",","   \"execution_count\": 11,","   \"metadata\": {},","   \"outputs\": [],","   \"source\": [","    \"scaled_data=scaler.transform(df)\"","   ]","  },","  {","   \"cell_type\": \"code\",","   \"execution_count\": 12,","   \"metadata\": {},","   \"outputs\": [","    {","     \"data\": {","      \"text/plain\": [","       \"array([[ 1.09706398, -2.07333501,  1.26993369, ...,  2.29607613,\\n\",","       \"         2.75062224,  1.93701461],\\n\",","       \"       [ 1.82982061, -0.35363241,  1.68595471, ...,  1.0870843 ,\\n\",","       \"        -0.24388967,  0.28118999],\\n\",","       \"       [ 1.57988811,  0.45618695,  1.56650313, ...,  1.95500035,\\n\",","       \"         1.152255  ,  0.20139121],\\n\",","       \"       ...,\\n\",","       \"       [ 0.70228425,  2.0455738 ,  0.67267578, ...,  0.41406869,\\n\",","       \"        -1.10454895, -0.31840916],\\n\",","       \"       [ 1.83834103,  2.33645719,  1.98252415, ...,  2.28998549,\\n\",","       \"         1.91908301,  2.21963528],\\n\",","       \"       [-1.80840125,  1.22179204, -1.81438851, ..., -1.74506282,\\n\",","       \"        -0.04813821, -0.75120669]])\"","      ]","     },","     \"execution_count\": 12,","     \"metadata\": {},","     \"output_type\": \"execute_result\"","    }","   ],","   \"source\": [","    \"scaled_data\"","   ]","  },","  {","   \"cell_type\": \"code\",","   \"execution_count\": 13,","   \"metadata\": {},","   \"outputs\": [],","   \"source\": [","    \"from sklearn.decomposition import PCA\"","   ]","  },","  {","   \"cell_type\": \"code\",","   \"execution_count\": 14,","   \"metadata\": {},","   \"outputs\": [],","   \"source\": [","    \"pca=PCA(n_components=2)\"","   ]","  },","  {","   \"cell_type\": \"code\",","   \"execution_count\": 15,","   \"metadata\": {},","   \"outputs\": [","    {","     \"data\": {","      \"text/plain\": [","       \"PCA(copy=True, iterated_power='auto', n_components=2, random_state=None,\\n\",","       \"  svd_solver='auto', tol=0.0, whiten=False)\"","      ]","     },","     \"execution_count\": 15,","     \"metadata\": {},","     \"output_type\": \"execute_result\"","    }","   ],","   \"source\": [","    \"pca.fit(scaled_data)\"","   ]","  },","  {","   \"cell_type\": \"code\",","   \"execution_count\": 16,","   \"metadata\": {},","   \"outputs\": [],","   \"source\": [","    \"x_pca=pca.transform(scaled_data)\"","   ]","  },","  {","   \"cell_type\": \"code\",","   \"execution_count\": 17,","   \"metadata\": {},","   \"outputs\": [","    {","     \"data\": {","      \"text/plain\": [","       \"(569, 30)\"","      ]","     },","     \"execution_count\": 17,","     \"metadata\": {},","     \"output_type\": \"execute_result\"","    }","   ],","   \"source\": [","    \"scaled_data.shape\"","   ]","  },","  {","   \"cell_type\": \"code\",","   \"execution_count\": 18,","   \"metadata\": {},","   \"outputs\": [","    {","     \"data\": {","      \"text/plain\": [","       \"(569, 2)\"","      ]","     },","     \"execution_count\": 18,","     \"metadata\": {},","     \"output_type\": \"execute_result\"","    }","   ],","   \"source\": [","    \"x_pca.shape\"","   ]","  },","  {","   \"cell_type\": \"code\",","   \"execution_count\": 19,","   \"metadata\": {},","   \"outputs\": [","    {","     \"data\": {","      \"text/plain\": [","       \"array([[ 1.09706398, -2.07333501,  1.26993369, ...,  2.29607613,\\n\",","       \"         2.75062224,  1.93701461],\\n\",","       \"       [ 1.82982061, -0.35363241,  1.68595471, ...,  1.0870843 ,\\n\",","       \"        -0.24388967,  0.28118999],\\n\",","       \"       [ 1.57988811,  0.45618695,  1.56650313, ...,  1.95500035,\\n\",","       \"         1.152255  ,  0.20139121],\\n\",","       \"       ...,\\n\",","       \"       [ 0.70228425,  2.0455738 ,  0.67267578, ...,  0.41406869,\\n\",","       \"        -1.10454895, -0.31840916],\\n\",","       \"       [ 1.83834103,  2.33645719,  1.98252415, ...,  2.28998549,\\n\",","       \"         1.91908301,  2.21963528],\\n\",","       \"       [-1.80840125,  1.22179204, -1.81438851, ..., -1.74506282,\\n\",","       \"        -0.04813821, -0.75120669]])\"","      ]","     },","     \"execution_count\": 19,","     \"metadata\": {},","     \"output_type\": \"execute_result\"","    }","   ],","   \"source\": [","    \"scaled_data\"","   ]","  },","  {","   \"cell_type\": \"code\",","   \"execution_count\": 20,","   \"metadata\": {},","   \"outputs\": [","    {","     \"data\": {","      \"text/plain\": [","       \"array([[ 9.19283683,  1.94858307],\\n\",","       \"       [ 2.3878018 , -3.76817174],\\n\",","       \"       [ 5.73389628, -1.0751738 ],\\n\",","       \"       ...,\\n\",","       \"       [ 1.25617928, -1.90229671],\\n\",","       \"       [10.37479406,  1.67201011],\\n\",","       \"       [-5.4752433 , -0.67063679]])\"","      ]","     },","     \"execution_count\": 20,","     \"metadata\": {},","     \"output_type\": \"execute_result\"","    }","   ],","   \"source\": [","    \"x_pca\\n\"","   ]","  },","  {","   \"cell_type\": \"code\",","   \"execution_count\": 21,","   \"metadata\": {},","   \"outputs\": [","    {","     \"data\": {","      \"text/plain\": [","       \"Text(0,0.5,'Second principle component')\"","      ]","     },","     \"execution_count\": 21,","     \"metadata\": {},","     \"output_type\": \"execute_result\"","    },","    {","     \"data\": {","      \"image/png\": \"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\\n\",","      \"text/plain\": [","       \"\u003cmatplotlib.figure.Figure at 0x1e8d4161588\u003e\"","      ]","     },","     \"metadata\": {},","     \"output_type\": \"display_data\"","    }","   ],","   \"source\": [","    \"plt.figure(figsize=(8,6))\\n\",","    \"plt.scatter(x_pca[:,0],x_pca[:,1],c=cancer['target'])\\n\",","    \"plt.xlabel('First principle component')\\n\",","    \"plt.ylabel('Second principle component')\\n\",","    \"\\n\",","    \"\\n\",","    \"\\n\"","   ]","  },","  {","   \"cell_type\": \"code\",","   \"execution_count\": null,","   \"metadata\": {},","   \"outputs\": [],","   \"source\": []","  }"," ],"," \"metadata\": {","  \"kernelspec\": {","   \"display_name\": \"Python 3\",","   \"language\": \"python\",","   \"name\": \"python3\"","  },","  \"language_info\": {","   \"codemirror_mode\": {","    \"name\": \"ipython\",","    \"version\": 3","   },","   \"file_extension\": \".py\",","   \"mimetype\": \"text/x-python\",","   \"name\": \"python\",","   \"nbconvert_exporter\": \"python\",","   \"pygments_lexer\": \"ipython3\",","   \"version\": \"3.6.4\"","  }"," },"," \"nbformat\": 4,"," \"nbformat_minor\": 2","}"],"stylingDirectives":null,"csv":null,"csvError":null,"dependabotInfo":{"showConfigurationBanner":false,"configFilePath":null,"networkDependabotPath":"/krishnaik06/Principle-Component-Analysis/network/updates","dismissConfigurationNoticePath":"/settings/dismiss-notice/dependabot_configuration_notice","configurationNoticeDismissed":false,"repoAlertsPath":"/krishnaik06/Principle-Component-Analysis/security/dependabot","repoSecurityAndAnalysisPath":"/krishnaik06/Principle-Component-Analysis/settings/security_analysis","repoOwnerIsOrg":false,"currentUserCanAdminRepo":false},"displayName":"PCA.ipynb","displayUrl":"https://notebooks.githubusercontent.com/view/ipynb?browser=chrome\u0026bypass_fastly=true\u0026color_mode=auto\u0026commit=741a10ff7474254cdcfa30a62d02cb2da98e34d1\u0026device=unknown_device\u0026docs_host=https%3A%2F%2Fdocs.github.com\u0026enc_url=68747470733a2f2f7261772e67697468756275736572636f6e74656e742e636f6d2f6b726973686e61696b30362f5072696e6369706c652d436f6d706f6e656e742d416e616c797369732f373431613130666637343734323534636463666133306136326430326362326461393865333464312f5043412e6970796e62\u0026logged_in=true\u0026nwo=krishnaik06%2FPrinciple-Component-Analysis\u0026path=PCA.ipynb\u0026platform=windows\u0026repository_id=139457613\u0026repository_type=Repository\u0026version=120","headerInfo":{"blobSize":"82.6 KB","deleteInfo":{"deleteTooltip":"Fork this repository and delete the file"},"editInfo":{"editTooltip":"Fork this repository and edit the file"},"ghDesktopPath":"https://desktop.github.com","gitLfsPath":null,"onBranch":true,"shortPath":"0f7b434","siteNavLoginPath":"/login?return_to=https%3A%2F%2Fgithub.com%2Fkrishnaik06%2FPrinciple-Component-Analysis%2Fblob%2Fmaster%2FPCA.ipynb","isCSV":false,"isRichtext":false,"toc":null,"lineInfo":{"truncatedLoc":"724","truncatedSloc":"724"},"mode":"file"},"image":false,"isCodeownersFile":null,"isPlain":false,"isValidLegacyIssueTemplate":false,"issueTemplateHelpUrl":"https://docs.github.com/articles/about-issue-and-pull-request-templates","issueTemplate":null,"discussionTemplate":null,"language":"Jupyter Notebook","languageID":185,"large":false,"loggedIn":true,"newDiscussionPath":"/krishnaik06/Principle-Component-Analysis/discussions/new","newIssuePath":"/krishnaik06/Principle-Component-Analysis/issues/new","planSupportInfo":{"repoIsFork":null,"repoOwnedByCurrentUser":null,"requestFullPath":"/krishnaik06/Principle-Component-Analysis/blob/master/PCA.ipynb","showFreeOrgGatedFeatureMessage":null,"showPlanSupportBanner":null,"upgradeDataAttributes":null,"upgradePath":null},"publishBannersInfo":{"dismissActionNoticePath":"/settings/dismiss-notice/publish_action_from_dockerfile","dismissStackNoticePath":"/settings/dismiss-notice/publish_stack_from_file","releasePath":"/krishnaik06/Principle-Component-Analysis/releases/new?marketplace=true","showPublishActionBanner":false,"showPublishStackBanner":false},"rawBlobUrl":"https://github.com/krishnaik06/Principle-Component-Analysis/raw/master/PCA.ipynb","renderImageOrRaw":false,"richText":null,"renderedFileInfo":{"identityUUID":"7e3c9d59-3594-43b9-ac87-fba31fe296a7","renderFileType":"ipynb","size":84629},"shortPath":null,"tabSize":8,"topBannersInfo":{"overridingGlobalFundingFile":false,"globalPreferredFundingPath":null,"repoOwner":"krishnaik06","repoName":"Principle-Component-Analysis","showInvalidCitationWarning":false,"citationHelpUrl":"https://docs.github.com/en/github/creating-cloning-and-archiving-repositories/creating-a-repository-on-github/about-citation-files","showDependabotConfigurationBanner":false,"actionsOnboardingTip":null},"truncated":false,"viewable":true,"workflowRedirectUrl":null,"symbols":{"timed_out":false,"not_analyzed":true,"symbols":[]}},"copilotInfo":{"documentationUrl":"https://docs.github.com/copilot/overview-of-github-copilot/about-github-copilot-for-individuals","notices":{"codeViewPopover":{"dismissed":false,"dismissPath":"/settings/dismiss-notice/code_view_copilot_popover"}},"userAccess":{"accessAllowed":false,"hasSubscriptionEnded":false,"orgHasCFBAccess":false,"userHasCFIAccess":false,"userHasOrgs":false,"userIsOrgAdmin":false,"userIsOrgMember":false,"business":null,"featureRequestInfo":null}},"copilotAccessAllowed":false,"csrf_tokens":{"/krishnaik06/Principle-Component-Analysis/branches":{"post":"Od2Twd1ug6E36j4RVQWLz59Cj9NK0F52CqHlCf1yCFbCYwtuglNBI22ZyrFCmAAhPz9kJd-escqJCzSUHbomLw"},"/repos/preferences":{"post":"wbl7emFvr_8HG6A7XSlAZyX5sh0BoKiskt0w2QkAiwFbXbwEh2npSkdf-ShfHrV9b8krlfDBRUZnf2veC9Lw3Q"}}},"title":"Principle-Component-Analysis/PCA.ipynb at master · krishnaik06/Principle-Component-Analysis","appPayload":{"helpUrl":"https://docs.github.com","findFileWorkerPath":"/assets-cdn/worker/find-file-worker-32bb159cc57c.js","findInFileWorkerPath":"/assets-cdn/worker/find-in-file-worker-c6704d501c10.js","githubDevUrl":"https://github.dev/","enabled_features":{"code_nav_ui_events":false,"copilot_conversational_ux":false,"copilot_conversational_ux_embedding_update":false,"copilot_conversational_ux_streaming":true,"copilot_popover_file_editor_header":true,"copilot_smell_icebreaker_ux":false,"react_blob_snake_symbols":true}}}</script>
  <div data-target="react-app.reactRoot"><style data-styled="true" data-styled-version="5.3.6">.fNPcqd{font-weight:600;font-size:32px;margin:0;font-size:14px;}/*!sc*/
.imcwCi{font-weight:600;font-size:32px;margin:0;font-size:16px;margin-left:8px;}/*!sc*/
.cgQnMS{font-weight:600;font-size:32px;margin:0;}/*!sc*/
.diwsLq{font-weight:600;font-size:32px;margin:0;font-weight:600;display:inline-block;max-width:100%;font-size:16px;}/*!sc*/
.jAEDJk{font-weight:600;font-size:32px;margin:0;font-weight:600;display:inline-block;max-width:100%;font-size:14px;}/*!sc*/
data-styled.g1[id="Heading__StyledHeading-sc-1c1dgg0-0"]{content:"fNPcqd,imcwCi,cgQnMS,diwsLq,jAEDJk,"}/*!sc*/
.fSWWem{padding:0;}/*!sc*/
.kPPmzM{max-width:100%;margin-left:auto;margin-right:auto;display:-webkit-box;display:-webkit-flex;display:-ms-flexbox;display:flex;-webkit-flex-wrap:wrap;-ms-flex-wrap:wrap;flex-wrap:wrap;}/*!sc*/
.cIAPDV{display:-webkit-box;display:-webkit-flex;display:-ms-flexbox;display:flex;-webkit-flex:1 1 100%;-ms-flex:1 1 100%;flex:1 1 100%;-webkit-flex-wrap:wrap;-ms-flex-wrap:wrap;flex-wrap:wrap;max-width:100%;}/*!sc*/
.gvCnwW{width:100%;}/*!sc*/
@media screen and (min-width:544px){.gvCnwW{width:100%;}}/*!sc*/
@media screen and (min-width:768px){.gvCnwW{width:auto;}}/*!sc*/
.heUiss{display:-webkit-box;display:-webkit-flex;display:-ms-flexbox;display:flex;-webkit-order:1;-ms-flex-order:1;order:1;width:100%;margin-left:0;margin-right:0;-webkit-flex-direction:column;-ms-flex-direction:column;flex-direction:column;margin-bottom:0;min-width:0;}/*!sc*/
@media screen and (min-width:544px){.heUiss{-webkit-flex-direction:column;-ms-flex-direction:column;flex-direction:column;}}/*!sc*/
@media screen and (min-width:768px){.heUiss{width:auto;margin-top:0 !important;margin-bottom:0 !important;position:-webkit-sticky;position:sticky;top:0px;max-height:var(--sticky-pane-height);-webkit-flex-direction:row;-ms-flex-direction:row;flex-direction:row;margin-right:0;}}/*!sc*/
@media screen and (min-width:769px){.heUiss{height:100vh;max-height:100vh !important;}}/*!sc*/
@media print,screen and (max-width:1349px) and (min-width:768px){.heUiss{display:none;}}/*!sc*/
.eUyHuk{margin-left:0;margin-right:0;display:none;margin-top:0;}/*!sc*/
@media screen and (min-width:768px){.eUyHuk{margin-left:0 !important;margin-right:0 !important;}}/*!sc*/
.gNdDUH{--pane-min-width:256px;--pane-max-width-diff:511px;--pane-max-width:calc(100vw - var(--pane-max-width-diff));width:100%;padding:0;}/*!sc*/
@media screen and (min-width:544px){}/*!sc*/
@media screen and (min-width:768px){.gNdDUH{width:clamp(var(--pane-min-width),var(--pane-width),var(--pane-max-width));overflow:auto;}}/*!sc*/
@media screen and (min-width:1280px){.gNdDUH{--pane-max-width-diff:959px;}}/*!sc*/
.jywUSN{max-height:100%;height:100%;display:-webkit-box;display:-webkit-flex;display:-ms-flexbox;display:flex;-webkit-flex-direction:column;-ms-flex-direction:column;flex-direction:column;}/*!sc*/
@media screen and (max-width:768px){.jywUSN{display:none;}}/*!sc*/
@media screen and (min-width:768px){.jywUSN{max-height:100vh;height:100vh;}}/*!sc*/
.hBSSUC{display:-webkit-box;display:-webkit-flex;display:-ms-flexbox;display:flex;-webkit-flex-direction:column;-ms-flex-direction:column;flex-direction:column;-webkit-align-items:center;-webkit-box-align:center;-ms-flex-align:center;align-items:center;padding-left:16px;padding-right:16px;padding-bottom:8px;padding-top:16px;}/*!sc*/
.iPurHz{display:-webkit-box;display:-webkit-flex;display:-ms-flexbox;display:flex;width:100%;margin-bottom:16px;-webkit-align-items:center;-webkit-box-align:center;-ms-flex-align:center;align-items:center;}/*!sc*/
.kkrdEu{-webkit-box-pack:center;-webkit-justify-content:center;-ms-flex-pack:center;justify-content:center;}/*!sc*/
.trpoQ{display:-webkit-box;display:-webkit-flex;display:-ms-flexbox;display:flex;pointer-events:none;}/*!sc*/
.hVHHYa{margin-left:24px;margin-right:24px;display:-webkit-box;display:-webkit-flex;display:-ms-flexbox;display:flex;width:100%;}/*!sc*/
.idZfsJ{-webkit-box-flex:1;-webkit-flex-grow:1;-ms-flex-positive:1;flex-grow:1;}/*!sc*/
.bKgizp{display:-webkit-box;display:-webkit-flex;display:-ms-flexbox;display:flex;width:100%;}/*!sc*/
.bwTunw{margin-right:4px;color:#7d8590;}/*!sc*/
.caeYDk{font-size:14px;min-width:0;overflow:hidden;text-overflow:ellipsis;white-space:nowrap;}/*!sc*/
.jahcnb{margin-left:8px;white-space:nowrap;}/*!sc*/
.jahcnb:hover button:not(:hover){border-left-color:var(--button-default-borderColor-hover,var(--color-btn-hover-border));}/*!sc*/
.ccToMy{margin-left:16px;margin-right:16px;margin-bottom:12px;}/*!sc*/
@media screen and (max-width:768px){.ccToMy{display:none;}}/*!sc*/
.cNvKlH{margin-right:-6px;}/*!sc*/
.cLfAnm{-webkit-box-flex:1;-webkit-flex-grow:1;-ms-flex-positive:1;flex-grow:1;max-height:100% !important;overflow-y:auto;-webkit-scrollbar-gutter:stable;-moz-scrollbar-gutter:stable;-ms-scrollbar-gutter:stable;scrollbar-gutter:stable;}/*!sc*/
@media screen and (max-width:768px){.cLfAnm{display:none;}}/*!sc*/
.erWCJP{padding-left:16px;padding-right:16px;padding-bottom:8px;}/*!sc*/
.hAeDYA{height:100%;position:relative;display:none;margin-left:0;}/*!sc*/
.dZCkhR{position:absolute;inset:0 -2px;cursor:col-resize;background-color:transparent;-webkit-transition-delay:0.1s;transition-delay:0.1s;}/*!sc*/
.dZCkhR:hover{background-color:rgba(110,118,129,0.4);}/*!sc*/
.emFMJu{display:-webkit-box;display:-webkit-flex;display:-ms-flexbox;display:flex;-webkit-flex-direction:column;-ms-flex-direction:column;flex-direction:column;-webkit-order:2;-ms-flex-order:2;order:2;-webkit-flex-basis:0;-ms-flex-preferred-size:0;flex-basis:0;-webkit-box-flex:1;-webkit-flex-grow:1;-ms-flex-positive:1;flex-grow:1;-webkit-flex-shrink:1;-ms-flex-negative:1;flex-shrink:1;min-width:1px;margin-right:auto;}/*!sc*/
@media print{.emFMJu{display:-webkit-box !important;display:-webkit-flex !important;display:-ms-flexbox !important;display:flex !important;}}/*!sc*/
.hlUAHL{width:100%;max-width:100%;margin-left:auto;margin-right:auto;-webkit-box-flex:1;-webkit-flex-grow:1;-ms-flex-positive:1;flex-grow:1;padding:0;}/*!sc*/
.iStsmI{margin-left:auto;margin-right:auto;-webkit-flex-direction:column;-ms-flex-direction:column;flex-direction:column;padding-bottom:40px;max-width:100%;margin-top:0;}/*!sc*/
.eIgvIk{display:inherit;}/*!sc*/
.eVFfWF{width:100%;}/*!sc*/
.kgXdnT{padding:16px;padding-bottom:0;}/*!sc*/
.kzTa-dF{display:-webkit-box;display:-webkit-flex;display:-ms-flexbox;display:flex;-webkit-flex-direction:column;-ms-flex-direction:column;flex-direction:column;-webkit-box-pack:justify;-webkit-justify-content:space-between;-ms-flex-pack:justify;justify-content:space-between;gap:16px;width:100%;}/*!sc*/
.bbXCl{display:-webkit-box;display:-webkit-flex;display:-ms-flexbox;display:flex;-webkit-flex-direction:row;-ms-flex-direction:row;flex-direction:row;-webkit-align-items:start;-webkit-box-align:start;-ms-flex-align:start;align-items:start;-webkit-box-pack:justify;-webkit-justify-content:space-between;-ms-flex-pack:justify;justify-content:space-between;}/*!sc*/
.hGGMNu{display:-webkit-box;display:-webkit-flex;display:-ms-flexbox;display:flex;-webkit-flex-direction:row;-ms-flex-direction:row;flex-direction:row;-webkit-align-items:start;-webkit-box-align:start;-ms-flex-align:start;align-items:start;-webkit-box-pack:justify;-webkit-justify-content:space-between;-ms-flex-pack:justify;justify-content:space-between;justify-self:flex-end;}/*!sc*/
.eHRrYV{margin-left:8px;margin-right:8px;}/*!sc*/
.dKmYfk{font-size:14px;min-width:0;max-width:125px;overflow:hidden;text-overflow:ellipsis;white-space:nowrap;}/*!sc*/
.hSNzKh{justify-self:end;max-width:100%;}/*!sc*/
.eTvGbF{display:-webkit-box;display:-webkit-flex;display:-ms-flexbox;display:flex;-webkit-flex-direction:row;-ms-flex-direction:row;flex-direction:row;font-size:16px;min-width:0;-webkit-flex-shrink:1;-ms-flex-negative:1;flex-shrink:1;-webkit-flex-wrap:wrap;-ms-flex-wrap:wrap;flex-wrap:wrap;max-width:100%;-webkit-align-items:center;-webkit-box-align:center;-ms-flex-align:center;align-items:center;}/*!sc*/
.kzRgrI{max-width:100%;}/*!sc*/
.cmAPIB{max-width:100%;list-style:none;display:inline-block;}/*!sc*/
.jwXCBK{display:inline-block;max-width:100%;}/*!sc*/
.bDwCYs{padding:16px;padding-bottom:0;padding-left:16px;padding-right:16px;}/*!sc*/
.fywjmm{display:-webkit-box;display:-webkit-flex;display:-ms-flexbox;display:flex;gap:8px;-webkit-flex-direction:column;-ms-flex-direction:column;flex-direction:column;width:100%;}/*!sc*/
.dyczTK{display:-webkit-box;display:-webkit-flex;display:-ms-flexbox;display:flex;-webkit-align-items:start;-webkit-box-align:start;-ms-flex-align:start;align-items:start;-webkit-box-pack:justify;-webkit-justify-content:space-between;-ms-flex-pack:justify;justify-content:space-between;gap:8px;}/*!sc*/
.kszRgZ{-webkit-align-self:center;-ms-flex-item-align:center;align-self:center;display:-webkit-box;display:-webkit-flex;display:-ms-flexbox;display:flex;padding-right:8px;min-width:0;}/*!sc*/
.gtBUEp{min-height:32px;display:-webkit-box;display:-webkit-flex;display:-ms-flexbox;display:flex;-webkit-align-items:start;-webkit-box-align:start;-ms-flex-align:start;align-items:start;}/*!sc*/
.MERGN{margin-left:16px;margin-right:16px;}/*!sc*/
@media screen and (min-width:1440px){.MERGN{margin-left:16px;}}/*!sc*/
.cMYnca{display:-webkit-box;display:-webkit-flex;display:-ms-flexbox;display:flex;-webkit-flex-direction:column;-ms-flex-direction:column;flex-direction:column;}/*!sc*/
.brFBoI{display:-webkit-box;display:-webkit-flex;display:-ms-flexbox;display:flex;-webkit-flex-direction:column;-ms-flex-direction:column;flex-direction:column;border:1px solid;border-color:#30363d;border-radius:6px;margin-bottom:16px;}/*!sc*/
.eYedVD{display:-webkit-box;display:-webkit-flex;display:-ms-flexbox;display:flex;-webkit-flex-direction:row;-ms-flex-direction:row;flex-direction:row;-webkit-box-pack:justify;-webkit-justify-content:space-between;-ms-flex-pack:justify;justify-content:space-between;-webkit-align-items:center;-webkit-box-align:center;-ms-flex-align:center;align-items:center;gap:8px;min-width:273px;padding-right:8px;padding-left:16px;padding-top:8px;padding-bottom:8px;}/*!sc*/
.jGfYmh{display:-webkit-box;display:-webkit-flex;display:-ms-flexbox;display:flex;gap:8px;}/*!sc*/
.lhFvfi{display:-webkit-box;display:-webkit-flex;display:-ms-flexbox;display:flex;-webkit-align-items:center;-webkit-box-align:center;-ms-flex-align:center;align-items:center;}/*!sc*/
.bqgLjk{display:inherit;}/*!sc*/
@media screen and (min-width:544px){.bqgLjk{display:none;}}/*!sc*/
@media screen and (min-width:768px){.bqgLjk{display:none;}}/*!sc*/
.iJmJly{display:-webkit-box;display:-webkit-flex;display:-ms-flexbox;display:flex;-webkit-flex-direction:row;-ms-flex-direction:row;flex-direction:row;}/*!sc*/
.jACbi{width:100%;height:-webkit-fit-content;height:-moz-fit-content;height:fit-content;min-width:0;margin-right:0;}/*!sc*/
.bSdwWB{padding-left:4px;padding-bottom:16px;}/*!sc*/
.fleZSW{-webkit-align-items:center;-webkit-box-align:center;-ms-flex-align:center;align-items:center;}/*!sc*/
.fOEJrA{font-size:12px;-webkit-flex:auto;-ms-flex:auto;flex:auto;padding-right:16px;color:#7d8590;min-width:0;}/*!sc*/
.gIACTV{top:0px;z-index:1;background:var(--bgColor-default,var(--color-canvas-default));position:-webkit-sticky;position:sticky;}/*!sc*/
.ePiodO{display:-webkit-box;display:-webkit-flex;display:-ms-flexbox;display:flex;-webkit-flex-direction:column;-ms-flex-direction:column;flex-direction:column;width:100%;position:absolute;}/*!sc*/
.kQJlnf{display:none;min-width:0;padding-top:8px;padding-bottom:8px;}/*!sc*/
.gJICKO{margin-right:8px;margin-left:16px;text-overflow:ellipsis;overflow:hidden;display:-webkit-box;display:-webkit-flex;display:-ms-flexbox;display:flex;-webkit-flex-direction:row;-ms-flex-direction:row;flex-direction:row;-webkit-align-items:center;-webkit-box-align:center;-ms-flex-align:center;align-items:center;-webkit-box-pack:justify;-webkit-justify-content:space-between;-ms-flex-pack:justify;justify-content:space-between;width:100%;}/*!sc*/
.iZJewz{display:-webkit-box;display:-webkit-flex;display:-ms-flexbox;display:flex;-webkit-flex-direction:row;-ms-flex-direction:row;flex-direction:row;font-size:14px;min-width:0;-webkit-flex-shrink:1;-ms-flex-negative:1;flex-shrink:1;-webkit-flex-wrap:wrap;-ms-flex-wrap:wrap;flex-wrap:wrap;max-width:100%;-webkit-align-items:center;-webkit-box-align:center;-ms-flex-align:center;align-items:center;}/*!sc*/
.bESQXL{padding-left:8px;padding-top:8px;padding-bottom:8px;display:-webkit-box;display:-webkit-flex;display:-ms-flexbox;display:flex;-webkit-flex:1;-ms-flex:1;flex:1;-webkit-align-items:center;-webkit-box-align:center;-ms-flex-align:center;align-items:center;-webkit-box-pack:justify;-webkit-justify-content:space-between;-ms-flex-pack:justify;justify-content:space-between;background-color:#161b22;border:1px solid var(--borderColor-default,var(--color-border-default));border-radius:6px 6px 0px 0px;}/*!sc*/
.bfkNRF{display:-webkit-box;display:-webkit-flex;display:-ms-flexbox;display:flex;-webkit-align-items:center;-webkit-box-align:center;-ms-flex-align:center;align-items:center;gap:8px;min-width:0;}/*!sc*/
.fXBLEV{display:block;position:relative;-webkit-box-flex:1;-webkit-flex-grow:1;-ms-flex-positive:1;flex-grow:1;margin-top:-1px;margin-bottom:-1px;--separator-color:transparent;}/*!sc*/
.fXBLEV:not(:last-child){margin-right:1px;}/*!sc*/
.fXBLEV:not(:last-child):after{background-color:var(--separator-color);content:"";position:absolute;right:-2px;top:8px;bottom:8px;width:1px;}/*!sc*/
.fXBLEV:focus-within:has(:focus-visible){--separator-color:transparent;}/*!sc*/
.fXBLEV:first-child{margin-left:-1px;}/*!sc*/
.fXBLEV:last-child{margin-right:-1px;}/*!sc*/
.gbKtit{display:block;position:relative;-webkit-box-flex:1;-webkit-flex-grow:1;-ms-flex-positive:1;flex-grow:1;margin-top:-1px;margin-bottom:-1px;--separator-color:#30363d;}/*!sc*/
.gbKtit:not(:last-child){margin-right:1px;}/*!sc*/
.gbKtit:not(:last-child):after{background-color:var(--separator-color);content:"";position:absolute;right:-2px;top:8px;bottom:8px;width:1px;}/*!sc*/
.gbKtit:focus-within:has(:focus-visible){--separator-color:transparent;}/*!sc*/
.gbKtit:first-child{margin-left:-1px;}/*!sc*/
.gbKtit:last-child{margin-right:-1px;}/*!sc*/
.iBylDf{display:-webkit-box;display:-webkit-flex;display:-ms-flexbox;display:flex;-webkit-align-items:center;-webkit-box-align:center;-ms-flex-align:center;align-items:center;gap:8px;margin-right:8px;}/*!sc*/
.kSGBPx{gap:8px;}/*!sc*/
.etfROT{border:1px solid;border-top:none;border-color:#30363d;border-radius:0px 0px 6px 6px;min-width:273px;}/*!sc*/
.eJsjkT{background-color:var(--bgColor-default,var(--color-canvas-default));border:0px;border-width:0;border-radius:0px 0px 6px 6px;padding:0;min-width:0;margin-top:46px;overflow:auto;}/*!sc*/
.aZrVR{position:fixed;top:0;right:0;height:100%;width:15px;-webkit-transition:-webkit-transform 0.3s;-webkit-transition:transform 0.3s;transition:transform 0.3s;z-index:1;}/*!sc*/
.aZrVR:hover{-webkit-transform:scaleX(1.5);-ms-transform:scaleX(1.5);transform:scaleX(1.5);}/*!sc*/
.bAzdCq{display:-webkit-box;display:-webkit-flex;display:-ms-flexbox;display:flex;-webkit-flex-direction:column;-ms-flex-direction:column;flex-direction:column;-webkit-align-items:center;-webkit-box-align:center;-ms-flex-align:center;align-items:center;padding-top:16px;padding-bottom:16px;}/*!sc*/
data-styled.g2[id="Box-sc-g0xbh4-0"]{content:"fSWWem,kPPmzM,cIAPDV,gvCnwW,heUiss,eUyHuk,gNdDUH,jywUSN,hBSSUC,iPurHz,kkrdEu,trpoQ,hVHHYa,idZfsJ,bKgizp,bwTunw,caeYDk,jahcnb,ccToMy,cNvKlH,cLfAnm,erWCJP,hAeDYA,dZCkhR,emFMJu,hlUAHL,iStsmI,eIgvIk,eVFfWF,kgXdnT,kzTa-dF,bbXCl,hGGMNu,eHRrYV,dKmYfk,hSNzKh,eTvGbF,kzRgrI,cmAPIB,jwXCBK,bDwCYs,fywjmm,dyczTK,kszRgZ,gtBUEp,MERGN,cMYnca,brFBoI,eYedVD,jGfYmh,lhFvfi,bqgLjk,iJmJly,jACbi,bSdwWB,fleZSW,fOEJrA,gIACTV,ePiodO,kQJlnf,gJICKO,iZJewz,bESQXL,bfkNRF,fXBLEV,gbKtit,iBylDf,kSGBPx,etfROT,eJsjkT,aZrVR,bAzdCq,"}/*!sc*/
body[data-page-layout-dragging="true"]{cursor:col-resize;}/*!sc*/
body[data-page-layout-dragging="true"] *{-webkit-user-select:none;-moz-user-select:none;-ms-user-select:none;user-select:none;}/*!sc*/
data-styled.g3[id="sc-global-gbKrvU1"]{content:"sc-global-gbKrvU1,"}/*!sc*/
.bOMzPg{min-width:0;}/*!sc*/
.fWVgeN{padding-left:4px;padding-right:4px;font-weight:400;color:#7d8590;font-size:16px;}/*!sc*/
.hfRvxg{color:#e6edf3;}/*!sc*/
.iqTHmv{padding-left:4px;padding-right:4px;font-weight:400;color:#7d8590;font-size:14px;}/*!sc*/
data-styled.g6[id="Text-sc-17v1xeu-0"]{content:"bOMzPg,fWVgeN,hfRvxg,gPDEWA,iqTHmv,"}/*!sc*/
.bJroUH{color:#2f81f7;-webkit-text-decoration:none;text-decoration:none;font-weight:600;}/*!sc*/
[data-a11y-link-underlines='true'] .Link__StyledLink-sc-14289xe-0[data-inline='true']{-webkit-text-decoration:underline;text-decoration:underline;}/*!sc*/
.bJroUH:hover{-webkit-text-decoration:underline;text-decoration:underline;}/*!sc*/
.bJroUH:is(button){display:inline-block;padding:0;font-size:inherit;white-space:nowrap;cursor:pointer;-webkit-user-select:none;-moz-user-select:none;-ms-user-select:none;user-select:none;background-color:transparent;border:0;-webkit-appearance:none;-moz-appearance:none;appearance:none;}/*!sc*/
.GCHqa{color:#2f81f7;-webkit-text-decoration:none;text-decoration:none;}/*!sc*/
[data-a11y-link-underlines='true'] .Link__StyledLink-sc-14289xe-0[data-inline='true']{-webkit-text-decoration:underline;text-decoration:underline;}/*!sc*/
.GCHqa:hover{-webkit-text-decoration:underline;text-decoration:underline;}/*!sc*/
.GCHqa:is(button){display:inline-block;padding:0;font-size:inherit;white-space:nowrap;cursor:pointer;-webkit-user-select:none;-moz-user-select:none;-ms-user-select:none;user-select:none;background-color:transparent;border:0;-webkit-appearance:none;-moz-appearance:none;appearance:none;}/*!sc*/
data-styled.g8[id="Link__StyledLink-sc-14289xe-0"]{content:"bJroUH,GCHqa,"}/*!sc*/
.kdFvja{border-radius:6px;border:1px solid;border-color:transparent;font-family:inherit;font-weight:500;font-size:14px;cursor:pointer;-webkit-appearance:none;-moz-appearance:none;appearance:none;-webkit-user-select:none;-moz-user-select:none;-ms-user-select:none;user-select:none;-webkit-text-decoration:none;text-decoration:none;text-align:center;display:-webkit-box;display:-webkit-flex;display:-ms-flexbox;display:flex;-webkit-align-items:center;-webkit-box-align:center;-ms-flex-align:center;align-items:center;-webkit-box-pack:justify;-webkit-justify-content:space-between;-ms-flex-pack:justify;justify-content:space-between;height:32px;padding:0 12px;gap:8px;min-width:-webkit-max-content;min-width:-moz-max-content;min-width:max-content;-webkit-transition:80ms cubic-bezier(0.65,0,0.35,1);transition:80ms cubic-bezier(0.65,0,0.35,1);-webkit-transition-property:color,fill,background-color,border-color;transition-property:color,fill,background-color,border-color;color:#c9d1d9;background-color:transparent;box-shadow:none;}/*!sc*/
.kdFvja:focus:not(:disabled){box-shadow:none;outline:2px solid #2f81f7;outline-offset:-2px;}/*!sc*/
.kdFvja:focus:not(:disabled):not(:focus-visible){outline:solid 1px transparent;}/*!sc*/
.kdFvja:focus-visible:not(:disabled){box-shadow:none;outline:2px solid #2f81f7;outline-offset:-2px;}/*!sc*/
.kdFvja[href]{display:-webkit-inline-box;display:-webkit-inline-flex;display:-ms-inline-flexbox;display:inline-flex;}/*!sc*/
.kdFvja[href]:hover{-webkit-text-decoration:none;text-decoration:none;}/*!sc*/
.kdFvja:hover{-webkit-transition-duration:80ms;transition-duration:80ms;}/*!sc*/
.kdFvja:active{-webkit-transition:none;transition:none;}/*!sc*/
.kdFvja[data-inactive]{cursor:auto;}/*!sc*/
.kdFvja:disabled{cursor:not-allowed;box-shadow:none;color:#484f58;}/*!sc*/
.kdFvja:disabled [data-component=ButtonCounter],.kdFvja:disabled [data-component="leadingVisual"],.kdFvja:disabled [data-component="trailingAction"]{color:inherit;}/*!sc*/
@media (forced-colors:active){.kdFvja:focus{outline:solid 1px transparent;}}/*!sc*/
.kdFvja [data-component=ButtonCounter]{font-size:12px;}/*!sc*/
.kdFvja[data-component=IconButton]{display:inline-grid;padding:unset;place-content:center;width:32px;min-width:unset;}/*!sc*/
.kdFvja[data-size="small"]{padding:0 8px;height:28px;gap:4px;font-size:12px;}/*!sc*/
.kdFvja[data-size="small"] [data-component="text"]{line-height:calc(20 / 12);}/*!sc*/
.kdFvja[data-size="small"] [data-component=ButtonCounter]{font-size:12px;}/*!sc*/
.kdFvja[data-size="small"] [data-component="buttonContent"] > :not(:last-child){margin-right:4px;}/*!sc*/
.kdFvja[data-size="small"][data-component=IconButton]{width:28px;padding:unset;}/*!sc*/
.kdFvja[data-size="large"]{padding:0 16px;height:40px;gap:8px;}/*!sc*/
.kdFvja[data-size="large"] [data-component="buttonContent"] > :not(:last-child){margin-right:8px;}/*!sc*/
.kdFvja[data-size="large"][data-component=IconButton]{width:40px;padding:unset;}/*!sc*/
.kdFvja[data-block="block"]{width:100%;}/*!sc*/
.kdFvja[data-inactive]:not([disabled]){background-color:var(--button-inactive-bgColor,#21262d);border-color:var(--button-inactive-bgColor,#21262d);color:var(--button-inactive-fgColor,#8b949e);}/*!sc*/
.kdFvja[data-inactive]:not([disabled]):focus-visible{box-shadow:none;}/*!sc*/
.kdFvja [data-component="leadingVisual"]{grid-area:leadingVisual;color:#7d8590;}/*!sc*/
.kdFvja [data-component="text"]{grid-area:text;line-height:calc(20/14);white-space:nowrap;}/*!sc*/
.kdFvja [data-component="trailingVisual"]{grid-area:trailingVisual;}/*!sc*/
.kdFvja [data-component="trailingAction"]{margin-right:-4px;color:#7d8590;}/*!sc*/
.kdFvja [data-component="buttonContent"]{-webkit-flex:1 0 auto;-ms-flex:1 0 auto;flex:1 0 auto;display:grid;grid-template-areas:"leadingVisual text trailingVisual";grid-template-columns:min-content minmax(0,auto) min-content;-webkit-align-items:center;-webkit-box-align:center;-ms-flex-align:center;align-items:center;-webkit-align-content:center;-ms-flex-line-pack:center;align-content:center;}/*!sc*/
.kdFvja [data-component="buttonContent"] > :not(:last-child){margin-right:8px;}/*!sc*/
.kdFvja:hover:not([disabled]){background-color:rgba(177,186,196,0.12);}/*!sc*/
.kdFvja:active:not([disabled]){background-color:rgba(177,186,196,0.2);}/*!sc*/
.kdFvja[aria-expanded=true]{background-color:rgba(177,186,196,0.08);}/*!sc*/
.kdFvja[data-component="IconButton"][data-no-visuals]{color:#7d8590;}/*!sc*/
.kdFvja[data-no-visuals]{color:#2f81f7;}/*!sc*/
.kdFvja:has([data-component="ButtonCounter"]){color:#c9d1d9;}/*!sc*/
.kdFvja:disabled[data-no-visuals]{color:#484f58;}/*!sc*/
.kdFvja:disabled[data-no-visuals] [data-component=ButtonCounter]{color:inherit;}/*!sc*/
.kdFvja{color:#7d8590;padding-left:8px;padding-right:8px;display:none;}/*!sc*/
@media screen and (max-width:768px){.kdFvja{display:block;}}/*!sc*/
.dkDIZP{border-radius:6px;border:1px solid;border-color:transparent;font-family:inherit;font-weight:500;font-size:14px;cursor:pointer;-webkit-appearance:none;-moz-appearance:none;appearance:none;-webkit-user-select:none;-moz-user-select:none;-ms-user-select:none;user-select:none;-webkit-text-decoration:none;text-decoration:none;text-align:center;display:-webkit-box;display:-webkit-flex;display:-ms-flexbox;display:flex;-webkit-align-items:center;-webkit-box-align:center;-ms-flex-align:center;align-items:center;-webkit-box-pack:justify;-webkit-justify-content:space-between;-ms-flex-pack:justify;justify-content:space-between;height:32px;padding:0 12px;gap:8px;min-width:-webkit-max-content;min-width:-moz-max-content;min-width:max-content;-webkit-transition:80ms cubic-bezier(0.65,0,0.35,1);transition:80ms cubic-bezier(0.65,0,0.35,1);-webkit-transition-property:color,fill,background-color,border-color;transition-property:color,fill,background-color,border-color;color:#c9d1d9;background-color:transparent;box-shadow:none;}/*!sc*/
.dkDIZP:focus:not(:disabled){box-shadow:none;outline:2px solid #2f81f7;outline-offset:-2px;}/*!sc*/
.dkDIZP:focus:not(:disabled):not(:focus-visible){outline:solid 1px transparent;}/*!sc*/
.dkDIZP:focus-visible:not(:disabled){box-shadow:none;outline:2px solid #2f81f7;outline-offset:-2px;}/*!sc*/
.dkDIZP[href]{display:-webkit-inline-box;display:-webkit-inline-flex;display:-ms-inline-flexbox;display:inline-flex;}/*!sc*/
.dkDIZP[href]:hover{-webkit-text-decoration:none;text-decoration:none;}/*!sc*/
.dkDIZP:hover{-webkit-transition-duration:80ms;transition-duration:80ms;}/*!sc*/
.dkDIZP:active{-webkit-transition:none;transition:none;}/*!sc*/
.dkDIZP[data-inactive]{cursor:auto;}/*!sc*/
.dkDIZP:disabled{cursor:not-allowed;box-shadow:none;color:#484f58;}/*!sc*/
.dkDIZP:disabled [data-component=ButtonCounter],.dkDIZP:disabled [data-component="leadingVisual"],.dkDIZP:disabled [data-component="trailingAction"]{color:inherit;}/*!sc*/
@media (forced-colors:active){.dkDIZP:focus{outline:solid 1px transparent;}}/*!sc*/
.dkDIZP [data-component=ButtonCounter]{font-size:12px;}/*!sc*/
.dkDIZP[data-component=IconButton]{display:inline-grid;padding:unset;place-content:center;width:32px;min-width:unset;}/*!sc*/
.dkDIZP[data-size="small"]{padding:0 8px;height:28px;gap:4px;font-size:12px;}/*!sc*/
.dkDIZP[data-size="small"] [data-component="text"]{line-height:calc(20 / 12);}/*!sc*/
.dkDIZP[data-size="small"] [data-component=ButtonCounter]{font-size:12px;}/*!sc*/
.dkDIZP[data-size="small"] [data-component="buttonContent"] > :not(:last-child){margin-right:4px;}/*!sc*/
.dkDIZP[data-size="small"][data-component=IconButton]{width:28px;padding:unset;}/*!sc*/
.dkDIZP[data-size="large"]{padding:0 16px;height:40px;gap:8px;}/*!sc*/
.dkDIZP[data-size="large"] [data-component="buttonContent"] > :not(:last-child){margin-right:8px;}/*!sc*/
.dkDIZP[data-size="large"][data-component=IconButton]{width:40px;padding:unset;}/*!sc*/
.dkDIZP[data-block="block"]{width:100%;}/*!sc*/
.dkDIZP[data-inactive]:not([disabled]){background-color:var(--button-inactive-bgColor,#21262d);border-color:var(--button-inactive-bgColor,#21262d);color:var(--button-inactive-fgColor,#8b949e);}/*!sc*/
.dkDIZP[data-inactive]:not([disabled]):focus-visible{box-shadow:none;}/*!sc*/
.dkDIZP [data-component="leadingVisual"]{grid-area:leadingVisual;color:#7d8590;}/*!sc*/
.dkDIZP [data-component="text"]{grid-area:text;line-height:calc(20/14);white-space:nowrap;}/*!sc*/
.dkDIZP [data-component="trailingVisual"]{grid-area:trailingVisual;}/*!sc*/
.dkDIZP [data-component="trailingAction"]{margin-right:-4px;color:#7d8590;}/*!sc*/
.dkDIZP [data-component="buttonContent"]{-webkit-flex:1 0 auto;-ms-flex:1 0 auto;flex:1 0 auto;display:grid;grid-template-areas:"leadingVisual text trailingVisual";grid-template-columns:min-content minmax(0,auto) min-content;-webkit-align-items:center;-webkit-box-align:center;-ms-flex-align:center;align-items:center;-webkit-align-content:center;-ms-flex-line-pack:center;align-content:center;}/*!sc*/
.dkDIZP [data-component="buttonContent"] > :not(:last-child){margin-right:8px;}/*!sc*/
.dkDIZP:hover:not([disabled]){background-color:rgba(177,186,196,0.12);}/*!sc*/
.dkDIZP:active:not([disabled]){background-color:rgba(177,186,196,0.2);}/*!sc*/
.dkDIZP[aria-expanded=true]{background-color:rgba(177,186,196,0.08);}/*!sc*/
.dkDIZP[data-component="IconButton"][data-no-visuals]{color:#7d8590;}/*!sc*/
.dkDIZP[data-no-visuals]{color:#7d8590;height:32px;position:relative;}/*!sc*/
@media screen and (max-width:768px){.dkDIZP[data-no-visuals]{display:none;}}/*!sc*/
.dkDIZP:has([data-component="ButtonCounter"]){color:#c9d1d9;}/*!sc*/
.dkDIZP:disabled[data-no-visuals]{color:#484f58;}/*!sc*/
.dkDIZP:disabled[data-no-visuals] [data-component=ButtonCounter]{color:inherit;}/*!sc*/
.gFQuzL{border-radius:6px;border:1px solid;border-color:var(--button-default-borderColor-rest,rgba(240,246,252,0.1));font-family:inherit;font-weight:500;font-size:14px;cursor:pointer;-webkit-appearance:none;-moz-appearance:none;appearance:none;-webkit-user-select:none;-moz-user-select:none;-ms-user-select:none;user-select:none;-webkit-text-decoration:none;text-decoration:none;text-align:center;display:-webkit-box;display:-webkit-flex;display:-ms-flexbox;display:flex;-webkit-align-items:center;-webkit-box-align:center;-ms-flex-align:center;align-items:center;-webkit-box-pack:justify;-webkit-justify-content:space-between;-ms-flex-pack:justify;justify-content:space-between;height:32px;padding:0 12px;gap:8px;min-width:-webkit-max-content;min-width:-moz-max-content;min-width:max-content;-webkit-transition:80ms cubic-bezier(0.65,0,0.35,1);transition:80ms cubic-bezier(0.65,0,0.35,1);-webkit-transition-property:color,fill,background-color,border-color;transition-property:color,fill,background-color,border-color;color:#c9d1d9;background-color:#21262d;box-shadow:0 0 transparent,0 0 transparent;}/*!sc*/
.gFQuzL:focus:not(:disabled){box-shadow:none;outline:2px solid #2f81f7;outline-offset:-2px;}/*!sc*/
.gFQuzL:focus:not(:disabled):not(:focus-visible){outline:solid 1px transparent;}/*!sc*/
.gFQuzL:focus-visible:not(:disabled){box-shadow:none;outline:2px solid #2f81f7;outline-offset:-2px;}/*!sc*/
.gFQuzL[href]{display:-webkit-inline-box;display:-webkit-inline-flex;display:-ms-inline-flexbox;display:inline-flex;}/*!sc*/
.gFQuzL[href]:hover{-webkit-text-decoration:none;text-decoration:none;}/*!sc*/
.gFQuzL:hover{-webkit-transition-duration:80ms;transition-duration:80ms;}/*!sc*/
.gFQuzL:active{-webkit-transition:none;transition:none;}/*!sc*/
.gFQuzL[data-inactive]{cursor:auto;}/*!sc*/
.gFQuzL:disabled{cursor:not-allowed;box-shadow:none;color:#484f58;}/*!sc*/
.gFQuzL:disabled [data-component=ButtonCounter]{color:inherit;}/*!sc*/
@media (forced-colors:active){.gFQuzL:focus{outline:solid 1px transparent;}}/*!sc*/
.gFQuzL [data-component=ButtonCounter]{font-size:12px;}/*!sc*/
.gFQuzL[data-component=IconButton]{display:inline-grid;padding:unset;place-content:center;width:32px;min-width:unset;}/*!sc*/
.gFQuzL[data-size="small"]{padding:0 8px;height:28px;gap:4px;font-size:12px;}/*!sc*/
.gFQuzL[data-size="small"] [data-component="text"]{line-height:calc(20 / 12);}/*!sc*/
.gFQuzL[data-size="small"] [data-component=ButtonCounter]{font-size:12px;}/*!sc*/
.gFQuzL[data-size="small"] [data-component="buttonContent"] > :not(:last-child){margin-right:4px;}/*!sc*/
.gFQuzL[data-size="small"][data-component=IconButton]{width:28px;padding:unset;}/*!sc*/
.gFQuzL[data-size="large"]{padding:0 16px;height:40px;gap:8px;}/*!sc*/
.gFQuzL[data-size="large"] [data-component="buttonContent"] > :not(:last-child){margin-right:8px;}/*!sc*/
.gFQuzL[data-size="large"][data-component=IconButton]{width:40px;padding:unset;}/*!sc*/
.gFQuzL[data-block="block"]{width:100%;}/*!sc*/
.gFQuzL[data-inactive]:not([disabled]){background-color:var(--button-inactive-bgColor,#21262d);border-color:var(--button-inactive-bgColor,#21262d);color:var(--button-inactive-fgColor,#8b949e);}/*!sc*/
.gFQuzL[data-inactive]:not([disabled]):focus-visible{box-shadow:none;}/*!sc*/
.gFQuzL [data-component="leadingVisual"]{grid-area:leadingVisual;}/*!sc*/
.gFQuzL [data-component="text"]{grid-area:text;line-height:calc(20/14);white-space:nowrap;}/*!sc*/
.gFQuzL [data-component="trailingVisual"]{grid-area:trailingVisual;}/*!sc*/
.gFQuzL [data-component="trailingAction"]{margin-right:-4px;}/*!sc*/
.gFQuzL [data-component="buttonContent"]{-webkit-flex:1 0 auto;-ms-flex:1 0 auto;flex:1 0 auto;display:grid;grid-template-areas:"leadingVisual text trailingVisual";grid-template-columns:min-content minmax(0,auto) min-content;-webkit-align-items:center;-webkit-box-align:center;-ms-flex-align:center;align-items:center;-webkit-align-content:center;-ms-flex-line-pack:center;align-content:center;}/*!sc*/
.gFQuzL [data-component="buttonContent"] > :not(:last-child){margin-right:8px;}/*!sc*/
.gFQuzL:hover:not([disabled]):not([data-inactive]){background-color:#30363d;border-color:var(--button-default-borderColor-hover,#8b949e);}/*!sc*/
.gFQuzL:active:not([disabled]):not([data-inactive]){background-color:hsla(212,12%,18%,1);border-color:var(--button-default-borderColor-active,#6e7681);}/*!sc*/
.gFQuzL[aria-expanded=true]{background-color:hsla(212,12%,18%,1);border-color:var(--button-default-borderColor-active,#6e7681);}/*!sc*/
.gFQuzL [data-component="leadingVisual"],.gFQuzL [data-component="trailingVisual"],.gFQuzL [data-component="trailingAction"]{color:var(--button-color,#7d8590);}/*!sc*/
.gFQuzL{display:-webkit-box;display:-webkit-flex;display:-ms-flexbox;display:flex;min-width:0;}/*!sc*/
.gFQuzL svg{color:#7d8590;}/*!sc*/
.gFQuzL > span{width:inherit;}/*!sc*/
.bTTPJZ{border-radius:6px;border:1px solid;border-color:var(--button-default-borderColor-rest,rgba(240,246,252,0.1));font-family:inherit;font-weight:500;font-size:14px;cursor:pointer;-webkit-appearance:none;-moz-appearance:none;appearance:none;-webkit-user-select:none;-moz-user-select:none;-ms-user-select:none;user-select:none;-webkit-text-decoration:none;text-decoration:none;text-align:center;display:-webkit-box;display:-webkit-flex;display:-ms-flexbox;display:flex;-webkit-align-items:center;-webkit-box-align:center;-ms-flex-align:center;align-items:center;-webkit-box-pack:justify;-webkit-justify-content:space-between;-ms-flex-pack:justify;justify-content:space-between;height:32px;padding:0 12px;gap:8px;min-width:-webkit-max-content;min-width:-moz-max-content;min-width:max-content;-webkit-transition:80ms cubic-bezier(0.65,0,0.35,1);transition:80ms cubic-bezier(0.65,0,0.35,1);-webkit-transition-property:color,fill,background-color,border-color;transition-property:color,fill,background-color,border-color;color:#c9d1d9;background-color:#21262d;box-shadow:0 0 transparent,0 0 transparent;}/*!sc*/
.bTTPJZ:focus:not(:disabled){box-shadow:none;outline:2px solid #2f81f7;outline-offset:-2px;}/*!sc*/
.bTTPJZ:focus:not(:disabled):not(:focus-visible){outline:solid 1px transparent;}/*!sc*/
.bTTPJZ:focus-visible:not(:disabled){box-shadow:none;outline:2px solid #2f81f7;outline-offset:-2px;}/*!sc*/
.bTTPJZ[href]{display:-webkit-inline-box;display:-webkit-inline-flex;display:-ms-inline-flexbox;display:inline-flex;}/*!sc*/
.bTTPJZ[href]:hover{-webkit-text-decoration:none;text-decoration:none;}/*!sc*/
.bTTPJZ:hover{-webkit-transition-duration:80ms;transition-duration:80ms;}/*!sc*/
.bTTPJZ:active{-webkit-transition:none;transition:none;}/*!sc*/
.bTTPJZ[data-inactive]{cursor:auto;}/*!sc*/
.bTTPJZ:disabled{cursor:not-allowed;box-shadow:none;color:#484f58;}/*!sc*/
.bTTPJZ:disabled [data-component=ButtonCounter]{color:inherit;}/*!sc*/
@media (forced-colors:active){.bTTPJZ:focus{outline:solid 1px transparent;}}/*!sc*/
.bTTPJZ [data-component=ButtonCounter]{font-size:12px;}/*!sc*/
.bTTPJZ[data-component=IconButton]{display:inline-grid;padding:unset;place-content:center;width:32px;min-width:unset;}/*!sc*/
.bTTPJZ[data-size="small"]{padding:0 8px;height:28px;gap:4px;font-size:12px;}/*!sc*/
.bTTPJZ[data-size="small"] [data-component="text"]{line-height:calc(20 / 12);}/*!sc*/
.bTTPJZ[data-size="small"] [data-component=ButtonCounter]{font-size:12px;}/*!sc*/
.bTTPJZ[data-size="small"] [data-component="buttonContent"] > :not(:last-child){margin-right:4px;}/*!sc*/
.bTTPJZ[data-size="small"][data-component=IconButton]{width:28px;padding:unset;}/*!sc*/
.bTTPJZ[data-size="large"]{padding:0 16px;height:40px;gap:8px;}/*!sc*/
.bTTPJZ[data-size="large"] [data-component="buttonContent"] > :not(:last-child){margin-right:8px;}/*!sc*/
.bTTPJZ[data-size="large"][data-component=IconButton]{width:40px;padding:unset;}/*!sc*/
.bTTPJZ[data-block="block"]{width:100%;}/*!sc*/
.bTTPJZ[data-inactive]:not([disabled]){background-color:var(--button-inactive-bgColor,#21262d);border-color:var(--button-inactive-bgColor,#21262d);color:var(--button-inactive-fgColor,#8b949e);}/*!sc*/
.bTTPJZ[data-inactive]:not([disabled]):focus-visible{box-shadow:none;}/*!sc*/
.bTTPJZ [data-component="leadingVisual"]{grid-area:leadingVisual;}/*!sc*/
.bTTPJZ [data-component="text"]{grid-area:text;line-height:calc(20/14);white-space:nowrap;}/*!sc*/
.bTTPJZ [data-component="trailingVisual"]{grid-area:trailingVisual;}/*!sc*/
.bTTPJZ [data-component="trailingAction"]{margin-right:-4px;}/*!sc*/
.bTTPJZ [data-component="buttonContent"]{-webkit-flex:1 0 auto;-ms-flex:1 0 auto;flex:1 0 auto;display:grid;grid-template-areas:"leadingVisual text trailingVisual";grid-template-columns:min-content minmax(0,auto) min-content;-webkit-align-items:center;-webkit-box-align:center;-ms-flex-align:center;align-items:center;-webkit-align-content:center;-ms-flex-line-pack:center;align-content:center;}/*!sc*/
.bTTPJZ [data-component="buttonContent"] > :not(:last-child){margin-right:8px;}/*!sc*/
.bTTPJZ:hover:not([disabled]):not([data-inactive]){background-color:#30363d;border-color:var(--button-default-borderColor-hover,#8b949e);}/*!sc*/
.bTTPJZ:active:not([disabled]):not([data-inactive]){background-color:hsla(212,12%,18%,1);border-color:var(--button-default-borderColor-active,#6e7681);}/*!sc*/
.bTTPJZ[aria-expanded=true]{background-color:hsla(212,12%,18%,1);border-color:var(--button-default-borderColor-active,#6e7681);}/*!sc*/
.bTTPJZ [data-component="leadingVisual"],.bTTPJZ [data-component="trailingVisual"],.bTTPJZ [data-component="trailingAction"]{color:var(--button-color,#7d8590);}/*!sc*/
.bTTPJZ[data-no-visuals]{color:#6e7681;border-top-right-radius:0;border-bottom-right-radius:0;border-right:0;}/*!sc*/
.eYCGbj{border-radius:6px;border:1px solid;border-color:var(--button-default-borderColor-rest,rgba(240,246,252,0.1));font-family:inherit;font-weight:500;font-size:14px;cursor:pointer;-webkit-appearance:none;-moz-appearance:none;appearance:none;-webkit-user-select:none;-moz-user-select:none;-ms-user-select:none;user-select:none;-webkit-text-decoration:none;text-decoration:none;text-align:center;display:-webkit-box;display:-webkit-flex;display:-ms-flexbox;display:flex;-webkit-align-items:center;-webkit-box-align:center;-ms-flex-align:center;align-items:center;-webkit-box-pack:justify;-webkit-justify-content:space-between;-ms-flex-pack:justify;justify-content:space-between;height:32px;padding:0 12px;gap:8px;min-width:-webkit-max-content;min-width:-moz-max-content;min-width:max-content;-webkit-transition:80ms cubic-bezier(0.65,0,0.35,1);transition:80ms cubic-bezier(0.65,0,0.35,1);-webkit-transition-property:color,fill,background-color,border-color;transition-property:color,fill,background-color,border-color;color:#c9d1d9;background-color:#21262d;box-shadow:0 0 transparent,0 0 transparent;}/*!sc*/
.eYCGbj:focus:not(:disabled){box-shadow:none;outline:2px solid #2f81f7;outline-offset:-2px;}/*!sc*/
.eYCGbj:focus:not(:disabled):not(:focus-visible){outline:solid 1px transparent;}/*!sc*/
.eYCGbj:focus-visible:not(:disabled){box-shadow:none;outline:2px solid #2f81f7;outline-offset:-2px;}/*!sc*/
.eYCGbj[href]{display:-webkit-inline-box;display:-webkit-inline-flex;display:-ms-inline-flexbox;display:inline-flex;}/*!sc*/
.eYCGbj[href]:hover{-webkit-text-decoration:none;text-decoration:none;}/*!sc*/
.eYCGbj:hover{-webkit-transition-duration:80ms;transition-duration:80ms;}/*!sc*/
.eYCGbj:active{-webkit-transition:none;transition:none;}/*!sc*/
.eYCGbj[data-inactive]{cursor:auto;}/*!sc*/
.eYCGbj:disabled{cursor:not-allowed;box-shadow:none;color:#484f58;}/*!sc*/
.eYCGbj:disabled [data-component=ButtonCounter]{color:inherit;}/*!sc*/
@media (forced-colors:active){.eYCGbj:focus{outline:solid 1px transparent;}}/*!sc*/
.eYCGbj [data-component=ButtonCounter]{font-size:12px;}/*!sc*/
.eYCGbj[data-component=IconButton]{display:inline-grid;padding:unset;place-content:center;width:32px;min-width:unset;}/*!sc*/
.eYCGbj[data-size="small"]{padding:0 8px;height:28px;gap:4px;font-size:12px;}/*!sc*/
.eYCGbj[data-size="small"] [data-component="text"]{line-height:calc(20 / 12);}/*!sc*/
.eYCGbj[data-size="small"] [data-component=ButtonCounter]{font-size:12px;}/*!sc*/
.eYCGbj[data-size="small"] [data-component="buttonContent"] > :not(:last-child){margin-right:4px;}/*!sc*/
.eYCGbj[data-size="small"][data-component=IconButton]{width:28px;padding:unset;}/*!sc*/
.eYCGbj[data-size="large"]{padding:0 16px;height:40px;gap:8px;}/*!sc*/
.eYCGbj[data-size="large"] [data-component="buttonContent"] > :not(:last-child){margin-right:8px;}/*!sc*/
.eYCGbj[data-size="large"][data-component=IconButton]{width:40px;padding:unset;}/*!sc*/
.eYCGbj[data-block="block"]{width:100%;}/*!sc*/
.eYCGbj[data-inactive]:not([disabled]){background-color:var(--button-inactive-bgColor,#21262d);border-color:var(--button-inactive-bgColor,#21262d);color:var(--button-inactive-fgColor,#8b949e);}/*!sc*/
.eYCGbj[data-inactive]:not([disabled]):focus-visible{box-shadow:none;}/*!sc*/
.eYCGbj [data-component="leadingVisual"]{grid-area:leadingVisual;}/*!sc*/
.eYCGbj [data-component="text"]{grid-area:text;line-height:calc(20/14);white-space:nowrap;}/*!sc*/
.eYCGbj [data-component="trailingVisual"]{grid-area:trailingVisual;}/*!sc*/
.eYCGbj [data-component="trailingAction"]{margin-right:-4px;}/*!sc*/
.eYCGbj [data-component="buttonContent"]{-webkit-flex:1 0 auto;-ms-flex:1 0 auto;flex:1 0 auto;display:grid;grid-template-areas:"leadingVisual text trailingVisual";grid-template-columns:min-content minmax(0,auto) min-content;-webkit-align-items:center;-webkit-box-align:center;-ms-flex-align:center;align-items:center;-webkit-align-content:center;-ms-flex-line-pack:center;align-content:center;}/*!sc*/
.eYCGbj [data-component="buttonContent"] > :not(:last-child){margin-right:8px;}/*!sc*/
.eYCGbj:hover:not([disabled]):not([data-inactive]){background-color:#30363d;border-color:var(--button-default-borderColor-hover,#8b949e);}/*!sc*/
.eYCGbj:active:not([disabled]):not([data-inactive]){background-color:hsla(212,12%,18%,1);border-color:var(--button-default-borderColor-active,#6e7681);}/*!sc*/
.eYCGbj[aria-expanded=true]{background-color:hsla(212,12%,18%,1);border-color:var(--button-default-borderColor-active,#6e7681);}/*!sc*/
.eYCGbj [data-component="leadingVisual"],.eYCGbj [data-component="trailingVisual"],.eYCGbj [data-component="trailingAction"]{color:var(--button-color,#7d8590);}/*!sc*/
.eYCGbj[data-no-visuals]{color:#6e7681;font-size:14px;font-weight:400;-webkit-flex-shrink:0;-ms-flex-negative:0;flex-shrink:0;border-top-left-radius:0;border-bottom-left-radius:0;}/*!sc*/
.wxyGP{border-radius:6px;border:1px solid;border-color:var(--button-default-borderColor-rest,rgba(240,246,252,0.1));font-family:inherit;font-weight:500;font-size:14px;cursor:pointer;-webkit-appearance:none;-moz-appearance:none;appearance:none;-webkit-user-select:none;-moz-user-select:none;-ms-user-select:none;user-select:none;-webkit-text-decoration:none;text-decoration:none;text-align:center;display:-webkit-box;display:-webkit-flex;display:-ms-flexbox;display:flex;-webkit-align-items:center;-webkit-box-align:center;-ms-flex-align:center;align-items:center;-webkit-box-pack:justify;-webkit-justify-content:space-between;-ms-flex-pack:justify;justify-content:space-between;height:32px;padding:0 12px;gap:8px;min-width:-webkit-max-content;min-width:-moz-max-content;min-width:max-content;-webkit-transition:80ms cubic-bezier(0.65,0,0.35,1);transition:80ms cubic-bezier(0.65,0,0.35,1);-webkit-transition-property:color,fill,background-color,border-color;transition-property:color,fill,background-color,border-color;color:#c9d1d9;background-color:#21262d;box-shadow:0 0 transparent,0 0 transparent;}/*!sc*/
.wxyGP:focus:not(:disabled){box-shadow:none;outline:2px solid #2f81f7;outline-offset:-2px;}/*!sc*/
.wxyGP:focus:not(:disabled):not(:focus-visible){outline:solid 1px transparent;}/*!sc*/
.wxyGP:focus-visible:not(:disabled){box-shadow:none;outline:2px solid #2f81f7;outline-offset:-2px;}/*!sc*/
.wxyGP[href]{display:-webkit-inline-box;display:-webkit-inline-flex;display:-ms-inline-flexbox;display:inline-flex;}/*!sc*/
.wxyGP[href]:hover{-webkit-text-decoration:none;text-decoration:none;}/*!sc*/
.wxyGP:hover{-webkit-transition-duration:80ms;transition-duration:80ms;}/*!sc*/
.wxyGP:active{-webkit-transition:none;transition:none;}/*!sc*/
.wxyGP[data-inactive]{cursor:auto;}/*!sc*/
.wxyGP:disabled{cursor:not-allowed;box-shadow:none;color:#484f58;}/*!sc*/
.wxyGP:disabled [data-component=ButtonCounter]{color:inherit;}/*!sc*/
@media (forced-colors:active){.wxyGP:focus{outline:solid 1px transparent;}}/*!sc*/
.wxyGP [data-component=ButtonCounter]{font-size:12px;}/*!sc*/
.wxyGP[data-component=IconButton]{display:inline-grid;padding:unset;place-content:center;width:32px;min-width:unset;}/*!sc*/
.wxyGP[data-size="small"]{padding:0 8px;height:28px;gap:4px;font-size:12px;}/*!sc*/
.wxyGP[data-size="small"] [data-component="text"]{line-height:calc(20 / 12);}/*!sc*/
.wxyGP[data-size="small"] [data-component=ButtonCounter]{font-size:12px;}/*!sc*/
.wxyGP[data-size="small"] [data-component="buttonContent"] > :not(:last-child){margin-right:4px;}/*!sc*/
.wxyGP[data-size="small"][data-component=IconButton]{width:28px;padding:unset;}/*!sc*/
.wxyGP[data-size="large"]{padding:0 16px;height:40px;gap:8px;}/*!sc*/
.wxyGP[data-size="large"] [data-component="buttonContent"] > :not(:last-child){margin-right:8px;}/*!sc*/
.wxyGP[data-size="large"][data-component=IconButton]{width:40px;padding:unset;}/*!sc*/
.wxyGP[data-block="block"]{width:100%;}/*!sc*/
.wxyGP[data-inactive]:not([disabled]){background-color:var(--button-inactive-bgColor,#21262d);border-color:var(--button-inactive-bgColor,#21262d);color:var(--button-inactive-fgColor,#8b949e);}/*!sc*/
.wxyGP[data-inactive]:not([disabled]):focus-visible{box-shadow:none;}/*!sc*/
.wxyGP [data-component="leadingVisual"]{grid-area:leadingVisual;}/*!sc*/
.wxyGP [data-component="text"]{grid-area:text;line-height:calc(20/14);white-space:nowrap;}/*!sc*/
.wxyGP [data-component="trailingVisual"]{grid-area:trailingVisual;}/*!sc*/
.wxyGP [data-component="trailingAction"]{margin-right:-4px;}/*!sc*/
.wxyGP [data-component="buttonContent"]{-webkit-flex:1 0 auto;-ms-flex:1 0 auto;flex:1 0 auto;display:grid;grid-template-areas:"leadingVisual text trailingVisual";grid-template-columns:min-content minmax(0,auto) min-content;-webkit-align-items:center;-webkit-box-align:center;-ms-flex-align:center;align-items:center;-webkit-align-content:center;-ms-flex-line-pack:center;align-content:center;}/*!sc*/
.wxyGP [data-component="buttonContent"] > :not(:last-child){margin-right:8px;}/*!sc*/
.wxyGP:hover:not([disabled]):not([data-inactive]){background-color:#30363d;border-color:var(--button-default-borderColor-hover,#8b949e);}/*!sc*/
.wxyGP:active:not([disabled]):not([data-inactive]){background-color:hsla(212,12%,18%,1);border-color:var(--button-default-borderColor-active,#6e7681);}/*!sc*/
.wxyGP[aria-expanded=true]{background-color:hsla(212,12%,18%,1);border-color:var(--button-default-borderColor-active,#6e7681);}/*!sc*/
.wxyGP [data-component="leadingVisual"],.wxyGP [data-component="trailingVisual"],.wxyGP [data-component="trailingAction"]{color:var(--button-color,#7d8590);}/*!sc*/
.wxyGP{display:-webkit-box;display:-webkit-flex;display:-ms-flexbox;display:flex;}/*!sc*/
.wxyGP svg{color:#7d8590;}/*!sc*/
.wxyGP > span{width:inherit;}/*!sc*/
.bydlvg{border-radius:6px;border:1px solid;border-color:var(--button-default-borderColor-rest,rgba(240,246,252,0.1));font-family:inherit;font-weight:500;font-size:14px;cursor:pointer;-webkit-appearance:none;-moz-appearance:none;appearance:none;-webkit-user-select:none;-moz-user-select:none;-ms-user-select:none;user-select:none;-webkit-text-decoration:none;text-decoration:none;text-align:center;display:-webkit-box;display:-webkit-flex;display:-ms-flexbox;display:flex;-webkit-align-items:center;-webkit-box-align:center;-ms-flex-align:center;align-items:center;-webkit-box-pack:justify;-webkit-justify-content:space-between;-ms-flex-pack:justify;justify-content:space-between;height:32px;padding:0 12px;gap:8px;min-width:-webkit-max-content;min-width:-moz-max-content;min-width:max-content;-webkit-transition:80ms cubic-bezier(0.65,0,0.35,1);transition:80ms cubic-bezier(0.65,0,0.35,1);-webkit-transition-property:color,fill,background-color,border-color;transition-property:color,fill,background-color,border-color;color:#c9d1d9;background-color:#21262d;box-shadow:0 0 transparent,0 0 transparent;}/*!sc*/
.bydlvg:focus:not(:disabled){box-shadow:none;outline:2px solid #2f81f7;outline-offset:-2px;}/*!sc*/
.bydlvg:focus:not(:disabled):not(:focus-visible){outline:solid 1px transparent;}/*!sc*/
.bydlvg:focus-visible:not(:disabled){box-shadow:none;outline:2px solid #2f81f7;outline-offset:-2px;}/*!sc*/
.bydlvg[href]{display:-webkit-inline-box;display:-webkit-inline-flex;display:-ms-inline-flexbox;display:inline-flex;}/*!sc*/
.bydlvg[href]:hover{-webkit-text-decoration:none;text-decoration:none;}/*!sc*/
.bydlvg:hover{-webkit-transition-duration:80ms;transition-duration:80ms;}/*!sc*/
.bydlvg:active{-webkit-transition:none;transition:none;}/*!sc*/
.bydlvg[data-inactive]{cursor:auto;}/*!sc*/
.bydlvg:disabled{cursor:not-allowed;box-shadow:none;color:#484f58;}/*!sc*/
.bydlvg:disabled [data-component=ButtonCounter]{color:inherit;}/*!sc*/
@media (forced-colors:active){.bydlvg:focus{outline:solid 1px transparent;}}/*!sc*/
.bydlvg [data-component=ButtonCounter]{font-size:12px;}/*!sc*/
.bydlvg[data-component=IconButton]{display:inline-grid;padding:unset;place-content:center;width:32px;min-width:unset;}/*!sc*/
.bydlvg[data-size="small"]{padding:0 8px;height:28px;gap:4px;font-size:12px;}/*!sc*/
.bydlvg[data-size="small"] [data-component="text"]{line-height:calc(20 / 12);}/*!sc*/
.bydlvg[data-size="small"] [data-component=ButtonCounter]{font-size:12px;}/*!sc*/
.bydlvg[data-size="small"] [data-component="buttonContent"] > :not(:last-child){margin-right:4px;}/*!sc*/
.bydlvg[data-size="small"][data-component=IconButton]{width:28px;padding:unset;}/*!sc*/
.bydlvg[data-size="large"]{padding:0 16px;height:40px;gap:8px;}/*!sc*/
.bydlvg[data-size="large"] [data-component="buttonContent"] > :not(:last-child){margin-right:8px;}/*!sc*/
.bydlvg[data-size="large"][data-component=IconButton]{width:40px;padding:unset;}/*!sc*/
.bydlvg[data-block="block"]{width:100%;}/*!sc*/
.bydlvg[data-inactive]:not([disabled]){background-color:var(--button-inactive-bgColor,#21262d);border-color:var(--button-inactive-bgColor,#21262d);color:var(--button-inactive-fgColor,#8b949e);}/*!sc*/
.bydlvg[data-inactive]:not([disabled]):focus-visible{box-shadow:none;}/*!sc*/
.bydlvg [data-component="leadingVisual"]{grid-area:leadingVisual;}/*!sc*/
.bydlvg [data-component="text"]{grid-area:text;line-height:calc(20/14);white-space:nowrap;}/*!sc*/
.bydlvg [data-component="trailingVisual"]{grid-area:trailingVisual;}/*!sc*/
.bydlvg [data-component="trailingAction"]{margin-right:-4px;}/*!sc*/
.bydlvg [data-component="buttonContent"]{-webkit-flex:1 0 auto;-ms-flex:1 0 auto;flex:1 0 auto;display:grid;grid-template-areas:"leadingVisual text trailingVisual";grid-template-columns:min-content minmax(0,auto) min-content;-webkit-align-items:center;-webkit-box-align:center;-ms-flex-align:center;align-items:center;-webkit-align-content:center;-ms-flex-line-pack:center;align-content:center;}/*!sc*/
.bydlvg [data-component="buttonContent"] > :not(:last-child){margin-right:8px;}/*!sc*/
.bydlvg:hover:not([disabled]):not([data-inactive]){background-color:#30363d;border-color:var(--button-default-borderColor-hover,#8b949e);}/*!sc*/
.bydlvg:active:not([disabled]):not([data-inactive]){background-color:hsla(212,12%,18%,1);border-color:var(--button-default-borderColor-active,#6e7681);}/*!sc*/
.bydlvg[aria-expanded=true]{background-color:hsla(212,12%,18%,1);border-color:var(--button-default-borderColor-active,#6e7681);}/*!sc*/
.bydlvg [data-component="leadingVisual"],.bydlvg [data-component="trailingVisual"],.bydlvg [data-component="trailingAction"]{color:var(--button-color,#7d8590);}/*!sc*/
.bydlvg[data-no-visuals]{border-top-left-radius:0;border-bottom-left-radius:0;display:none;}/*!sc*/
.QqKiN{border-radius:6px;border:1px solid;border-color:var(--button-default-borderColor-rest,rgba(240,246,252,0.1));font-family:inherit;font-weight:500;font-size:14px;cursor:pointer;-webkit-appearance:none;-moz-appearance:none;appearance:none;-webkit-user-select:none;-moz-user-select:none;-ms-user-select:none;user-select:none;-webkit-text-decoration:none;text-decoration:none;text-align:center;display:-webkit-box;display:-webkit-flex;display:-ms-flexbox;display:flex;-webkit-align-items:center;-webkit-box-align:center;-ms-flex-align:center;align-items:center;-webkit-box-pack:justify;-webkit-justify-content:space-between;-ms-flex-pack:justify;justify-content:space-between;height:32px;padding:0 12px;gap:8px;min-width:-webkit-max-content;min-width:-moz-max-content;min-width:max-content;-webkit-transition:80ms cubic-bezier(0.65,0,0.35,1);transition:80ms cubic-bezier(0.65,0,0.35,1);-webkit-transition-property:color,fill,background-color,border-color;transition-property:color,fill,background-color,border-color;color:#c9d1d9;background-color:#21262d;box-shadow:0 0 transparent,0 0 transparent;}/*!sc*/
.QqKiN:focus:not(:disabled){box-shadow:none;outline:2px solid #2f81f7;outline-offset:-2px;}/*!sc*/
.QqKiN:focus:not(:disabled):not(:focus-visible){outline:solid 1px transparent;}/*!sc*/
.QqKiN:focus-visible:not(:disabled){box-shadow:none;outline:2px solid #2f81f7;outline-offset:-2px;}/*!sc*/
.QqKiN[href]{display:-webkit-inline-box;display:-webkit-inline-flex;display:-ms-inline-flexbox;display:inline-flex;}/*!sc*/
.QqKiN[href]:hover{-webkit-text-decoration:none;text-decoration:none;}/*!sc*/
.QqKiN:hover{-webkit-transition-duration:80ms;transition-duration:80ms;}/*!sc*/
.QqKiN:active{-webkit-transition:none;transition:none;}/*!sc*/
.QqKiN[data-inactive]{cursor:auto;}/*!sc*/
.QqKiN:disabled{cursor:not-allowed;box-shadow:none;color:#484f58;}/*!sc*/
.QqKiN:disabled [data-component=ButtonCounter]{color:inherit;}/*!sc*/
@media (forced-colors:active){.QqKiN:focus{outline:solid 1px transparent;}}/*!sc*/
.QqKiN [data-component=ButtonCounter]{font-size:12px;}/*!sc*/
.QqKiN[data-component=IconButton]{display:inline-grid;padding:unset;place-content:center;width:32px;min-width:unset;}/*!sc*/
.QqKiN[data-size="small"]{padding:0 8px;height:28px;gap:4px;font-size:12px;}/*!sc*/
.QqKiN[data-size="small"] [data-component="text"]{line-height:calc(20 / 12);}/*!sc*/
.QqKiN[data-size="small"] [data-component=ButtonCounter]{font-size:12px;}/*!sc*/
.QqKiN[data-size="small"] [data-component="buttonContent"] > :not(:last-child){margin-right:4px;}/*!sc*/
.QqKiN[data-size="small"][data-component=IconButton]{width:28px;padding:unset;}/*!sc*/
.QqKiN[data-size="large"]{padding:0 16px;height:40px;gap:8px;}/*!sc*/
.QqKiN[data-size="large"] [data-component="buttonContent"] > :not(:last-child){margin-right:8px;}/*!sc*/
.QqKiN[data-size="large"][data-component=IconButton]{width:40px;padding:unset;}/*!sc*/
.QqKiN[data-block="block"]{width:100%;}/*!sc*/
.QqKiN[data-inactive]:not([disabled]){background-color:var(--button-inactive-bgColor,#21262d);border-color:var(--button-inactive-bgColor,#21262d);color:var(--button-inactive-fgColor,#8b949e);}/*!sc*/
.QqKiN[data-inactive]:not([disabled]):focus-visible{box-shadow:none;}/*!sc*/
.QqKiN [data-component="leadingVisual"]{grid-area:leadingVisual;}/*!sc*/
.QqKiN [data-component="text"]{grid-area:text;line-height:calc(20/14);white-space:nowrap;}/*!sc*/
.QqKiN [data-component="trailingVisual"]{grid-area:trailingVisual;}/*!sc*/
.QqKiN [data-component="trailingAction"]{margin-right:-4px;}/*!sc*/
.QqKiN [data-component="buttonContent"]{-webkit-flex:1 0 auto;-ms-flex:1 0 auto;flex:1 0 auto;display:grid;grid-template-areas:"leadingVisual text trailingVisual";grid-template-columns:min-content minmax(0,auto) min-content;-webkit-align-items:center;-webkit-box-align:center;-ms-flex-align:center;align-items:center;-webkit-align-content:center;-ms-flex-line-pack:center;align-content:center;}/*!sc*/
.QqKiN [data-component="buttonContent"] > :not(:last-child){margin-right:8px;}/*!sc*/
.QqKiN:hover:not([disabled]):not([data-inactive]){background-color:#30363d;border-color:var(--button-default-borderColor-hover,#8b949e);}/*!sc*/
.QqKiN:active:not([disabled]):not([data-inactive]){background-color:hsla(212,12%,18%,1);border-color:var(--button-default-borderColor-active,#6e7681);}/*!sc*/
.QqKiN[aria-expanded=true]{background-color:hsla(212,12%,18%,1);border-color:var(--button-default-borderColor-active,#6e7681);}/*!sc*/
.QqKiN [data-component="leadingVisual"],.QqKiN [data-component="trailingVisual"],.QqKiN [data-component="trailingAction"]{color:var(--button-color,#7d8590);}/*!sc*/
.QqKiN[data-no-visuals]{color:#7d8590;}/*!sc*/
.bIBfEj{border-radius:6px;border:1px solid;border-color:transparent;font-family:inherit;font-weight:500;font-size:14px;cursor:pointer;-webkit-appearance:none;-moz-appearance:none;appearance:none;-webkit-user-select:none;-moz-user-select:none;-ms-user-select:none;user-select:none;-webkit-text-decoration:none;text-decoration:none;text-align:center;display:-webkit-box;display:-webkit-flex;display:-ms-flexbox;display:flex;-webkit-align-items:center;-webkit-box-align:center;-ms-flex-align:center;align-items:center;-webkit-box-pack:justify;-webkit-justify-content:space-between;-ms-flex-pack:justify;justify-content:space-between;height:32px;padding:0 12px;gap:8px;min-width:-webkit-max-content;min-width:-moz-max-content;min-width:max-content;-webkit-transition:80ms cubic-bezier(0.65,0,0.35,1);transition:80ms cubic-bezier(0.65,0,0.35,1);-webkit-transition-property:color,fill,background-color,border-color;transition-property:color,fill,background-color,border-color;color:#c9d1d9;background-color:transparent;box-shadow:none;}/*!sc*/
.bIBfEj:focus:not(:disabled){box-shadow:none;outline:2px solid #2f81f7;outline-offset:-2px;}/*!sc*/
.bIBfEj:focus:not(:disabled):not(:focus-visible){outline:solid 1px transparent;}/*!sc*/
.bIBfEj:focus-visible:not(:disabled){box-shadow:none;outline:2px solid #2f81f7;outline-offset:-2px;}/*!sc*/
.bIBfEj[href]{display:-webkit-inline-box;display:-webkit-inline-flex;display:-ms-inline-flexbox;display:inline-flex;}/*!sc*/
.bIBfEj[href]:hover{-webkit-text-decoration:none;text-decoration:none;}/*!sc*/
.bIBfEj:hover{-webkit-transition-duration:80ms;transition-duration:80ms;}/*!sc*/
.bIBfEj:active{-webkit-transition:none;transition:none;}/*!sc*/
.bIBfEj[data-inactive]{cursor:auto;}/*!sc*/
.bIBfEj:disabled{cursor:not-allowed;box-shadow:none;color:#484f58;}/*!sc*/
.bIBfEj:disabled [data-component=ButtonCounter],.bIBfEj:disabled [data-component="leadingVisual"],.bIBfEj:disabled [data-component="trailingAction"]{color:inherit;}/*!sc*/
@media (forced-colors:active){.bIBfEj:focus{outline:solid 1px transparent;}}/*!sc*/
.bIBfEj [data-component=ButtonCounter]{font-size:12px;}/*!sc*/
.bIBfEj[data-component=IconButton]{display:inline-grid;padding:unset;place-content:center;width:32px;min-width:unset;}/*!sc*/
.bIBfEj[data-size="small"]{padding:0 8px;height:28px;gap:4px;font-size:12px;}/*!sc*/
.bIBfEj[data-size="small"] [data-component="text"]{line-height:calc(20 / 12);}/*!sc*/
.bIBfEj[data-size="small"] [data-component=ButtonCounter]{font-size:12px;}/*!sc*/
.bIBfEj[data-size="small"] [data-component="buttonContent"] > :not(:last-child){margin-right:4px;}/*!sc*/
.bIBfEj[data-size="small"][data-component=IconButton]{width:28px;padding:unset;}/*!sc*/
.bIBfEj[data-size="large"]{padding:0 16px;height:40px;gap:8px;}/*!sc*/
.bIBfEj[data-size="large"] [data-component="buttonContent"] > :not(:last-child){margin-right:8px;}/*!sc*/
.bIBfEj[data-size="large"][data-component=IconButton]{width:40px;padding:unset;}/*!sc*/
.bIBfEj[data-block="block"]{width:100%;}/*!sc*/
.bIBfEj[data-inactive]:not([disabled]){background-color:var(--button-inactive-bgColor,#21262d);border-color:var(--button-inactive-bgColor,#21262d);color:var(--button-inactive-fgColor,#8b949e);}/*!sc*/
.bIBfEj[data-inactive]:not([disabled]):focus-visible{box-shadow:none;}/*!sc*/
.bIBfEj [data-component="leadingVisual"]{grid-area:leadingVisual;color:#7d8590;}/*!sc*/
.bIBfEj [data-component="text"]{grid-area:text;line-height:calc(20/14);white-space:nowrap;}/*!sc*/
.bIBfEj [data-component="trailingVisual"]{grid-area:trailingVisual;}/*!sc*/
.bIBfEj [data-component="trailingAction"]{margin-right:-4px;color:#7d8590;}/*!sc*/
.bIBfEj [data-component="buttonContent"]{-webkit-flex:1 0 auto;-ms-flex:1 0 auto;flex:1 0 auto;display:grid;grid-template-areas:"leadingVisual text trailingVisual";grid-template-columns:min-content minmax(0,auto) min-content;-webkit-align-items:center;-webkit-box-align:center;-ms-flex-align:center;align-items:center;-webkit-align-content:center;-ms-flex-line-pack:center;align-content:center;}/*!sc*/
.bIBfEj [data-component="buttonContent"] > :not(:last-child){margin-right:8px;}/*!sc*/
.bIBfEj:hover:not([disabled]){background-color:rgba(177,186,196,0.12);}/*!sc*/
.bIBfEj:active:not([disabled]){background-color:rgba(177,186,196,0.2);}/*!sc*/
.bIBfEj[aria-expanded=true]{background-color:rgba(177,186,196,0.08);}/*!sc*/
.bIBfEj[data-component="IconButton"][data-no-visuals]{color:#7d8590;}/*!sc*/
.bIBfEj[data-no-visuals]{color:#2f81f7;}/*!sc*/
.bIBfEj:has([data-component="ButtonCounter"]){color:#c9d1d9;}/*!sc*/
.bIBfEj:disabled[data-no-visuals]{color:#484f58;}/*!sc*/
.bIBfEj:disabled[data-no-visuals] [data-component=ButtonCounter]{color:inherit;}/*!sc*/
.bIBfEj[data-size="small"][data-no-visuals]{margin-left:8px;}/*!sc*/
.ePrtIU{border-radius:6px;border:1px solid;border-color:transparent;font-family:inherit;font-weight:500;font-size:14px;cursor:pointer;-webkit-appearance:none;-moz-appearance:none;appearance:none;-webkit-user-select:none;-moz-user-select:none;-ms-user-select:none;user-select:none;-webkit-text-decoration:none;text-decoration:none;text-align:center;display:-webkit-box;display:-webkit-flex;display:-ms-flexbox;display:flex;-webkit-align-items:center;-webkit-box-align:center;-ms-flex-align:center;align-items:center;-webkit-box-pack:justify;-webkit-justify-content:space-between;-ms-flex-pack:justify;justify-content:space-between;height:32px;padding:0 12px;gap:8px;min-width:-webkit-max-content;min-width:-moz-max-content;min-width:max-content;-webkit-transition:80ms cubic-bezier(0.65,0,0.35,1);transition:80ms cubic-bezier(0.65,0,0.35,1);-webkit-transition-property:color,fill,background-color,border-color;transition-property:color,fill,background-color,border-color;color:#e6edf3;background-color:transparent;box-shadow:none;}/*!sc*/
.ePrtIU:focus:not(:disabled){box-shadow:none;outline:2px solid #2f81f7;outline-offset:-2px;}/*!sc*/
.ePrtIU:focus:not(:disabled):not(:focus-visible){outline:solid 1px transparent;}/*!sc*/
.ePrtIU:focus-visible:not(:disabled){box-shadow:none;outline:2px solid #2f81f7;outline-offset:-2px;}/*!sc*/
.ePrtIU[href]{display:-webkit-inline-box;display:-webkit-inline-flex;display:-ms-inline-flexbox;display:inline-flex;}/*!sc*/
.ePrtIU[href]:hover{-webkit-text-decoration:none;text-decoration:none;}/*!sc*/
.ePrtIU:hover{-webkit-transition-duration:80ms;transition-duration:80ms;}/*!sc*/
.ePrtIU:active{-webkit-transition:none;transition:none;}/*!sc*/
.ePrtIU[data-inactive]{cursor:auto;}/*!sc*/
.ePrtIU:disabled{cursor:not-allowed;box-shadow:none;color:#484f58;}/*!sc*/
.ePrtIU:disabled [data-component=ButtonCounter],.ePrtIU:disabled [data-component="leadingVisual"],.ePrtIU:disabled [data-component="trailingAction"]{color:inherit;}/*!sc*/
@media (forced-colors:active){.ePrtIU:focus{outline:solid 1px transparent;}}/*!sc*/
.ePrtIU [data-component=ButtonCounter]{font-size:12px;}/*!sc*/
.ePrtIU[data-component=IconButton]{display:inline-grid;padding:unset;place-content:center;width:32px;min-width:unset;}/*!sc*/
.ePrtIU[data-size="small"]{padding:0 8px;height:28px;gap:4px;font-size:12px;}/*!sc*/
.ePrtIU[data-size="small"] [data-component="text"]{line-height:calc(20 / 12);}/*!sc*/
.ePrtIU[data-size="small"] [data-component=ButtonCounter]{font-size:12px;}/*!sc*/
.ePrtIU[data-size="small"] [data-component="buttonContent"] > :not(:last-child){margin-right:4px;}/*!sc*/
.ePrtIU[data-size="small"][data-component=IconButton]{width:28px;padding:unset;}/*!sc*/
.ePrtIU[data-size="large"]{padding:0 16px;height:40px;gap:8px;}/*!sc*/
.ePrtIU[data-size="large"] [data-component="buttonContent"] > :not(:last-child){margin-right:8px;}/*!sc*/
.ePrtIU[data-size="large"][data-component=IconButton]{width:40px;padding:unset;}/*!sc*/
.ePrtIU[data-block="block"]{width:100%;}/*!sc*/
.ePrtIU[data-inactive]:not([disabled]){background-color:var(--button-inactive-bgColor,#21262d);border-color:var(--button-inactive-bgColor,#21262d);color:var(--button-inactive-fgColor,#8b949e);}/*!sc*/
.ePrtIU[data-inactive]:not([disabled]):focus-visible{box-shadow:none;}/*!sc*/
.ePrtIU [data-component="leadingVisual"]{grid-area:leadingVisual;color:#7d8590;}/*!sc*/
.ePrtIU [data-component="text"]{grid-area:text;line-height:calc(20/14);white-space:nowrap;}/*!sc*/
.ePrtIU [data-component="trailingVisual"]{grid-area:trailingVisual;}/*!sc*/
.ePrtIU [data-component="trailingAction"]{margin-right:-4px;color:#7d8590;}/*!sc*/
.ePrtIU [data-component="buttonContent"]{-webkit-flex:1 0 auto;-ms-flex:1 0 auto;flex:1 0 auto;display:grid;grid-template-areas:"leadingVisual text trailingVisual";grid-template-columns:min-content minmax(0,auto) min-content;-webkit-align-items:center;-webkit-box-align:center;-ms-flex-align:center;align-items:center;-webkit-align-content:center;-ms-flex-line-pack:center;align-content:center;}/*!sc*/
.ePrtIU [data-component="buttonContent"] > :not(:last-child){margin-right:8px;}/*!sc*/
.ePrtIU:hover:not([disabled]){background-color:rgba(177,186,196,0.12);-webkit-text-decoration:none;text-decoration:none;}/*!sc*/
.ePrtIU:active:not([disabled]){background-color:rgba(177,186,196,0.2);-webkit-text-decoration:none;text-decoration:none;}/*!sc*/
.ePrtIU[aria-expanded=true]{background-color:rgba(177,186,196,0.08);}/*!sc*/
.ePrtIU[data-component="IconButton"][data-no-visuals]{color:#7d8590;}/*!sc*/
.ePrtIU[data-no-visuals]{color:#2f81f7;}/*!sc*/
.ePrtIU:has([data-component="ButtonCounter"]){color:#c9d1d9;}/*!sc*/
.ePrtIU:disabled[data-no-visuals]{color:#484f58;}/*!sc*/
.ePrtIU:disabled[data-no-visuals] [data-component=ButtonCounter]{color:inherit;}/*!sc*/
.ePrtIU:focus:not([disabled]){-webkit-text-decoration:none;text-decoration:none;}/*!sc*/
.bJDkZV{border-radius:6px;border:1px solid;border-color:transparent;font-family:inherit;font-weight:500;font-size:14px;cursor:pointer;-webkit-appearance:none;-moz-appearance:none;appearance:none;-webkit-user-select:none;-moz-user-select:none;-ms-user-select:none;user-select:none;-webkit-text-decoration:none;text-decoration:none;text-align:center;display:-webkit-box;display:-webkit-flex;display:-ms-flexbox;display:flex;-webkit-align-items:center;-webkit-box-align:center;-ms-flex-align:center;align-items:center;-webkit-box-pack:justify;-webkit-justify-content:space-between;-ms-flex-pack:justify;justify-content:space-between;height:32px;padding:0 12px;gap:8px;min-width:-webkit-max-content;min-width:-moz-max-content;min-width:max-content;-webkit-transition:80ms cubic-bezier(0.65,0,0.35,1);transition:80ms cubic-bezier(0.65,0,0.35,1);-webkit-transition-property:color,fill,background-color,border-color;transition-property:color,fill,background-color,border-color;color:#c9d1d9;background-color:transparent;box-shadow:none;}/*!sc*/
.bJDkZV:focus:not(:disabled){box-shadow:none;outline:2px solid #2f81f7;outline-offset:-2px;}/*!sc*/
.bJDkZV:focus:not(:disabled):not(:focus-visible){outline:solid 1px transparent;}/*!sc*/
.bJDkZV:focus-visible:not(:disabled){box-shadow:none;outline:2px solid #2f81f7;outline-offset:-2px;}/*!sc*/
.bJDkZV[href]{display:-webkit-inline-box;display:-webkit-inline-flex;display:-ms-inline-flexbox;display:inline-flex;}/*!sc*/
.bJDkZV[href]:hover{-webkit-text-decoration:none;text-decoration:none;}/*!sc*/
.bJDkZV:hover{-webkit-transition-duration:80ms;transition-duration:80ms;}/*!sc*/
.bJDkZV:active{-webkit-transition:none;transition:none;}/*!sc*/
.bJDkZV[data-inactive]{cursor:auto;}/*!sc*/
.bJDkZV:disabled{cursor:not-allowed;box-shadow:none;color:#484f58;}/*!sc*/
.bJDkZV:disabled [data-component=ButtonCounter],.bJDkZV:disabled [data-component="leadingVisual"],.bJDkZV:disabled [data-component="trailingAction"]{color:inherit;}/*!sc*/
@media (forced-colors:active){.bJDkZV:focus{outline:solid 1px transparent;}}/*!sc*/
.bJDkZV [data-component=ButtonCounter]{font-size:12px;}/*!sc*/
.bJDkZV[data-component=IconButton]{display:inline-grid;padding:unset;place-content:center;width:32px;min-width:unset;}/*!sc*/
.bJDkZV[data-size="small"]{padding:0 8px;height:28px;gap:4px;font-size:12px;color:#e6edf3;display:none;}/*!sc*/
.bJDkZV[data-size="small"] [data-component="text"]{line-height:calc(20 / 12);}/*!sc*/
.bJDkZV[data-size="small"] [data-component=ButtonCounter]{font-size:12px;}/*!sc*/
.bJDkZV[data-size="small"] [data-component="buttonContent"] > :not(:last-child){margin-right:4px;}/*!sc*/
.bJDkZV[data-size="small"][data-component=IconButton]{width:28px;padding:unset;}/*!sc*/
@media screen and (min-width:544px){.bJDkZV[data-size="small"]{display:none;}}/*!sc*/
@media screen and (min-width:768px){.bJDkZV[data-size="small"]{display:none;}}/*!sc*/
@media screen and (min-width:1012px){.bJDkZV[data-size="small"]{display:none;}}/*!sc*/
@media screen and (min-width:1280px){.bJDkZV[data-size="small"]{display:block;}}/*!sc*/
.bJDkZV[data-size="large"]{padding:0 16px;height:40px;gap:8px;}/*!sc*/
.bJDkZV[data-size="large"] [data-component="buttonContent"] > :not(:last-child){margin-right:8px;}/*!sc*/
.bJDkZV[data-size="large"][data-component=IconButton]{width:40px;padding:unset;}/*!sc*/
.bJDkZV[data-block="block"]{width:100%;}/*!sc*/
.bJDkZV[data-inactive]:not([disabled]){background-color:var(--button-inactive-bgColor,#21262d);border-color:var(--button-inactive-bgColor,#21262d);color:var(--button-inactive-fgColor,#8b949e);}/*!sc*/
.bJDkZV[data-inactive]:not([disabled]):focus-visible{box-shadow:none;}/*!sc*/
.bJDkZV [data-component="leadingVisual"]{grid-area:leadingVisual;color:#7d8590;}/*!sc*/
.bJDkZV [data-component="text"]{grid-area:text;line-height:calc(20/14);white-space:nowrap;}/*!sc*/
.bJDkZV [data-component="trailingVisual"]{grid-area:trailingVisual;}/*!sc*/
.bJDkZV [data-component="trailingAction"]{margin-right:-4px;color:#7d8590;}/*!sc*/
.bJDkZV [data-component="buttonContent"]{-webkit-flex:1 0 auto;-ms-flex:1 0 auto;flex:1 0 auto;display:grid;grid-template-areas:"leadingVisual text trailingVisual";grid-template-columns:min-content minmax(0,auto) min-content;-webkit-align-items:center;-webkit-box-align:center;-ms-flex-align:center;align-items:center;-webkit-align-content:center;-ms-flex-line-pack:center;align-content:center;}/*!sc*/
.bJDkZV [data-component="buttonContent"] > :not(:last-child){margin-right:8px;}/*!sc*/
.bJDkZV:hover:not([disabled]){background-color:rgba(177,186,196,0.12);}/*!sc*/
.bJDkZV:active:not([disabled]){background-color:rgba(177,186,196,0.2);}/*!sc*/
.bJDkZV[aria-expanded=true]{background-color:rgba(177,186,196,0.08);}/*!sc*/
.bJDkZV[data-component="IconButton"][data-no-visuals]{color:#7d8590;}/*!sc*/
.bJDkZV[data-no-visuals]{color:#2f81f7;}/*!sc*/
.bJDkZV:has([data-component="ButtonCounter"]){color:#c9d1d9;}/*!sc*/
.bJDkZV:disabled[data-no-visuals]{color:#484f58;}/*!sc*/
.bJDkZV:disabled[data-no-visuals] [data-component=ButtonCounter]{color:inherit;}/*!sc*/
.gMDbOv{border-radius:6px;border:1px solid;border-color:transparent;font-family:inherit;font-weight:500;font-size:14px;cursor:pointer;-webkit-appearance:none;-moz-appearance:none;appearance:none;-webkit-user-select:none;-moz-user-select:none;-ms-user-select:none;user-select:none;-webkit-text-decoration:none;text-decoration:none;text-align:center;display:-webkit-box;display:-webkit-flex;display:-ms-flexbox;display:flex;-webkit-align-items:center;-webkit-box-align:center;-ms-flex-align:center;align-items:center;-webkit-box-pack:justify;-webkit-justify-content:space-between;-ms-flex-pack:justify;justify-content:space-between;height:32px;padding:0 12px;gap:8px;min-width:-webkit-max-content;min-width:-moz-max-content;min-width:max-content;-webkit-transition:80ms cubic-bezier(0.65,0,0.35,1);transition:80ms cubic-bezier(0.65,0,0.35,1);-webkit-transition-property:color,fill,background-color,border-color;transition-property:color,fill,background-color,border-color;color:#c9d1d9;background-color:transparent;box-shadow:none;}/*!sc*/
.gMDbOv:focus:not(:disabled){box-shadow:none;outline:2px solid #2f81f7;outline-offset:-2px;}/*!sc*/
.gMDbOv:focus:not(:disabled):not(:focus-visible){outline:solid 1px transparent;}/*!sc*/
.gMDbOv:focus-visible:not(:disabled){box-shadow:none;outline:2px solid #2f81f7;outline-offset:-2px;}/*!sc*/
.gMDbOv[href]{display:-webkit-inline-box;display:-webkit-inline-flex;display:-ms-inline-flexbox;display:inline-flex;}/*!sc*/
.gMDbOv[href]:hover{-webkit-text-decoration:none;text-decoration:none;}/*!sc*/
.gMDbOv:hover{-webkit-transition-duration:80ms;transition-duration:80ms;}/*!sc*/
.gMDbOv:active{-webkit-transition:none;transition:none;}/*!sc*/
.gMDbOv[data-inactive]{cursor:auto;}/*!sc*/
.gMDbOv:disabled{cursor:not-allowed;box-shadow:none;color:#484f58;}/*!sc*/
.gMDbOv:disabled [data-component=ButtonCounter],.gMDbOv:disabled [data-component="leadingVisual"],.gMDbOv:disabled [data-component="trailingAction"]{color:inherit;}/*!sc*/
@media (forced-colors:active){.gMDbOv:focus{outline:solid 1px transparent;}}/*!sc*/
.gMDbOv [data-component=ButtonCounter]{font-size:12px;}/*!sc*/
.gMDbOv[data-component=IconButton]{display:inline-grid;padding:unset;place-content:center;width:32px;min-width:unset;}/*!sc*/
.gMDbOv[data-size="small"]{padding:0 8px;height:28px;gap:4px;font-size:12px;color:#e6edf3;margin-left:8px;}/*!sc*/
.gMDbOv[data-size="small"] [data-component="text"]{line-height:calc(20 / 12);}/*!sc*/
.gMDbOv[data-size="small"] [data-component=ButtonCounter]{font-size:12px;}/*!sc*/
.gMDbOv[data-size="small"] [data-component="buttonContent"] > :not(:last-child){margin-right:4px;}/*!sc*/
.gMDbOv[data-size="small"][data-component=IconButton]{width:28px;padding:unset;}/*!sc*/
.gMDbOv[data-size="large"]{padding:0 16px;height:40px;gap:8px;}/*!sc*/
.gMDbOv[data-size="large"] [data-component="buttonContent"] > :not(:last-child){margin-right:8px;}/*!sc*/
.gMDbOv[data-size="large"][data-component=IconButton]{width:40px;padding:unset;}/*!sc*/
.gMDbOv[data-block="block"]{width:100%;}/*!sc*/
.gMDbOv[data-inactive]:not([disabled]){background-color:var(--button-inactive-bgColor,#21262d);border-color:var(--button-inactive-bgColor,#21262d);color:var(--button-inactive-fgColor,#8b949e);}/*!sc*/
.gMDbOv[data-inactive]:not([disabled]):focus-visible{box-shadow:none;}/*!sc*/
.gMDbOv [data-component="leadingVisual"]{grid-area:leadingVisual;color:#7d8590;}/*!sc*/
.gMDbOv [data-component="text"]{grid-area:text;line-height:calc(20/14);white-space:nowrap;}/*!sc*/
.gMDbOv [data-component="trailingVisual"]{grid-area:trailingVisual;}/*!sc*/
.gMDbOv [data-component="trailingAction"]{margin-right:-4px;color:#7d8590;}/*!sc*/
.gMDbOv [data-component="buttonContent"]{-webkit-flex:1 0 auto;-ms-flex:1 0 auto;flex:1 0 auto;display:grid;grid-template-areas:"leadingVisual text trailingVisual";grid-template-columns:min-content minmax(0,auto) min-content;-webkit-align-items:center;-webkit-box-align:center;-ms-flex-align:center;align-items:center;-webkit-align-content:center;-ms-flex-line-pack:center;align-content:center;}/*!sc*/
.gMDbOv [data-component="buttonContent"] > :not(:last-child){margin-right:8px;}/*!sc*/
.gMDbOv:hover:not([disabled]){background-color:rgba(177,186,196,0.12);}/*!sc*/
.gMDbOv:active:not([disabled]){background-color:rgba(177,186,196,0.2);}/*!sc*/
.gMDbOv[aria-expanded=true]{background-color:rgba(177,186,196,0.08);}/*!sc*/
.gMDbOv[data-component="IconButton"][data-no-visuals]{color:#7d8590;}/*!sc*/
.gMDbOv[data-no-visuals]{color:#2f81f7;}/*!sc*/
.gMDbOv:has([data-component="ButtonCounter"]){color:#c9d1d9;}/*!sc*/
.gMDbOv:disabled[data-no-visuals]{color:#484f58;}/*!sc*/
.gMDbOv:disabled[data-no-visuals] [data-component=ButtonCounter]{color:inherit;}/*!sc*/
.eYoABg{border-radius:6px;border:1px solid;border-color:var(--button-default-borderColor-rest,rgba(240,246,252,0.1));font-family:inherit;font-weight:500;font-size:14px;cursor:pointer;-webkit-appearance:none;-moz-appearance:none;appearance:none;-webkit-user-select:none;-moz-user-select:none;-ms-user-select:none;user-select:none;-webkit-text-decoration:none;text-decoration:none;text-align:center;display:-webkit-box;display:-webkit-flex;display:-ms-flexbox;display:flex;-webkit-align-items:center;-webkit-box-align:center;-ms-flex-align:center;align-items:center;-webkit-box-pack:justify;-webkit-justify-content:space-between;-ms-flex-pack:justify;justify-content:space-between;height:32px;padding:0 12px;gap:8px;min-width:-webkit-max-content;min-width:-moz-max-content;min-width:max-content;-webkit-transition:80ms cubic-bezier(0.65,0,0.35,1);transition:80ms cubic-bezier(0.65,0,0.35,1);-webkit-transition-property:color,fill,background-color,border-color;transition-property:color,fill,background-color,border-color;color:#c9d1d9;background-color:#21262d;box-shadow:0 0 transparent,0 0 transparent;padding-left:8px;padding-right:8px;}/*!sc*/
.eYoABg:focus:not(:disabled){box-shadow:none;outline:2px solid #2f81f7;outline-offset:-2px;}/*!sc*/
.eYoABg:focus:not(:disabled):not(:focus-visible){outline:solid 1px transparent;}/*!sc*/
.eYoABg:focus-visible:not(:disabled){box-shadow:none;outline:2px solid #2f81f7;outline-offset:-2px;}/*!sc*/
.eYoABg[href]{display:-webkit-inline-box;display:-webkit-inline-flex;display:-ms-inline-flexbox;display:inline-flex;}/*!sc*/
.eYoABg[href]:hover{-webkit-text-decoration:none;text-decoration:none;}/*!sc*/
.eYoABg:hover{-webkit-transition-duration:80ms;transition-duration:80ms;}/*!sc*/
.eYoABg:active{-webkit-transition:none;transition:none;}/*!sc*/
.eYoABg[data-inactive]{cursor:auto;}/*!sc*/
.eYoABg:disabled{cursor:not-allowed;box-shadow:none;color:#484f58;}/*!sc*/
.eYoABg:disabled [data-component=ButtonCounter]{color:inherit;}/*!sc*/
@media (forced-colors:active){.eYoABg:focus{outline:solid 1px transparent;}}/*!sc*/
.eYoABg [data-component=ButtonCounter]{font-size:12px;}/*!sc*/
.eYoABg[data-component=IconButton]{display:inline-grid;padding:unset;place-content:center;width:32px;min-width:unset;}/*!sc*/
.eYoABg[data-size="small"]{padding:0 8px;height:28px;gap:4px;font-size:12px;}/*!sc*/
.eYoABg[data-size="small"] [data-component="text"]{line-height:calc(20 / 12);}/*!sc*/
.eYoABg[data-size="small"] [data-component=ButtonCounter]{font-size:12px;}/*!sc*/
.eYoABg[data-size="small"] [data-component="buttonContent"] > :not(:last-child){margin-right:4px;}/*!sc*/
.eYoABg[data-size="small"][data-component=IconButton]{width:28px;padding:unset;}/*!sc*/
.eYoABg[data-size="large"]{padding:0 16px;height:40px;gap:8px;}/*!sc*/
.eYoABg[data-size="large"] [data-component="buttonContent"] > :not(:last-child){margin-right:8px;}/*!sc*/
.eYoABg[data-size="large"][data-component=IconButton]{width:40px;padding:unset;}/*!sc*/
.eYoABg[data-block="block"]{width:100%;}/*!sc*/
.eYoABg[data-inactive]:not([disabled]){background-color:var(--button-inactive-bgColor,#21262d);border-color:var(--button-inactive-bgColor,#21262d);color:var(--button-inactive-fgColor,#8b949e);}/*!sc*/
.eYoABg[data-inactive]:not([disabled]):focus-visible{box-shadow:none;}/*!sc*/
.eYoABg [data-component="leadingVisual"]{grid-area:leadingVisual;}/*!sc*/
.eYoABg [data-component="text"]{grid-area:text;line-height:calc(20/14);white-space:nowrap;}/*!sc*/
.eYoABg [data-component="trailingVisual"]{grid-area:trailingVisual;}/*!sc*/
.eYoABg [data-component="trailingAction"]{margin-right:-4px;}/*!sc*/
.eYoABg [data-component="buttonContent"]{-webkit-flex:1 0 auto;-ms-flex:1 0 auto;flex:1 0 auto;display:grid;grid-template-areas:"leadingVisual text trailingVisual";grid-template-columns:min-content minmax(0,auto) min-content;-webkit-align-items:center;-webkit-box-align:center;-ms-flex-align:center;align-items:center;-webkit-align-content:center;-ms-flex-line-pack:center;align-content:center;}/*!sc*/
.eYoABg [data-component="buttonContent"] > :not(:last-child){margin-right:8px;}/*!sc*/
.eYoABg:hover:not([disabled]):not([data-inactive]){background-color:#30363d;border-color:var(--button-default-borderColor-hover,#8b949e);}/*!sc*/
.eYoABg:active:not([disabled]):not([data-inactive]){background-color:hsla(212,12%,18%,1);border-color:var(--button-default-borderColor-active,#6e7681);}/*!sc*/
.eYoABg[aria-expanded=true]{background-color:hsla(212,12%,18%,1);border-color:var(--button-default-borderColor-active,#6e7681);}/*!sc*/
.eYoABg [data-component="leadingVisual"],.eYoABg [data-component="trailingVisual"],.eYoABg [data-component="trailingAction"]{color:var(--button-color,#7d8590);}/*!sc*/
.eYoABg linkButtonSx:hover:not([disabled]){-webkit-text-decoration:none;text-decoration:none;}/*!sc*/
.eYoABg linkButtonSx:focus:not([disabled]){-webkit-text-decoration:none;text-decoration:none;}/*!sc*/
.eYoABg linkButtonSx:active:not([disabled]){-webkit-text-decoration:none;text-decoration:none;}/*!sc*/
.vhlgx{border-radius:6px;border:1px solid;border-color:var(--button-default-borderColor-rest,rgba(240,246,252,0.1));font-family:inherit;font-weight:500;font-size:14px;cursor:pointer;-webkit-appearance:none;-moz-appearance:none;appearance:none;-webkit-user-select:none;-moz-user-select:none;-ms-user-select:none;user-select:none;-webkit-text-decoration:none;text-decoration:none;text-align:center;display:-webkit-box;display:-webkit-flex;display:-ms-flexbox;display:flex;-webkit-align-items:center;-webkit-box-align:center;-ms-flex-align:center;align-items:center;-webkit-box-pack:justify;-webkit-justify-content:space-between;-ms-flex-pack:justify;justify-content:space-between;height:32px;padding:0 12px;gap:8px;min-width:-webkit-max-content;min-width:-moz-max-content;min-width:max-content;-webkit-transition:80ms cubic-bezier(0.65,0,0.35,1);transition:80ms cubic-bezier(0.65,0,0.35,1);-webkit-transition-property:color,fill,background-color,border-color;transition-property:color,fill,background-color,border-color;color:#c9d1d9;background-color:#21262d;box-shadow:0 0 transparent,0 0 transparent;}/*!sc*/
.vhlgx:focus:not(:disabled){box-shadow:none;outline:2px solid #2f81f7;outline-offset:-2px;}/*!sc*/
.vhlgx:focus:not(:disabled):not(:focus-visible){outline:solid 1px transparent;}/*!sc*/
.vhlgx:focus-visible:not(:disabled){box-shadow:none;outline:2px solid #2f81f7;outline-offset:-2px;}/*!sc*/
.vhlgx[href]{display:-webkit-inline-box;display:-webkit-inline-flex;display:-ms-inline-flexbox;display:inline-flex;}/*!sc*/
.vhlgx[href]:hover{-webkit-text-decoration:none;text-decoration:none;}/*!sc*/
.vhlgx:hover{-webkit-transition-duration:80ms;transition-duration:80ms;}/*!sc*/
.vhlgx:active{-webkit-transition:none;transition:none;}/*!sc*/
.vhlgx[data-inactive]{cursor:auto;}/*!sc*/
.vhlgx:disabled{cursor:not-allowed;box-shadow:none;color:#484f58;}/*!sc*/
.vhlgx:disabled [data-component=ButtonCounter]{color:inherit;}/*!sc*/
@media (forced-colors:active){.vhlgx:focus{outline:solid 1px transparent;}}/*!sc*/
.vhlgx [data-component=ButtonCounter]{font-size:12px;}/*!sc*/
.vhlgx[data-component=IconButton]{display:inline-grid;padding:unset;place-content:center;width:32px;min-width:unset;}/*!sc*/
.vhlgx[data-size="small"]{padding:0 8px;height:28px;gap:4px;font-size:12px;}/*!sc*/
.vhlgx[data-size="small"] [data-component="text"]{line-height:calc(20 / 12);}/*!sc*/
.vhlgx[data-size="small"] [data-component=ButtonCounter]{font-size:12px;}/*!sc*/
.vhlgx[data-size="small"] [data-component="buttonContent"] > :not(:last-child){margin-right:4px;}/*!sc*/
.vhlgx[data-size="small"][data-component=IconButton]{width:28px;padding:unset;}/*!sc*/
.vhlgx[data-size="large"]{padding:0 16px;height:40px;gap:8px;}/*!sc*/
.vhlgx[data-size="large"] [data-component="buttonContent"] > :not(:last-child){margin-right:8px;}/*!sc*/
.vhlgx[data-size="large"][data-component=IconButton]{width:40px;padding:unset;}/*!sc*/
.vhlgx[data-block="block"]{width:100%;}/*!sc*/
.vhlgx[data-inactive]:not([disabled]){background-color:var(--button-inactive-bgColor,#21262d);border-color:var(--button-inactive-bgColor,#21262d);color:var(--button-inactive-fgColor,#8b949e);}/*!sc*/
.vhlgx[data-inactive]:not([disabled]):focus-visible{box-shadow:none;}/*!sc*/
.vhlgx [data-component="leadingVisual"]{grid-area:leadingVisual;}/*!sc*/
.vhlgx [data-component="text"]{grid-area:text;line-height:calc(20/14);white-space:nowrap;}/*!sc*/
.vhlgx [data-component="trailingVisual"]{grid-area:trailingVisual;}/*!sc*/
.vhlgx [data-component="trailingAction"]{margin-right:-4px;}/*!sc*/
.vhlgx [data-component="buttonContent"]{-webkit-flex:1 0 auto;-ms-flex:1 0 auto;flex:1 0 auto;display:grid;grid-template-areas:"leadingVisual text trailingVisual";grid-template-columns:min-content minmax(0,auto) min-content;-webkit-align-items:center;-webkit-box-align:center;-ms-flex-align:center;align-items:center;-webkit-align-content:center;-ms-flex-line-pack:center;align-content:center;}/*!sc*/
.vhlgx [data-component="buttonContent"] > :not(:last-child){margin-right:8px;}/*!sc*/
.vhlgx:hover:not([disabled]):not([data-inactive]){background-color:#30363d;border-color:var(--button-default-borderColor-hover,#8b949e);}/*!sc*/
.vhlgx:active:not([disabled]):not([data-inactive]){background-color:hsla(212,12%,18%,1);border-color:var(--button-default-borderColor-active,#6e7681);}/*!sc*/
.vhlgx[aria-expanded=true]{background-color:hsla(212,12%,18%,1);border-color:var(--button-default-borderColor-active,#6e7681);}/*!sc*/
.vhlgx [data-component="leadingVisual"],.vhlgx [data-component="trailingVisual"],.vhlgx [data-component="trailingAction"]{color:var(--button-color,#7d8590);}/*!sc*/
.hJrlYF{border-radius:6px;border:1px solid;border-color:var(--button-default-borderColor-rest,rgba(240,246,252,0.1));font-family:inherit;font-weight:500;font-size:14px;cursor:pointer;-webkit-appearance:none;-moz-appearance:none;appearance:none;-webkit-user-select:none;-moz-user-select:none;-ms-user-select:none;user-select:none;-webkit-text-decoration:none;text-decoration:none;text-align:center;display:-webkit-box;display:-webkit-flex;display:-ms-flexbox;display:flex;-webkit-align-items:center;-webkit-box-align:center;-ms-flex-align:center;align-items:center;-webkit-box-pack:justify;-webkit-justify-content:space-between;-ms-flex-pack:justify;justify-content:space-between;height:32px;padding:0 12px;gap:8px;min-width:-webkit-max-content;min-width:-moz-max-content;min-width:max-content;-webkit-transition:80ms cubic-bezier(0.65,0,0.35,1);transition:80ms cubic-bezier(0.65,0,0.35,1);-webkit-transition-property:color,fill,background-color,border-color;transition-property:color,fill,background-color,border-color;color:#c9d1d9;background-color:#21262d;box-shadow:0 0 transparent,0 0 transparent;}/*!sc*/
.hJrlYF:focus:not(:disabled){box-shadow:none;outline:2px solid #2f81f7;outline-offset:-2px;}/*!sc*/
.hJrlYF:focus:not(:disabled):not(:focus-visible){outline:solid 1px transparent;}/*!sc*/
.hJrlYF:focus-visible:not(:disabled){box-shadow:none;outline:2px solid #2f81f7;outline-offset:-2px;}/*!sc*/
.hJrlYF[href]{display:-webkit-inline-box;display:-webkit-inline-flex;display:-ms-inline-flexbox;display:inline-flex;}/*!sc*/
.hJrlYF[href]:hover{-webkit-text-decoration:none;text-decoration:none;}/*!sc*/
.hJrlYF:hover{-webkit-transition-duration:80ms;transition-duration:80ms;}/*!sc*/
.hJrlYF:active{-webkit-transition:none;transition:none;}/*!sc*/
.hJrlYF[data-inactive]{cursor:auto;}/*!sc*/
.hJrlYF:disabled{cursor:not-allowed;box-shadow:none;color:#484f58;}/*!sc*/
.hJrlYF:disabled [data-component=ButtonCounter]{color:inherit;}/*!sc*/
@media (forced-colors:active){.hJrlYF:focus{outline:solid 1px transparent;}}/*!sc*/
.hJrlYF [data-component=ButtonCounter]{font-size:12px;}/*!sc*/
.hJrlYF[data-component=IconButton]{display:inline-grid;padding:unset;place-content:center;width:32px;min-width:unset;}/*!sc*/
.hJrlYF[data-size="small"]{padding:0 8px;height:28px;gap:4px;font-size:12px;}/*!sc*/
.hJrlYF[data-size="small"] [data-component="text"]{line-height:calc(20 / 12);}/*!sc*/
.hJrlYF[data-size="small"] [data-component=ButtonCounter]{font-size:12px;}/*!sc*/
.hJrlYF[data-size="small"] [data-component="buttonContent"] > :not(:last-child){margin-right:4px;}/*!sc*/
.hJrlYF[data-size="small"][data-component=IconButton]{width:28px;padding:unset;}/*!sc*/
.hJrlYF[data-size="large"]{padding:0 16px;height:40px;gap:8px;}/*!sc*/
.hJrlYF[data-size="large"] [data-component="buttonContent"] > :not(:last-child){margin-right:8px;}/*!sc*/
.hJrlYF[data-size="large"][data-component=IconButton]{width:40px;padding:unset;}/*!sc*/
.hJrlYF[data-block="block"]{width:100%;}/*!sc*/
.hJrlYF[data-inactive]:not([disabled]){background-color:var(--button-inactive-bgColor,#21262d);border-color:var(--button-inactive-bgColor,#21262d);color:var(--button-inactive-fgColor,#8b949e);}/*!sc*/
.hJrlYF[data-inactive]:not([disabled]):focus-visible{box-shadow:none;}/*!sc*/
.hJrlYF [data-component="leadingVisual"]{grid-area:leadingVisual;}/*!sc*/
.hJrlYF [data-component="text"]{grid-area:text;line-height:calc(20/14);white-space:nowrap;}/*!sc*/
.hJrlYF [data-component="trailingVisual"]{grid-area:trailingVisual;}/*!sc*/
.hJrlYF [data-component="trailingAction"]{margin-right:-4px;}/*!sc*/
.hJrlYF [data-component="buttonContent"]{-webkit-flex:1 0 auto;-ms-flex:1 0 auto;flex:1 0 auto;display:grid;grid-template-areas:"leadingVisual text trailingVisual";grid-template-columns:min-content minmax(0,auto) min-content;-webkit-align-items:center;-webkit-box-align:center;-ms-flex-align:center;align-items:center;-webkit-align-content:center;-ms-flex-line-pack:center;align-content:center;}/*!sc*/
.hJrlYF [data-component="buttonContent"] > :not(:last-child){margin-right:8px;}/*!sc*/
.hJrlYF:hover:not([disabled]):not([data-inactive]){background-color:#30363d;border-color:var(--button-default-borderColor-hover,#8b949e);}/*!sc*/
.hJrlYF:active:not([disabled]):not([data-inactive]){background-color:hsla(212,12%,18%,1);border-color:var(--button-default-borderColor-active,#6e7681);}/*!sc*/
.hJrlYF[aria-expanded=true]{background-color:hsla(212,12%,18%,1);border-color:var(--button-default-borderColor-active,#6e7681);}/*!sc*/
.hJrlYF [data-component="leadingVisual"],.hJrlYF [data-component="trailingVisual"],.hJrlYF [data-component="trailingAction"]{color:var(--button-color,#7d8590);}/*!sc*/
.hJrlYF[data-size="small"][data-no-visuals]{border-top-left-radius:0;border-bottom-left-radius:0;}/*!sc*/
.keZbsz{border-radius:6px;border:1px solid;border-color:var(--button-default-borderColor-rest,rgba(240,246,252,0.1));font-family:inherit;font-weight:500;font-size:14px;cursor:pointer;-webkit-appearance:none;-moz-appearance:none;appearance:none;-webkit-user-select:none;-moz-user-select:none;-ms-user-select:none;user-select:none;-webkit-text-decoration:none;text-decoration:none;text-align:center;display:-webkit-box;display:-webkit-flex;display:-ms-flexbox;display:flex;-webkit-align-items:center;-webkit-box-align:center;-ms-flex-align:center;align-items:center;-webkit-box-pack:justify;-webkit-justify-content:space-between;-ms-flex-pack:justify;justify-content:space-between;height:32px;padding:0 12px;gap:8px;min-width:-webkit-max-content;min-width:-moz-max-content;min-width:max-content;-webkit-transition:80ms cubic-bezier(0.65,0,0.35,1);transition:80ms cubic-bezier(0.65,0,0.35,1);-webkit-transition-property:color,fill,background-color,border-color;transition-property:color,fill,background-color,border-color;color:#c9d1d9;background-color:#21262d;box-shadow:0 0 transparent,0 0 transparent;}/*!sc*/
.keZbsz:focus:not(:disabled){box-shadow:none;outline:2px solid #2f81f7;outline-offset:-2px;}/*!sc*/
.keZbsz:focus:not(:disabled):not(:focus-visible){outline:solid 1px transparent;}/*!sc*/
.keZbsz:focus-visible:not(:disabled){box-shadow:none;outline:2px solid #2f81f7;outline-offset:-2px;}/*!sc*/
.keZbsz[href]{display:-webkit-inline-box;display:-webkit-inline-flex;display:-ms-inline-flexbox;display:inline-flex;}/*!sc*/
.keZbsz[href]:hover{-webkit-text-decoration:none;text-decoration:none;}/*!sc*/
.keZbsz:hover{-webkit-transition-duration:80ms;transition-duration:80ms;}/*!sc*/
.keZbsz:active{-webkit-transition:none;transition:none;}/*!sc*/
.keZbsz[data-inactive]{cursor:auto;}/*!sc*/
.keZbsz:disabled{cursor:not-allowed;box-shadow:none;color:#484f58;}/*!sc*/
.keZbsz:disabled [data-component=ButtonCounter]{color:inherit;}/*!sc*/
@media (forced-colors:active){.keZbsz:focus{outline:solid 1px transparent;}}/*!sc*/
.keZbsz [data-component=ButtonCounter]{font-size:12px;}/*!sc*/
.keZbsz[data-component=IconButton]{display:inline-grid;padding:unset;place-content:center;width:32px;min-width:unset;}/*!sc*/
.keZbsz[data-size="small"]{padding:0 8px;height:28px;gap:4px;font-size:12px;}/*!sc*/
.keZbsz[data-size="small"] [data-component="text"]{line-height:calc(20 / 12);}/*!sc*/
.keZbsz[data-size="small"] [data-component=ButtonCounter]{font-size:12px;}/*!sc*/
.keZbsz[data-size="small"] [data-component="buttonContent"] > :not(:last-child){margin-right:4px;}/*!sc*/
.keZbsz[data-size="small"][data-component=IconButton]{width:28px;padding:unset;}/*!sc*/
.keZbsz[data-size="large"]{padding:0 16px;height:40px;gap:8px;}/*!sc*/
.keZbsz[data-size="large"] [data-component="buttonContent"] > :not(:last-child){margin-right:8px;}/*!sc*/
.keZbsz[data-size="large"][data-component=IconButton]{width:40px;padding:unset;}/*!sc*/
.keZbsz[data-block="block"]{width:100%;}/*!sc*/
.keZbsz[data-inactive]:not([disabled]){background-color:var(--button-inactive-bgColor,#21262d);border-color:var(--button-inactive-bgColor,#21262d);color:var(--button-inactive-fgColor,#8b949e);}/*!sc*/
.keZbsz[data-inactive]:not([disabled]):focus-visible{box-shadow:none;}/*!sc*/
.keZbsz [data-component="leadingVisual"]{grid-area:leadingVisual;}/*!sc*/
.keZbsz [data-component="text"]{grid-area:text;line-height:calc(20/14);white-space:nowrap;}/*!sc*/
.keZbsz [data-component="trailingVisual"]{grid-area:trailingVisual;}/*!sc*/
.keZbsz [data-component="trailingAction"]{margin-right:-4px;}/*!sc*/
.keZbsz [data-component="buttonContent"]{-webkit-flex:1 0 auto;-ms-flex:1 0 auto;flex:1 0 auto;display:grid;grid-template-areas:"leadingVisual text trailingVisual";grid-template-columns:min-content minmax(0,auto) min-content;-webkit-align-items:center;-webkit-box-align:center;-ms-flex-align:center;align-items:center;-webkit-align-content:center;-ms-flex-line-pack:center;align-content:center;}/*!sc*/
.keZbsz [data-component="buttonContent"] > :not(:last-child){margin-right:8px;}/*!sc*/
.keZbsz:hover:not([disabled]):not([data-inactive]){background-color:#30363d;border-color:var(--button-default-borderColor-hover,#8b949e);}/*!sc*/
.keZbsz:active:not([disabled]):not([data-inactive]){background-color:hsla(212,12%,18%,1);border-color:var(--button-default-borderColor-active,#6e7681);}/*!sc*/
.keZbsz[aria-expanded=true]{background-color:hsla(212,12%,18%,1);border-color:var(--button-default-borderColor-active,#6e7681);}/*!sc*/
.keZbsz [data-component="leadingVisual"],.keZbsz [data-component="trailingVisual"],.keZbsz [data-component="trailingAction"]{color:var(--button-color,#7d8590);}/*!sc*/
.keZbsz[data-size="small"][data-no-visuals]{border-top-right-radius:0;border-bottom-right-radius:0;border-right-width:0;}/*!sc*/
.keZbsz[data-size="small"][data-no-visuals]:hover:not([disabled]){-webkit-text-decoration:none;text-decoration:none;}/*!sc*/
.keZbsz[data-size="small"][data-no-visuals]:focus:not([disabled]){-webkit-text-decoration:none;text-decoration:none;}/*!sc*/
.keZbsz[data-size="small"][data-no-visuals]:active:not([disabled]){-webkit-text-decoration:none;text-decoration:none;}/*!sc*/
.fArVBu{border-radius:6px;border:1px solid;border-color:transparent;font-family:inherit;font-weight:500;font-size:14px;cursor:pointer;-webkit-appearance:none;-moz-appearance:none;appearance:none;-webkit-user-select:none;-moz-user-select:none;-ms-user-select:none;user-select:none;-webkit-text-decoration:none;text-decoration:none;text-align:center;display:-webkit-box;display:-webkit-flex;display:-ms-flexbox;display:flex;-webkit-align-items:center;-webkit-box-align:center;-ms-flex-align:center;align-items:center;-webkit-box-pack:justify;-webkit-justify-content:space-between;-ms-flex-pack:justify;justify-content:space-between;height:32px;padding:0 12px;gap:8px;min-width:-webkit-max-content;min-width:-moz-max-content;min-width:max-content;-webkit-transition:80ms cubic-bezier(0.65,0,0.35,1);transition:80ms cubic-bezier(0.65,0,0.35,1);-webkit-transition-property:color,fill,background-color,border-color;transition-property:color,fill,background-color,border-color;color:#c9d1d9;background-color:transparent;box-shadow:none;}/*!sc*/
.fArVBu:focus:not(:disabled){box-shadow:none;outline:2px solid #2f81f7;outline-offset:-2px;}/*!sc*/
.fArVBu:focus:not(:disabled):not(:focus-visible){outline:solid 1px transparent;}/*!sc*/
.fArVBu:focus-visible:not(:disabled){box-shadow:none;outline:2px solid #2f81f7;outline-offset:-2px;}/*!sc*/
.fArVBu[href]{display:-webkit-inline-box;display:-webkit-inline-flex;display:-ms-inline-flexbox;display:inline-flex;}/*!sc*/
.fArVBu[href]:hover{-webkit-text-decoration:none;text-decoration:none;}/*!sc*/
.fArVBu:hover{-webkit-transition-duration:80ms;transition-duration:80ms;}/*!sc*/
.fArVBu:active{-webkit-transition:none;transition:none;}/*!sc*/
.fArVBu[data-inactive]{cursor:auto;}/*!sc*/
.fArVBu:disabled{cursor:not-allowed;box-shadow:none;color:#484f58;}/*!sc*/
.fArVBu:disabled [data-component=ButtonCounter],.fArVBu:disabled [data-component="leadingVisual"],.fArVBu:disabled [data-component="trailingAction"]{color:inherit;}/*!sc*/
@media (forced-colors:active){.fArVBu:focus{outline:solid 1px transparent;}}/*!sc*/
.fArVBu [data-component=ButtonCounter]{font-size:12px;}/*!sc*/
.fArVBu[data-component=IconButton]{display:inline-grid;padding:unset;place-content:center;width:32px;min-width:unset;}/*!sc*/
.fArVBu[data-size="small"]{padding:0 8px;height:28px;gap:4px;font-size:12px;}/*!sc*/
.fArVBu[data-size="small"] [data-component="text"]{line-height:calc(20 / 12);}/*!sc*/
.fArVBu[data-size="small"] [data-component=ButtonCounter]{font-size:12px;}/*!sc*/
.fArVBu[data-size="small"] [data-component="buttonContent"] > :not(:last-child){margin-right:4px;}/*!sc*/
.fArVBu[data-size="small"][data-component=IconButton]{width:28px;padding:unset;}/*!sc*/
.fArVBu[data-size="large"]{padding:0 16px;height:40px;gap:8px;}/*!sc*/
.fArVBu[data-size="large"] [data-component="buttonContent"] > :not(:last-child){margin-right:8px;}/*!sc*/
.fArVBu[data-size="large"][data-component=IconButton]{width:40px;padding:unset;}/*!sc*/
.fArVBu[data-block="block"]{width:100%;}/*!sc*/
.fArVBu[data-inactive]:not([disabled]){background-color:var(--button-inactive-bgColor,#21262d);border-color:var(--button-inactive-bgColor,#21262d);color:var(--button-inactive-fgColor,#8b949e);}/*!sc*/
.fArVBu[data-inactive]:not([disabled]):focus-visible{box-shadow:none;}/*!sc*/
.fArVBu [data-component="leadingVisual"]{grid-area:leadingVisual;color:#7d8590;}/*!sc*/
.fArVBu [data-component="text"]{grid-area:text;line-height:calc(20/14);white-space:nowrap;}/*!sc*/
.fArVBu [data-component="trailingVisual"]{grid-area:trailingVisual;}/*!sc*/
.fArVBu [data-component="trailingAction"]{margin-right:-4px;color:#7d8590;}/*!sc*/
.fArVBu [data-component="buttonContent"]{-webkit-flex:1 0 auto;-ms-flex:1 0 auto;flex:1 0 auto;display:grid;grid-template-areas:"leadingVisual text trailingVisual";grid-template-columns:min-content minmax(0,auto) min-content;-webkit-align-items:center;-webkit-box-align:center;-ms-flex-align:center;align-items:center;-webkit-align-content:center;-ms-flex-line-pack:center;align-content:center;}/*!sc*/
.fArVBu [data-component="buttonContent"] > :not(:last-child){margin-right:8px;}/*!sc*/
.fArVBu:hover:not([disabled]){background-color:rgba(177,186,196,0.12);}/*!sc*/
.fArVBu:active:not([disabled]){background-color:rgba(177,186,196,0.2);}/*!sc*/
.fArVBu[aria-expanded=true]{background-color:rgba(177,186,196,0.08);}/*!sc*/
.fArVBu[data-component="IconButton"][data-no-visuals]{color:#7d8590;}/*!sc*/
.fArVBu[data-no-visuals]{color:#2f81f7;}/*!sc*/
.fArVBu:has([data-component="ButtonCounter"]){color:#c9d1d9;}/*!sc*/
.fArVBu:disabled[data-no-visuals]{color:#484f58;}/*!sc*/
.fArVBu:disabled[data-no-visuals] [data-component=ButtonCounter]{color:inherit;}/*!sc*/
.fArVBu[data-size="small"][data-no-visuals]{color:#7d8590;}/*!sc*/
data-styled.g9[id="types__StyledButton-sc-ws60qy-0"]{content:"kdFvja,dkDIZP,gFQuzL,bTTPJZ,eYCGbj,wxyGP,bydlvg,QqKiN,bIBfEj,ePrtIU,bJDkZV,gMDbOv,eYoABg,vhlgx,hJrlYF,keZbsz,fArVBu,"}/*!sc*/
.rTZSs{position:absolute;width:1px;height:1px;padding:0;margin:-1px;overflow:hidden;-webkit-clip:rect(0,0,0,0);clip:rect(0,0,0,0);white-space:nowrap;border-width:0;}/*!sc*/
data-styled.g10[id="_VisuallyHidden__VisuallyHidden-sc-11jhm7a-0"]{content:"rTZSs,"}/*!sc*/
.fUpWeN{display:inline-block;overflow:hidden;text-overflow:ellipsis;vertical-align:top;white-space:nowrap;max-width:125px;max-width:100%;}/*!sc*/
data-styled.g15[id="Truncate__StyledTruncate-sc-23o1d2-0"]{content:"fUpWeN,"}/*!sc*/
.fQBTUs{position:relative;display:inline-block;}/*!sc*/
.fQBTUs::before{position:absolute;z-index:1000001;display:none;width:0px;height:0px;color:#6e7681;pointer-events:none;content:'';border:6px solid transparent;opacity:0;}/*!sc*/
.fQBTUs::after{position:absolute;z-index:1000000;display:none;padding:0.5em 0.75em;font:normal normal 11px/1.5 -apple-system,BlinkMacSystemFont,"Segoe UI","Noto Sans",Helvetica,Arial,sans-serif,"Apple Color Emoji","Segoe UI Emoji";-webkit-font-smoothing:subpixel-antialiased;color:#ffffff;text-align:center;-webkit-text-decoration:none;text-decoration:none;text-shadow:none;text-transform:none;-webkit-letter-spacing:normal;-moz-letter-spacing:normal;-ms-letter-spacing:normal;letter-spacing:normal;word-wrap:break-word;white-space:pre;pointer-events:none;content:attr(aria-label);background:#6e7681;border-radius:3px;opacity:0;}/*!sc*/
@-webkit-keyframes tooltip-appear{from{opacity:0;}to{opacity:1;}}/*!sc*/
@keyframes tooltip-appear{from{opacity:0;}to{opacity:1;}}/*!sc*/
.fQBTUs:hover::before,.fQBTUs:active::before,.fQBTUs:focus::before,.fQBTUs:focus-within::before,.fQBTUs:hover::after,.fQBTUs:active::after,.fQBTUs:focus::after,.fQBTUs:focus-within::after{display:inline-block;-webkit-text-decoration:none;text-decoration:none;-webkit-animation-name:tooltip-appear;animation-name:tooltip-appear;-webkit-animation-duration:0.1s;animation-duration:0.1s;-webkit-animation-fill-mode:forwards;animation-fill-mode:forwards;-webkit-animation-timing-function:ease-in;animation-timing-function:ease-in;-webkit-animation-delay:0.4s;animation-delay:0.4s;}/*!sc*/
.fQBTUs.tooltipped-no-delay:hover::before,.fQBTUs.tooltipped-no-delay:active::before,.fQBTUs.tooltipped-no-delay:focus::before,.fQBTUs.tooltipped-no-delay:focus-within::before,.fQBTUs.tooltipped-no-delay:hover::after,.fQBTUs.tooltipped-no-delay:active::after,.fQBTUs.tooltipped-no-delay:focus::after,.fQBTUs.tooltipped-no-delay:focus-within::after{-webkit-animation-delay:0s;animation-delay:0s;}/*!sc*/
.fQBTUs.tooltipped-multiline:hover::after,.fQBTUs.tooltipped-multiline:active::after,.fQBTUs.tooltipped-multiline:focus::after,.fQBTUs.tooltipped-multiline:focus-within::after{display:table-cell;}/*!sc*/
.fQBTUs.tooltipped-s::after,.fQBTUs.tooltipped-se::after,.fQBTUs.tooltipped-sw::after{top:100%;right:50%;margin-top:6px;}/*!sc*/
.fQBTUs.tooltipped-s::before,.fQBTUs.tooltipped-se::before,.fQBTUs.tooltipped-sw::before{top:auto;right:50%;bottom:-7px;margin-right:-6px;border-bottom-color:#6e7681;}/*!sc*/
.fQBTUs.tooltipped-se::after{right:auto;left:50%;margin-left:-16px;}/*!sc*/
.fQBTUs.tooltipped-sw::after{margin-right:-16px;}/*!sc*/
.fQBTUs.tooltipped-n::after,.fQBTUs.tooltipped-ne::after,.fQBTUs.tooltipped-nw::after{right:50%;bottom:100%;margin-bottom:6px;}/*!sc*/
.fQBTUs.tooltipped-n::before,.fQBTUs.tooltipped-ne::before,.fQBTUs.tooltipped-nw::before{top:-7px;right:50%;bottom:auto;margin-right:-6px;border-top-color:#6e7681;}/*!sc*/
.fQBTUs.tooltipped-ne::after{right:auto;left:50%;margin-left:-16px;}/*!sc*/
.fQBTUs.tooltipped-nw::after{margin-right:-16px;}/*!sc*/
.fQBTUs.tooltipped-s::after,.fQBTUs.tooltipped-n::after{-webkit-transform:translateX(50%);-ms-transform:translateX(50%);transform:translateX(50%);}/*!sc*/
.fQBTUs.tooltipped-w::after{right:100%;bottom:50%;margin-right:6px;-webkit-transform:translateY(50%);-ms-transform:translateY(50%);transform:translateY(50%);}/*!sc*/
.fQBTUs.tooltipped-w::before{top:50%;bottom:50%;left:-7px;margin-top:-6px;border-left-color:#6e7681;}/*!sc*/
.fQBTUs.tooltipped-e::after{bottom:50%;left:100%;margin-left:6px;-webkit-transform:translateY(50%);-ms-transform:translateY(50%);transform:translateY(50%);}/*!sc*/
.fQBTUs.tooltipped-e::before{top:50%;right:-7px;bottom:50%;margin-top:-6px;border-right-color:#6e7681;}/*!sc*/
.fQBTUs.tooltipped-multiline::after{width:-webkit-max-content;width:-moz-max-content;width:max-content;max-width:250px;word-wrap:break-word;white-space:pre-line;border-collapse:separate;}/*!sc*/
.fQBTUs.tooltipped-multiline.tooltipped-s::after,.fQBTUs.tooltipped-multiline.tooltipped-n::after{right:auto;left:50%;-webkit-transform:translateX(-50%);-ms-transform:translateX(-50%);transform:translateX(-50%);}/*!sc*/
.fQBTUs.tooltipped-multiline.tooltipped-w::after,.fQBTUs.tooltipped-multiline.tooltipped-e::after{right:100%;}/*!sc*/
.fQBTUs.tooltipped-align-right-2::after{right:0;margin-right:0;}/*!sc*/
.fQBTUs.tooltipped-align-right-2::before{right:15px;}/*!sc*/
.fQBTUs.tooltipped-align-left-2::after{left:0;margin-left:0;}/*!sc*/
.fQBTUs.tooltipped-align-left-2::before{left:10px;}/*!sc*/
data-styled.g18[id="Tooltip__TooltipBase-sc-17tf59c-0"]{content:"fQBTUs,"}/*!sc*/
.hPEVNM{-webkit-animation:rotate-keyframes 1s linear infinite;animation:rotate-keyframes 1s linear infinite;}/*!sc*/
@-webkit-keyframes rotate-keyframes{100%{-webkit-transform:rotate(360deg);-ms-transform:rotate(360deg);transform:rotate(360deg);}}/*!sc*/
@keyframes rotate-keyframes{100%{-webkit-transform:rotate(360deg);-ms-transform:rotate(360deg);transform:rotate(360deg);}}/*!sc*/
data-styled.g32[id="Spinner__StyledSpinner-sc-1knt686-0"]{content:"hPEVNM,"}/*!sc*/
.rDvrp{font-size:14px;line-height:20px;color:#e6edf3;vertical-align:middle;background-color:#0d1117;border:1px solid var(--control-borderColor-rest,#30363d);border-radius:6px;outline:none;box-shadow:0 0 transparent;display:-webkit-inline-box;display:-webkit-inline-flex;display:-ms-inline-flexbox;display:inline-flex;-webkit-align-items:stretch;-webkit-box-align:stretch;-ms-flex-align:stretch;align-items:stretch;min-height:32px;overflow:hidden;display:-webkit-box;display:-webkit-flex;display:-ms-flexbox;display:flex;min-width:160px;}/*!sc*/
.rDvrp input,.rDvrp textarea{cursor:text;}/*!sc*/
.rDvrp select{cursor:pointer;}/*!sc*/
.rDvrp::-webkit-input-placeholder{color:#6e7681;}/*!sc*/
.rDvrp::-moz-placeholder{color:#6e7681;}/*!sc*/
.rDvrp:-ms-input-placeholder{color:#6e7681;}/*!sc*/
.rDvrp::placeholder{color:#6e7681;}/*!sc*/
.rDvrp:focus-within{border-color:#2f81f7;outline:2px solid #2f81f7;outline-offset:-1px;}/*!sc*/
.rDvrp > textarea{padding:12px;}/*!sc*/
@media (min-width:768px){.rDvrp{font-size:14px;}}/*!sc*/
data-styled.g41[id="TextInputWrapper__TextInputBaseWrapper-sc-1mqhpbi-0"]{content:"rDvrp,"}/*!sc*/
.gvKfTi{background-repeat:no-repeat;background-position:right 8px center;padding-left:12px;padding-right:12px;display:-webkit-box;display:-webkit-flex;display:-ms-flexbox;display:flex;min-width:160px;}/*!sc*/
.gvKfTi > :not(:last-child){margin-right:8px;}/*!sc*/
.gvKfTi .TextInput-icon,.gvKfTi .TextInput-action{-webkit-align-self:center;-ms-flex-item-align:center;align-self:center;color:#7d8590;-webkit-flex-shrink:0;-ms-flex-negative:0;flex-shrink:0;}/*!sc*/
.gvKfTi > input,.gvKfTi > select{padding-left:0;padding-right:0;}/*!sc*/
data-styled.g42[id="TextInputWrapper-sc-1mqhpbi-1"]{content:"gvKfTi,"}/*!sc*/
.cDLBls{border:0;font-size:inherit;font-family:inherit;background-color:transparent;-webkit-appearance:none;color:inherit;width:100%;}/*!sc*/
.cDLBls:focus{outline:0;}/*!sc*/
data-styled.g43[id="UnstyledTextInput-sc-14ypya-0"]{content:"cDLBls,"}/*!sc*/
.gKuCoB{--segmented-control-button-inner-padding:12px;--segmented-control-button-bg-inset:4px;--segmented-control-outer-radius:6px;background-color:transparent;border-color:transparent;border-radius:var(--segmented-control-outer-radius);border-width:0;color:currentColor;cursor:pointer;font-family:inherit;font-size:inherit;font-weight:600;padding:0;height:100%;width:100%;}/*!sc*/
.gKuCoB .segmentedControl-content{-webkit-align-items:center;-webkit-box-align:center;-ms-flex-align:center;align-items:center;background-color:#0d1117;border-color:#6e7681;border-style:solid;border-width:1px;border-radius:var(--segmented-control-outer-radius);display:-webkit-box;display:-webkit-flex;display:-ms-flexbox;display:flex;height:100%;-webkit-box-pack:center;-webkit-justify-content:center;-ms-flex-pack:center;justify-content:center;padding-left:var(--segmented-control-button-inner-padding);padding-right:var(--segmented-control-button-inner-padding);}/*!sc*/
.gKuCoB svg{fill:#7d8590;}/*!sc*/
.gKuCoB:focus:focus-visible:not(:last-child):after{width:0;}/*!sc*/
.gKuCoB .segmentedControl-text:after{content:"Preview";display:block;font-weight:600;height:0;overflow:hidden;pointer-events:none;-webkit-user-select:none;-moz-user-select:none;-ms-user-select:none;user-select:none;visibility:hidden;}/*!sc*/
@media (pointer:coarse){.gKuCoB:before{content:"";position:absolute;left:0;right:0;-webkit-transform:translateY(-50%);-ms-transform:translateY(-50%);transform:translateY(-50%);top:50%;min-height:44px;}}/*!sc*/
.fCAAcl{--segmented-control-button-inner-padding:12px;--segmented-control-button-bg-inset:4px;--segmented-control-outer-radius:6px;background-color:transparent;border-color:transparent;border-radius:var(--segmented-control-outer-radius);border-width:0;color:currentColor;cursor:pointer;font-family:inherit;font-size:inherit;font-weight:400;padding:var(--segmented-control-button-bg-inset);height:100%;width:100%;}/*!sc*/
.fCAAcl .segmentedControl-content{-webkit-align-items:center;-webkit-box-align:center;-ms-flex-align:center;align-items:center;background-color:transparent;border-color:transparent;border-style:solid;border-width:1px;border-radius:calc(var(--segmented-control-outer-radius) - var(--segmented-control-button-bg-inset) / 2);display:-webkit-box;display:-webkit-flex;display:-ms-flexbox;display:flex;height:100%;-webkit-box-pack:center;-webkit-justify-content:center;-ms-flex-pack:center;justify-content:center;padding-left:calc(var(--segmented-control-button-inner-padding) - var(--segmented-control-button-bg-inset));padding-right:calc(var(--segmented-control-button-inner-padding) - var(--segmented-control-button-bg-inset));}/*!sc*/
.fCAAcl svg{fill:#7d8590;}/*!sc*/
.fCAAcl:hover .segmentedControl-content{background-color:#30363d;}/*!sc*/
.fCAAcl:active .segmentedControl-content{background-color:#21262d;}/*!sc*/
.fCAAcl:focus:focus-visible:not(:last-child):after{width:0;}/*!sc*/
.fCAAcl .segmentedControl-text:after{content:"Code";display:block;font-weight:600;height:0;overflow:hidden;pointer-events:none;-webkit-user-select:none;-moz-user-select:none;-ms-user-select:none;user-select:none;visibility:hidden;}/*!sc*/
@media (pointer:coarse){.fCAAcl:before{content:"";position:absolute;left:0;right:0;-webkit-transform:translateY(-50%);-ms-transform:translateY(-50%);transform:translateY(-50%);top:50%;min-height:44px;}}/*!sc*/
.dAXkSP{--segmented-control-button-inner-padding:12px;--segmented-control-button-bg-inset:4px;--segmented-control-outer-radius:6px;background-color:transparent;border-color:transparent;border-radius:var(--segmented-control-outer-radius);border-width:0;color:currentColor;cursor:pointer;font-family:inherit;font-size:inherit;font-weight:400;padding:var(--segmented-control-button-bg-inset);height:100%;width:100%;}/*!sc*/
.dAXkSP .segmentedControl-content{-webkit-align-items:center;-webkit-box-align:center;-ms-flex-align:center;align-items:center;background-color:transparent;border-color:transparent;border-style:solid;border-width:1px;border-radius:calc(var(--segmented-control-outer-radius) - var(--segmented-control-button-bg-inset) / 2);display:-webkit-box;display:-webkit-flex;display:-ms-flexbox;display:flex;height:100%;-webkit-box-pack:center;-webkit-justify-content:center;-ms-flex-pack:center;justify-content:center;padding-left:calc(var(--segmented-control-button-inner-padding) - var(--segmented-control-button-bg-inset));padding-right:calc(var(--segmented-control-button-inner-padding) - var(--segmented-control-button-bg-inset));}/*!sc*/
.dAXkSP svg{fill:#7d8590;}/*!sc*/
.dAXkSP:hover .segmentedControl-content{background-color:#30363d;}/*!sc*/
.dAXkSP:active .segmentedControl-content{background-color:#21262d;}/*!sc*/
.dAXkSP:focus:focus-visible:not(:last-child):after{width:0;}/*!sc*/
.dAXkSP .segmentedControl-text:after{content:"Blame";display:block;font-weight:600;height:0;overflow:hidden;pointer-events:none;-webkit-user-select:none;-moz-user-select:none;-ms-user-select:none;user-select:none;visibility:hidden;}/*!sc*/
@media (pointer:coarse){.dAXkSP:before{content:"";position:absolute;left:0;right:0;-webkit-transform:translateY(-50%);-ms-transform:translateY(-50%);transform:translateY(-50%);top:50%;min-height:44px;}}/*!sc*/
data-styled.g73[id="SegmentedControlButton__SegmentedControlButtonStyled-sc-8lkgxl-0"]{content:"gKuCoB,fCAAcl,dAXkSP,"}/*!sc*/
.ivYJSK{background-color:rgba(110,118,129,0.1);border-radius:6px;display:-webkit-inline-box;display:-webkit-inline-flex;display:-ms-inline-flexbox;display:inline-flex;font-size:14px;height:28px;margin:0;padding:0;}/*!sc*/
data-styled.g75[id="SegmentedControl__SegmentedControlList-sc-1rzig82-0"]{content:"ivYJSK,"}/*!sc*/
.hLwWNO{list-style:none;padding:0;margin:0;}/*!sc*/
.hLwWNO .PRIVATE_TreeView-item{outline:none;}/*!sc*/
.hLwWNO .PRIVATE_TreeView-item:focus-visible > div,.hLwWNO .PRIVATE_TreeView-item.focus-visible > div{box-shadow:inset 0 0 0 2px #2f81f7;}/*!sc*/
@media (forced-colors:active){.hLwWNO .PRIVATE_TreeView-item:focus-visible > div,.hLwWNO .PRIVATE_TreeView-item.focus-visible > div{outline:2px solid HighlightText;outline-offset:-2;}}/*!sc*/
.hLwWNO .PRIVATE_TreeView-item-container{--level:1;--toggle-width:1rem;position:relative;display:grid;grid-template-columns:calc(calc(var(--level) - 1) * (var(--toggle-width) / 2)) var(--toggle-width) 1fr;grid-template-areas:'spacer toggle content';width:100%;min-height:2rem;font-size:14px;color:#e6edf3;border-radius:6px;cursor:pointer;}/*!sc*/
.hLwWNO .PRIVATE_TreeView-item-container:hover{background-color:rgba(177,186,196,0.12);}/*!sc*/
@media (forced-colors:active){.hLwWNO .PRIVATE_TreeView-item-container:hover{outline:2px solid transparent;outline-offset:-2px;}}/*!sc*/
@media (pointer:coarse){.hLwWNO .PRIVATE_TreeView-item-container{--toggle-width:1.5rem;min-height:2.75rem;}}/*!sc*/
.hLwWNO .PRIVATE_TreeView-item-container:has(.PRIVATE_TreeView-item-skeleton):hover{background-color:transparent;cursor:default;}/*!sc*/
@media (forced-colors:active){.hLwWNO .PRIVATE_TreeView-item-container:has(.PRIVATE_TreeView-item-skeleton):hover{outline:none;}}/*!sc*/
.hLwWNO[data-omit-spacer='true'] .PRIVATE_TreeView-item-container{grid-template-columns:0 0 1fr;}/*!sc*/
.hLwWNO .PRIVATE_TreeView-item[aria-current='true'] > .PRIVATE_TreeView-item-container{background-color:rgba(177,186,196,0.08);}/*!sc*/
.hLwWNO .PRIVATE_TreeView-item[aria-current='true'] > .PRIVATE_TreeView-item-container::after{content:'';position:absolute;top:calc(50% - 0.75rem);left:-8px;width:0.25rem;height:1.5rem;background-color:#2f81f7;border-radius:6px;}/*!sc*/
@media (forced-colors:active){.hLwWNO .PRIVATE_TreeView-item[aria-current='true'] > .PRIVATE_TreeView-item-container::after{background-color:HighlightText;}}/*!sc*/
.hLwWNO .PRIVATE_TreeView-item-toggle{grid-area:toggle;display:-webkit-box;display:-webkit-flex;display:-ms-flexbox;display:flex;-webkit-align-items:center;-webkit-box-align:center;-ms-flex-align:center;align-items:center;-webkit-box-pack:center;-webkit-justify-content:center;-ms-flex-pack:center;justify-content:center;height:100%;color:#7d8590;}/*!sc*/
.hLwWNO .PRIVATE_TreeView-item-toggle--hover:hover{background-color:rgba(177,186,196,0.12);}/*!sc*/
.hLwWNO .PRIVATE_TreeView-item-toggle--end{border-top-left-radius:6px;border-bottom-left-radius:6px;}/*!sc*/
.hLwWNO .PRIVATE_TreeView-item-content{grid-area:content;display:-webkit-box;display:-webkit-flex;display:-ms-flexbox;display:flex;-webkit-align-items:center;-webkit-box-align:center;-ms-flex-align:center;align-items:center;height:100%;padding:0 8px;gap:8px;}/*!sc*/
.hLwWNO .PRIVATE_TreeView-item-content-text{-webkit-flex:1 1 auto;-ms-flex:1 1 auto;flex:1 1 auto;width:0;overflow:hidden;white-space:nowrap;text-overflow:ellipsis;}/*!sc*/
.hLwWNO .PRIVATE_TreeView-item-visual{display:-webkit-box;display:-webkit-flex;display:-ms-flexbox;display:flex;color:#7d8590;}/*!sc*/
.hLwWNO .PRIVATE_TreeView-item-level-line{width:100%;height:100%;border-right:1px solid;border-color:rgba(240,246,252,0.1);}/*!sc*/
@media (hover:hover){.hLwWNO .PRIVATE_TreeView-item-level-line{border-color:transparent;}.hLwWNO:hover .PRIVATE_TreeView-item-level-line,.hLwWNO:focus-within .PRIVATE_TreeView-item-level-line{border-color:rgba(240,246,252,0.1);}}/*!sc*/
.hLwWNO .PRIVATE_TreeView-directory-icon{display:grid;color:#7d8590;}/*!sc*/
.hLwWNO .PRIVATE_VisuallyHidden{position:absolute;width:1px;height:1px;padding:0;margin:-1px;overflow:hidden;-webkit-clip:rect(0,0,0,0);clip:rect(0,0,0,0);white-space:nowrap;border-width:0;}/*!sc*/
data-styled.g87[id="TreeView__UlBox-sc-4ex6b6-0"]{content:"hLwWNO,"}/*!sc*/
.cjbBGq{display:-webkit-inline-box;display:-webkit-inline-flex;display:-ms-inline-flexbox;display:inline-flex;vertical-align:middle;isolation:isolate;}/*!sc*/
.cjbBGq.cjbBGq > *{margin-inline-end:-1px;position:relative;border-radius:0;}/*!sc*/
.cjbBGq.cjbBGq > *:first-child{border-top-left-radius:6px;border-bottom-left-radius:6px;}/*!sc*/
.cjbBGq.cjbBGq > *:last-child{border-top-right-radius:6px;border-bottom-right-radius:6px;}/*!sc*/
.cjbBGq.cjbBGq > *:focus,.cjbBGq.cjbBGq > *:active,.cjbBGq.cjbBGq > *:hover{z-index:1;}/*!sc*/
data-styled.g89[id="ButtonGroup-sc-1gxhls1-0"]{content:"cjbBGq,"}/*!sc*/
</style><meta data-hydrostats="publish"/> <!-- --> <!-- --> <!-- --> <button hidden="" data-testid="header-permalink-button" data-hotkey-scope="read-only-cursor-text-area"></button><button hidden=""></button><div class="Box-sc-g0xbh4-0"><div style="--sticky-pane-height:100vh" class="Box-sc-g0xbh4-0 fSWWem"><div class="Box-sc-g0xbh4-0 kPPmzM"><div class="Box-sc-g0xbh4-0 cIAPDV"><div tabindex="0" class="Box-sc-g0xbh4-0 gvCnwW"><div class="Box-sc-g0xbh4-0 heUiss"><div class="Box-sc-g0xbh4-0 eUyHuk"></div><div style="--pane-width:320px" class="Box-sc-g0xbh4-0 gNdDUH"><div class="Box-sc-g0xbh4-0 react-tree-pane-contents-3-panel"><div id="repos-file-tree" class="Box-sc-g0xbh4-0 jywUSN"><div class="Box-sc-g0xbh4-0 hBSSUC"><div class="Box-sc-g0xbh4-0 iPurHz"><h2 class="Heading__StyledHeading-sc-1c1dgg0-0 fNPcqd"><button style="--button-color:fg.muted" type="button" aria-label="Expand side panel" data-testid="expand-file-tree-button-mobile" class="types__StyledButton-sc-ws60qy-0 kdFvja"><span data-component="buttonContent" class="Box-sc-g0xbh4-0 kkrdEu"><span data-component="leadingVisual" class="Box-sc-g0xbh4-0 trpoQ"><svg aria-hidden="true" focusable="false" role="img" class="octicon octicon-arrow-left" viewBox="0 0 16 16" width="16" height="16" fill="currentColor" style="display:inline-block;user-select:none;vertical-align:text-bottom;overflow:visible"><path d="M7.78 12.53a.75.75 0 0 1-1.06 0L2.47 8.28a.75.75 0 0 1 0-1.06l4.25-4.25a.751.751 0 0 1 1.042.018.751.751 0 0 1 .018 1.042L4.81 7h7.44a.75.75 0 0 1 0 1.5H4.81l2.97 2.97a.75.75 0 0 1 0 1.06Z"></path></svg></span><span data-component="text">Files</span></span></button><button data-component="IconButton" type="button" data-testid="collapse-file-tree-button" aria-label="Side panel" aria-expanded="true" aria-controls="repos-file-tree" class="types__StyledButton-sc-ws60qy-0 dkDIZP" data-no-visuals="true"><svg aria-hidden="true" focusable="false" role="img" class="octicon octicon-sidebar-expand" viewBox="0 0 16 16" width="16" height="16" fill="currentColor" style="display:inline-block;user-select:none;vertical-align:text-bottom;overflow:visible"><path d="m4.177 7.823 2.396-2.396A.25.25 0 0 1 7 5.604v4.792a.25.25 0 0 1-.427.177L4.177 8.177a.25.25 0 0 1 0-.354Z"></path><path d="M0 1.75C0 .784.784 0 1.75 0h12.5C15.216 0 16 .784 16 1.75v12.5A1.75 1.75 0 0 1 14.25 16H1.75A1.75 1.75 0 0 1 0 14.25Zm1.75-.25a.25.25 0 0 0-.25.25v12.5c0 .138.112.25.25.25H9.5v-13Zm12.5 13a.25.25 0 0 0 .25-.25V1.75a.25.25 0 0 0-.25-.25H11v13Z"></path></svg></button><button hidden="" data-testid="" data-hotkey-scope="read-only-cursor-text-area"></button></h2><h2 class="Heading__StyledHeading-sc-1c1dgg0-0 imcwCi">Files</h2></div><div class="Box-sc-g0xbh4-0 hVHHYa"><div class="Box-sc-g0xbh4-0 idZfsJ"><button type="button" id="branch-picker-repos-header-ref-selector" aria-haspopup="true" tabindex="0" aria-label="master branch" data-testid="anchor-button" class="types__StyledButton-sc-ws60qy-0 gFQuzL react-repos-tree-pane-ref-selector width-full ref-selector-class"><span data-component="buttonContent" class="Box-sc-g0xbh4-0 kkrdEu"><span data-component="text"><div class="Box-sc-g0xbh4-0 bKgizp"><div class="Box-sc-g0xbh4-0 bwTunw"><svg aria-hidden="true" focusable="false" role="img" class="octicon octicon-git-branch" viewBox="0 0 16 16" width="16" height="16" fill="currentColor" style="display:inline-block;user-select:none;vertical-align:text-bottom;overflow:visible"><path d="M9.5 3.25a2.25 2.25 0 1 1 3 2.122V6A2.5 2.5 0 0 1 10 8.5H6a1 1 0 0 0-1 1v1.128a2.251 2.251 0 1 1-1.5 0V5.372a2.25 2.25 0 1 1 1.5 0v1.836A2.493 2.493 0 0 1 6 7h4a1 1 0 0 0 1-1v-.628A2.25 2.25 0 0 1 9.5 3.25Zm-6 0a.75.75 0 1 0 1.5 0 .75.75 0 0 0-1.5 0Zm8.25-.75a.75.75 0 1 0 0 1.5.75.75 0 0 0 0-1.5ZM4.25 12a.75.75 0 1 0 0 1.5.75.75 0 0 0 0-1.5Z"></path></svg></div><div class="Box-sc-g0xbh4-0 caeYDk ref-selector-button-text-container"><span class="Text-sc-17v1xeu-0 bOMzPg"> <!-- -->master</span></div></div></span><span data-component="trailingVisual" class="Box-sc-g0xbh4-0 trpoQ"><svg aria-hidden="true" focusable="false" role="img" class="octicon octicon-triangle-down" viewBox="0 0 16 16" width="16" height="16" fill="currentColor" style="display:inline-block;user-select:none;vertical-align:text-bottom;overflow:visible"><path d="m4.427 7.427 3.396 3.396a.25.25 0 0 0 .354 0l3.396-3.396A.25.25 0 0 0 11.396 7H4.604a.25.25 0 0 0-.177.427Z"></path></svg></span></span></button><button hidden="" data-hotkey-scope="read-only-cursor-text-area"></button></div><div class="Box-sc-g0xbh4-0 jahcnb"><span role="tooltip" aria-label="Add file" class="Tooltip__TooltipBase-sc-17tf59c-0 fQBTUs tooltipped-s"><a sx="[object Object]" data-component="IconButton" type="button" aria-label="Add file" data-no-visuals="true" class="types__StyledButton-sc-ws60qy-0 bTTPJZ" href="/krishnaik06/Principle-Component-Analysis/new/master"><svg aria-hidden="true" focusable="false" role="img" class="octicon octicon-plus" viewBox="0 0 16 16" width="16" height="16" fill="currentColor" style="display:inline-block;user-select:none;vertical-align:text-bottom;overflow:visible"><path d="M7.75 2a.75.75 0 0 1 .75.75V7h4.25a.75.75 0 0 1 0 1.5H8.5v4.25a.75.75 0 0 1-1.5 0V8.5H2.75a.75.75 0 0 1 0-1.5H7V2.75A.75.75 0 0 1 7.75 2Z"></path></svg></a></span><button data-component="IconButton" type="button" aria-label="Search this repository" data-no-visuals="true" class="types__StyledButton-sc-ws60qy-0 eYCGbj"><svg aria-hidden="true" focusable="false" role="img" class="octicon octicon-search" viewBox="0 0 16 16" width="16" height="16" fill="currentColor" style="display:inline-block;user-select:none;vertical-align:text-bottom;overflow:visible"><path d="M10.68 11.74a6 6 0 0 1-7.922-8.982 6 6 0 0 1 8.982 7.922l3.04 3.04a.749.749 0 0 1-.326 1.275.749.749 0 0 1-.734-.215ZM11.5 7a4.499 4.499 0 1 0-8.997 0A4.499 4.499 0 0 0 11.5 7Z"></path></svg></button><button hidden="" data-testid="" data-hotkey-scope="read-only-cursor-text-area"></button></div></div></div><div class="Box-sc-g0xbh4-0 ccToMy"><button hidden="" data-testid="" data-hotkey-scope="read-only-cursor-text-area"></button><button hidden=""></button><span class="TextInputWrapper__TextInputBaseWrapper-sc-1mqhpbi-0 TextInputWrapper-sc-1mqhpbi-1 rDvrp gvKfTi TextInput-wrapper" aria-busy="false"><span class="TextInput-icon"><svg aria-hidden="true" focusable="false" role="img" class="octicon octicon-search" viewBox="0 0 16 16" width="16" height="16" fill="currentColor" style="display:inline-block;user-select:none;vertical-align:text-bottom;overflow:visible"><path d="M10.68 11.74a6 6 0 0 1-7.922-8.982 6 6 0 0 1 8.982 7.922l3.04 3.04a.749.749 0 0 1-.326 1.275.749.749 0 0 1-.734-.215ZM11.5 7a4.499 4.499 0 1 0-8.997 0A4.499 4.499 0 0 0 11.5 7Z"></path></svg></span><input type="text" aria-label="Go to file" role="combobox" aria-controls="file-results-list" aria-expanded="false" aria-haspopup="dialog" autoCorrect="off" spellcheck="false" placeholder="Go to file" data-component="input" class="UnstyledTextInput-sc-14ypya-0 cDLBls" value=""/><span class="TextInput-icon"><div class="Box-sc-g0xbh4-0 cNvKlH"><kbd>t</kbd></div></span></span></div><div class="Box-sc-g0xbh4-0 cLfAnm"><div class="react-tree-show-tree-items"><div data-testid="repos-file-tree-container" class="Box-sc-g0xbh4-0 erWCJP"><nav aria-label="File Tree Navigation"><span role="status" aria-live="polite" aria-atomic="true" class="_VisuallyHidden__VisuallyHidden-sc-11jhm7a-0 rTZSs"></span><ul role="tree" aria-label="Files" class="TreeView__UlBox-sc-4ex6b6-0 hLwWNO"><li class="PRIVATE_TreeView-item" tabindex="0" id="PCA.ipynb-item" role="treeitem" aria-labelledby=":R6j5djal5:" aria-describedby=":R6j5djal5H1: :R6j5djal5H2:" aria-level="1" aria-current="true" aria-selected="false"><div class="PRIVATE_TreeView-item-container" style="--level:1"><div style="grid-area:spacer;display:flex"><div style="width:100%;display:flex"></div></div><div id=":R6j5djal5:" class="PRIVATE_TreeView-item-content"><div class="PRIVATE_VisuallyHidden" aria-hidden="true" id=":R6j5djal5H1:"></div><div class="PRIVATE_TreeView-item-visual" aria-hidden="true"><svg aria-hidden="true" focusable="false" role="img" class="octicon octicon-file" viewBox="0 0 16 16" width="16" height="16" fill="currentColor" style="display:inline-block;user-select:none;vertical-align:text-bottom;overflow:visible"><path d="M2 1.75C2 .784 2.784 0 3.75 0h6.586c.464 0 .909.184 1.237.513l2.914 2.914c.329.328.513.773.513 1.237v9.586A1.75 1.75 0 0 1 13.25 16h-9.5A1.75 1.75 0 0 1 2 14.25Zm1.75-.25a.25.25 0 0 0-.25.25v12.5c0 .138.112.25.25.25h9.5a.25.25 0 0 0 .25-.25V6h-2.75A1.75 1.75 0 0 1 9 4.25V1.5Zm6.75.062V4.25c0 .138.112.25.25.25h2.688l-.011-.013-2.914-2.914-.013-.011Z"></path></svg></div><span class="PRIVATE_TreeView-item-content-text"><span>PCA.ipynb</span></span></div></div></li><li class="PRIVATE_TreeView-item" tabindex="0" id="README.md-item" role="treeitem" aria-labelledby=":Raj5djal5:" aria-describedby=":Raj5djal5H1: :Raj5djal5H2:" aria-level="1" aria-selected="false"><div class="PRIVATE_TreeView-item-container" style="--level:1;content-visibility:auto;contain-intrinsic-size:auto 2rem"><div style="grid-area:spacer;display:flex"><div style="width:100%;display:flex"></div></div><div id=":Raj5djal5:" class="PRIVATE_TreeView-item-content"><div class="PRIVATE_VisuallyHidden" aria-hidden="true" id=":Raj5djal5H1:"></div><div class="PRIVATE_TreeView-item-visual" aria-hidden="true"><svg aria-hidden="true" focusable="false" role="img" class="octicon octicon-file" viewBox="0 0 16 16" width="16" height="16" fill="currentColor" style="display:inline-block;user-select:none;vertical-align:text-bottom;overflow:visible"><path d="M2 1.75C2 .784 2.784 0 3.75 0h6.586c.464 0 .909.184 1.237.513l2.914 2.914c.329.328.513.773.513 1.237v9.586A1.75 1.75 0 0 1 13.25 16h-9.5A1.75 1.75 0 0 1 2 14.25Zm1.75-.25a.25.25 0 0 0-.25.25v12.5c0 .138.112.25.25.25h9.5a.25.25 0 0 0 .25-.25V6h-2.75A1.75 1.75 0 0 1 9 4.25V1.5Zm6.75.062V4.25c0 .138.112.25.25.25h2.688l-.011-.013-2.914-2.914-.013-.011Z"></path></svg></div><span class="PRIVATE_TreeView-item-content-text"><span>README.md</span></span></div></div></li></ul></nav></div></div></div></div></div></div><div class="Box-sc-g0xbh4-0 hAeDYA"><div role="slider" aria-label="Draggable pane splitter" aria-valuemin="0" aria-valuemax="0" aria-valuenow="0" aria-valuetext="Pane width 0 pixels" tabindex="0" class="Box-sc-g0xbh4-0 dZCkhR"></div></div></div></div><div class="Box-sc-g0xbh4-0 emFMJu"><div class="Box-sc-g0xbh4-0"></div><div class="Box-sc-g0xbh4-0 hlUAHL"><div data-selector="repos-split-pane-content" tabindex="0" class="Box-sc-g0xbh4-0 iStsmI"><div class="Box-sc-g0xbh4-0 eIgvIk"><div class="Box-sc-g0xbh4-0 eVFfWF container"><div class="Box-sc-g0xbh4-0 kgXdnT react-code-view-header--narrow"><div class="Box-sc-g0xbh4-0 kzTa-dF"><div class="Box-sc-g0xbh4-0 bbXCl"><h2 class="Heading__StyledHeading-sc-1c1dgg0-0 fNPcqd"><button style="--button-color:fg.muted" type="button" aria-label="Expand side panel" data-testid="expand-file-tree-button-mobile" class="types__StyledButton-sc-ws60qy-0 kdFvja"><span data-component="buttonContent" class="Box-sc-g0xbh4-0 kkrdEu"><span data-component="leadingVisual" class="Box-sc-g0xbh4-0 trpoQ"><svg aria-hidden="true" focusable="false" role="img" class="octicon octicon-arrow-left" viewBox="0 0 16 16" width="16" height="16" fill="currentColor" style="display:inline-block;user-select:none;vertical-align:text-bottom;overflow:visible"><path d="M7.78 12.53a.75.75 0 0 1-1.06 0L2.47 8.28a.75.75 0 0 1 0-1.06l4.25-4.25a.751.751 0 0 1 1.042.018.751.751 0 0 1 .018 1.042L4.81 7h7.44a.75.75 0 0 1 0 1.5H4.81l2.97 2.97a.75.75 0 0 1 0 1.06Z"></path></svg></span><span data-component="text">Files</span></span></button><button data-component="IconButton" type="button" data-testid="collapse-file-tree-button" aria-label="Side panel" aria-expanded="true" aria-controls="repos-file-tree" class="types__StyledButton-sc-ws60qy-0 dkDIZP" data-no-visuals="true"><svg aria-hidden="true" focusable="false" role="img" class="octicon octicon-sidebar-expand" viewBox="0 0 16 16" width="16" height="16" fill="currentColor" style="display:inline-block;user-select:none;vertical-align:text-bottom;overflow:visible"><path d="m4.177 7.823 2.396-2.396A.25.25 0 0 1 7 5.604v4.792a.25.25 0 0 1-.427.177L4.177 8.177a.25.25 0 0 1 0-.354Z"></path><path d="M0 1.75C0 .784.784 0 1.75 0h12.5C15.216 0 16 .784 16 1.75v12.5A1.75 1.75 0 0 1 14.25 16H1.75A1.75 1.75 0 0 1 0 14.25Zm1.75-.25a.25.25 0 0 0-.25.25v12.5c0 .138.112.25.25.25H9.5v-13Zm12.5 13a.25.25 0 0 0 .25-.25V1.75a.25.25 0 0 0-.25-.25H11v13Z"></path></svg></button><button hidden="" data-testid="" data-hotkey-scope="read-only-cursor-text-area"></button></h2><div class="Box-sc-g0xbh4-0 hGGMNu"><div class="Box-sc-g0xbh4-0 eHRrYV"><button type="button" id="branch-picker-repos-header-ref-selector-narrow" aria-haspopup="true" tabindex="0" aria-label="master branch" data-testid="anchor-button" class="types__StyledButton-sc-ws60qy-0 wxyGP ref-selector-class"><span data-component="buttonContent" class="Box-sc-g0xbh4-0 kkrdEu"><span data-component="text"><div class="Box-sc-g0xbh4-0 bKgizp"><div class="Box-sc-g0xbh4-0 bwTunw"><svg aria-hidden="true" focusable="false" role="img" class="octicon octicon-git-branch" viewBox="0 0 16 16" width="16" height="16" fill="currentColor" style="display:inline-block;user-select:none;vertical-align:text-bottom;overflow:visible"><path d="M9.5 3.25a2.25 2.25 0 1 1 3 2.122V6A2.5 2.5 0 0 1 10 8.5H6a1 1 0 0 0-1 1v1.128a2.251 2.251 0 1 1-1.5 0V5.372a2.25 2.25 0 1 1 1.5 0v1.836A2.493 2.493 0 0 1 6 7h4a1 1 0 0 0 1-1v-.628A2.25 2.25 0 0 1 9.5 3.25Zm-6 0a.75.75 0 1 0 1.5 0 .75.75 0 0 0-1.5 0Zm8.25-.75a.75.75 0 1 0 0 1.5.75.75 0 0 0 0-1.5ZM4.25 12a.75.75 0 1 0 0 1.5.75.75 0 0 0 0-1.5Z"></path></svg></div><div class="Box-sc-g0xbh4-0 dKmYfk ref-selector-button-text-container"><span class="Text-sc-17v1xeu-0 bOMzPg"> <!-- -->master</span></div></div></span><span data-component="trailingVisual" class="Box-sc-g0xbh4-0 trpoQ"><svg aria-hidden="true" focusable="false" role="img" class="octicon octicon-triangle-down" viewBox="0 0 16 16" width="16" height="16" fill="currentColor" style="display:inline-block;user-select:none;vertical-align:text-bottom;overflow:visible"><path d="m4.427 7.427 3.396 3.396a.25.25 0 0 0 .354 0l3.396-3.396A.25.25 0 0 0 11.396 7H4.604a.25.25 0 0 0-.177.427Z"></path></svg></span></span></button><button hidden="" data-hotkey-scope="read-only-cursor-text-area"></button></div> <button type="button" data-no-visuals="true" class="types__StyledButton-sc-ws60qy-0 bydlvg"><span data-component="buttonContent" class="Box-sc-g0xbh4-0 kkrdEu"><span data-component="text">Blame</span></span></button><button hidden="" data-testid="" data-hotkey-scope="read-only-cursor-text-area"></button><button data-component="IconButton" type="button" aria-label="More file actions" class="types__StyledButton-sc-ws60qy-0 QqKiN js-blob-dropdown-click" title="More file actions" data-testid="more-file-actions-button" id=":R9aaqjal5:" aria-haspopup="true" tabindex="0" data-no-visuals="true"><svg aria-hidden="true" focusable="false" role="img" class="octicon octicon-kebab-horizontal" viewBox="0 0 16 16" width="16" height="16" fill="currentColor" style="display:inline-block;user-select:none;vertical-align:text-bottom;overflow:visible"><path d="M8 9a1.5 1.5 0 1 0 0-3 1.5 1.5 0 0 0 0 3ZM1.5 9a1.5 1.5 0 1 0 0-3 1.5 1.5 0 0 0 0 3Zm13 0a1.5 1.5 0 1 0 0-3 1.5 1.5 0 0 0 0 3Z"></path></svg></button> </div></div><div class="Box-sc-g0xbh4-0 hSNzKh"><div class="Box-sc-g0xbh4-0 eTvGbF"><nav data-testid="breadcrumbs" aria-labelledby="repos-header-breadcrumb-mobile-heading" id="repos-header-breadcrumb-mobile" class="Box-sc-g0xbh4-0 kzRgrI"><h2 class="Heading__StyledHeading-sc-1c1dgg0-0 cgQnMS sr-only" data-testid="screen-reader-heading" id="repos-header-breadcrumb-mobile-heading">Breadcrumbs</h2><ol class="Box-sc-g0xbh4-0 cmAPIB"><li class="Box-sc-g0xbh4-0 jwXCBK"><a sx="[object Object]" data-testid="breadcrumbs-repo-link" class="Link__StyledLink-sc-14289xe-0 bJroUH" href="/krishnaik06/Principle-Component-Analysis/tree/master">Principle-Component-Analysis</a></li></ol></nav><div data-testid="breadcrumbs-filename" class="Box-sc-g0xbh4-0 jwXCBK"><span aria-hidden="true" class="Text-sc-17v1xeu-0 fWVgeN">/</span><h1 tabindex="-1" id="file-name-id-mobile" class="Heading__StyledHeading-sc-1c1dgg0-0 diwsLq">PCA.ipynb</h1></div><button data-component="IconButton" type="button" aria-label="Copy path" data-testid="breadcrumb-copy-path-button" data-size="small" data-no-visuals="true" class="types__StyledButton-sc-ws60qy-0 bIBfEj"><svg aria-hidden="true" focusable="false" role="img" class="octicon octicon-copy" viewBox="0 0 16 16" width="16" height="16" fill="currentColor" style="display:inline-block;user-select:none;vertical-align:text-bottom;overflow:visible"><path d="M0 6.75C0 5.784.784 5 1.75 5h1.5a.75.75 0 0 1 0 1.5h-1.5a.25.25 0 0 0-.25.25v7.5c0 .138.112.25.25.25h7.5a.25.25 0 0 0 .25-.25v-1.5a.75.75 0 0 1 1.5 0v1.5A1.75 1.75 0 0 1 9.25 16h-7.5A1.75 1.75 0 0 1 0 14.25Z"></path><path d="M5 1.75C5 .784 5.784 0 6.75 0h7.5C15.216 0 16 .784 16 1.75v7.5A1.75 1.75 0 0 1 14.25 11h-7.5A1.75 1.75 0 0 1 5 9.25Zm1.75-.25a.25.25 0 0 0-.25.25v7.5c0 .138.112.25.25.25h7.5a.25.25 0 0 0 .25-.25v-7.5a.25.25 0 0 0-.25-.25Z"></path></svg></button></div></div></div></div><div id="StickyHeader" class="Box-sc-g0xbh4-0 bDwCYs react-code-view-header--wide"><div class="Box-sc-g0xbh4-0 fywjmm"><div class="Box-sc-g0xbh4-0 dyczTK"><div class="Box-sc-g0xbh4-0 kszRgZ"><div class="Box-sc-g0xbh4-0 eTvGbF"><nav data-testid="breadcrumbs" aria-labelledby="repos-header-breadcrumb-wide-heading" id="repos-header-breadcrumb-wide" class="Box-sc-g0xbh4-0 kzRgrI"><h2 class="Heading__StyledHeading-sc-1c1dgg0-0 cgQnMS sr-only" data-testid="screen-reader-heading" id="repos-header-breadcrumb-wide-heading">Breadcrumbs</h2><ol class="Box-sc-g0xbh4-0 cmAPIB"><li class="Box-sc-g0xbh4-0 jwXCBK"><a sx="[object Object]" data-testid="breadcrumbs-repo-link" class="Link__StyledLink-sc-14289xe-0 bJroUH" href="/krishnaik06/Principle-Component-Analysis/tree/master">Principle-Component-Analysis</a></li></ol></nav><div data-testid="breadcrumbs-filename" class="Box-sc-g0xbh4-0 jwXCBK"><span aria-hidden="true" class="Text-sc-17v1xeu-0 fWVgeN">/</span><h1 tabindex="-1" id="file-name-id-wide" class="Heading__StyledHeading-sc-1c1dgg0-0 diwsLq">PCA.ipynb</h1></div><button data-component="IconButton" type="button" aria-label="Copy path" data-testid="breadcrumb-copy-path-button" data-size="small" data-no-visuals="true" class="types__StyledButton-sc-ws60qy-0 bIBfEj"><svg aria-hidden="true" focusable="false" role="img" class="octicon octicon-copy" viewBox="0 0 16 16" width="16" height="16" fill="currentColor" style="display:inline-block;user-select:none;vertical-align:text-bottom;overflow:visible"><path d="M0 6.75C0 5.784.784 5 1.75 5h1.5a.75.75 0 0 1 0 1.5h-1.5a.25.25 0 0 0-.25.25v7.5c0 .138.112.25.25.25h7.5a.25.25 0 0 0 .25-.25v-1.5a.75.75 0 0 1 1.5 0v1.5A1.75 1.75 0 0 1 9.25 16h-7.5A1.75 1.75 0 0 1 0 14.25Z"></path><path d="M5 1.75C5 .784 5.784 0 6.75 0h7.5C15.216 0 16 .784 16 1.75v7.5A1.75 1.75 0 0 1 14.25 11h-7.5A1.75 1.75 0 0 1 5 9.25Zm1.75-.25a.25.25 0 0 0-.25.25v7.5c0 .138.112.25.25.25h7.5a.25.25 0 0 0 .25-.25v-7.5a.25.25 0 0 0-.25-.25Z"></path></svg></button></div></div><div class="Box-sc-g0xbh4-0 gtBUEp"><div class="d-flex gap-2"> <button type="button" data-no-visuals="true" class="types__StyledButton-sc-ws60qy-0 bydlvg"><span data-component="buttonContent" class="Box-sc-g0xbh4-0 kkrdEu"><span data-component="text">Blame</span></span></button><button hidden="" data-testid="" data-hotkey-scope="read-only-cursor-text-area"></button><button data-component="IconButton" type="button" aria-label="More file actions" class="types__StyledButton-sc-ws60qy-0 QqKiN js-blob-dropdown-click" title="More file actions" data-testid="more-file-actions-button" id=":R9pkqjal5:" aria-haspopup="true" tabindex="0" data-no-visuals="true"><svg aria-hidden="true" focusable="false" role="img" class="octicon octicon-kebab-horizontal" viewBox="0 0 16 16" width="16" height="16" fill="currentColor" style="display:inline-block;user-select:none;vertical-align:text-bottom;overflow:visible"><path d="M8 9a1.5 1.5 0 1 0 0-3 1.5 1.5 0 0 0 0 3ZM1.5 9a1.5 1.5 0 1 0 0-3 1.5 1.5 0 0 0 0 3Zm13 0a1.5 1.5 0 1 0 0-3 1.5 1.5 0 0 0 0 3Z"></path></svg></button> </div></div></div></div></div></div></div><div class="Box-sc-g0xbh4-0 MERGN react-code-view-bottom-padding"> <div class="Box-sc-g0xbh4-0 cMYnca"></div><div class="Box-sc-g0xbh4-0"></div> <!-- --> <!-- --> </div><div class="Box-sc-g0xbh4-0 MERGN"> <!-- --> <!-- --> <div class="Box-sc-g0xbh4-0 brFBoI"><div class="Box-sc-g0xbh4-0 eYedVD"><h2 class="Heading__StyledHeading-sc-1c1dgg0-0 cgQnMS sr-only" data-testid="screen-reader-heading">Latest commit</h2><div style="width:120px" class="Skeleton Skeleton--text" data-testid="loading"> </div><div class="Box-sc-g0xbh4-0 jGfYmh"><div data-testid="latest-commit-details" class="Box-sc-g0xbh4-0 lhFvfi"></div><h2 class="Heading__StyledHeading-sc-1c1dgg0-0 cgQnMS sr-only" data-testid="screen-reader-heading">History</h2><a class="types__StyledButton-sc-ws60qy-0 ePrtIU react-last-commit-history-group" href="/krishnaik06/Principle-Component-Analysis/commits/master/PCA.ipynb" data-size="small"><span data-component="buttonContent" class="Box-sc-g0xbh4-0 kkrdEu"><span data-component="leadingVisual" class="Box-sc-g0xbh4-0 trpoQ"><svg aria-hidden="true" focusable="false" role="img" class="octicon octicon-history" viewBox="0 0 16 16" width="16" height="16" fill="currentColor" style="display:inline-block;user-select:none;vertical-align:text-bottom;overflow:visible"><path d="m.427 1.927 1.215 1.215a8.002 8.002 0 1 1-1.6 5.685.75.75 0 1 1 1.493-.154 6.5 6.5 0 1 0 1.18-4.458l1.358 1.358A.25.25 0 0 1 3.896 6H.25A.25.25 0 0 1 0 5.75V2.104a.25.25 0 0 1 .427-.177ZM7.75 4a.75.75 0 0 1 .75.75v2.992l2.028.812a.75.75 0 0 1-.557 1.392l-2.5-1A.751.751 0 0 1 7 8.25v-3.5A.75.75 0 0 1 7.75 4Z"></path></svg></span><span data-component="text"><span class="Text-sc-17v1xeu-0 hfRvxg">History</span></span></span></a><div class="Box-sc-g0xbh4-0 bqgLjk"></div><span role="tooltip" aria-label="Commit history" class="Tooltip__TooltipBase-sc-17tf59c-0 fQBTUs tooltipped-n"><a class="types__StyledButton-sc-ws60qy-0 ePrtIU react-last-commit-history-icon" href="/krishnaik06/Principle-Component-Analysis/commits/master/PCA.ipynb"><span data-component="buttonContent" class="Box-sc-g0xbh4-0 kkrdEu"><span data-component="leadingVisual" class="Box-sc-g0xbh4-0 trpoQ"><svg aria-hidden="true" focusable="false" role="img" class="octicon octicon-history" viewBox="0 0 16 16" width="16" height="16" fill="currentColor" style="display:inline-block;user-select:none;vertical-align:text-bottom;overflow:visible"><path d="m.427 1.927 1.215 1.215a8.002 8.002 0 1 1-1.6 5.685.75.75 0 1 1 1.493-.154 6.5 6.5 0 1 0 1.18-4.458l1.358 1.358A.25.25 0 0 1 3.896 6H.25A.25.25 0 0 1 0 5.75V2.104a.25.25 0 0 1 .427-.177ZM7.75 4a.75.75 0 0 1 .75.75v2.992l2.028.812a.75.75 0 0 1-.557 1.392l-2.5-1A.751.751 0 0 1 7 8.25v-3.5A.75.75 0 0 1 7.75 4Z"></path></svg></span></span></a></span></div></div></div><div class="Box-sc-g0xbh4-0 iJmJly"><div class="Box-sc-g0xbh4-0 jACbi container"><div class="Box-sc-g0xbh4-0 bSdwWB react-code-size-details-banner"><div class="Box-sc-g0xbh4-0 fleZSW react-code-size-details-banner"><div class="Box-sc-g0xbh4-0 fOEJrA text-mono"><div title="82.6 KB" data-testid="blob-size" class="Truncate__StyledTruncate-sc-23o1d2-0 fUpWeN"><span class="Text-sc-17v1xeu-0 gPDEWA">724 lines (724 loc) · 82.6 KB</span></div></div></div><div class="Box-sc-g0xbh4-0 react-code-size-details-banner"><button style="--button-color:fg.default" type="button" id=":R2bqlajal5:" aria-haspopup="true" tabindex="0" data-testid="copilot-popover-button" data-size="small" class="types__StyledButton-sc-ws60qy-0 bJDkZV"><span data-component="buttonContent" class="Box-sc-g0xbh4-0 kkrdEu"><span data-component="leadingVisual" class="Box-sc-g0xbh4-0 trpoQ"><svg aria-hidden="true" focusable="false" role="img" class="octicon octicon-copilot" viewBox="0 0 16 16" width="16" height="16" fill="currentColor" style="display:inline-block;user-select:none;vertical-align:text-bottom;overflow:visible"><path d="M7.998 15.035c-4.562 0-7.873-2.914-7.998-3.749V9.338c.085-.628.677-1.686 1.588-2.065.013-.07.024-.143.036-.218.029-.183.06-.384.126-.612-.201-.508-.254-1.084-.254-1.656 0-.87.128-1.769.693-2.484.579-.733 1.494-1.124 2.724-1.261 1.206-.134 2.262.034 2.944.765.05.053.096.108.139.165.044-.057.094-.112.143-.165.682-.731 1.738-.899 2.944-.765 1.23.137 2.145.528 2.724 1.261.566.715.693 1.614.693 2.484 0 .572-.053 1.148-.254 1.656.066.228.098.429.126.612.012.076.024.148.037.218.924.385 1.522 1.471 1.591 2.095v1.872c0 .766-3.351 3.795-8.002 3.795Zm0-1.485c2.28 0 4.584-1.11 5.002-1.433V7.862l-.023-.116c-.49.21-1.075.291-1.727.291-1.146 0-2.059-.327-2.71-.991A3.222 3.222 0 0 1 8 6.303a3.24 3.24 0 0 1-.544.743c-.65.664-1.563.991-2.71.991-.652 0-1.236-.081-1.727-.291l-.023.116v4.255c.419.323 2.722 1.433 5.002 1.433ZM6.762 2.83c-.193-.206-.637-.413-1.682-.297-1.019.113-1.479.404-1.713.7-.247.312-.369.789-.369 1.554 0 .793.129 1.171.308 1.371.162.181.519.379 1.442.379.853 0 1.339-.235 1.638-.54.315-.322.527-.827.617-1.553.117-.935-.037-1.395-.241-1.614Zm4.155-.297c-1.044-.116-1.488.091-1.681.297-.204.219-.359.679-.242 1.614.091.726.303 1.231.618 1.553.299.305.784.54 1.638.54.922 0 1.28-.198 1.442-.379.179-.2.308-.578.308-1.371 0-.765-.123-1.242-.37-1.554-.233-.296-.693-.587-1.713-.7Z"></path><path d="M6.25 9.037a.75.75 0 0 1 .75.75v1.501a.75.75 0 0 1-1.5 0V9.787a.75.75 0 0 1 .75-.75Zm4.25.75v1.501a.75.75 0 0 1-1.5 0V9.787a.75.75 0 0 1 1.5 0Z"></path></svg></span><span data-component="text">Code 55% faster with GitHub Copilot</span></span></button></div></div><div class="Box-sc-g0xbh4-0 gIACTV react-blob-view-header-sticky" id="repos-sticky-header"><div class="Box-sc-g0xbh4-0 ePiodO"><div class="Box-sc-g0xbh4-0 react-blob-sticky-header"><div class="Box-sc-g0xbh4-0 kQJlnf"><div class="Box-sc-g0xbh4-0 gJICKO"><div class="Box-sc-g0xbh4-0 iZJewz"><nav data-testid="breadcrumbs" aria-labelledby="sticky-breadcrumb-heading" id="sticky-breadcrumb" class="Box-sc-g0xbh4-0 kzRgrI"><h2 class="Heading__StyledHeading-sc-1c1dgg0-0 cgQnMS sr-only" data-testid="screen-reader-heading" id="sticky-breadcrumb-heading">Breadcrumbs</h2><ol class="Box-sc-g0xbh4-0 cmAPIB"><li class="Box-sc-g0xbh4-0 jwXCBK"><a sx="[object Object]" data-testid="breadcrumbs-repo-link" class="Link__StyledLink-sc-14289xe-0 bJroUH" href="/krishnaik06/Principle-Component-Analysis/tree/master">Principle-Component-Analysis</a></li></ol></nav><div data-testid="breadcrumbs-filename" class="Box-sc-g0xbh4-0 jwXCBK"><span aria-hidden="true" class="Text-sc-17v1xeu-0 iqTHmv">/</span><h1 tabindex="-1" id="sticky-file-name-id" class="Heading__StyledHeading-sc-1c1dgg0-0 jAEDJk">PCA.ipynb</h1></div></div><button style="--button-color:fg.default" type="button" data-size="small" class="types__StyledButton-sc-ws60qy-0 gMDbOv"><span data-component="buttonContent" class="Box-sc-g0xbh4-0 kkrdEu"><span data-component="leadingVisual" class="Box-sc-g0xbh4-0 trpoQ"><svg aria-hidden="true" focusable="false" role="img" class="octicon octicon-arrow-up" viewBox="0 0 16 16" width="16" height="16" fill="currentColor" style="display:inline-block;user-select:none;vertical-align:text-bottom;overflow:visible"><path d="M3.47 7.78a.75.75 0 0 1 0-1.06l4.25-4.25a.75.75 0 0 1 1.06 0l4.25 4.25a.751.751 0 0 1-.018 1.042.751.751 0 0 1-1.042.018L9 4.81v7.44a.75.75 0 0 1-1.5 0V4.81L4.53 7.78a.75.75 0 0 1-1.06 0Z"></path></svg></span><span data-component="text">Top</span></span></button></div></div></div><div class="Box-sc-g0xbh4-0 bESQXL"><h2 class="Heading__StyledHeading-sc-1c1dgg0-0 cgQnMS sr-only" data-testid="screen-reader-heading">File metadata and controls</h2><div class="Box-sc-g0xbh4-0 bfkNRF"><ul aria-label="File view" class="SegmentedControl__SegmentedControlList-sc-1rzig82-0 ivYJSK"><li class="Box-sc-g0xbh4-0 fXBLEV"><button aria-current="true" class="SegmentedControlButton__SegmentedControlButtonStyled-sc-8lkgxl-0 gKuCoB"><span class="segmentedControl-content"><div class="Box-sc-g0xbh4-0 segmentedControl-text">Preview</div></span></button></li><li class="Box-sc-g0xbh4-0 gbKtit"><button aria-current="false" class="SegmentedControlButton__SegmentedControlButtonStyled-sc-8lkgxl-0 fCAAcl"><span class="segmentedControl-content"><div class="Box-sc-g0xbh4-0 segmentedControl-text">Code</div></span></button></li><li class="Box-sc-g0xbh4-0 gbKtit"><button aria-current="false" class="SegmentedControlButton__SegmentedControlButtonStyled-sc-8lkgxl-0 dAXkSP"><span class="segmentedControl-content"><div class="Box-sc-g0xbh4-0 segmentedControl-text">Blame</div></span></button></li></ul><button hidden="" data-testid="" data-hotkey-scope="read-only-cursor-text-area"></button><button hidden="" data-testid="" data-hotkey-scope="read-only-cursor-text-area"></button><button hidden="" data-testid="" data-hotkey-scope="read-only-cursor-text-area"></button><div class="Box-sc-g0xbh4-0 fleZSW react-code-size-details-in-header"><div class="Box-sc-g0xbh4-0 fOEJrA text-mono"><div title="82.6 KB" data-testid="blob-size" class="Truncate__StyledTruncate-sc-23o1d2-0 fUpWeN"><span class="Text-sc-17v1xeu-0 gPDEWA">724 lines (724 loc) · 82.6 KB</span></div></div></div><div class="Box-sc-g0xbh4-0 react-code-size-details-in-header"><button style="--button-color:fg.default" type="button" id=":R79jqlajal5:" aria-haspopup="true" tabindex="0" data-testid="copilot-popover-button" data-size="small" class="types__StyledButton-sc-ws60qy-0 bJDkZV"><span data-component="buttonContent" class="Box-sc-g0xbh4-0 kkrdEu"><span data-component="leadingVisual" class="Box-sc-g0xbh4-0 trpoQ"><svg aria-hidden="true" focusable="false" role="img" class="octicon octicon-copilot" viewBox="0 0 16 16" width="16" height="16" fill="currentColor" style="display:inline-block;user-select:none;vertical-align:text-bottom;overflow:visible"><path d="M7.998 15.035c-4.562 0-7.873-2.914-7.998-3.749V9.338c.085-.628.677-1.686 1.588-2.065.013-.07.024-.143.036-.218.029-.183.06-.384.126-.612-.201-.508-.254-1.084-.254-1.656 0-.87.128-1.769.693-2.484.579-.733 1.494-1.124 2.724-1.261 1.206-.134 2.262.034 2.944.765.05.053.096.108.139.165.044-.057.094-.112.143-.165.682-.731 1.738-.899 2.944-.765 1.23.137 2.145.528 2.724 1.261.566.715.693 1.614.693 2.484 0 .572-.053 1.148-.254 1.656.066.228.098.429.126.612.012.076.024.148.037.218.924.385 1.522 1.471 1.591 2.095v1.872c0 .766-3.351 3.795-8.002 3.795Zm0-1.485c2.28 0 4.584-1.11 5.002-1.433V7.862l-.023-.116c-.49.21-1.075.291-1.727.291-1.146 0-2.059-.327-2.71-.991A3.222 3.222 0 0 1 8 6.303a3.24 3.24 0 0 1-.544.743c-.65.664-1.563.991-2.71.991-.652 0-1.236-.081-1.727-.291l-.023.116v4.255c.419.323 2.722 1.433 5.002 1.433ZM6.762 2.83c-.193-.206-.637-.413-1.682-.297-1.019.113-1.479.404-1.713.7-.247.312-.369.789-.369 1.554 0 .793.129 1.171.308 1.371.162.181.519.379 1.442.379.853 0 1.339-.235 1.638-.54.315-.322.527-.827.617-1.553.117-.935-.037-1.395-.241-1.614Zm4.155-.297c-1.044-.116-1.488.091-1.681.297-.204.219-.359.679-.242 1.614.091.726.303 1.231.618 1.553.299.305.784.54 1.638.54.922 0 1.28-.198 1.442-.379.179-.2.308-.578.308-1.371 0-.765-.123-1.242-.37-1.554-.233-.296-.693-.587-1.713-.7Z"></path><path d="M6.25 9.037a.75.75 0 0 1 .75.75v1.501a.75.75 0 0 1-1.5 0V9.787a.75.75 0 0 1 .75-.75Zm4.25.75v1.501a.75.75 0 0 1-1.5 0V9.787a.75.75 0 0 1 1.5 0Z"></path></svg></span><span data-component="text">Code 55% faster with GitHub Copilot</span></span></button></div></div><div class="Box-sc-g0xbh4-0 iBylDf"><div class="Box-sc-g0xbh4-0 kSGBPx react-blob-header-edit-and-raw-actions"><div class="ButtonGroup-sc-1gxhls1-0 cjbBGq"><a href="https://github.com/krishnaik06/Principle-Component-Analysis/raw/master/PCA.ipynb" data-testid="raw-button" data-size="small" data-no-visuals="true" class="types__StyledButton-sc-ws60qy-0 eYoABg"><span data-component="buttonContent" class="Box-sc-g0xbh4-0 kkrdEu"><span data-component="text">Raw</span></span></a><button data-component="IconButton" type="button" aria-label="Copy raw content" data-testid="copy-raw-button" data-size="small" data-no-visuals="true" class="types__StyledButton-sc-ws60qy-0 vhlgx"><svg aria-hidden="true" focusable="false" role="img" class="octicon octicon-copy" viewBox="0 0 16 16" width="16" height="16" fill="currentColor" style="display:inline-block;user-select:none;vertical-align:text-bottom;overflow:visible"><path d="M0 6.75C0 5.784.784 5 1.75 5h1.5a.75.75 0 0 1 0 1.5h-1.5a.25.25 0 0 0-.25.25v7.5c0 .138.112.25.25.25h7.5a.25.25 0 0 0 .25-.25v-1.5a.75.75 0 0 1 1.5 0v1.5A1.75 1.75 0 0 1 9.25 16h-7.5A1.75 1.75 0 0 1 0 14.25Z"></path><path d="M5 1.75C5 .784 5.784 0 6.75 0h7.5C15.216 0 16 .784 16 1.75v7.5A1.75 1.75 0 0 1 14.25 11h-7.5A1.75 1.75 0 0 1 5 9.25Zm1.75-.25a.25.25 0 0 0-.25.25v7.5c0 .138.112.25.25.25h7.5a.25.25 0 0 0 .25-.25v-7.5a.25.25 0 0 0-.25-.25Z"></path></svg></button><span role="tooltip" aria-label="Download raw file" class="Tooltip__TooltipBase-sc-17tf59c-0 fQBTUs tooltipped-n"><button data-component="IconButton" type="button" aria-label="Download raw content" data-testid="download-raw-button" data-size="small" data-no-visuals="true" class="types__StyledButton-sc-ws60qy-0 hJrlYF"><svg aria-hidden="true" focusable="false" role="img" class="octicon octicon-download" viewBox="0 0 16 16" width="16" height="16" fill="currentColor" style="display:inline-block;user-select:none;vertical-align:text-bottom;overflow:visible"><path d="M2.75 14A1.75 1.75 0 0 1 1 12.25v-2.5a.75.75 0 0 1 1.5 0v2.5c0 .138.112.25.25.25h10.5a.25.25 0 0 0 .25-.25v-2.5a.75.75 0 0 1 1.5 0v2.5A1.75 1.75 0 0 1 13.25 14Z"></path><path d="M7.25 7.689V2a.75.75 0 0 1 1.5 0v5.689l1.97-1.969a.749.749 0 1 1 1.06 1.06l-3.25 3.25a.749.749 0 0 1-1.06 0L4.22 6.78a.749.749 0 1 1 1.06-1.06l1.97 1.969Z"></path></svg></button></span></div><button hidden="" data-testid="raw-button-shortcut" data-hotkey-scope="read-only-cursor-text-area"></button><button hidden="" data-testid="copy-raw-button-shortcut" data-hotkey-scope="read-only-cursor-text-area"></button><button hidden="" data-testid="download-raw-button-shortcut" data-hotkey-scope="read-only-cursor-text-area"></button><a class="Link__StyledLink-sc-14289xe-0 GCHqa js-github-dev-shortcut d-none" href="https://github.dev/"></a><button hidden="" data-testid="" data-hotkey-scope="read-only-cursor-text-area"></button><a class="Link__StyledLink-sc-14289xe-0 GCHqa js-github-dev-new-tab-shortcut d-none" href="https://github.dev/" target="_blank"></a><button hidden="" data-testid="" data-hotkey-scope="read-only-cursor-text-area"></button><div class="ButtonGroup-sc-1gxhls1-0 cjbBGq"><span role="tooltip" aria-label="Fork this repository and edit the file" class="Tooltip__TooltipBase-sc-17tf59c-0 fQBTUs tooltipped-nw"><a sx="[object Object]" data-component="IconButton" type="button" aria-label="Edit file" data-testid="edit-button" data-size="small" data-no-visuals="true" class="types__StyledButton-sc-ws60qy-0 keZbsz" href="/krishnaik06/Principle-Component-Analysis/edit/master/PCA.ipynb"><svg aria-hidden="true" focusable="false" role="img" class="octicon octicon-pencil" viewBox="0 0 16 16" width="16" height="16" fill="currentColor" style="display:inline-block;user-select:none;vertical-align:text-bottom;overflow:visible"><path d="M11.013 1.427a1.75 1.75 0 0 1 2.474 0l1.086 1.086a1.75 1.75 0 0 1 0 2.474l-8.61 8.61c-.21.21-.47.364-.756.445l-3.251.93a.75.75 0 0 1-.927-.928l.929-3.25c.081-.286.235-.547.445-.758l8.61-8.61Zm.176 4.823L9.75 4.81l-6.286 6.287a.253.253 0 0 0-.064.108l-.558 1.953 1.953-.558a.253.253 0 0 0 .108-.064Zm1.238-3.763a.25.25 0 0 0-.354 0L10.811 3.75l1.439 1.44 1.263-1.263a.25.25 0 0 0 0-.354Z"></path></svg></a></span><button data-component="IconButton" type="button" aria-label="More edit options" data-testid="more-edit-button" id=":Rl9pjqlajal5:" aria-haspopup="true" tabindex="0" data-size="small" data-no-visuals="true" class="types__StyledButton-sc-ws60qy-0 vhlgx"><svg aria-hidden="true" focusable="false" role="img" class="octicon octicon-triangle-down" viewBox="0 0 16 16" width="16" height="16" fill="currentColor" style="display:inline-block;user-select:none;vertical-align:text-bottom;overflow:visible"><path d="m4.427 7.427 3.396 3.396a.25.25 0 0 0 .354 0l3.396-3.396A.25.25 0 0 0 11.396 7H4.604a.25.25 0 0 0-.177.427Z"></path></svg></button></div><button hidden="" data-testid="" data-hotkey="e,Shift+E" data-hotkey-scope="read-only-cursor-text-area"></button></div><div class="Box-sc-g0xbh4-0 react-blob-header-edit-and-raw-actions-combined"><button data-component="IconButton" type="button" aria-label="Edit and raw actions" class="types__StyledButton-sc-ws60qy-0 fArVBu js-blob-dropdown-click" title="More file actions" data-testid="more-file-actions-button" id=":R1fpjqlajal5:" aria-haspopup="true" tabindex="0" data-size="small" data-no-visuals="true"><svg aria-hidden="true" focusable="false" role="img" class="octicon octicon-kebab-horizontal" viewBox="0 0 16 16" width="16" height="16" fill="currentColor" style="display:inline-block;user-select:none;vertical-align:text-bottom;overflow:visible"><path d="M8 9a1.5 1.5 0 1 0 0-3 1.5 1.5 0 0 0 0 3ZM1.5 9a1.5 1.5 0 1 0 0-3 1.5 1.5 0 0 0 0 3Zm13 0a1.5 1.5 0 1 0 0-3 1.5 1.5 0 0 0 0 3Z"></path></svg></button></div></div></div></div><div class="Box-sc-g0xbh4-0"></div></div><div class="Box-sc-g0xbh4-0 etfROT"><section aria-labelledby="file-name-id-wide file-name-id-mobile" class="Box-sc-g0xbh4-0 eJsjkT"><!--$!--><template></template><div data-testid="suspense-spinner" class="Box-sc-g0xbh4-0 bAzdCq"><svg height="32px" width="32px" viewBox="0 0 16 16" fill="none" aria-label="Loading" class="Spinner__StyledSpinner-sc-1knt686-0 hPEVNM"><circle cx="8" cy="8" r="7" stroke="currentColor" stroke-opacity="0.25" stroke-width="2" vector-effect="non-scaling-stroke"></circle><path d="M15 8a7.002 7.002 0 00-7-7" stroke="currentColor" stroke-width="2" stroke-linecap="round" vector-effect="non-scaling-stroke"></path></svg></div><!--/$--></section></div></div></div> <!-- --> <!-- --> </div></div></div><div class="Box-sc-g0xbh4-0"></div></div></div></div></div><div id="find-result-marks-container" class="Box-sc-g0xbh4-0 aZrVR"></div><button hidden="" data-testid="" data-hotkey-scope="read-only-cursor-text-area"></button><button hidden=""></button></div> <!-- --> <!-- --> <!-- --> <script type="application/json" id="__PRIMER_DATA__">{"resolvedServerColorMode":"night"}</script></div>
</react-app>
</turbo-frame>



  </div>

</turbo-frame>

    </main>
  </div>

  </div>

          <footer class="footer p-responsive pt-8 pb-6 f6 color-fg-muted" role="contentinfo">
  <h2 class='sr-only'>Footer</h2>


  <div class="d-flex flex-justify-center flex-items-center flex-column-reverse flex-lg-row flex-wrap flex-lg-nowrap">
    <div class="d-flex flex-items-center mx-2">
      <a aria-label="Homepage" title="GitHub" class="footer-octicon mr-2" href="https://github.com">
        <svg aria-hidden="true" height="24" viewBox="0 0 16 16" version="1.1" width="24" data-view-component="true" class="octicon octicon-mark-github">
    <path d="M8 0c4.42 0 8 3.58 8 8a8.013 8.013 0 0 1-5.45 7.59c-.4.08-.55-.17-.55-.38 0-.27.01-1.13.01-2.2 0-.75-.25-1.23-.54-1.48 1.78-.2 3.65-.88 3.65-3.95 0-.88-.31-1.59-.82-2.15.08-.2.36-1.02-.08-2.12 0 0-.67-.22-2.2.82-.64-.18-1.32-.27-2-.27-.68 0-1.36.09-2 .27-1.53-1.03-2.2-.82-2.2-.82-.44 1.1-.16 1.92-.08 2.12-.51.56-.82 1.28-.82 2.15 0 3.06 1.86 3.75 3.64 3.95-.23.2-.44.55-.51 1.07-.46.21-1.61.55-2.33-.66-.15-.24-.6-.83-1.23-.82-.67.01-.27.38.01.53.34.19.73.9.82 1.13.16.45.68 1.31 2.69.94 0 .67.01 1.3.01 1.49 0 .21-.15.45-.55.38A7.995 7.995 0 0 1 0 8c0-4.42 3.58-8 8-8Z"></path>
</svg>
</a>
      <span>
        &copy; 2024 GitHub, Inc.
      </span>
    </div>

    <nav aria-label="Footer">
      <h3 class="sr-only" id="sr-footer-heading">Footer navigation</h3>

      <ul class="list-style-none d-flex flex-justify-center flex-wrap mb-2 mb-lg-0" aria-labelledby="sr-footer-heading">

          <li class="mx-2">
            <a data-analytics-event="{&quot;category&quot;:&quot;Footer&quot;,&quot;action&quot;:&quot;go to Terms&quot;,&quot;label&quot;:&quot;text:terms&quot;}" href="https://docs.github.com/site-policy/github-terms/github-terms-of-service" data-view-component="true" class="Link--secondary Link">Terms</a>
          </li>

          <li class="mx-2">
            <a data-analytics-event="{&quot;category&quot;:&quot;Footer&quot;,&quot;action&quot;:&quot;go to privacy&quot;,&quot;label&quot;:&quot;text:privacy&quot;}" href="https://docs.github.com/site-policy/privacy-policies/github-privacy-statement" data-view-component="true" class="Link--secondary Link">Privacy</a>
          </li>

          <li class="mx-2">
            <a data-analytics-event="{&quot;category&quot;:&quot;Footer&quot;,&quot;action&quot;:&quot;go to security&quot;,&quot;label&quot;:&quot;text:security&quot;}" href="https://github.com/security" data-view-component="true" class="Link--secondary Link">Security</a>
          </li>

          <li class="mx-2">
            <a data-analytics-event="{&quot;category&quot;:&quot;Footer&quot;,&quot;action&quot;:&quot;go to status&quot;,&quot;label&quot;:&quot;text:status&quot;}" href="https://www.githubstatus.com/" data-view-component="true" class="Link--secondary Link">Status</a>
          </li>

          <li class="mx-2">
            <a data-analytics-event="{&quot;category&quot;:&quot;Footer&quot;,&quot;action&quot;:&quot;go to docs&quot;,&quot;label&quot;:&quot;text:docs&quot;}" href="https://docs.github.com" data-view-component="true" class="Link--secondary Link">Docs</a>
          </li>

          <li class="mx-2">
            <a data-analytics-event="{&quot;category&quot;:&quot;Footer&quot;,&quot;action&quot;:&quot;go to contact&quot;,&quot;label&quot;:&quot;text:contact&quot;}" href="https://support.github.com?tags=dotcom-footer" data-view-component="true" class="Link--secondary Link">Contact</a>
          </li>

          <li class="mx-2">
  <cookie-consent-link>
    <button type="button" class="Link--secondary underline-on-hover border-0 p-0 color-bg-transparent" data-action="click:cookie-consent-link#showConsentManagement">
      Manage cookies
    </button>
  </cookie-consent-link>
</li>

<li class="mx-2">
  <cookie-consent-link>
    <button type="button" class="Link--secondary underline-on-hover border-0 p-0 color-bg-transparent" data-action="click:cookie-consent-link#showConsentManagement">
      Do not share my personal information
    </button>
  </cookie-consent-link>
</li>

      </ul>
    </nav>
  </div>

</footer>




    <cookie-consent id="cookie-consent-banner" class="position-fixed bottom-0 left-0" style="z-index: 999999" data-initial-cookie-consent-allowed="" data-cookie-consent-required="true"></cookie-consent>


  <div id="ajax-error-message" class="ajax-error-message flash flash-error" hidden>
    <svg aria-hidden="true" height="16" viewBox="0 0 16 16" version="1.1" width="16" data-view-component="true" class="octicon octicon-alert">
    <path d="M6.457 1.047c.659-1.234 2.427-1.234 3.086 0l6.082 11.378A1.75 1.75 0 0 1 14.082 15H1.918a1.75 1.75 0 0 1-1.543-2.575Zm1.763.707a.25.25 0 0 0-.44 0L1.698 13.132a.25.25 0 0 0 .22.368h12.164a.25.25 0 0 0 .22-.368Zm.53 3.996v2.5a.75.75 0 0 1-1.5 0v-2.5a.75.75 0 0 1 1.5 0ZM9 11a1 1 0 1 1-2 0 1 1 0 0 1 2 0Z"></path>
</svg>
    <button type="button" class="flash-close js-ajax-error-dismiss" aria-label="Dismiss error">
      <svg aria-hidden="true" height="16" viewBox="0 0 16 16" version="1.1" width="16" data-view-component="true" class="octicon octicon-x">
    <path d="M3.72 3.72a.75.75 0 0 1 1.06 0L8 6.94l3.22-3.22a.749.749 0 0 1 1.275.326.749.749 0 0 1-.215.734L9.06 8l3.22 3.22a.749.749 0 0 1-.326 1.275.749.749 0 0 1-.734-.215L8 9.06l-3.22 3.22a.751.751 0 0 1-1.042-.018.751.751 0 0 1-.018-1.042L6.94 8 3.72 4.78a.75.75 0 0 1 0-1.06Z"></path>
</svg>
    </button>
    You can’t perform that action at this time.
  </div>

    <template id="site-details-dialog">
  <details class="details-reset details-overlay details-overlay-dark lh-default color-fg-default hx_rsm" open>
    <summary role="button" aria-label="Close dialog"></summary>
    <details-dialog class="Box Box--overlay d-flex flex-column anim-fade-in fast hx_rsm-dialog hx_rsm-modal">
      <button class="Box-btn-octicon m-0 btn-octicon position-absolute right-0 top-0" type="button" aria-label="Close dialog" data-close-dialog>
        <svg aria-hidden="true" height="16" viewBox="0 0 16 16" version="1.1" width="16" data-view-component="true" class="octicon octicon-x">
    <path d="M3.72 3.72a.75.75 0 0 1 1.06 0L8 6.94l3.22-3.22a.749.749 0 0 1 1.275.326.749.749 0 0 1-.215.734L9.06 8l3.22 3.22a.749.749 0 0 1-.326 1.275.749.749 0 0 1-.734-.215L8 9.06l-3.22 3.22a.751.751 0 0 1-1.042-.018.751.751 0 0 1-.018-1.042L6.94 8 3.72 4.78a.75.75 0 0 1 0-1.06Z"></path>
</svg>
      </button>
      <div class="octocat-spinner my-6 js-details-dialog-spinner"></div>
    </details-dialog>
  </details>
</template>

    <div class="Popover js-hovercard-content position-absolute" style="display: none; outline: none;" tabindex="0">
  <div class="Popover-message Popover-message--bottom-left Popover-message--large Box color-shadow-large" style="width:360px;">
  </div>
</div>

    <template id="snippet-clipboard-copy-button">
  <div class="zeroclipboard-container position-absolute right-0 top-0">
    <clipboard-copy aria-label="Copy" class="ClipboardButton btn js-clipboard-copy m-2 p-0 tooltipped-no-delay" data-copy-feedback="Copied!" data-tooltip-direction="w">
      <svg aria-hidden="true" height="16" viewBox="0 0 16 16" version="1.1" width="16" data-view-component="true" class="octicon octicon-copy js-clipboard-copy-icon m-2">
    <path d="M0 6.75C0 5.784.784 5 1.75 5h1.5a.75.75 0 0 1 0 1.5h-1.5a.25.25 0 0 0-.25.25v7.5c0 .138.112.25.25.25h7.5a.25.25 0 0 0 .25-.25v-1.5a.75.75 0 0 1 1.5 0v1.5A1.75 1.75 0 0 1 9.25 16h-7.5A1.75 1.75 0 0 1 0 14.25Z"></path><path d="M5 1.75C5 .784 5.784 0 6.75 0h7.5C15.216 0 16 .784 16 1.75v7.5A1.75 1.75 0 0 1 14.25 11h-7.5A1.75 1.75 0 0 1 5 9.25Zm1.75-.25a.25.25 0 0 0-.25.25v7.5c0 .138.112.25.25.25h7.5a.25.25 0 0 0 .25-.25v-7.5a.25.25 0 0 0-.25-.25Z"></path>
</svg>
      <svg aria-hidden="true" height="16" viewBox="0 0 16 16" version="1.1" width="16" data-view-component="true" class="octicon octicon-check js-clipboard-check-icon color-fg-success d-none m-2">
    <path d="M13.78 4.22a.75.75 0 0 1 0 1.06l-7.25 7.25a.75.75 0 0 1-1.06 0L2.22 9.28a.751.751 0 0 1 .018-1.042.751.751 0 0 1 1.042-.018L6 10.94l6.72-6.72a.75.75 0 0 1 1.06 0Z"></path>
</svg>
    </clipboard-copy>
  </div>
</template>
<template id="snippet-clipboard-copy-button-unpositioned">
  <div class="zeroclipboard-container">
    <clipboard-copy aria-label="Copy" class="ClipboardButton btn btn-invisible js-clipboard-copy m-2 p-0 tooltipped-no-delay d-flex flex-justify-center flex-items-center" data-copy-feedback="Copied!" data-tooltip-direction="w">
      <svg aria-hidden="true" height="16" viewBox="0 0 16 16" version="1.1" width="16" data-view-component="true" class="octicon octicon-copy js-clipboard-copy-icon">
    <path d="M0 6.75C0 5.784.784 5 1.75 5h1.5a.75.75 0 0 1 0 1.5h-1.5a.25.25 0 0 0-.25.25v7.5c0 .138.112.25.25.25h7.5a.25.25 0 0 0 .25-.25v-1.5a.75.75 0 0 1 1.5 0v1.5A1.75 1.75 0 0 1 9.25 16h-7.5A1.75 1.75 0 0 1 0 14.25Z"></path><path d="M5 1.75C5 .784 5.784 0 6.75 0h7.5C15.216 0 16 .784 16 1.75v7.5A1.75 1.75 0 0 1 14.25 11h-7.5A1.75 1.75 0 0 1 5 9.25Zm1.75-.25a.25.25 0 0 0-.25.25v7.5c0 .138.112.25.25.25h7.5a.25.25 0 0 0 .25-.25v-7.5a.25.25 0 0 0-.25-.25Z"></path>
</svg>
      <svg aria-hidden="true" height="16" viewBox="0 0 16 16" version="1.1" width="16" data-view-component="true" class="octicon octicon-check js-clipboard-check-icon color-fg-success d-none">
    <path d="M13.78 4.22a.75.75 0 0 1 0 1.06l-7.25 7.25a.75.75 0 0 1-1.06 0L2.22 9.28a.751.751 0 0 1 .018-1.042.751.751 0 0 1 1.042-.018L6 10.94l6.72-6.72a.75.75 0 0 1 1.06 0Z"></path>
</svg>
    </clipboard-copy>
  </div>
</template>


    <style>
      .user-mention[href$="/arjunk3x"] {
        color: var(--color-user-mention-fg);
        background-color: var(--color-user-mention-bg);
        border-radius: 2px;
        margin-left: -2px;
        margin-right: -2px;
        padding: 0 2px;
      }
    </style>


    </div>

    <div id="js-global-screen-reader-notice" class="sr-only" aria-live="polite" aria-atomic="true" ></div>
    <div id="js-global-screen-reader-notice-assertive" class="sr-only" aria-live="assertive" aria-atomic="true"></div>
  </body>
</html>

